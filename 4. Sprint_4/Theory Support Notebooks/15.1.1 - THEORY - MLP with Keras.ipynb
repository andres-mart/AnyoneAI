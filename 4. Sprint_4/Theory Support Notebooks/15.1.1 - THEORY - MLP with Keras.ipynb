{
  "cells": [
    {
      "cell_type": "markdown",
      "metadata": {
        "id": "OlrCq-iKzJYS"
      },
      "source": [
        "# MLP for Customer Churn prediction\n",
        "\n",
        "Based upon data of clients of a bank we calculate whether a customer stands a chance to stay in the company or not.\n",
        "\n",
        "We will use the [following dataset](https://www.kaggle.com/datasets/shubh0799/churn-modelling).\n",
        "\n",
        "We may find the following features in the data:\n",
        "\n",
        "- CustomerId: The unique customer id\n",
        "- Surname: Customers' Surname\n",
        "- CreditScore: Their credit score\n",
        "- Geography: Which Country do they belong to\n",
        "- Gender: Their Gender\n",
        "- Age: Age\n",
        "- Tenure The time of bond with the company\n",
        "- Balance: The amount left with them\n",
        "- NumOfProducts: The products they own\n",
        "- HasCrCard: Do they have a credit card or not\n",
        "- IsActiveMember: How active members they are\n",
        "- EstimatedSalary: Their estimated salary\n",
        "- Exited: Whether they stay in the or leave\n"
      ]
    },
    {
      "cell_type": "code",
      "execution_count": null,
      "metadata": {
        "id": "gfz-UUYDe-id"
      },
      "outputs": [],
      "source": [
        "from sklearn.compose import ColumnTransformer\n",
        "from sklearn.impute import SimpleImputer\n",
        "from sklearn.model_selection import RandomizedSearchCV, train_test_split\n",
        "from sklearn.pipeline import Pipeline\n",
        "from sklearn.preprocessing import OneHotEncoder, StandardScaler\n",
        "from sklearn.tree import DecisionTreeClassifier\n",
        "from tensorflow import keras\n",
        "from tensorflow.keras import layers\n",
        "import matplotlib.pyplot as plt\n",
        "import numpy as np\n",
        "import pandas as pd\n",
        "import scipy\n"
      ]
    },
    {
      "cell_type": "code",
      "execution_count": null,
      "metadata": {
        "id": "9MP-Ow39Ix9d"
      },
      "outputs": [],
      "source": [
        "def plot_history(history):\n",
        "  # Plot training & validation accuracy values\n",
        "  plt.plot(history.history['accuracy'])\n",
        "  plt.plot(history.history['val_accuracy'])\n",
        "  plt.title('Model accuracy')\n",
        "  plt.ylabel('Accuracy')\n",
        "  plt.xlabel('Epoch')\n",
        "  plt.legend(['Train', 'Test'], loc='upper left')\n",
        "  plt.show()\n",
        "\n",
        "  # Plot training & validation loss values\n",
        "  plt.plot(history.history['loss'])\n",
        "  plt.plot(history.history['val_loss'])\n",
        "  plt.title('Model loss')\n",
        "  plt.ylabel('Loss')\n",
        "  plt.xlabel('Epoch')\n",
        "  plt.legend(['Train', 'Test'], loc='upper left')\n",
        "  plt.show()"
      ]
    },
    {
      "attachments": {},
      "cell_type": "markdown",
      "metadata": {
        "id": "8RX7ihzu2Ok_"
      },
      "source": [
        "## Load dataset"
      ]
    },
    {
      "cell_type": "code",
      "execution_count": null,
      "metadata": {
        "colab": {
          "base_uri": "https://localhost:8080/",
          "height": 468
        },
        "id": "-p4JtPA_fEGb",
        "outputId": "80c4f89e-be3d-43b1-d4b6-7d0e04c0ea21"
      },
      "outputs": [
        {
          "data": {
            "text/html": [
              "\n",
              "  <div id=\"df-6eeb2e2c-4399-4fe1-a1c5-8071c5c2e166\">\n",
              "    <div class=\"colab-df-container\">\n",
              "      <div>\n",
              "<style scoped>\n",
              "    .dataframe tbody tr th:only-of-type {\n",
              "        vertical-align: middle;\n",
              "    }\n",
              "\n",
              "    .dataframe tbody tr th {\n",
              "        vertical-align: top;\n",
              "    }\n",
              "\n",
              "    .dataframe thead th {\n",
              "        text-align: right;\n",
              "    }\n",
              "</style>\n",
              "<table border=\"1\" class=\"dataframe\">\n",
              "  <thead>\n",
              "    <tr style=\"text-align: right;\">\n",
              "      <th></th>\n",
              "      <th>RowNumber</th>\n",
              "      <th>CustomerId</th>\n",
              "      <th>Surname</th>\n",
              "      <th>CreditScore</th>\n",
              "      <th>Geography</th>\n",
              "      <th>Gender</th>\n",
              "      <th>Age</th>\n",
              "      <th>Tenure</th>\n",
              "      <th>Balance</th>\n",
              "      <th>NumOfProducts</th>\n",
              "      <th>HasCrCard</th>\n",
              "      <th>IsActiveMember</th>\n",
              "      <th>EstimatedSalary</th>\n",
              "      <th>Exited</th>\n",
              "    </tr>\n",
              "  </thead>\n",
              "  <tbody>\n",
              "    <tr>\n",
              "      <th>0</th>\n",
              "      <td>1</td>\n",
              "      <td>15634602</td>\n",
              "      <td>Hargrave</td>\n",
              "      <td>619</td>\n",
              "      <td>France</td>\n",
              "      <td>Female</td>\n",
              "      <td>42</td>\n",
              "      <td>2</td>\n",
              "      <td>0.00</td>\n",
              "      <td>1</td>\n",
              "      <td>1</td>\n",
              "      <td>1</td>\n",
              "      <td>101348.88</td>\n",
              "      <td>1</td>\n",
              "    </tr>\n",
              "    <tr>\n",
              "      <th>1</th>\n",
              "      <td>2</td>\n",
              "      <td>15647311</td>\n",
              "      <td>Hill</td>\n",
              "      <td>608</td>\n",
              "      <td>Spain</td>\n",
              "      <td>Female</td>\n",
              "      <td>41</td>\n",
              "      <td>1</td>\n",
              "      <td>83807.86</td>\n",
              "      <td>1</td>\n",
              "      <td>0</td>\n",
              "      <td>1</td>\n",
              "      <td>112542.58</td>\n",
              "      <td>0</td>\n",
              "    </tr>\n",
              "    <tr>\n",
              "      <th>2</th>\n",
              "      <td>3</td>\n",
              "      <td>15619304</td>\n",
              "      <td>Onio</td>\n",
              "      <td>502</td>\n",
              "      <td>France</td>\n",
              "      <td>Female</td>\n",
              "      <td>42</td>\n",
              "      <td>8</td>\n",
              "      <td>159660.80</td>\n",
              "      <td>3</td>\n",
              "      <td>1</td>\n",
              "      <td>0</td>\n",
              "      <td>113931.57</td>\n",
              "      <td>1</td>\n",
              "    </tr>\n",
              "    <tr>\n",
              "      <th>3</th>\n",
              "      <td>4</td>\n",
              "      <td>15701354</td>\n",
              "      <td>Boni</td>\n",
              "      <td>699</td>\n",
              "      <td>France</td>\n",
              "      <td>Female</td>\n",
              "      <td>39</td>\n",
              "      <td>1</td>\n",
              "      <td>0.00</td>\n",
              "      <td>2</td>\n",
              "      <td>0</td>\n",
              "      <td>0</td>\n",
              "      <td>93826.63</td>\n",
              "      <td>0</td>\n",
              "    </tr>\n",
              "    <tr>\n",
              "      <th>4</th>\n",
              "      <td>5</td>\n",
              "      <td>15737888</td>\n",
              "      <td>Mitchell</td>\n",
              "      <td>850</td>\n",
              "      <td>Spain</td>\n",
              "      <td>Female</td>\n",
              "      <td>43</td>\n",
              "      <td>2</td>\n",
              "      <td>125510.82</td>\n",
              "      <td>1</td>\n",
              "      <td>1</td>\n",
              "      <td>1</td>\n",
              "      <td>79084.10</td>\n",
              "      <td>0</td>\n",
              "    </tr>\n",
              "    <tr>\n",
              "      <th>...</th>\n",
              "      <td>...</td>\n",
              "      <td>...</td>\n",
              "      <td>...</td>\n",
              "      <td>...</td>\n",
              "      <td>...</td>\n",
              "      <td>...</td>\n",
              "      <td>...</td>\n",
              "      <td>...</td>\n",
              "      <td>...</td>\n",
              "      <td>...</td>\n",
              "      <td>...</td>\n",
              "      <td>...</td>\n",
              "      <td>...</td>\n",
              "      <td>...</td>\n",
              "    </tr>\n",
              "    <tr>\n",
              "      <th>9995</th>\n",
              "      <td>9996</td>\n",
              "      <td>15606229</td>\n",
              "      <td>Obijiaku</td>\n",
              "      <td>771</td>\n",
              "      <td>France</td>\n",
              "      <td>Male</td>\n",
              "      <td>39</td>\n",
              "      <td>5</td>\n",
              "      <td>0.00</td>\n",
              "      <td>2</td>\n",
              "      <td>1</td>\n",
              "      <td>0</td>\n",
              "      <td>96270.64</td>\n",
              "      <td>0</td>\n",
              "    </tr>\n",
              "    <tr>\n",
              "      <th>9996</th>\n",
              "      <td>9997</td>\n",
              "      <td>15569892</td>\n",
              "      <td>Johnstone</td>\n",
              "      <td>516</td>\n",
              "      <td>France</td>\n",
              "      <td>Male</td>\n",
              "      <td>35</td>\n",
              "      <td>10</td>\n",
              "      <td>57369.61</td>\n",
              "      <td>1</td>\n",
              "      <td>1</td>\n",
              "      <td>1</td>\n",
              "      <td>101699.77</td>\n",
              "      <td>0</td>\n",
              "    </tr>\n",
              "    <tr>\n",
              "      <th>9997</th>\n",
              "      <td>9998</td>\n",
              "      <td>15584532</td>\n",
              "      <td>Liu</td>\n",
              "      <td>709</td>\n",
              "      <td>France</td>\n",
              "      <td>Female</td>\n",
              "      <td>36</td>\n",
              "      <td>7</td>\n",
              "      <td>0.00</td>\n",
              "      <td>1</td>\n",
              "      <td>0</td>\n",
              "      <td>1</td>\n",
              "      <td>42085.58</td>\n",
              "      <td>1</td>\n",
              "    </tr>\n",
              "    <tr>\n",
              "      <th>9998</th>\n",
              "      <td>9999</td>\n",
              "      <td>15682355</td>\n",
              "      <td>Sabbatini</td>\n",
              "      <td>772</td>\n",
              "      <td>Germany</td>\n",
              "      <td>Male</td>\n",
              "      <td>42</td>\n",
              "      <td>3</td>\n",
              "      <td>75075.31</td>\n",
              "      <td>2</td>\n",
              "      <td>1</td>\n",
              "      <td>0</td>\n",
              "      <td>92888.52</td>\n",
              "      <td>1</td>\n",
              "    </tr>\n",
              "    <tr>\n",
              "      <th>9999</th>\n",
              "      <td>10000</td>\n",
              "      <td>15628319</td>\n",
              "      <td>Walker</td>\n",
              "      <td>792</td>\n",
              "      <td>France</td>\n",
              "      <td>Female</td>\n",
              "      <td>28</td>\n",
              "      <td>4</td>\n",
              "      <td>130142.79</td>\n",
              "      <td>1</td>\n",
              "      <td>1</td>\n",
              "      <td>0</td>\n",
              "      <td>38190.78</td>\n",
              "      <td>0</td>\n",
              "    </tr>\n",
              "  </tbody>\n",
              "</table>\n",
              "<p>10000 rows × 14 columns</p>\n",
              "</div>\n",
              "      <button class=\"colab-df-convert\" onclick=\"convertToInteractive('df-6eeb2e2c-4399-4fe1-a1c5-8071c5c2e166')\"\n",
              "              title=\"Convert this dataframe to an interactive table.\"\n",
              "              style=\"display:none;\">\n",
              "        \n",
              "  <svg xmlns=\"http://www.w3.org/2000/svg\" height=\"24px\"viewBox=\"0 0 24 24\"\n",
              "       width=\"24px\">\n",
              "    <path d=\"M0 0h24v24H0V0z\" fill=\"none\"/>\n",
              "    <path d=\"M18.56 5.44l.94 2.06.94-2.06 2.06-.94-2.06-.94-.94-2.06-.94 2.06-2.06.94zm-11 1L8.5 8.5l.94-2.06 2.06-.94-2.06-.94L8.5 2.5l-.94 2.06-2.06.94zm10 10l.94 2.06.94-2.06 2.06-.94-2.06-.94-.94-2.06-.94 2.06-2.06.94z\"/><path d=\"M17.41 7.96l-1.37-1.37c-.4-.4-.92-.59-1.43-.59-.52 0-1.04.2-1.43.59L10.3 9.45l-7.72 7.72c-.78.78-.78 2.05 0 2.83L4 21.41c.39.39.9.59 1.41.59.51 0 1.02-.2 1.41-.59l7.78-7.78 2.81-2.81c.8-.78.8-2.07 0-2.86zM5.41 20L4 18.59l7.72-7.72 1.47 1.35L5.41 20z\"/>\n",
              "  </svg>\n",
              "      </button>\n",
              "      \n",
              "  <style>\n",
              "    .colab-df-container {\n",
              "      display:flex;\n",
              "      flex-wrap:wrap;\n",
              "      gap: 12px;\n",
              "    }\n",
              "\n",
              "    .colab-df-convert {\n",
              "      background-color: #E8F0FE;\n",
              "      border: none;\n",
              "      border-radius: 50%;\n",
              "      cursor: pointer;\n",
              "      display: none;\n",
              "      fill: #1967D2;\n",
              "      height: 32px;\n",
              "      padding: 0 0 0 0;\n",
              "      width: 32px;\n",
              "    }\n",
              "\n",
              "    .colab-df-convert:hover {\n",
              "      background-color: #E2EBFA;\n",
              "      box-shadow: 0px 1px 2px rgba(60, 64, 67, 0.3), 0px 1px 3px 1px rgba(60, 64, 67, 0.15);\n",
              "      fill: #174EA6;\n",
              "    }\n",
              "\n",
              "    [theme=dark] .colab-df-convert {\n",
              "      background-color: #3B4455;\n",
              "      fill: #D2E3FC;\n",
              "    }\n",
              "\n",
              "    [theme=dark] .colab-df-convert:hover {\n",
              "      background-color: #434B5C;\n",
              "      box-shadow: 0px 1px 3px 1px rgba(0, 0, 0, 0.15);\n",
              "      filter: drop-shadow(0px 1px 2px rgba(0, 0, 0, 0.3));\n",
              "      fill: #FFFFFF;\n",
              "    }\n",
              "  </style>\n",
              "\n",
              "      <script>\n",
              "        const buttonEl =\n",
              "          document.querySelector('#df-6eeb2e2c-4399-4fe1-a1c5-8071c5c2e166 button.colab-df-convert');\n",
              "        buttonEl.style.display =\n",
              "          google.colab.kernel.accessAllowed ? 'block' : 'none';\n",
              "\n",
              "        async function convertToInteractive(key) {\n",
              "          const element = document.querySelector('#df-6eeb2e2c-4399-4fe1-a1c5-8071c5c2e166');\n",
              "          const dataTable =\n",
              "            await google.colab.kernel.invokeFunction('convertToInteractive',\n",
              "                                                     [key], {});\n",
              "          if (!dataTable) return;\n",
              "\n",
              "          const docLinkHtml = 'Like what you see? Visit the ' +\n",
              "            '<a target=\"_blank\" href=https://colab.research.google.com/notebooks/data_table.ipynb>data table notebook</a>'\n",
              "            + ' to learn more about interactive tables.';\n",
              "          element.innerHTML = '';\n",
              "          dataTable['output_type'] = 'display_data';\n",
              "          await google.colab.output.renderOutput(dataTable, element);\n",
              "          const docLink = document.createElement('div');\n",
              "          docLink.innerHTML = docLinkHtml;\n",
              "          element.appendChild(docLink);\n",
              "        }\n",
              "      </script>\n",
              "    </div>\n",
              "  </div>\n",
              "  "
            ],
            "text/plain": [
              "      RowNumber  CustomerId    Surname  CreditScore Geography  Gender  Age  \\\n",
              "0             1    15634602   Hargrave          619    France  Female   42   \n",
              "1             2    15647311       Hill          608     Spain  Female   41   \n",
              "2             3    15619304       Onio          502    France  Female   42   \n",
              "3             4    15701354       Boni          699    France  Female   39   \n",
              "4             5    15737888   Mitchell          850     Spain  Female   43   \n",
              "...         ...         ...        ...          ...       ...     ...  ...   \n",
              "9995       9996    15606229   Obijiaku          771    France    Male   39   \n",
              "9996       9997    15569892  Johnstone          516    France    Male   35   \n",
              "9997       9998    15584532        Liu          709    France  Female   36   \n",
              "9998       9999    15682355  Sabbatini          772   Germany    Male   42   \n",
              "9999      10000    15628319     Walker          792    France  Female   28   \n",
              "\n",
              "      Tenure    Balance  NumOfProducts  HasCrCard  IsActiveMember  \\\n",
              "0          2       0.00              1          1               1   \n",
              "1          1   83807.86              1          0               1   \n",
              "2          8  159660.80              3          1               0   \n",
              "3          1       0.00              2          0               0   \n",
              "4          2  125510.82              1          1               1   \n",
              "...      ...        ...            ...        ...             ...   \n",
              "9995       5       0.00              2          1               0   \n",
              "9996      10   57369.61              1          1               1   \n",
              "9997       7       0.00              1          0               1   \n",
              "9998       3   75075.31              2          1               0   \n",
              "9999       4  130142.79              1          1               0   \n",
              "\n",
              "      EstimatedSalary  Exited  \n",
              "0           101348.88       1  \n",
              "1           112542.58       0  \n",
              "2           113931.57       1  \n",
              "3            93826.63       0  \n",
              "4            79084.10       0  \n",
              "...               ...     ...  \n",
              "9995         96270.64       0  \n",
              "9996        101699.77       0  \n",
              "9997         42085.58       1  \n",
              "9998         92888.52       1  \n",
              "9999         38190.78       0  \n",
              "\n",
              "[10000 rows x 14 columns]"
            ]
          },
          "execution_count": 15,
          "metadata": {},
          "output_type": "execute_result"
        }
      ],
      "source": [
        "data = pd.read_csv(\"https://raw.githubusercontent.com/anyoneai/notebooks/main/datasets/Churn_Modelling.csv\")\n",
        "data"
      ]
    },
    {
      "cell_type": "code",
      "execution_count": null,
      "metadata": {
        "colab": {
          "base_uri": "https://localhost:8080/",
          "height": 300
        },
        "id": "GbltDbO-fECC",
        "outputId": "496f42f9-f341-41fa-a18b-aad4dc712809"
      },
      "outputs": [
        {
          "data": {
            "text/html": [
              "\n",
              "  <div id=\"df-10af12a2-a28a-43c5-b9ea-26ade9e872ad\">\n",
              "    <div class=\"colab-df-container\">\n",
              "      <div>\n",
              "<style scoped>\n",
              "    .dataframe tbody tr th:only-of-type {\n",
              "        vertical-align: middle;\n",
              "    }\n",
              "\n",
              "    .dataframe tbody tr th {\n",
              "        vertical-align: top;\n",
              "    }\n",
              "\n",
              "    .dataframe thead th {\n",
              "        text-align: right;\n",
              "    }\n",
              "</style>\n",
              "<table border=\"1\" class=\"dataframe\">\n",
              "  <thead>\n",
              "    <tr style=\"text-align: right;\">\n",
              "      <th></th>\n",
              "      <th>RowNumber</th>\n",
              "      <th>CustomerId</th>\n",
              "      <th>CreditScore</th>\n",
              "      <th>Age</th>\n",
              "      <th>Tenure</th>\n",
              "      <th>Balance</th>\n",
              "      <th>NumOfProducts</th>\n",
              "      <th>HasCrCard</th>\n",
              "      <th>IsActiveMember</th>\n",
              "      <th>EstimatedSalary</th>\n",
              "      <th>Exited</th>\n",
              "    </tr>\n",
              "  </thead>\n",
              "  <tbody>\n",
              "    <tr>\n",
              "      <th>count</th>\n",
              "      <td>10000.00000</td>\n",
              "      <td>1.000000e+04</td>\n",
              "      <td>10000.000000</td>\n",
              "      <td>10000.000000</td>\n",
              "      <td>10000.000000</td>\n",
              "      <td>10000.000000</td>\n",
              "      <td>10000.000000</td>\n",
              "      <td>10000.00000</td>\n",
              "      <td>10000.000000</td>\n",
              "      <td>10000.000000</td>\n",
              "      <td>10000.000000</td>\n",
              "    </tr>\n",
              "    <tr>\n",
              "      <th>mean</th>\n",
              "      <td>5000.50000</td>\n",
              "      <td>1.569094e+07</td>\n",
              "      <td>650.528800</td>\n",
              "      <td>38.921800</td>\n",
              "      <td>5.012800</td>\n",
              "      <td>76485.889288</td>\n",
              "      <td>1.530200</td>\n",
              "      <td>0.70550</td>\n",
              "      <td>0.515100</td>\n",
              "      <td>100090.239881</td>\n",
              "      <td>0.203700</td>\n",
              "    </tr>\n",
              "    <tr>\n",
              "      <th>std</th>\n",
              "      <td>2886.89568</td>\n",
              "      <td>7.193619e+04</td>\n",
              "      <td>96.653299</td>\n",
              "      <td>10.487806</td>\n",
              "      <td>2.892174</td>\n",
              "      <td>62397.405202</td>\n",
              "      <td>0.581654</td>\n",
              "      <td>0.45584</td>\n",
              "      <td>0.499797</td>\n",
              "      <td>57510.492818</td>\n",
              "      <td>0.402769</td>\n",
              "    </tr>\n",
              "    <tr>\n",
              "      <th>min</th>\n",
              "      <td>1.00000</td>\n",
              "      <td>1.556570e+07</td>\n",
              "      <td>350.000000</td>\n",
              "      <td>18.000000</td>\n",
              "      <td>0.000000</td>\n",
              "      <td>0.000000</td>\n",
              "      <td>1.000000</td>\n",
              "      <td>0.00000</td>\n",
              "      <td>0.000000</td>\n",
              "      <td>11.580000</td>\n",
              "      <td>0.000000</td>\n",
              "    </tr>\n",
              "    <tr>\n",
              "      <th>25%</th>\n",
              "      <td>2500.75000</td>\n",
              "      <td>1.562853e+07</td>\n",
              "      <td>584.000000</td>\n",
              "      <td>32.000000</td>\n",
              "      <td>3.000000</td>\n",
              "      <td>0.000000</td>\n",
              "      <td>1.000000</td>\n",
              "      <td>0.00000</td>\n",
              "      <td>0.000000</td>\n",
              "      <td>51002.110000</td>\n",
              "      <td>0.000000</td>\n",
              "    </tr>\n",
              "    <tr>\n",
              "      <th>50%</th>\n",
              "      <td>5000.50000</td>\n",
              "      <td>1.569074e+07</td>\n",
              "      <td>652.000000</td>\n",
              "      <td>37.000000</td>\n",
              "      <td>5.000000</td>\n",
              "      <td>97198.540000</td>\n",
              "      <td>1.000000</td>\n",
              "      <td>1.00000</td>\n",
              "      <td>1.000000</td>\n",
              "      <td>100193.915000</td>\n",
              "      <td>0.000000</td>\n",
              "    </tr>\n",
              "    <tr>\n",
              "      <th>75%</th>\n",
              "      <td>7500.25000</td>\n",
              "      <td>1.575323e+07</td>\n",
              "      <td>718.000000</td>\n",
              "      <td>44.000000</td>\n",
              "      <td>7.000000</td>\n",
              "      <td>127644.240000</td>\n",
              "      <td>2.000000</td>\n",
              "      <td>1.00000</td>\n",
              "      <td>1.000000</td>\n",
              "      <td>149388.247500</td>\n",
              "      <td>0.000000</td>\n",
              "    </tr>\n",
              "    <tr>\n",
              "      <th>max</th>\n",
              "      <td>10000.00000</td>\n",
              "      <td>1.581569e+07</td>\n",
              "      <td>850.000000</td>\n",
              "      <td>92.000000</td>\n",
              "      <td>10.000000</td>\n",
              "      <td>250898.090000</td>\n",
              "      <td>4.000000</td>\n",
              "      <td>1.00000</td>\n",
              "      <td>1.000000</td>\n",
              "      <td>199992.480000</td>\n",
              "      <td>1.000000</td>\n",
              "    </tr>\n",
              "  </tbody>\n",
              "</table>\n",
              "</div>\n",
              "      <button class=\"colab-df-convert\" onclick=\"convertToInteractive('df-10af12a2-a28a-43c5-b9ea-26ade9e872ad')\"\n",
              "              title=\"Convert this dataframe to an interactive table.\"\n",
              "              style=\"display:none;\">\n",
              "        \n",
              "  <svg xmlns=\"http://www.w3.org/2000/svg\" height=\"24px\"viewBox=\"0 0 24 24\"\n",
              "       width=\"24px\">\n",
              "    <path d=\"M0 0h24v24H0V0z\" fill=\"none\"/>\n",
              "    <path d=\"M18.56 5.44l.94 2.06.94-2.06 2.06-.94-2.06-.94-.94-2.06-.94 2.06-2.06.94zm-11 1L8.5 8.5l.94-2.06 2.06-.94-2.06-.94L8.5 2.5l-.94 2.06-2.06.94zm10 10l.94 2.06.94-2.06 2.06-.94-2.06-.94-.94-2.06-.94 2.06-2.06.94z\"/><path d=\"M17.41 7.96l-1.37-1.37c-.4-.4-.92-.59-1.43-.59-.52 0-1.04.2-1.43.59L10.3 9.45l-7.72 7.72c-.78.78-.78 2.05 0 2.83L4 21.41c.39.39.9.59 1.41.59.51 0 1.02-.2 1.41-.59l7.78-7.78 2.81-2.81c.8-.78.8-2.07 0-2.86zM5.41 20L4 18.59l7.72-7.72 1.47 1.35L5.41 20z\"/>\n",
              "  </svg>\n",
              "      </button>\n",
              "      \n",
              "  <style>\n",
              "    .colab-df-container {\n",
              "      display:flex;\n",
              "      flex-wrap:wrap;\n",
              "      gap: 12px;\n",
              "    }\n",
              "\n",
              "    .colab-df-convert {\n",
              "      background-color: #E8F0FE;\n",
              "      border: none;\n",
              "      border-radius: 50%;\n",
              "      cursor: pointer;\n",
              "      display: none;\n",
              "      fill: #1967D2;\n",
              "      height: 32px;\n",
              "      padding: 0 0 0 0;\n",
              "      width: 32px;\n",
              "    }\n",
              "\n",
              "    .colab-df-convert:hover {\n",
              "      background-color: #E2EBFA;\n",
              "      box-shadow: 0px 1px 2px rgba(60, 64, 67, 0.3), 0px 1px 3px 1px rgba(60, 64, 67, 0.15);\n",
              "      fill: #174EA6;\n",
              "    }\n",
              "\n",
              "    [theme=dark] .colab-df-convert {\n",
              "      background-color: #3B4455;\n",
              "      fill: #D2E3FC;\n",
              "    }\n",
              "\n",
              "    [theme=dark] .colab-df-convert:hover {\n",
              "      background-color: #434B5C;\n",
              "      box-shadow: 0px 1px 3px 1px rgba(0, 0, 0, 0.15);\n",
              "      filter: drop-shadow(0px 1px 2px rgba(0, 0, 0, 0.3));\n",
              "      fill: #FFFFFF;\n",
              "    }\n",
              "  </style>\n",
              "\n",
              "      <script>\n",
              "        const buttonEl =\n",
              "          document.querySelector('#df-10af12a2-a28a-43c5-b9ea-26ade9e872ad button.colab-df-convert');\n",
              "        buttonEl.style.display =\n",
              "          google.colab.kernel.accessAllowed ? 'block' : 'none';\n",
              "\n",
              "        async function convertToInteractive(key) {\n",
              "          const element = document.querySelector('#df-10af12a2-a28a-43c5-b9ea-26ade9e872ad');\n",
              "          const dataTable =\n",
              "            await google.colab.kernel.invokeFunction('convertToInteractive',\n",
              "                                                     [key], {});\n",
              "          if (!dataTable) return;\n",
              "\n",
              "          const docLinkHtml = 'Like what you see? Visit the ' +\n",
              "            '<a target=\"_blank\" href=https://colab.research.google.com/notebooks/data_table.ipynb>data table notebook</a>'\n",
              "            + ' to learn more about interactive tables.';\n",
              "          element.innerHTML = '';\n",
              "          dataTable['output_type'] = 'display_data';\n",
              "          await google.colab.output.renderOutput(dataTable, element);\n",
              "          const docLink = document.createElement('div');\n",
              "          docLink.innerHTML = docLinkHtml;\n",
              "          element.appendChild(docLink);\n",
              "        }\n",
              "      </script>\n",
              "    </div>\n",
              "  </div>\n",
              "  "
            ],
            "text/plain": [
              "         RowNumber    CustomerId   CreditScore           Age        Tenure  \\\n",
              "count  10000.00000  1.000000e+04  10000.000000  10000.000000  10000.000000   \n",
              "mean    5000.50000  1.569094e+07    650.528800     38.921800      5.012800   \n",
              "std     2886.89568  7.193619e+04     96.653299     10.487806      2.892174   \n",
              "min        1.00000  1.556570e+07    350.000000     18.000000      0.000000   \n",
              "25%     2500.75000  1.562853e+07    584.000000     32.000000      3.000000   \n",
              "50%     5000.50000  1.569074e+07    652.000000     37.000000      5.000000   \n",
              "75%     7500.25000  1.575323e+07    718.000000     44.000000      7.000000   \n",
              "max    10000.00000  1.581569e+07    850.000000     92.000000     10.000000   \n",
              "\n",
              "             Balance  NumOfProducts    HasCrCard  IsActiveMember  \\\n",
              "count   10000.000000   10000.000000  10000.00000    10000.000000   \n",
              "mean    76485.889288       1.530200      0.70550        0.515100   \n",
              "std     62397.405202       0.581654      0.45584        0.499797   \n",
              "min         0.000000       1.000000      0.00000        0.000000   \n",
              "25%         0.000000       1.000000      0.00000        0.000000   \n",
              "50%     97198.540000       1.000000      1.00000        1.000000   \n",
              "75%    127644.240000       2.000000      1.00000        1.000000   \n",
              "max    250898.090000       4.000000      1.00000        1.000000   \n",
              "\n",
              "       EstimatedSalary        Exited  \n",
              "count     10000.000000  10000.000000  \n",
              "mean     100090.239881      0.203700  \n",
              "std       57510.492818      0.402769  \n",
              "min          11.580000      0.000000  \n",
              "25%       51002.110000      0.000000  \n",
              "50%      100193.915000      0.000000  \n",
              "75%      149388.247500      0.000000  \n",
              "max      199992.480000      1.000000  "
            ]
          },
          "execution_count": 16,
          "metadata": {},
          "output_type": "execute_result"
        }
      ],
      "source": [
        "data.describe()"
      ]
    },
    {
      "cell_type": "markdown",
      "metadata": {
        "id": "qrdsx6232RwH"
      },
      "source": [
        "## Feature engineering"
      ]
    },
    {
      "cell_type": "code",
      "execution_count": null,
      "metadata": {
        "colab": {
          "base_uri": "https://localhost:8080/"
        },
        "id": "mO-xXGZdNoKj",
        "outputId": "afef4c12-665b-4f71-99ba-b14705f4c84b"
      },
      "outputs": [
        {
          "data": {
            "text/plain": [
              "RowNumber          0\n",
              "CustomerId         0\n",
              "Surname            0\n",
              "CreditScore        0\n",
              "Geography          0\n",
              "Gender             0\n",
              "Age                0\n",
              "Tenure             0\n",
              "Balance            0\n",
              "NumOfProducts      0\n",
              "HasCrCard          0\n",
              "IsActiveMember     0\n",
              "EstimatedSalary    0\n",
              "Exited             0\n",
              "dtype: int64"
            ]
          },
          "execution_count": 17,
          "metadata": {},
          "output_type": "execute_result"
        }
      ],
      "source": [
        "# Let's check if we have NaNs\n",
        "data.isna().sum()"
      ]
    },
    {
      "cell_type": "code",
      "execution_count": null,
      "metadata": {
        "id": "TDNGwFgbN9Oy"
      },
      "outputs": [],
      "source": [
        "# Let's drop some columns we shouldn't use\n",
        "data = data.drop(columns=[\"RowNumber\", \"CustomerId\", \"Surname\"])\n"
      ]
    },
    {
      "cell_type": "code",
      "execution_count": null,
      "metadata": {
        "colab": {
          "base_uri": "https://localhost:8080/"
        },
        "id": "ZeYhg82mfD_q",
        "outputId": "0184b4b8-ea63-4034-c15d-997d2e8df431"
      },
      "outputs": [
        {
          "name": "stdout",
          "output_type": "stream",
          "text": [
            "(10000, 10) (10000,)\n"
          ]
        }
      ],
      "source": [
        "# Separate features and target (Exited will be our target)\n",
        "X = data[data.columns.drop(\"Exited\")]\n",
        "y = data[\"Exited\"]\n",
        "\n",
        "print(X.shape, y.shape)"
      ]
    },
    {
      "cell_type": "code",
      "execution_count": null,
      "metadata": {
        "colab": {
          "base_uri": "https://localhost:8080/"
        },
        "id": "20Q3MB5G2iRK",
        "outputId": "e6441d5a-9040-4480-bd8a-d4cc82180255"
      },
      "outputs": [
        {
          "name": "stdout",
          "output_type": "stream",
          "text": [
            "(8000, 10) (2000, 10) (8000,) (2000,)\n"
          ]
        }
      ],
      "source": [
        "# Do train/test splits\n",
        "X_train, X_test, y_train, y_test = train_test_split(X, y, test_size=0.2, random_state=2022)\n",
        "\n",
        "print(X_train.shape, X_test.shape, y_train.shape, y_test.shape)"
      ]
    },
    {
      "cell_type": "markdown",
      "metadata": {
        "id": "fawx88kxOmTT"
      },
      "source": [
        "### Prepare Numeric and Non-numeric features"
      ]
    },
    {
      "cell_type": "code",
      "execution_count": null,
      "metadata": {
        "colab": {
          "base_uri": "https://localhost:8080/"
        },
        "id": "cL3KuA2GNztp",
        "outputId": "710745e3-957a-4e24-a744-ce2d78833954"
      },
      "outputs": [
        {
          "name": "stdout",
          "output_type": "stream",
          "text": [
            "There are 8 numerical features: ['CreditScore', 'Age', 'Tenure', 'Balance', 'NumOfProducts', 'HasCrCard', 'IsActiveMember', 'EstimatedSalary']\n",
            "\n",
            "There are 2 string features: ['Geography', 'Gender']\n",
            "\n"
          ]
        }
      ],
      "source": [
        "numerical_features = X_train.select_dtypes(include='number').columns.tolist()\n",
        "print(f\"There are {len(numerical_features)} numerical features: {numerical_features}\\n\")\n",
        "\n",
        "string_features = X_train.select_dtypes(exclude='number').columns.tolist()\n",
        "print(f\"There are {len(string_features)} string features: {string_features}\\n\")\n"
      ]
    },
    {
      "cell_type": "code",
      "execution_count": null,
      "metadata": {
        "id": "vBe_ePWDPIeW"
      },
      "outputs": [],
      "source": [
        "# Pipeline for numeric features\n",
        "numeric_pipeline = Pipeline(steps=[\n",
        "    ('impute', SimpleImputer(strategy='mean')),\n",
        "    ('scale', StandardScaler())\n",
        "  ]\n",
        ")\n",
        "\n",
        "# Pipeline for string features\n",
        "string_pipeline = Pipeline(steps=[\n",
        "    ('impute', SimpleImputer(strategy='most_frequent')),\n",
        "    ('encode', OneHotEncoder(handle_unknown='ignore', sparse=False))\n",
        "  ]\n",
        ")\n",
        "\n",
        "# Now let's merge both pipeline into one single pre-processing object\n",
        "# We can use ColumnTransformer for this\n",
        "full_processor = ColumnTransformer(transformers=[\n",
        "    ('number', numeric_pipeline, numerical_features),\n",
        "    ('string', string_pipeline, string_features)\n",
        "  ]\n",
        ")\n"
      ]
    },
    {
      "cell_type": "code",
      "execution_count": null,
      "metadata": {
        "colab": {
          "base_uri": "https://localhost:8080/"
        },
        "id": "ldooYVPQQNVz",
        "outputId": "77e218d7-81d2-4cc6-ad01-188e4c0f606e"
      },
      "outputs": [
        {
          "name": "stdout",
          "output_type": "stream",
          "text": [
            "(8000, 13) (2000, 13)\n"
          ]
        },
        {
          "name": "stderr",
          "output_type": "stream",
          "text": [
            "/usr/local/lib/python3.9/dist-packages/sklearn/preprocessing/_encoders.py:868: FutureWarning: `sparse` was renamed to `sparse_output` in version 1.2 and will be removed in 1.4. `sparse_output` is ignored unless you leave `sparse` to its default value.\n",
            "  warnings.warn(\n"
          ]
        }
      ],
      "source": [
        "X_train_p = full_processor.fit_transform(X_train)\n",
        "X_test_p = full_processor.transform(X_test)\n",
        "\n",
        "print(X_train_p.shape, X_test_p.shape)"
      ]
    },
    {
      "cell_type": "code",
      "execution_count": null,
      "metadata": {
        "colab": {
          "base_uri": "https://localhost:8080/"
        },
        "id": "NE5vzp4Yvgx8",
        "outputId": "8849efcf-c885-4540-fd0e-707c903d3d7e"
      },
      "outputs": [
        {
          "data": {
            "text/plain": [
              "array([-0.60995667, -0.18211069, -0.69970396,  0.31990917, -0.89997375,\n",
              "        0.64181837,  0.96704278, -1.68608514,  1.        ,  0.        ,\n",
              "        0.        ,  0.        ,  1.        ])"
            ]
          },
          "execution_count": 24,
          "metadata": {},
          "output_type": "execute_result"
        }
      ],
      "source": [
        "X_train_p[0]"
      ]
    },
    {
      "cell_type": "markdown",
      "metadata": {
        "id": "ysSETr2eHQkp"
      },
      "source": [
        "## Define the model"
      ]
    },
    {
      "cell_type": "code",
      "execution_count": null,
      "metadata": {
        "colab": {
          "base_uri": "https://localhost:8080/"
        },
        "id": "zXGToO2-3Crd",
        "outputId": "131efaaf-c7cc-4728-fed3-a16bf91d9838"
      },
      "outputs": [
        {
          "name": "stdout",
          "output_type": "stream",
          "text": [
            "Model: \"sequential\"\n",
            "_________________________________________________________________\n",
            " Layer (type)                Output Shape              Param #   \n",
            "=================================================================\n",
            " dense (Dense)               (None, 8)                 112       \n",
            "                                                                 \n",
            " dense_1 (Dense)             (None, 4)                 36        \n",
            "                                                                 \n",
            " dense_2 (Dense)             (None, 2)                 10        \n",
            "                                                                 \n",
            "=================================================================\n",
            "Total params: 158\n",
            "Trainable params: 158\n",
            "Non-trainable params: 0\n",
            "_________________________________________________________________\n"
          ]
        }
      ],
      "source": [
        "# Let's create a simple MLP with Keras\n",
        "model = keras.Sequential()\n",
        "model.add(layers.Dense(8, input_dim=13, activation='relu'))\n",
        "model.add(layers.Dense(4, activation='relu'))\n",
        "model.add(layers.Dense(2, activation='softmax'))\n",
        "\n",
        "model.summary()"
      ]
    },
    {
      "cell_type": "code",
      "execution_count": null,
      "metadata": {
        "id": "gS_QlQBR0lkt"
      },
      "outputs": [],
      "source": [
        "# We must compile the keras model before training\n",
        "# During compile we must define:\n",
        "#  - Loss functions to be used\n",
        "#  - Optimizer, we will see more about this in \"Training tips and tricks\"\n",
        "#  - Metrics, for this particular case we have a classification problem so we \n",
        "#    can use accuracy\n",
        "model.compile(\n",
        "  loss='sparse_categorical_crossentropy', \n",
        "  optimizer='adam',\n",
        "  metrics=['accuracy'],\n",
        ")\n"
      ]
    },
    {
      "cell_type": "code",
      "execution_count": null,
      "metadata": {
        "colab": {
          "base_uri": "https://localhost:8080/"
        },
        "id": "Wp2UGrC60lh2",
        "outputId": "527cdb92-9fef-43be-a31c-a4a9505d653a"
      },
      "outputs": [
        {
          "name": "stdout",
          "output_type": "stream",
          "text": [
            "Epoch 1/50\n",
            "400/400 [==============================] - 2s 3ms/step - loss: 0.5034 - accuracy: 0.7745 - val_loss: 0.4528 - val_accuracy: 0.8000\n",
            "Epoch 2/50\n",
            "400/400 [==============================] - 1s 2ms/step - loss: 0.4325 - accuracy: 0.7994 - val_loss: 0.4319 - val_accuracy: 0.8062\n",
            "Epoch 3/50\n",
            "400/400 [==============================] - 1s 4ms/step - loss: 0.4143 - accuracy: 0.8159 - val_loss: 0.4221 - val_accuracy: 0.8100\n",
            "Epoch 4/50\n",
            "400/400 [==============================] - 2s 5ms/step - loss: 0.4014 - accuracy: 0.8241 - val_loss: 0.4143 - val_accuracy: 0.8188\n",
            "Epoch 5/50\n",
            "400/400 [==============================] - 2s 5ms/step - loss: 0.3896 - accuracy: 0.8323 - val_loss: 0.4075 - val_accuracy: 0.8238\n",
            "Epoch 6/50\n",
            "400/400 [==============================] - 3s 8ms/step - loss: 0.3785 - accuracy: 0.8377 - val_loss: 0.4001 - val_accuracy: 0.8269\n",
            "Epoch 7/50\n",
            "400/400 [==============================] - 3s 7ms/step - loss: 0.3691 - accuracy: 0.8427 - val_loss: 0.3917 - val_accuracy: 0.8319\n",
            "Epoch 8/50\n",
            "400/400 [==============================] - 2s 6ms/step - loss: 0.3602 - accuracy: 0.8477 - val_loss: 0.3860 - val_accuracy: 0.8369\n",
            "Epoch 9/50\n",
            "400/400 [==============================] - 2s 4ms/step - loss: 0.3532 - accuracy: 0.8525 - val_loss: 0.3790 - val_accuracy: 0.8425\n",
            "Epoch 10/50\n",
            "400/400 [==============================] - 2s 5ms/step - loss: 0.3488 - accuracy: 0.8545 - val_loss: 0.3760 - val_accuracy: 0.8400\n",
            "Epoch 11/50\n",
            "400/400 [==============================] - 2s 4ms/step - loss: 0.3459 - accuracy: 0.8558 - val_loss: 0.3734 - val_accuracy: 0.8431\n",
            "Epoch 12/50\n",
            "400/400 [==============================] - 2s 5ms/step - loss: 0.3440 - accuracy: 0.8566 - val_loss: 0.3722 - val_accuracy: 0.8413\n",
            "Epoch 13/50\n",
            "400/400 [==============================] - 5s 12ms/step - loss: 0.3423 - accuracy: 0.8586 - val_loss: 0.3748 - val_accuracy: 0.8381\n",
            "Epoch 14/50\n",
            "400/400 [==============================] - 2s 6ms/step - loss: 0.3416 - accuracy: 0.8595 - val_loss: 0.3730 - val_accuracy: 0.8406\n",
            "Epoch 15/50\n",
            "400/400 [==============================] - 1s 2ms/step - loss: 0.3414 - accuracy: 0.8602 - val_loss: 0.3723 - val_accuracy: 0.8394\n",
            "Epoch 16/50\n",
            "400/400 [==============================] - 1s 2ms/step - loss: 0.3399 - accuracy: 0.8580 - val_loss: 0.3709 - val_accuracy: 0.8431\n",
            "Epoch 17/50\n",
            "400/400 [==============================] - 1s 2ms/step - loss: 0.3395 - accuracy: 0.8598 - val_loss: 0.3703 - val_accuracy: 0.8438\n",
            "Epoch 18/50\n",
            "400/400 [==============================] - 1s 2ms/step - loss: 0.3384 - accuracy: 0.8597 - val_loss: 0.3688 - val_accuracy: 0.8431\n",
            "Epoch 19/50\n",
            "400/400 [==============================] - 1s 2ms/step - loss: 0.3377 - accuracy: 0.8616 - val_loss: 0.3704 - val_accuracy: 0.8419\n",
            "Epoch 20/50\n",
            "400/400 [==============================] - 1s 2ms/step - loss: 0.3374 - accuracy: 0.8603 - val_loss: 0.3686 - val_accuracy: 0.8444\n",
            "Epoch 21/50\n",
            "400/400 [==============================] - 1s 2ms/step - loss: 0.3368 - accuracy: 0.8606 - val_loss: 0.3689 - val_accuracy: 0.8425\n",
            "Epoch 22/50\n",
            "400/400 [==============================] - 1s 3ms/step - loss: 0.3360 - accuracy: 0.8617 - val_loss: 0.3715 - val_accuracy: 0.8431\n",
            "Epoch 23/50\n",
            "400/400 [==============================] - 1s 3ms/step - loss: 0.3356 - accuracy: 0.8614 - val_loss: 0.3671 - val_accuracy: 0.8487\n",
            "Epoch 24/50\n",
            "400/400 [==============================] - 1s 4ms/step - loss: 0.3349 - accuracy: 0.8608 - val_loss: 0.3670 - val_accuracy: 0.8450\n",
            "Epoch 25/50\n",
            "400/400 [==============================] - 1s 3ms/step - loss: 0.3353 - accuracy: 0.8606 - val_loss: 0.3657 - val_accuracy: 0.8469\n",
            "Epoch 26/50\n",
            "400/400 [==============================] - 1s 2ms/step - loss: 0.3343 - accuracy: 0.8603 - val_loss: 0.3666 - val_accuracy: 0.8444\n",
            "Epoch 27/50\n",
            "400/400 [==============================] - 1s 2ms/step - loss: 0.3338 - accuracy: 0.8617 - val_loss: 0.3659 - val_accuracy: 0.8462\n",
            "Epoch 28/50\n",
            "400/400 [==============================] - 1s 2ms/step - loss: 0.3331 - accuracy: 0.8616 - val_loss: 0.3649 - val_accuracy: 0.8506\n",
            "Epoch 29/50\n",
            "400/400 [==============================] - 1s 2ms/step - loss: 0.3328 - accuracy: 0.8639 - val_loss: 0.3653 - val_accuracy: 0.8494\n",
            "Epoch 30/50\n",
            "400/400 [==============================] - 1s 2ms/step - loss: 0.3321 - accuracy: 0.8619 - val_loss: 0.3667 - val_accuracy: 0.8462\n",
            "Epoch 31/50\n",
            "400/400 [==============================] - 1s 2ms/step - loss: 0.3322 - accuracy: 0.8602 - val_loss: 0.3653 - val_accuracy: 0.8487\n",
            "Epoch 32/50\n",
            "400/400 [==============================] - 1s 2ms/step - loss: 0.3322 - accuracy: 0.8622 - val_loss: 0.3662 - val_accuracy: 0.8444\n",
            "Epoch 33/50\n",
            "400/400 [==============================] - 1s 2ms/step - loss: 0.3309 - accuracy: 0.8625 - val_loss: 0.3651 - val_accuracy: 0.8512\n",
            "Epoch 34/50\n",
            "400/400 [==============================] - 1s 2ms/step - loss: 0.3317 - accuracy: 0.8627 - val_loss: 0.3658 - val_accuracy: 0.8475\n",
            "Epoch 35/50\n",
            "400/400 [==============================] - 1s 2ms/step - loss: 0.3311 - accuracy: 0.8623 - val_loss: 0.3641 - val_accuracy: 0.8462\n",
            "Epoch 36/50\n",
            "400/400 [==============================] - 1s 3ms/step - loss: 0.3313 - accuracy: 0.8619 - val_loss: 0.3647 - val_accuracy: 0.8487\n",
            "Epoch 37/50\n",
            "400/400 [==============================] - 1s 4ms/step - loss: 0.3310 - accuracy: 0.8603 - val_loss: 0.3677 - val_accuracy: 0.8456\n",
            "Epoch 38/50\n",
            "400/400 [==============================] - 1s 3ms/step - loss: 0.3309 - accuracy: 0.8611 - val_loss: 0.3647 - val_accuracy: 0.8506\n",
            "Epoch 39/50\n",
            "400/400 [==============================] - 1s 2ms/step - loss: 0.3306 - accuracy: 0.8622 - val_loss: 0.3662 - val_accuracy: 0.8469\n",
            "Epoch 40/50\n",
            "400/400 [==============================] - 1s 2ms/step - loss: 0.3307 - accuracy: 0.8611 - val_loss: 0.3668 - val_accuracy: 0.8469\n",
            "Epoch 41/50\n",
            "400/400 [==============================] - 1s 3ms/step - loss: 0.3306 - accuracy: 0.8620 - val_loss: 0.3660 - val_accuracy: 0.8444\n",
            "Epoch 42/50\n",
            "400/400 [==============================] - 1s 2ms/step - loss: 0.3305 - accuracy: 0.8627 - val_loss: 0.3680 - val_accuracy: 0.8419\n",
            "Epoch 43/50\n",
            "400/400 [==============================] - 1s 2ms/step - loss: 0.3304 - accuracy: 0.8628 - val_loss: 0.3662 - val_accuracy: 0.8425\n",
            "Epoch 44/50\n",
            "400/400 [==============================] - 1s 2ms/step - loss: 0.3304 - accuracy: 0.8650 - val_loss: 0.3672 - val_accuracy: 0.8419\n",
            "Epoch 45/50\n",
            "400/400 [==============================] - 1s 2ms/step - loss: 0.3301 - accuracy: 0.8645 - val_loss: 0.3644 - val_accuracy: 0.8475\n",
            "Epoch 46/50\n",
            "400/400 [==============================] - 1s 2ms/step - loss: 0.3298 - accuracy: 0.8623 - val_loss: 0.3668 - val_accuracy: 0.8438\n",
            "Epoch 47/50\n",
            "400/400 [==============================] - 1s 2ms/step - loss: 0.3292 - accuracy: 0.8636 - val_loss: 0.3644 - val_accuracy: 0.8469\n",
            "Epoch 48/50\n",
            "400/400 [==============================] - 1s 2ms/step - loss: 0.3301 - accuracy: 0.8634 - val_loss: 0.3657 - val_accuracy: 0.8444\n",
            "Epoch 49/50\n",
            "400/400 [==============================] - 1s 3ms/step - loss: 0.3294 - accuracy: 0.8639 - val_loss: 0.3648 - val_accuracy: 0.8487\n",
            "Epoch 50/50\n",
            "400/400 [==============================] - 1s 3ms/step - loss: 0.3296 - accuracy: 0.8645 - val_loss: 0.3673 - val_accuracy: 0.8475\n"
          ]
        }
      ],
      "source": [
        "# Now we can start training\n",
        "history = model.fit(\n",
        "  X_train_p, \n",
        "  y_train, \n",
        "  epochs=50, \n",
        "  batch_size=16, \n",
        "  validation_split=0.2\n",
        ")\n"
      ]
    },
    {
      "cell_type": "code",
      "execution_count": null,
      "metadata": {
        "colab": {
          "base_uri": "https://localhost:8080/",
          "height": 927
        },
        "id": "h96XjQJV0lff",
        "outputId": "d9a72104-ecb7-4700-a3eb-92df824e1e5e"
      },
      "outputs": [
        {
          "data": {
            "image/png": "[encoded data removed]",
            "text/plain": [
              "<Figure size 640x480 with 1 Axes>"
            ]
          },
          "metadata": {},
          "output_type": "display_data"
        },
        {
          "data": {
            "image/png": "[encoded data removed]",
            "text/plain": [
              "<Figure size 640x480 with 1 Axes>"
            ]
          },
          "metadata": {},
          "output_type": "display_data"
        }
      ],
      "source": [
        "plot_history(history)"
      ]
    },
    {
      "cell_type": "markdown",
      "metadata": {
        "id": "iNA1jO2BSItJ"
      },
      "source": [
        "## Let's compare with other types of models\n"
      ]
    },
    {
      "cell_type": "code",
      "execution_count": null,
      "metadata": {
        "colab": {
          "base_uri": "https://localhost:8080/",
          "height": 345
        },
        "id": "ndEL647wSIHJ",
        "outputId": "63c66fe2-292f-4b29-bb59-1e4a0a2a5c93"
      },
      "outputs": [
        {
          "name": "stdout",
          "output_type": "stream",
          "text": [
            "CPU times: user 2.49 s, sys: 212 ms, total: 2.7 s\n",
            "Wall time: 26.7 s\n"
          ]
        },
        {
          "name": "stderr",
          "output_type": "stream",
          "text": [
            "/usr/local/lib/python3.9/dist-packages/sklearn/preprocessing/_encoders.py:868: FutureWarning: `sparse` was renamed to `sparse_output` in version 1.2 and will be removed in 1.4. `sparse_output` is ignored unless you leave `sparse` to its default value.\n",
            "  warnings.warn(\n"
          ]
        },
        {
          "data": {
            "text/html": [
              "<style>#sk-container-id-1 {color: black;background-color: white;}#sk-container-id-1 pre{padding: 0;}#sk-container-id-1 div.sk-toggleable {background-color: white;}#sk-container-id-1 label.sk-toggleable__label {cursor: pointer;display: block;width: 100%;margin-bottom: 0;padding: 0.3em;box-sizing: border-box;text-align: center;}#sk-container-id-1 label.sk-toggleable__label-arrow:before {content: \"▸\";float: left;margin-right: 0.25em;color: #696969;}#sk-container-id-1 label.sk-toggleable__label-arrow:hover:before {color: black;}#sk-container-id-1 div.sk-estimator:hover label.sk-toggleable__label-arrow:before {color: black;}#sk-container-id-1 div.sk-toggleable__content {max-height: 0;max-width: 0;overflow: hidden;text-align: left;background-color: #f0f8ff;}#sk-container-id-1 div.sk-toggleable__content pre {margin: 0.2em;color: black;border-radius: 0.25em;background-color: #f0f8ff;}#sk-container-id-1 input.sk-toggleable__control:checked~div.sk-toggleable__content {max-height: 200px;max-width: 100%;overflow: auto;}#sk-container-id-1 input.sk-toggleable__control:checked~label.sk-toggleable__label-arrow:before {content: \"▾\";}#sk-container-id-1 div.sk-estimator input.sk-toggleable__control:checked~label.sk-toggleable__label {background-color: #d4ebff;}#sk-container-id-1 div.sk-label input.sk-toggleable__control:checked~label.sk-toggleable__label {background-color: #d4ebff;}#sk-container-id-1 input.sk-hidden--visually {border: 0;clip: rect(1px 1px 1px 1px);clip: rect(1px, 1px, 1px, 1px);height: 1px;margin: -1px;overflow: hidden;padding: 0;position: absolute;width: 1px;}#sk-container-id-1 div.sk-estimator {font-family: monospace;background-color: #f0f8ff;border: 1px dotted black;border-radius: 0.25em;box-sizing: border-box;margin-bottom: 0.5em;}#sk-container-id-1 div.sk-estimator:hover {background-color: #d4ebff;}#sk-container-id-1 div.sk-parallel-item::after {content: \"\";width: 100%;border-bottom: 1px solid gray;flex-grow: 1;}#sk-container-id-1 div.sk-label:hover label.sk-toggleable__label {background-color: #d4ebff;}#sk-container-id-1 div.sk-serial::before {content: \"\";position: absolute;border-left: 1px solid gray;box-sizing: border-box;top: 0;bottom: 0;left: 50%;z-index: 0;}#sk-container-id-1 div.sk-serial {display: flex;flex-direction: column;align-items: center;background-color: white;padding-right: 0.2em;padding-left: 0.2em;position: relative;}#sk-container-id-1 div.sk-item {position: relative;z-index: 1;}#sk-container-id-1 div.sk-parallel {display: flex;align-items: stretch;justify-content: center;background-color: white;position: relative;}#sk-container-id-1 div.sk-item::before, #sk-container-id-1 div.sk-parallel-item::before {content: \"\";position: absolute;border-left: 1px solid gray;box-sizing: border-box;top: 0;bottom: 0;left: 50%;z-index: -1;}#sk-container-id-1 div.sk-parallel-item {display: flex;flex-direction: column;z-index: 1;position: relative;background-color: white;}#sk-container-id-1 div.sk-parallel-item:first-child::after {align-self: flex-end;width: 50%;}#sk-container-id-1 div.sk-parallel-item:last-child::after {align-self: flex-start;width: 50%;}#sk-container-id-1 div.sk-parallel-item:only-child::after {width: 0;}#sk-container-id-1 div.sk-dashed-wrapped {border: 1px dashed gray;margin: 0 0.4em 0.5em 0.4em;box-sizing: border-box;padding-bottom: 0.4em;background-color: white;}#sk-container-id-1 div.sk-label label {font-family: monospace;font-weight: bold;display: inline-block;line-height: 1.2em;}#sk-container-id-1 div.sk-label-container {text-align: center;}#sk-container-id-1 div.sk-container {/* jupyter's `normalize.less` sets `[hidden] { display: none; }` but bootstrap.min.css set `[hidden] { display: none !important; }` so we also need the `!important` here to be able to override the default hidden behavior on the sphinx rendered scikit-learn.org. See: https://github.com/scikit-learn/scikit-learn/issues/21755 */display: inline-block !important;position: relative;}#sk-container-id-1 div.sk-text-repr-fallback {display: none;}</style><div id=\"sk-container-id-1\" class=\"sk-top-container\"><div class=\"sk-text-repr-fallback\"><pre>RandomizedSearchCV(cv=5,\n",
              "                   estimator=Pipeline(steps=[(&#x27;preprocess&#x27;,\n",
              "                                              ColumnTransformer(transformers=[(&#x27;number&#x27;,\n",
              "                                                                               Pipeline(steps=[(&#x27;impute&#x27;,\n",
              "                                                                                                SimpleImputer()),\n",
              "                                                                                               (&#x27;scale&#x27;,\n",
              "                                                                                                StandardScaler())]),\n",
              "                                                                               [&#x27;CreditScore&#x27;,\n",
              "                                                                                &#x27;Age&#x27;,\n",
              "                                                                                &#x27;Tenure&#x27;,\n",
              "                                                                                &#x27;Balance&#x27;,\n",
              "                                                                                &#x27;NumOfProducts&#x27;,\n",
              "                                                                                &#x27;HasCrCard&#x27;,\n",
              "                                                                                &#x27;IsActiveMember&#x27;,\n",
              "                                                                                &#x27;EstimatedSalary&#x27;]),\n",
              "                                                                              (&#x27;string&#x27;,\n",
              "                                                                               Pipeline(steps=[(&#x27;impute&#x27;,\n",
              "                                                                                                SimpleImputer(strategy=&#x27;most_fr...\n",
              "                   param_distributions={&#x27;model__criterion&#x27;: [&#x27;gini&#x27;, &#x27;entropy&#x27;],\n",
              "                                        &#x27;model__max_depth&#x27;: [2, 3, 5, 10, None],\n",
              "                                        &#x27;model__max_features&#x27;: &lt;scipy.stats._distn_infrastructure.rv_discrete_frozen object at 0x7f2e3df58190&gt;,\n",
              "                                        &#x27;model__min_samples_leaf&#x27;: &lt;scipy.stats._distn_infrastructure.rv_discrete_frozen object at 0x7f2e3df5a340&gt;,\n",
              "                                        &#x27;model__splitter&#x27;: [&#x27;best&#x27;, &#x27;random&#x27;]},\n",
              "                   random_state=2022, scoring=&#x27;accuracy&#x27;)</pre><b>In a Jupyter environment, please rerun this cell to show the HTML representation or trust the notebook. <br />On GitHub, the HTML representation is unable to render, please try loading this page with nbviewer.org.</b></div><div class=\"sk-container\" hidden><div class=\"sk-item sk-dashed-wrapped\"><div class=\"sk-label-container\"><div class=\"sk-label sk-toggleable\"><input class=\"sk-toggleable__control sk-hidden--visually\" id=\"sk-estimator-id-1\" type=\"checkbox\" ><label for=\"sk-estimator-id-1\" class=\"sk-toggleable__label sk-toggleable__label-arrow\">RandomizedSearchCV</label><div class=\"sk-toggleable__content\"><pre>RandomizedSearchCV(cv=5,\n",
              "                   estimator=Pipeline(steps=[(&#x27;preprocess&#x27;,\n",
              "                                              ColumnTransformer(transformers=[(&#x27;number&#x27;,\n",
              "                                                                               Pipeline(steps=[(&#x27;impute&#x27;,\n",
              "                                                                                                SimpleImputer()),\n",
              "                                                                                               (&#x27;scale&#x27;,\n",
              "                                                                                                StandardScaler())]),\n",
              "                                                                               [&#x27;CreditScore&#x27;,\n",
              "                                                                                &#x27;Age&#x27;,\n",
              "                                                                                &#x27;Tenure&#x27;,\n",
              "                                                                                &#x27;Balance&#x27;,\n",
              "                                                                                &#x27;NumOfProducts&#x27;,\n",
              "                                                                                &#x27;HasCrCard&#x27;,\n",
              "                                                                                &#x27;IsActiveMember&#x27;,\n",
              "                                                                                &#x27;EstimatedSalary&#x27;]),\n",
              "                                                                              (&#x27;string&#x27;,\n",
              "                                                                               Pipeline(steps=[(&#x27;impute&#x27;,\n",
              "                                                                                                SimpleImputer(strategy=&#x27;most_fr...\n",
              "                   param_distributions={&#x27;model__criterion&#x27;: [&#x27;gini&#x27;, &#x27;entropy&#x27;],\n",
              "                                        &#x27;model__max_depth&#x27;: [2, 3, 5, 10, None],\n",
              "                                        &#x27;model__max_features&#x27;: &lt;scipy.stats._distn_infrastructure.rv_discrete_frozen object at 0x7f2e3df58190&gt;,\n",
              "                                        &#x27;model__min_samples_leaf&#x27;: &lt;scipy.stats._distn_infrastructure.rv_discrete_frozen object at 0x7f2e3df5a340&gt;,\n",
              "                                        &#x27;model__splitter&#x27;: [&#x27;best&#x27;, &#x27;random&#x27;]},\n",
              "                   random_state=2022, scoring=&#x27;accuracy&#x27;)</pre></div></div></div><div class=\"sk-parallel\"><div class=\"sk-parallel-item\"><div class=\"sk-item\"><div class=\"sk-label-container\"><div class=\"sk-label sk-toggleable\"><input class=\"sk-toggleable__control sk-hidden--visually\" id=\"sk-estimator-id-2\" type=\"checkbox\" ><label for=\"sk-estimator-id-2\" class=\"sk-toggleable__label sk-toggleable__label-arrow\">estimator: Pipeline</label><div class=\"sk-toggleable__content\"><pre>Pipeline(steps=[(&#x27;preprocess&#x27;,\n",
              "                 ColumnTransformer(transformers=[(&#x27;number&#x27;,\n",
              "                                                  Pipeline(steps=[(&#x27;impute&#x27;,\n",
              "                                                                   SimpleImputer()),\n",
              "                                                                  (&#x27;scale&#x27;,\n",
              "                                                                   StandardScaler())]),\n",
              "                                                  [&#x27;CreditScore&#x27;, &#x27;Age&#x27;,\n",
              "                                                   &#x27;Tenure&#x27;, &#x27;Balance&#x27;,\n",
              "                                                   &#x27;NumOfProducts&#x27;, &#x27;HasCrCard&#x27;,\n",
              "                                                   &#x27;IsActiveMember&#x27;,\n",
              "                                                   &#x27;EstimatedSalary&#x27;]),\n",
              "                                                 (&#x27;string&#x27;,\n",
              "                                                  Pipeline(steps=[(&#x27;impute&#x27;,\n",
              "                                                                   SimpleImputer(strategy=&#x27;most_frequent&#x27;)),\n",
              "                                                                  (&#x27;encode&#x27;,\n",
              "                                                                   OneHotEncoder(handle_unknown=&#x27;ignore&#x27;,\n",
              "                                                                                 sparse=False))]),\n",
              "                                                  [&#x27;Geography&#x27;, &#x27;Gender&#x27;])])),\n",
              "                (&#x27;model&#x27;, DecisionTreeClassifier())])</pre></div></div></div><div class=\"sk-serial\"><div class=\"sk-item\"><div class=\"sk-serial\"><div class=\"sk-item sk-dashed-wrapped\"><div class=\"sk-label-container\"><div class=\"sk-label sk-toggleable\"><input class=\"sk-toggleable__control sk-hidden--visually\" id=\"sk-estimator-id-3\" type=\"checkbox\" ><label for=\"sk-estimator-id-3\" class=\"sk-toggleable__label sk-toggleable__label-arrow\">preprocess: ColumnTransformer</label><div class=\"sk-toggleable__content\"><pre>ColumnTransformer(transformers=[(&#x27;number&#x27;,\n",
              "                                 Pipeline(steps=[(&#x27;impute&#x27;, SimpleImputer()),\n",
              "                                                 (&#x27;scale&#x27;, StandardScaler())]),\n",
              "                                 [&#x27;CreditScore&#x27;, &#x27;Age&#x27;, &#x27;Tenure&#x27;, &#x27;Balance&#x27;,\n",
              "                                  &#x27;NumOfProducts&#x27;, &#x27;HasCrCard&#x27;,\n",
              "                                  &#x27;IsActiveMember&#x27;, &#x27;EstimatedSalary&#x27;]),\n",
              "                                (&#x27;string&#x27;,\n",
              "                                 Pipeline(steps=[(&#x27;impute&#x27;,\n",
              "                                                  SimpleImputer(strategy=&#x27;most_frequent&#x27;)),\n",
              "                                                 (&#x27;encode&#x27;,\n",
              "                                                  OneHotEncoder(handle_unknown=&#x27;ignore&#x27;,\n",
              "                                                                sparse=False))]),\n",
              "                                 [&#x27;Geography&#x27;, &#x27;Gender&#x27;])])</pre></div></div></div><div class=\"sk-parallel\"><div class=\"sk-parallel-item\"><div class=\"sk-item\"><div class=\"sk-label-container\"><div class=\"sk-label sk-toggleable\"><input class=\"sk-toggleable__control sk-hidden--visually\" id=\"sk-estimator-id-4\" type=\"checkbox\" ><label for=\"sk-estimator-id-4\" class=\"sk-toggleable__label sk-toggleable__label-arrow\">number</label><div class=\"sk-toggleable__content\"><pre>[&#x27;CreditScore&#x27;, &#x27;Age&#x27;, &#x27;Tenure&#x27;, &#x27;Balance&#x27;, &#x27;NumOfProducts&#x27;, &#x27;HasCrCard&#x27;, &#x27;IsActiveMember&#x27;, &#x27;EstimatedSalary&#x27;]</pre></div></div></div><div class=\"sk-serial\"><div class=\"sk-item\"><div class=\"sk-serial\"><div class=\"sk-item\"><div class=\"sk-estimator sk-toggleable\"><input class=\"sk-toggleable__control sk-hidden--visually\" id=\"sk-estimator-id-5\" type=\"checkbox\" ><label for=\"sk-estimator-id-5\" class=\"sk-toggleable__label sk-toggleable__label-arrow\">SimpleImputer</label><div class=\"sk-toggleable__content\"><pre>SimpleImputer()</pre></div></div></div><div class=\"sk-item\"><div class=\"sk-estimator sk-toggleable\"><input class=\"sk-toggleable__control sk-hidden--visually\" id=\"sk-estimator-id-6\" type=\"checkbox\" ><label for=\"sk-estimator-id-6\" class=\"sk-toggleable__label sk-toggleable__label-arrow\">StandardScaler</label><div class=\"sk-toggleable__content\"><pre>StandardScaler()</pre></div></div></div></div></div></div></div></div><div class=\"sk-parallel-item\"><div class=\"sk-item\"><div class=\"sk-label-container\"><div class=\"sk-label sk-toggleable\"><input class=\"sk-toggleable__control sk-hidden--visually\" id=\"sk-estimator-id-7\" type=\"checkbox\" ><label for=\"sk-estimator-id-7\" class=\"sk-toggleable__label sk-toggleable__label-arrow\">string</label><div class=\"sk-toggleable__content\"><pre>[&#x27;Geography&#x27;, &#x27;Gender&#x27;]</pre></div></div></div><div class=\"sk-serial\"><div class=\"sk-item\"><div class=\"sk-serial\"><div class=\"sk-item\"><div class=\"sk-estimator sk-toggleable\"><input class=\"sk-toggleable__control sk-hidden--visually\" id=\"sk-estimator-id-8\" type=\"checkbox\" ><label for=\"sk-estimator-id-8\" class=\"sk-toggleable__label sk-toggleable__label-arrow\">SimpleImputer</label><div class=\"sk-toggleable__content\"><pre>SimpleImputer(strategy=&#x27;most_frequent&#x27;)</pre></div></div></div><div class=\"sk-item\"><div class=\"sk-estimator sk-toggleable\"><input class=\"sk-toggleable__control sk-hidden--visually\" id=\"sk-estimator-id-9\" type=\"checkbox\" ><label for=\"sk-estimator-id-9\" class=\"sk-toggleable__label sk-toggleable__label-arrow\">OneHotEncoder</label><div class=\"sk-toggleable__content\"><pre>OneHotEncoder(handle_unknown=&#x27;ignore&#x27;, sparse=False)</pre></div></div></div></div></div></div></div></div></div></div><div class=\"sk-item\"><div class=\"sk-estimator sk-toggleable\"><input class=\"sk-toggleable__control sk-hidden--visually\" id=\"sk-estimator-id-10\" type=\"checkbox\" ><label for=\"sk-estimator-id-10\" class=\"sk-toggleable__label sk-toggleable__label-arrow\">DecisionTreeClassifier</label><div class=\"sk-toggleable__content\"><pre>DecisionTreeClassifier()</pre></div></div></div></div></div></div></div></div></div></div></div></div>"
            ],
            "text/plain": [
              "RandomizedSearchCV(cv=5,\n",
              "                   estimator=Pipeline(steps=[('preprocess',\n",
              "                                              ColumnTransformer(transformers=[('number',\n",
              "                                                                               Pipeline(steps=[('impute',\n",
              "                                                                                                SimpleImputer()),\n",
              "                                                                                               ('scale',\n",
              "                                                                                                StandardScaler())]),\n",
              "                                                                               ['CreditScore',\n",
              "                                                                                'Age',\n",
              "                                                                                'Tenure',\n",
              "                                                                                'Balance',\n",
              "                                                                                'NumOfProducts',\n",
              "                                                                                'HasCrCard',\n",
              "                                                                                'IsActiveMember',\n",
              "                                                                                'EstimatedSalary']),\n",
              "                                                                              ('string',\n",
              "                                                                               Pipeline(steps=[('impute',\n",
              "                                                                                                SimpleImputer(strategy='most_fr...\n",
              "                   param_distributions={'model__criterion': ['gini', 'entropy'],\n",
              "                                        'model__max_depth': [2, 3, 5, 10, None],\n",
              "                                        'model__max_features': <scipy.stats._distn_infrastructure.rv_discrete_frozen object at 0x7f2e3df58190>,\n",
              "                                        'model__min_samples_leaf': <scipy.stats._distn_infrastructure.rv_discrete_frozen object at 0x7f2e3df5a340>,\n",
              "                                        'model__splitter': ['best', 'random']},\n",
              "                   random_state=2022, scoring='accuracy')"
            ]
          },
          "execution_count": 29,
          "metadata": {},
          "output_type": "execute_result"
        }
      ],
      "source": [
        "%%time\n",
        "\n",
        "# Let's create a pipeline re-using the preprocessing\n",
        "# but adding a DecisionTreeClassifier \n",
        "tree_pipeline = Pipeline(steps=[\n",
        "    ('preprocess', full_processor),\n",
        "    ('model', DecisionTreeClassifier())\n",
        "  ]\n",
        ")\n",
        "\n",
        "param_dist = {\n",
        "  \"model__max_depth\": [2, 3, 5, 10, None],\n",
        "  \"model__splitter\": [\"best\", \"random\"],\n",
        "  \"model__max_features\": scipy.stats.randint(1, 13),\n",
        "  \"model__min_samples_leaf\": scipy.stats.randint(1, 25),\n",
        "  \"model__criterion\": [\"gini\", \"entropy\"]\n",
        "}\n",
        "\n",
        "rsearch = RandomizedSearchCV(\n",
        "  tree_pipeline,\n",
        "  param_dist,\n",
        "  n_iter=150,\n",
        "  scoring=\"accuracy\",\n",
        "  cv=5,\n",
        "  n_jobs=-1,\n",
        "  random_state=2022,\n",
        ")\n",
        "\n",
        "rsearch.fit(X_train, y_train)\n"
      ]
    },
    {
      "cell_type": "code",
      "execution_count": null,
      "metadata": {
        "colab": {
          "base_uri": "https://localhost:8080/"
        },
        "id": "dr2yoYNQSIFF",
        "outputId": "9cbf2e46-1940-4fe9-bc25-51cf7b28c832"
      },
      "outputs": [
        {
          "data": {
            "text/plain": [
              "{'model__criterion': 'gini',\n",
              " 'model__max_depth': 5,\n",
              " 'model__max_features': 10,\n",
              " 'model__min_samples_leaf': 14,\n",
              " 'model__splitter': 'best'}"
            ]
          },
          "execution_count": 30,
          "metadata": {},
          "output_type": "execute_result"
        }
      ],
      "source": [
        "rsearch.best_params_"
      ]
    },
    {
      "cell_type": "code",
      "execution_count": null,
      "metadata": {
        "colab": {
          "base_uri": "https://localhost:8080/"
        },
        "id": "Qgz_PjoTSICz",
        "outputId": "e146c10e-34a9-413f-f43a-6bbc78a8f577"
      },
      "outputs": [
        {
          "data": {
            "text/plain": [
              "0.8515"
            ]
          },
          "execution_count": 31,
          "metadata": {},
          "output_type": "execute_result"
        }
      ],
      "source": [
        " rsearch.best_score_"
      ]
    },
    {
      "cell_type": "markdown",
      "metadata": {
        "id": "P4Xiu4YKVyk7"
      },
      "source": [
        "## But you told me Neural Networks were the best!!! ヽ(ಠ_ಠ)ノ\n",
        "\n",
        "Yes! But we may have to carefully tune our neural network architecture and hyperparameters in order to make it work properly.\n",
        "\n",
        "One easy way is to use [Keras Tuner](https://keras.io/keras_tuner/). We will see more about this in the next few days.\n"
      ]
    },
    {
      "cell_type": "code",
      "execution_count": null,
      "metadata": {
        "id": "0qAv8Dj6WufD"
      },
      "outputs": [],
      "source": []
    }
  ],
  "metadata": {
    "colab": {
      "provenance": []
    },
    "gpuClass": "standard",
    "kernelspec": {
      "display_name": "Python 3",
      "name": "python3"
    },
    "language_info": {
      "name": "python",
      "version": "3.11.0"
    }
  },
  "nbformat": 4,
  "nbformat_minor": 0
}
