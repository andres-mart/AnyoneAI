{
  "nbformat": 4,
  "nbformat_minor": 0,
  "metadata": {
    "colab": {
      "provenance": []
    },
    "kernelspec": {
      "name": "python3",
      "display_name": "Python 3"
    },
    "language_info": {
      "name": "python"
    }
  },
  "cells": [
    {
      "cell_type": "markdown",
      "source": [
        "# Pipeline\n",
        "\n",
        "It's time to start uniting different concepts that we have been seeing not only in this last class, but throughout the entire race. And for that we are going to introduce the concept of __Pipeline__ and we are going to see how to used [Scikit-Learn Pipeline](https://scikit-learn.org/stable/modules/generated/sklearn.pipeline.Pipeline.html#sklearn.pipeline.Pipeline).\n",
        "\n",
        "Any machine learning problem can be divided into successive black boxes (or steps) that are executed sequentially: __transformations on the input data__ (standardizations, dimension reduction, etc.), __training a model__, __optimization of hyperparameters with cross-validation__ and __prediction__.\n",
        "\n",
        "Although all this can be done \"by hand\" simply by connecting these different steps, but it is a good practice to implement a pipeline and instead of executing each one of the steps individually, we execute the Pipeline that contains everything related to the model.\n"
      ],
      "metadata": {
        "id": "Kbqgm-fHIKXz"
      }
    },
    {
      "cell_type": "markdown",
      "source": [
        "Import necesaries Libraries"
      ],
      "metadata": {
        "id": "JLzaVPBtIKfx"
      }
    },
    {
      "cell_type": "code",
      "execution_count": null,
      "metadata": {
        "id": "7TWGwfMVIBD1"
      },
      "outputs": [],
      "source": [
        "import pandas as pd # For dataframes\n",
        "import numpy as np # For matrices\n",
        "import matplotlib.pyplot as plt # For plotting data\n",
        "import seaborn as sns # For plotting data\n",
        "from sklearn.model_selection import train_test_split # For train/test splits\n",
        "from sklearn.neighbors import KNeighborsClassifier # The k-nearest neighbor classifier\n",
        "from sklearn.feature_selection import VarianceThreshold # Feature selector\n",
        "from sklearn.pipeline import Pipeline # For setting up pipeline\n",
        "from sklearn.preprocessing import Normalizer, StandardScaler, MinMaxScaler, PowerTransformer, MaxAbsScaler, LabelEncoder"
      ]
    },
    {
      "cell_type": "markdown",
      "source": [
        "#### The Dataset\n",
        "We’ll use the Ecoli Dataset from the UCI Machine Learning Repository to demonstrate all the concepts of this tutorial. This dataset is maintained by Kenta Nakai. Let’s first load the Ecoli dataset in a Pandas DataFrame and view the first few rows."
      ],
      "metadata": {
        "id": "7IWxXwMuIkeW"
      }
    },
    {
      "cell_type": "code",
      "source": [
        "# Read ecoli dataset from the UCI ML Repository and store in\n",
        "# dataframe df\n",
        "\n",
        "df = pd.read_csv('https://raw.githubusercontent.com/anyoneai/notebooks/main/datasets/pipeline.csv')\n",
        "df"
      ],
      "metadata": {
        "colab": {
          "base_uri": "https://localhost:8080/",
          "height": 424
        },
        "id": "dWX59VybIeO4",
        "outputId": "641bb0da-c134-4d94-d283-4f2aa5b6b247"
      },
      "execution_count": null,
      "outputs": [
        {
          "output_type": "execute_result",
          "data": {
            "text/plain": [
              "     Unnamed: 0           0     1     2     3    4     5     6     7   8\n",
              "0             0   AAT_ECOLI  0.49  0.29  0.48  0.5  0.56  0.24  0.35  cp\n",
              "1             1  ACEA_ECOLI  0.07  0.40  0.48  0.5  0.54  0.35  0.44  cp\n",
              "2             2  ACEK_ECOLI  0.56  0.40  0.48  0.5  0.49  0.37  0.46  cp\n",
              "3             3  ACKA_ECOLI  0.59  0.49  0.48  0.5  0.52  0.45  0.36  cp\n",
              "4             4   ADI_ECOLI  0.23  0.32  0.48  0.5  0.55  0.25  0.35  cp\n",
              "..          ...         ...   ...   ...   ...  ...   ...   ...   ...  ..\n",
              "331         331  TREA_ECOLI  0.74  0.56  0.48  0.5  0.47  0.68  0.30  pp\n",
              "332         332  UGPB_ECOLI  0.71  0.57  0.48  0.5  0.48  0.35  0.32  pp\n",
              "333         333  USHA_ECOLI  0.61  0.60  0.48  0.5  0.44  0.39  0.38  pp\n",
              "334         334  XYLF_ECOLI  0.59  0.61  0.48  0.5  0.42  0.42  0.37  pp\n",
              "335         335  YTFQ_ECOLI  0.74  0.74  0.48  0.5  0.31  0.53  0.52  pp\n",
              "\n",
              "[336 rows x 10 columns]"
            ],
            "text/html": [
              "\n",
              "  <div id=\"df-c2340e25-e619-43c0-bc0d-6157c4b71227\">\n",
              "    <div class=\"colab-df-container\">\n",
              "      <div>\n",
              "<style scoped>\n",
              "    .dataframe tbody tr th:only-of-type {\n",
              "        vertical-align: middle;\n",
              "    }\n",
              "\n",
              "    .dataframe tbody tr th {\n",
              "        vertical-align: top;\n",
              "    }\n",
              "\n",
              "    .dataframe thead th {\n",
              "        text-align: right;\n",
              "    }\n",
              "</style>\n",
              "<table border=\"1\" class=\"dataframe\">\n",
              "  <thead>\n",
              "    <tr style=\"text-align: right;\">\n",
              "      <th></th>\n",
              "      <th>Unnamed: 0</th>\n",
              "      <th>0</th>\n",
              "      <th>1</th>\n",
              "      <th>2</th>\n",
              "      <th>3</th>\n",
              "      <th>4</th>\n",
              "      <th>5</th>\n",
              "      <th>6</th>\n",
              "      <th>7</th>\n",
              "      <th>8</th>\n",
              "    </tr>\n",
              "  </thead>\n",
              "  <tbody>\n",
              "    <tr>\n",
              "      <th>0</th>\n",
              "      <td>0</td>\n",
              "      <td>AAT_ECOLI</td>\n",
              "      <td>0.49</td>\n",
              "      <td>0.29</td>\n",
              "      <td>0.48</td>\n",
              "      <td>0.5</td>\n",
              "      <td>0.56</td>\n",
              "      <td>0.24</td>\n",
              "      <td>0.35</td>\n",
              "      <td>cp</td>\n",
              "    </tr>\n",
              "    <tr>\n",
              "      <th>1</th>\n",
              "      <td>1</td>\n",
              "      <td>ACEA_ECOLI</td>\n",
              "      <td>0.07</td>\n",
              "      <td>0.40</td>\n",
              "      <td>0.48</td>\n",
              "      <td>0.5</td>\n",
              "      <td>0.54</td>\n",
              "      <td>0.35</td>\n",
              "      <td>0.44</td>\n",
              "      <td>cp</td>\n",
              "    </tr>\n",
              "    <tr>\n",
              "      <th>2</th>\n",
              "      <td>2</td>\n",
              "      <td>ACEK_ECOLI</td>\n",
              "      <td>0.56</td>\n",
              "      <td>0.40</td>\n",
              "      <td>0.48</td>\n",
              "      <td>0.5</td>\n",
              "      <td>0.49</td>\n",
              "      <td>0.37</td>\n",
              "      <td>0.46</td>\n",
              "      <td>cp</td>\n",
              "    </tr>\n",
              "    <tr>\n",
              "      <th>3</th>\n",
              "      <td>3</td>\n",
              "      <td>ACKA_ECOLI</td>\n",
              "      <td>0.59</td>\n",
              "      <td>0.49</td>\n",
              "      <td>0.48</td>\n",
              "      <td>0.5</td>\n",
              "      <td>0.52</td>\n",
              "      <td>0.45</td>\n",
              "      <td>0.36</td>\n",
              "      <td>cp</td>\n",
              "    </tr>\n",
              "    <tr>\n",
              "      <th>4</th>\n",
              "      <td>4</td>\n",
              "      <td>ADI_ECOLI</td>\n",
              "      <td>0.23</td>\n",
              "      <td>0.32</td>\n",
              "      <td>0.48</td>\n",
              "      <td>0.5</td>\n",
              "      <td>0.55</td>\n",
              "      <td>0.25</td>\n",
              "      <td>0.35</td>\n",
              "      <td>cp</td>\n",
              "    </tr>\n",
              "    <tr>\n",
              "      <th>...</th>\n",
              "      <td>...</td>\n",
              "      <td>...</td>\n",
              "      <td>...</td>\n",
              "      <td>...</td>\n",
              "      <td>...</td>\n",
              "      <td>...</td>\n",
              "      <td>...</td>\n",
              "      <td>...</td>\n",
              "      <td>...</td>\n",
              "      <td>...</td>\n",
              "    </tr>\n",
              "    <tr>\n",
              "      <th>331</th>\n",
              "      <td>331</td>\n",
              "      <td>TREA_ECOLI</td>\n",
              "      <td>0.74</td>\n",
              "      <td>0.56</td>\n",
              "      <td>0.48</td>\n",
              "      <td>0.5</td>\n",
              "      <td>0.47</td>\n",
              "      <td>0.68</td>\n",
              "      <td>0.30</td>\n",
              "      <td>pp</td>\n",
              "    </tr>\n",
              "    <tr>\n",
              "      <th>332</th>\n",
              "      <td>332</td>\n",
              "      <td>UGPB_ECOLI</td>\n",
              "      <td>0.71</td>\n",
              "      <td>0.57</td>\n",
              "      <td>0.48</td>\n",
              "      <td>0.5</td>\n",
              "      <td>0.48</td>\n",
              "      <td>0.35</td>\n",
              "      <td>0.32</td>\n",
              "      <td>pp</td>\n",
              "    </tr>\n",
              "    <tr>\n",
              "      <th>333</th>\n",
              "      <td>333</td>\n",
              "      <td>USHA_ECOLI</td>\n",
              "      <td>0.61</td>\n",
              "      <td>0.60</td>\n",
              "      <td>0.48</td>\n",
              "      <td>0.5</td>\n",
              "      <td>0.44</td>\n",
              "      <td>0.39</td>\n",
              "      <td>0.38</td>\n",
              "      <td>pp</td>\n",
              "    </tr>\n",
              "    <tr>\n",
              "      <th>334</th>\n",
              "      <td>334</td>\n",
              "      <td>XYLF_ECOLI</td>\n",
              "      <td>0.59</td>\n",
              "      <td>0.61</td>\n",
              "      <td>0.48</td>\n",
              "      <td>0.5</td>\n",
              "      <td>0.42</td>\n",
              "      <td>0.42</td>\n",
              "      <td>0.37</td>\n",
              "      <td>pp</td>\n",
              "    </tr>\n",
              "    <tr>\n",
              "      <th>335</th>\n",
              "      <td>335</td>\n",
              "      <td>YTFQ_ECOLI</td>\n",
              "      <td>0.74</td>\n",
              "      <td>0.74</td>\n",
              "      <td>0.48</td>\n",
              "      <td>0.5</td>\n",
              "      <td>0.31</td>\n",
              "      <td>0.53</td>\n",
              "      <td>0.52</td>\n",
              "      <td>pp</td>\n",
              "    </tr>\n",
              "  </tbody>\n",
              "</table>\n",
              "<p>336 rows × 10 columns</p>\n",
              "</div>\n",
              "      <button class=\"colab-df-convert\" onclick=\"convertToInteractive('df-c2340e25-e619-43c0-bc0d-6157c4b71227')\"\n",
              "              title=\"Convert this dataframe to an interactive table.\"\n",
              "              style=\"display:none;\">\n",
              "        \n",
              "  <svg xmlns=\"http://www.w3.org/2000/svg\" height=\"24px\"viewBox=\"0 0 24 24\"\n",
              "       width=\"24px\">\n",
              "    <path d=\"M0 0h24v24H0V0z\" fill=\"none\"/>\n",
              "    <path d=\"M18.56 5.44l.94 2.06.94-2.06 2.06-.94-2.06-.94-.94-2.06-.94 2.06-2.06.94zm-11 1L8.5 8.5l.94-2.06 2.06-.94-2.06-.94L8.5 2.5l-.94 2.06-2.06.94zm10 10l.94 2.06.94-2.06 2.06-.94-2.06-.94-.94-2.06-.94 2.06-2.06.94z\"/><path d=\"M17.41 7.96l-1.37-1.37c-.4-.4-.92-.59-1.43-.59-.52 0-1.04.2-1.43.59L10.3 9.45l-7.72 7.72c-.78.78-.78 2.05 0 2.83L4 21.41c.39.39.9.59 1.41.59.51 0 1.02-.2 1.41-.59l7.78-7.78 2.81-2.81c.8-.78.8-2.07 0-2.86zM5.41 20L4 18.59l7.72-7.72 1.47 1.35L5.41 20z\"/>\n",
              "  </svg>\n",
              "      </button>\n",
              "      \n",
              "  <style>\n",
              "    .colab-df-container {\n",
              "      display:flex;\n",
              "      flex-wrap:wrap;\n",
              "      gap: 12px;\n",
              "    }\n",
              "\n",
              "    .colab-df-convert {\n",
              "      background-color: #E8F0FE;\n",
              "      border: none;\n",
              "      border-radius: 50%;\n",
              "      cursor: pointer;\n",
              "      display: none;\n",
              "      fill: #1967D2;\n",
              "      height: 32px;\n",
              "      padding: 0 0 0 0;\n",
              "      width: 32px;\n",
              "    }\n",
              "\n",
              "    .colab-df-convert:hover {\n",
              "      background-color: #E2EBFA;\n",
              "      box-shadow: 0px 1px 2px rgba(60, 64, 67, 0.3), 0px 1px 3px 1px rgba(60, 64, 67, 0.15);\n",
              "      fill: #174EA6;\n",
              "    }\n",
              "\n",
              "    [theme=dark] .colab-df-convert {\n",
              "      background-color: #3B4455;\n",
              "      fill: #D2E3FC;\n",
              "    }\n",
              "\n",
              "    [theme=dark] .colab-df-convert:hover {\n",
              "      background-color: #434B5C;\n",
              "      box-shadow: 0px 1px 3px 1px rgba(0, 0, 0, 0.15);\n",
              "      filter: drop-shadow(0px 1px 2px rgba(0, 0, 0, 0.3));\n",
              "      fill: #FFFFFF;\n",
              "    }\n",
              "  </style>\n",
              "\n",
              "      <script>\n",
              "        const buttonEl =\n",
              "          document.querySelector('#df-c2340e25-e619-43c0-bc0d-6157c4b71227 button.colab-df-convert');\n",
              "        buttonEl.style.display =\n",
              "          google.colab.kernel.accessAllowed ? 'block' : 'none';\n",
              "\n",
              "        async function convertToInteractive(key) {\n",
              "          const element = document.querySelector('#df-c2340e25-e619-43c0-bc0d-6157c4b71227');\n",
              "          const dataTable =\n",
              "            await google.colab.kernel.invokeFunction('convertToInteractive',\n",
              "                                                     [key], {});\n",
              "          if (!dataTable) return;\n",
              "\n",
              "          const docLinkHtml = 'Like what you see? Visit the ' +\n",
              "            '<a target=\"_blank\" href=https://colab.research.google.com/notebooks/data_table.ipynb>data table notebook</a>'\n",
              "            + ' to learn more about interactive tables.';\n",
              "          element.innerHTML = '';\n",
              "          dataTable['output_type'] = 'display_data';\n",
              "          await google.colab.output.renderOutput(dataTable, element);\n",
              "          const docLink = document.createElement('div');\n",
              "          docLink.innerHTML = docLinkHtml;\n",
              "          element.appendChild(docLink);\n",
              "        }\n",
              "      </script>\n",
              "    </div>\n",
              "  </div>\n",
              "  "
            ]
          },
          "metadata": {},
          "execution_count": 2
        }
      ]
    },
    {
      "cell_type": "markdown",
      "source": [
        "We’ll ignore the first column, which specifies the sequence name. The last column is the class label. Let’s separate the features from the class label and split the dataset into 2/3 training instances and 1/3 test examples."
      ],
      "metadata": {
        "id": "xJ_3QAPLI-ZQ"
      }
    },
    {
      "cell_type": "code",
      "source": [
        "# The data matrix X\n",
        "X = df.iloc[:,2:-1]\n",
        "# The labels\n",
        "y = (df.iloc[:,-1:])\n",
        " \n",
        "# Encode the labels into unique integers\n",
        "encoder = LabelEncoder()\n",
        "y = encoder.fit_transform(np.ravel(y))\n",
        " \n",
        "# Split the data into test and train\n",
        "X_train, X_test, y_train, y_test = train_test_split(\n",
        "    X,  \n",
        "    y, \n",
        "    test_size=1/3,\n",
        "    random_state=0)\n",
        " \n",
        "print(X_train.shape)\n",
        "print(X_test.shape)"
      ],
      "metadata": {
        "id": "x02j6WslIvYi",
        "colab": {
          "base_uri": "https://localhost:8080/"
        },
        "outputId": "dec18ddd-85c6-4996-97ae-97df81cdb31d"
      },
      "execution_count": null,
      "outputs": [
        {
          "output_type": "stream",
          "name": "stdout",
          "text": [
            "(224, 7)\n",
            "(112, 7)\n"
          ]
        }
      ]
    },
    {
      "cell_type": "markdown",
      "source": [
        "Great! Now we have 224 samples in the training set and 112 samples in the test set. We have chosen a small dataset so that we can focus on the concepts, rather than the data itself.\n",
        "\n",
        "For this tutorial, we have chosen the k-nearest neighbor classifier to perform the classification of this dataset."
      ],
      "metadata": {
        "id": "Ltrr5e0lJbJT"
      }
    },
    {
      "cell_type": "code",
      "source": [
        "knn = KNeighborsClassifier().fit(X_train, y_train)\n",
        "print('Training set score: ' + str(knn.score(X_train,y_train)))\n",
        "print('Test set score: ' + str(knn.score(X_test,y_test)))"
      ],
      "metadata": {
        "id": "x3mPxYw8JbZK",
        "colab": {
          "base_uri": "https://localhost:8080/"
        },
        "outputId": "2cb9d072-d8b5-4882-801f-5194fa81524f"
      },
      "execution_count": null,
      "outputs": [
        {
          "output_type": "stream",
          "name": "stdout",
          "text": [
            "Training set score: 0.9017857142857143\n",
            "Test set score: 0.8482142857142857\n"
          ]
        }
      ]
    },
    {
      "cell_type": "markdown",
      "source": [
        "For this tutorial, we’ll set up a very basic pipeline that consists of the following sequence:\n",
        "\n",
        "1. Scaler: For pre-processing data, i.e., transform the data to zero mean and unit variance using the StandardScaler().\n",
        "2. Feature selector: Use VarianceThreshold() for discarding features whose variance is less than a certain defined threshold.\n",
        "3. Classifier: KNeighborsClassifier(), which implements the k-nearest neighbor classifier and selects the class of the majority k points, which are closest to the test example."
      ],
      "metadata": {
        "id": "SnKq8KXJJu9-"
      }
    },
    {
      "cell_type": "code",
      "source": [
        "pipe = Pipeline(\n",
        "  [\n",
        "    ('scaler', StandardScaler()),\n",
        "    ('selector', VarianceThreshold()),\n",
        "    ('classifier', KNeighborsClassifier())\n",
        "  ]\n",
        ")"
      ],
      "metadata": {
        "id": "QakGN448Jhio"
      },
      "execution_count": null,
      "outputs": []
    },
    {
      "cell_type": "markdown",
      "source": [
        "The pipe object is simple to understand. It says, scale first, select features second and classify in the end. Let’s call fit() method of the pipe object on our training data and get the training and test scores."
      ],
      "metadata": {
        "id": "sZIChoB6KAZJ"
      }
    },
    {
      "cell_type": "code",
      "source": [
        "pipe.fit(X_train, y_train)\n",
        " \n",
        "print('Training set score: ' + str(pipe.score(X_train,y_train)))\n",
        "print('Test set score: ' + str(pipe.score(X_test,y_test)))"
      ],
      "metadata": {
        "id": "_vn4Rog-J8JO",
        "colab": {
          "base_uri": "https://localhost:8080/"
        },
        "outputId": "e2df3c6f-fcc2-4bbf-f2e4-cc48bffb29ab"
      },
      "execution_count": null,
      "outputs": [
        {
          "output_type": "stream",
          "name": "stdout",
          "text": [
            "Training set score: 0.8794642857142857\n",
            "Test set score: 0.8392857142857143\n"
          ]
        }
      ]
    },
    {
      "cell_type": "markdown",
      "source": [
        "So it looks like the performance of this pipeline is worse than the single classifier performance on raw data. Not only did we add extra processing, but it was all in vain. \n",
        "Don’t despair, the real benefit of the pipeline comes from its tuning. The next section explains how to do that."
      ],
      "metadata": {
        "id": "8uG95tjgKLcz"
      }
    },
    {
      "cell_type": "markdown",
      "source": [
        "###Tunning the PIPELINE"
      ],
      "metadata": {
        "id": "Oz6Vc4IhKV3E"
      }
    },
    {
      "cell_type": "markdown",
      "source": [
        "In the code below, we’ll show the following:\n",
        "\n",
        "We can search for the best scalers. Instead of just the StandardScaler(), we can try MinMaxScaler(), Normalizer() and MaxAbsScaler().\n",
        "We can search for the best variance threshold to use in the selector, i.e., VarianceThreshold().\n",
        "We can search for the best value of k for the KNeighborsClassifier()."
      ],
      "metadata": {
        "id": "BP9luVCuKZ3F"
      }
    },
    {
      "cell_type": "code",
      "source": [
        "pipe = Pipeline([\n",
        "('scaler', MinMaxScaler()),\n",
        "('selector', VarianceThreshold(0.001)),\n",
        "('classifier', KNeighborsClassifier(leaf_size=1, n_neighbors=5))])"
      ],
      "metadata": {
        "id": "KmbD1glNIoAe"
      },
      "execution_count": null,
      "outputs": []
    },
    {
      "cell_type": "code",
      "source": [
        "pipe.fit(X_train, y_train)\n",
        " \n",
        "print('Training set score: ' + str(pipe.score(X_train,y_train)))\n",
        "print('Test set score: ' + str(pipe.score(X_test,y_test)))"
      ],
      "metadata": {
        "id": "L6O_n-6xIn32",
        "colab": {
          "base_uri": "https://localhost:8080/"
        },
        "outputId": "d327ffab-fde3-434c-cb46-e5a1f2fda28b"
      },
      "execution_count": null,
      "outputs": [
        {
          "output_type": "stream",
          "name": "stdout",
          "text": [
            "Training set score: 0.8928571428571429\n",
            "Test set score: 0.8482142857142857\n"
          ]
        }
      ]
    },
    {
      "cell_type": "markdown",
      "source": [
        "See some changes there, a little bit of difference between the first pipe and the last one... Now, we strongly recommend doing one change at a time in order to analyze which variable makes noise or improves the pipe. Let´s do another example."
      ],
      "metadata": {
        "id": "kGcXl1IeJelG"
      }
    },
    {
      "cell_type": "code",
      "source": [
        "# Remember to change just one parameter!\n",
        "pipe = Pipeline([\n",
        "('scaler', MinMaxScaler()),\n",
        "('selector', VarianceThreshold(0.001)),\n",
        "('classifier', KNeighborsClassifier(leaf_size=1, n_neighbors=10))])"
      ],
      "metadata": {
        "id": "rKOPHFI2JzYw"
      },
      "execution_count": null,
      "outputs": []
    },
    {
      "cell_type": "code",
      "source": [
        "pipe.fit(X_train, y_train)\n",
        " \n",
        "print('Training set score: ' + str(pipe.score(X_train,y_train)))\n",
        "print('Test set score: ' + str(pipe.score(X_test,y_test)))"
      ],
      "metadata": {
        "id": "2lVamM6EJzGI",
        "colab": {
          "base_uri": "https://localhost:8080/"
        },
        "outputId": "b52ec767-a1d9-4518-be6f-8252d38ae69e"
      },
      "execution_count": null,
      "outputs": [
        {
          "output_type": "stream",
          "name": "stdout",
          "text": [
            "Training set score: 0.875\n",
            "Test set score: 0.8303571428571429\n"
          ]
        }
      ]
    },
    {
      "cell_type": "markdown",
      "source": [
        "Seems to be that more neighbors make a worse pipe, let´s try with another parameter and come back neighbors to five... and then you can try by yourself!"
      ],
      "metadata": {
        "id": "ym0zi-rPKCdL"
      }
    },
    {
      "cell_type": "code",
      "source": [
        "pipe = Pipeline([\n",
        "('scaler', StandardScaler()),\n",
        "('selector', VarianceThreshold(0.001)),\n",
        "('classifier', KNeighborsClassifier(leaf_size=1, n_neighbors=5))])"
      ],
      "metadata": {
        "id": "-p2ObzRJKCGT"
      },
      "execution_count": null,
      "outputs": []
    },
    {
      "cell_type": "code",
      "source": [
        "pipe.fit(X_train, y_train)\n",
        " \n",
        "print('Training set score: ' + str(pipe.score(X_train,y_train)))\n",
        "print('Test set score: ' + str(pipe.score(X_test,y_test)))"
      ],
      "metadata": {
        "id": "DyHnKVBgKY6N",
        "colab": {
          "base_uri": "https://localhost:8080/"
        },
        "outputId": "8ac69309-4f33-4421-b4ba-5c7445030408"
      },
      "execution_count": null,
      "outputs": [
        {
          "output_type": "stream",
          "name": "stdout",
          "text": [
            "Training set score: 0.8794642857142857\n",
            "Test set score: 0.8392857142857143\n"
          ]
        }
      ]
    },
    {
      "cell_type": "markdown",
      "source": [
        "By tuning the pipeline, we achieved quite an improvement over a simple classifier and a non-optimized pipeline. It is important to analyze the results of the optimization process."
      ],
      "metadata": {
        "id": "FeU-P9KLKzHw"
      }
    },
    {
      "cell_type": "markdown",
      "source": [
        "Now is your turn to get, at least, .85 in Test set score.\n",
        "Change the leaf_size, the scaler (StandardScaler(), MinMaxScaler(), Normalizer(), MaxAbsScaler()), and so on.\n",
        "##You can do it"
      ],
      "metadata": {
        "id": "MYsrHMF9K3Xr"
      }
    },
    {
      "cell_type": "code",
      "source": [],
      "metadata": {
        "id": "zkXRTyGaLw-w"
      },
      "execution_count": null,
      "outputs": []
    }
  ]
}