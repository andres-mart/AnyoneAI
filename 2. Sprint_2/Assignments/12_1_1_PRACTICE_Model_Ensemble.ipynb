{
  "cells": [
    {
      "cell_type": "markdown",
      "metadata": {
        "id": "Be2AElON6nDe"
      },
      "source": [
        "# Ensemble Learning"
      ]
    },
    {
      "cell_type": "markdown",
      "metadata": {
        "id": "-LAtLPLz6sNg"
      },
      "source": [
        "Ensemble learning works by aggregating the predictions of a group of predictors, the results will be best than the best predictor alone, this group of predictors are called ensemble and the technique is called ensemble learning .\n",
        "\n",
        "For example we can train an ensemble of Decision Tree Classifiers each of then is trained on different subsets of the training dataset, and the class that has the most votes will be the final prediction to this ensemble of trees, this ensemble is called -> Random Forest Algorithm .\n",
        "\n",
        "Using independent predictors make the ensemble methods give better predictions, to get an independent predictors you can use different algorithms. Different algorithms will make different types of errors."
      ]
    },
    {
      "cell_type": "code",
      "execution_count": 15,
      "metadata": {
        "id": "X2ZyIL_58hZH"
      },
      "outputs": [],
      "source": [
        "import numpy as np\n",
        "import pandas as pd\n",
        "from sklearn.preprocessing import StandardScaler\n",
        "from sklearn.model_selection import train_test_split\n",
        "from sklearn.metrics import accuracy_score\n",
        "from sklearn.datasets import load_wine"
      ]
    },
    {
      "cell_type": "code",
      "execution_count": 10,
      "metadata": {
        "id": "MPqeCBGr-Nh0"
      },
      "outputs": [],
      "source": [
        "dataset = load_wine()\n",
        "X = dataset.data\n",
        "y = dataset.target"
      ]
    },
    {
      "cell_type": "code",
      "execution_count": 11,
      "metadata": {
        "id": "VfRYtxmrAPQW"
      },
      "outputs": [],
      "source": [
        "# Split into training and testing dataset\n",
        "X_train, X_test, y_train, y_test = train_test_split(\n",
        "    X, y, test_size=0.2, random_state=42\n",
        ")"
      ]
    },
    {
      "cell_type": "code",
      "execution_count": 12,
      "metadata": {
        "id": "1rt2Llo5-Xvk"
      },
      "outputs": [
        {
          "data": {
            "text/html": [
              "<style>#sk-container-id-1 {color: black;background-color: white;}#sk-container-id-1 pre{padding: 0;}#sk-container-id-1 div.sk-toggleable {background-color: white;}#sk-container-id-1 label.sk-toggleable__label {cursor: pointer;display: block;width: 100%;margin-bottom: 0;padding: 0.3em;box-sizing: border-box;text-align: center;}#sk-container-id-1 label.sk-toggleable__label-arrow:before {content: \"▸\";float: left;margin-right: 0.25em;color: #696969;}#sk-container-id-1 label.sk-toggleable__label-arrow:hover:before {color: black;}#sk-container-id-1 div.sk-estimator:hover label.sk-toggleable__label-arrow:before {color: black;}#sk-container-id-1 div.sk-toggleable__content {max-height: 0;max-width: 0;overflow: hidden;text-align: left;background-color: #f0f8ff;}#sk-container-id-1 div.sk-toggleable__content pre {margin: 0.2em;color: black;border-radius: 0.25em;background-color: #f0f8ff;}#sk-container-id-1 input.sk-toggleable__control:checked~div.sk-toggleable__content {max-height: 200px;max-width: 100%;overflow: auto;}#sk-container-id-1 input.sk-toggleable__control:checked~label.sk-toggleable__label-arrow:before {content: \"▾\";}#sk-container-id-1 div.sk-estimator input.sk-toggleable__control:checked~label.sk-toggleable__label {background-color: #d4ebff;}#sk-container-id-1 div.sk-label input.sk-toggleable__control:checked~label.sk-toggleable__label {background-color: #d4ebff;}#sk-container-id-1 input.sk-hidden--visually {border: 0;clip: rect(1px 1px 1px 1px);clip: rect(1px, 1px, 1px, 1px);height: 1px;margin: -1px;overflow: hidden;padding: 0;position: absolute;width: 1px;}#sk-container-id-1 div.sk-estimator {font-family: monospace;background-color: #f0f8ff;border: 1px dotted black;border-radius: 0.25em;box-sizing: border-box;margin-bottom: 0.5em;}#sk-container-id-1 div.sk-estimator:hover {background-color: #d4ebff;}#sk-container-id-1 div.sk-parallel-item::after {content: \"\";width: 100%;border-bottom: 1px solid gray;flex-grow: 1;}#sk-container-id-1 div.sk-label:hover label.sk-toggleable__label {background-color: #d4ebff;}#sk-container-id-1 div.sk-serial::before {content: \"\";position: absolute;border-left: 1px solid gray;box-sizing: border-box;top: 0;bottom: 0;left: 50%;z-index: 0;}#sk-container-id-1 div.sk-serial {display: flex;flex-direction: column;align-items: center;background-color: white;padding-right: 0.2em;padding-left: 0.2em;position: relative;}#sk-container-id-1 div.sk-item {position: relative;z-index: 1;}#sk-container-id-1 div.sk-parallel {display: flex;align-items: stretch;justify-content: center;background-color: white;position: relative;}#sk-container-id-1 div.sk-item::before, #sk-container-id-1 div.sk-parallel-item::before {content: \"\";position: absolute;border-left: 1px solid gray;box-sizing: border-box;top: 0;bottom: 0;left: 50%;z-index: -1;}#sk-container-id-1 div.sk-parallel-item {display: flex;flex-direction: column;z-index: 1;position: relative;background-color: white;}#sk-container-id-1 div.sk-parallel-item:first-child::after {align-self: flex-end;width: 50%;}#sk-container-id-1 div.sk-parallel-item:last-child::after {align-self: flex-start;width: 50%;}#sk-container-id-1 div.sk-parallel-item:only-child::after {width: 0;}#sk-container-id-1 div.sk-dashed-wrapped {border: 1px dashed gray;margin: 0 0.4em 0.5em 0.4em;box-sizing: border-box;padding-bottom: 0.4em;background-color: white;}#sk-container-id-1 div.sk-label label {font-family: monospace;font-weight: bold;display: inline-block;line-height: 1.2em;}#sk-container-id-1 div.sk-label-container {text-align: center;}#sk-container-id-1 div.sk-container {/* jupyter's `normalize.less` sets `[hidden] { display: none; }` but bootstrap.min.css set `[hidden] { display: none !important; }` so we also need the `!important` here to be able to override the default hidden behavior on the sphinx rendered scikit-learn.org. See: https://github.com/scikit-learn/scikit-learn/issues/21755 */display: inline-block !important;position: relative;}#sk-container-id-1 div.sk-text-repr-fallback {display: none;}</style><div id=\"sk-container-id-1\" class=\"sk-top-container\"><div class=\"sk-text-repr-fallback\"><pre>StandardScaler()</pre><b>In a Jupyter environment, please rerun this cell to show the HTML representation or trust the notebook. <br />On GitHub, the HTML representation is unable to render, please try loading this page with nbviewer.org.</b></div><div class=\"sk-container\" hidden><div class=\"sk-item\"><div class=\"sk-estimator sk-toggleable\"><input class=\"sk-toggleable__control sk-hidden--visually\" id=\"sk-estimator-id-1\" type=\"checkbox\" checked><label for=\"sk-estimator-id-1\" class=\"sk-toggleable__label sk-toggleable__label-arrow\">StandardScaler</label><div class=\"sk-toggleable__content\"><pre>StandardScaler()</pre></div></div></div></div></div>"
            ],
            "text/plain": [
              "StandardScaler()"
            ]
          },
          "execution_count": 12,
          "metadata": {},
          "output_type": "execute_result"
        }
      ],
      "source": [
        "# apply StandardScaler to dataset\n",
        "scaler = StandardScaler()\n",
        "scaler.fit(X_train)"
      ]
    },
    {
      "cell_type": "code",
      "execution_count": 13,
      "metadata": {},
      "outputs": [],
      "source": [
        "# We transform the training and test data\n",
        "X_train_scaled = scaler.transform(X_train)\n",
        "X_test_scaled = scaler.transform(X_test)"
      ]
    },
    {
      "cell_type": "code",
      "execution_count": 25,
      "metadata": {},
      "outputs": [
        {
          "name": "stdout",
          "output_type": "stream",
          "text": [
            "Mean of features before scaling:\n",
            "[1.29790845e+01 2.37352113e+00 2.36084507e+00 1.94732394e+01\n",
            " 1.00443662e+02 2.28908451e+00 2.00211268e+00 3.68028169e-01\n",
            " 1.60802817e+00 5.05760563e+00 9.56380282e-01 2.59281690e+00\n",
            " 7.34894366e+02]\n",
            "Standard deviation of features before scaling:\n",
            "[8.17222973e-01 1.13989881e+00 2.78232583e-01 3.44260619e+00\n",
            " 1.45991147e+01 6.35465788e-01 1.00062785e+00 1.27816106e-01\n",
            " 5.81597169e-01 2.32269541e+00 2.33275142e-01 7.19593358e-01\n",
            " 3.01257195e+02]\n",
            "Mean of features after scaling:\n",
            "[ 8.30321727e-15 -5.73387191e-16  4.72196617e-15  1.22359087e-16\n",
            " -3.69813726e-16  1.83343169e-16  9.90795865e-16 -1.01268759e-15\n",
            "  3.63558948e-16  3.19775505e-16  1.24626444e-15  1.76697467e-16\n",
            " -1.56369440e-18]\n",
            "Standard deviation of features after scaling:\n",
            "[1. 1. 1. 1. 1. 1. 1. 1. 1. 1. 1. 1. 1.]\n"
          ]
        }
      ],
      "source": [
        "print(\"Mean of features before scaling:\")\n",
        "print(X_train.mean(axis=0))\n",
        "print(\"Standard deviation of features before scaling:\")\n",
        "print(X_train.std(axis=0))\n",
        "\n",
        "print(\"Mean of features after scaling:\")\n",
        "print(X_train_scaled.mean(axis=0))\n",
        "print(\"Standard deviation of features after scaling:\")\n",
        "print(X_train_scaled.std(axis=0))"
      ]
    },
    {
      "cell_type": "markdown",
      "metadata": {
        "id": "jtqoFH_H6w9k"
      },
      "source": [
        "## 1. Voting Classifiers"
      ]
    },
    {
      "cell_type": "markdown",
      "metadata": {
        "id": "ka6H3YqC6y2Y"
      },
      "source": [
        "Voting method works by training some number predictors and the aggregate the predictions of each classifier, the final prediction is the class with the most votes, this method is called Hard Voting Classification ."
      ]
    },
    {
      "cell_type": "code",
      "execution_count": null,
      "metadata": {
        "id": "3nY_RQyt6rDv"
      },
      "outputs": [],
      "source": [
        "from sklearn.linear_model import LogisticRegression\n",
        "from sklearn.ensemble import RandomForestClassifier\n",
        "from sklearn.svm import SVC\n",
        "from sklearn.ensemble import VotingClassifier\n",
        "\n",
        "lr_classifier = LogisticRegression()\n",
        "rf_classifier = RandomForestClassifier()\n",
        "svc = SVC()\n",
        "\n",
        "# build VotingClassifier using these 3 classifiers"
      ]
    },
    {
      "cell_type": "code",
      "execution_count": null,
      "metadata": {
        "id": "4ieh1GSdCdqI"
      },
      "outputs": [],
      "source": [
        "# train the new VotingClassifier"
      ]
    },
    {
      "cell_type": "code",
      "execution_count": null,
      "metadata": {
        "id": "jsdWwgJ3AuHB"
      },
      "outputs": [],
      "source": [
        "# select a metric and print the result"
      ]
    },
    {
      "cell_type": "markdown",
      "metadata": {
        "id": "BcuWtKP-62hV"
      },
      "source": [
        "Another type of voting is make the classifiers estimate the class probabilities and then averaging them over all the individual classifiers, the final prediction will be the highest class probability, this method is called Soft Voting Classification . In sklearn we need just to change the voting argument from 'hard' to ''soft'."
      ]
    },
    {
      "cell_type": "markdown",
      "metadata": {
        "id": "_9CCKeoV66lJ"
      },
      "source": [
        "## 2. Bagging and Pasting"
      ]
    },
    {
      "cell_type": "markdown",
      "metadata": {
        "id": "kXALTH7R69qG"
      },
      "source": [
        "We can use the same classifier, but training them on different subsets of the training dataset, if the sampling was with replacement the method is called **bagging**, while if the sampling was without replacement the method is called **pasting** , the final prediction is made by aggregating the predictions of all predictors (most frequent prediction)."
      ]
    },
    {
      "cell_type": "code",
      "execution_count": null,
      "metadata": {
        "id": "3VrAf6QQ68MU"
      },
      "outputs": [],
      "source": [
        "from sklearn.ensemble import BaggingClassifier\n",
        "from sklearn.linear_model import LogisticRegression\n",
        "\n",
        "# build BaggingClassifier using LogisticRegression"
      ]
    },
    {
      "cell_type": "code",
      "execution_count": null,
      "metadata": {
        "colab": {
          "base_uri": "https://localhost:8080/"
        },
        "id": "LYaR0CF_CgPr",
        "outputId": "a5dd3605-9e06-48dc-a110-891cdcf3f788"
      },
      "outputs": [
        {
          "data": {
            "text/plain": [
              "BaggingClassifier(base_estimator=LogisticRegression(), n_estimators=100)"
            ]
          },
          "execution_count": 33,
          "metadata": {},
          "output_type": "execute_result"
        }
      ],
      "source": [
        "# train the new BaggingClassifier"
      ]
    },
    {
      "cell_type": "code",
      "execution_count": null,
      "metadata": {
        "id": "DMQCU3T1Cj3s"
      },
      "outputs": [],
      "source": [
        "# select a metric and print the result"
      ]
    },
    {
      "cell_type": "markdown",
      "metadata": {
        "id": "d1RVZUvP7HNo"
      },
      "source": [
        "We can switch from bagging to pasting by changing the **bootstrap**argument from True to False.\n",
        "\n",
        "As we discussed that we can train the classifiers on different subsets of the training dataset, also we can train them on different subsets of the training dataset features using **max_features** and **bootstrap_features** arguments."
      ]
    },
    {
      "cell_type": "markdown",
      "metadata": {
        "id": "PJ0LMnYY7HUI"
      },
      "source": [
        "## 3. Random Forests"
      ]
    },
    {
      "cell_type": "markdown",
      "metadata": {
        "id": "0a4IBQXp7Nx7"
      },
      "source": [
        "It is an ensemble of Decision Tree Classifiers that trained using the bagging or the pasting methods. The Random Forest Classifier has hyperparameters of both Decision Tree Classifier and the bagging method, instead of searching for the best test at each node in the whole datasets like Decision Tree Classifiers, Random Forests search for the best test in a random subsets of the datasets which introduce more randomness."
      ]
    },
    {
      "cell_type": "code",
      "execution_count": null,
      "metadata": {
        "id": "tvl8c-2D7L5r"
      },
      "outputs": [],
      "source": [
        "from sklearn.ensemble import RandomForestClassifier\n",
        "\n",
        "# build a RandomForestClassifier"
      ]
    },
    {
      "cell_type": "code",
      "execution_count": null,
      "metadata": {
        "id": "VUeMBd5fCpq6"
      },
      "outputs": [],
      "source": [
        "# train the new RandomForestClassifier"
      ]
    },
    {
      "cell_type": "code",
      "execution_count": null,
      "metadata": {
        "id": "L_kwkHxhCrCU"
      },
      "outputs": [],
      "source": [
        "# select a metric and print the result"
      ]
    },
    {
      "cell_type": "markdown",
      "metadata": {
        "id": "2ITIvW1x7QKI"
      },
      "source": [
        "## 4. Boosting"
      ]
    },
    {
      "cell_type": "markdown",
      "metadata": {
        "id": "FtJd6NL67Ub6"
      },
      "source": [
        "Boosting ensemble methods works by training the predictors sequentially, each predictor try to correct the one before it."
      ]
    },
    {
      "cell_type": "markdown",
      "metadata": {
        "id": "1oWMSQM27Xb3"
      },
      "source": [
        "## 4.1 AdaBoost"
      ]
    },
    {
      "cell_type": "markdown",
      "metadata": {
        "id": "VDMy7nVV7ad2"
      },
      "source": [
        "One if the most popular Boosting ensemble methods is the AdaBoost , each predictor will give more attention to the predecessor underfit, by increasing the relative weights of the mislabeled instances, and this updated weights will be used by the next predictor for training and prediction. This process will be repeated until the last predictor."
      ]
    },
    {
      "cell_type": "code",
      "execution_count": null,
      "metadata": {
        "id": "UMupQFlT7Scg"
      },
      "outputs": [],
      "source": [
        "from sklearn.ensemble import AdaBoostClassifier\n",
        "from sklearn.linear_model import LogisticRegression\n",
        "\n",
        "# build a AdaBoostClassifier using LogisticRegression"
      ]
    },
    {
      "cell_type": "code",
      "execution_count": null,
      "metadata": {
        "id": "SrC4t6UNDGR1"
      },
      "outputs": [],
      "source": [
        "# train the new AdaBoostClassifier"
      ]
    },
    {
      "cell_type": "code",
      "execution_count": null,
      "metadata": {
        "id": "j-uGeAasDGZK"
      },
      "outputs": [],
      "source": [
        "# select a metric and print the result"
      ]
    },
    {
      "cell_type": "markdown",
      "metadata": {
        "id": "OKVXXXnW7ceZ"
      },
      "source": [
        "### 4.2 Gradient Boosting"
      ]
    },
    {
      "cell_type": "markdown",
      "metadata": {
        "id": "jcBIy9td7cws"
      },
      "source": [
        "Just like the AdaBoost the predictors are trained sequentially each predictor try to correct the one before it, but rather that updating the weights Gradient Boosting fit the new predictor to the residual errors that made by the previous predictor."
      ]
    },
    {
      "cell_type": "code",
      "execution_count": null,
      "metadata": {
        "id": "oFUxal0p7gsu"
      },
      "outputs": [],
      "source": [
        "from sklearn.ensemble import GradientBoostingClassifier\n",
        "\n",
        "# build a GradientBoostingClassifier"
      ]
    },
    {
      "cell_type": "code",
      "execution_count": null,
      "metadata": {
        "id": "USUlNw5LDPmX"
      },
      "outputs": [],
      "source": [
        "# train the new GradientBoostingClassifier"
      ]
    },
    {
      "cell_type": "code",
      "execution_count": null,
      "metadata": {
        "id": "sQHIr5jSDPtz"
      },
      "outputs": [],
      "source": [
        "# select a metric and print the result"
      ]
    }
  ],
  "metadata": {
    "colab": {
      "provenance": []
    },
    "kernelspec": {
      "display_name": "Python 3",
      "name": "python3"
    },
    "language_info": {
      "codemirror_mode": {
        "name": "ipython",
        "version": 3
      },
      "file_extension": ".py",
      "mimetype": "text/x-python",
      "name": "python",
      "nbconvert_exporter": "python",
      "pygments_lexer": "ipython3",
      "version": "3.11.5"
    }
  },
  "nbformat": 4,
  "nbformat_minor": 0
}
