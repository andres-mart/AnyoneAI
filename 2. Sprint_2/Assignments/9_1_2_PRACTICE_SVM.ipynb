{
  "cells": [
    {
      "cell_type": "markdown",
      "metadata": {},
      "source": [
        "# Machine Learning: Support Vector Machines"
      ]
    },
    {
      "cell_type": "code",
      "execution_count": 1,
      "metadata": {
        "id": "EOahiqmpYJUw"
      },
      "outputs": [],
      "source": [
        "import numpy as np # linear algebra\n",
        "import pandas as pd # data processing, CSV file I/O (e.g. pd.read_csv)\n",
        "import matplotlib.pyplot as plt # for data visualization\n",
        "import seaborn as sns # for statistical data visualization\n",
        "%matplotlib inline"
      ]
    },
    {
      "cell_type": "code",
      "execution_count": 2,
      "metadata": {
        "id": "Wcmfn6L_ZR1K"
      },
      "outputs": [
        {
          "data": {
            "text/html": [
              "<div>\n",
              "<style scoped>\n",
              "    .dataframe tbody tr th:only-of-type {\n",
              "        vertical-align: middle;\n",
              "    }\n",
              "\n",
              "    .dataframe tbody tr th {\n",
              "        vertical-align: top;\n",
              "    }\n",
              "\n",
              "    .dataframe thead th {\n",
              "        text-align: right;\n",
              "    }\n",
              "</style>\n",
              "<table border=\"1\" class=\"dataframe\">\n",
              "  <thead>\n",
              "    <tr style=\"text-align: right;\">\n",
              "      <th></th>\n",
              "      <th>Mean of the integrated profile</th>\n",
              "      <th>Standard deviation of the integrated profile</th>\n",
              "      <th>Excess kurtosis of the integrated profile</th>\n",
              "      <th>Skewness of the integrated profile</th>\n",
              "      <th>Mean of the DM-SNR curve</th>\n",
              "      <th>Standard deviation of the DM-SNR curve</th>\n",
              "      <th>Excess kurtosis of the DM-SNR curve</th>\n",
              "      <th>Skewness of the DM-SNR curve</th>\n",
              "      <th>target_class</th>\n",
              "    </tr>\n",
              "  </thead>\n",
              "  <tbody>\n",
              "    <tr>\n",
              "      <th>0</th>\n",
              "      <td>140.562500</td>\n",
              "      <td>55.683782</td>\n",
              "      <td>-0.234571</td>\n",
              "      <td>-0.699648</td>\n",
              "      <td>3.199833</td>\n",
              "      <td>19.110426</td>\n",
              "      <td>7.975532</td>\n",
              "      <td>74.242225</td>\n",
              "      <td>0</td>\n",
              "    </tr>\n",
              "    <tr>\n",
              "      <th>1</th>\n",
              "      <td>102.507812</td>\n",
              "      <td>58.882430</td>\n",
              "      <td>0.465318</td>\n",
              "      <td>-0.515088</td>\n",
              "      <td>1.677258</td>\n",
              "      <td>14.860146</td>\n",
              "      <td>10.576487</td>\n",
              "      <td>127.393580</td>\n",
              "      <td>0</td>\n",
              "    </tr>\n",
              "    <tr>\n",
              "      <th>2</th>\n",
              "      <td>103.015625</td>\n",
              "      <td>39.341649</td>\n",
              "      <td>0.323328</td>\n",
              "      <td>1.051164</td>\n",
              "      <td>3.121237</td>\n",
              "      <td>21.744669</td>\n",
              "      <td>7.735822</td>\n",
              "      <td>63.171909</td>\n",
              "      <td>0</td>\n",
              "    </tr>\n",
              "    <tr>\n",
              "      <th>3</th>\n",
              "      <td>136.750000</td>\n",
              "      <td>57.178449</td>\n",
              "      <td>-0.068415</td>\n",
              "      <td>-0.636238</td>\n",
              "      <td>3.642977</td>\n",
              "      <td>20.959280</td>\n",
              "      <td>6.896499</td>\n",
              "      <td>53.593661</td>\n",
              "      <td>0</td>\n",
              "    </tr>\n",
              "    <tr>\n",
              "      <th>4</th>\n",
              "      <td>88.726562</td>\n",
              "      <td>40.672225</td>\n",
              "      <td>0.600866</td>\n",
              "      <td>1.123492</td>\n",
              "      <td>1.178930</td>\n",
              "      <td>11.468720</td>\n",
              "      <td>14.269573</td>\n",
              "      <td>252.567306</td>\n",
              "      <td>0</td>\n",
              "    </tr>\n",
              "  </tbody>\n",
              "</table>\n",
              "</div>"
            ],
            "text/plain": [
              "    Mean of the integrated profile   \n",
              "0                       140.562500  \\\n",
              "1                       102.507812   \n",
              "2                       103.015625   \n",
              "3                       136.750000   \n",
              "4                        88.726562   \n",
              "\n",
              "    Standard deviation of the integrated profile   \n",
              "0                                      55.683782  \\\n",
              "1                                      58.882430   \n",
              "2                                      39.341649   \n",
              "3                                      57.178449   \n",
              "4                                      40.672225   \n",
              "\n",
              "    Excess kurtosis of the integrated profile   \n",
              "0                                   -0.234571  \\\n",
              "1                                    0.465318   \n",
              "2                                    0.323328   \n",
              "3                                   -0.068415   \n",
              "4                                    0.600866   \n",
              "\n",
              "    Skewness of the integrated profile   Mean of the DM-SNR curve   \n",
              "0                            -0.699648                   3.199833  \\\n",
              "1                            -0.515088                   1.677258   \n",
              "2                             1.051164                   3.121237   \n",
              "3                            -0.636238                   3.642977   \n",
              "4                             1.123492                   1.178930   \n",
              "\n",
              "    Standard deviation of the DM-SNR curve   \n",
              "0                                19.110426  \\\n",
              "1                                14.860146   \n",
              "2                                21.744669   \n",
              "3                                20.959280   \n",
              "4                                11.468720   \n",
              "\n",
              "    Excess kurtosis of the DM-SNR curve   Skewness of the DM-SNR curve   \n",
              "0                              7.975532                      74.242225  \\\n",
              "1                             10.576487                     127.393580   \n",
              "2                              7.735822                      63.171909   \n",
              "3                              6.896499                      53.593661   \n",
              "4                             14.269573                     252.567306   \n",
              "\n",
              "   target_class  \n",
              "0             0  \n",
              "1             0  \n",
              "2             0  \n",
              "3             0  \n",
              "4             0  "
            ]
          },
          "execution_count": 2,
          "metadata": {},
          "output_type": "execute_result"
        }
      ],
      "source": [
        "df = pd.read_csv(\n",
        "    \"https://raw.githubusercontent.com/anyoneai/notebooks/main/datasets/pulsar_stars.csv\"\n",
        ")\n",
        "df.head()"
      ]
    },
    {
      "cell_type": "code",
      "execution_count": 3,
      "metadata": {
        "id": "Fh0VMU5XZR4O"
      },
      "outputs": [
        {
          "data": {
            "text/plain": [
              "Index([' Mean of the integrated profile',\n",
              "       ' Standard deviation of the integrated profile',\n",
              "       ' Excess kurtosis of the integrated profile',\n",
              "       ' Skewness of the integrated profile', ' Mean of the DM-SNR curve',\n",
              "       ' Standard deviation of the DM-SNR curve',\n",
              "       ' Excess kurtosis of the DM-SNR curve', ' Skewness of the DM-SNR curve',\n",
              "       'target_class'],\n",
              "      dtype='object')"
            ]
          },
          "execution_count": 3,
          "metadata": {},
          "output_type": "execute_result"
        }
      ],
      "source": [
        "# view the column names of the dataframe\n",
        "\n",
        "col_names = df.columns\n",
        "col_names"
      ]
    },
    {
      "cell_type": "code",
      "execution_count": 4,
      "metadata": {
        "id": "VEKTjJVOZR62"
      },
      "outputs": [],
      "source": [
        "# remove leading spaces from column names\n",
        "# 'strip()' se utiliza para eliminar los espacios en blanco al comienzo y al final de una cadena\n",
        "\n",
        "df.columns = df.columns.str.strip()"
      ]
    },
    {
      "cell_type": "code",
      "execution_count": 5,
      "metadata": {
        "id": "HAkphcVIZR-g"
      },
      "outputs": [
        {
          "data": {
            "text/plain": [
              "Index(['Mean of the integrated profile',\n",
              "       'Standard deviation of the integrated profile',\n",
              "       'Excess kurtosis of the integrated profile',\n",
              "       'Skewness of the integrated profile', 'Mean of the DM-SNR curve',\n",
              "       'Standard deviation of the DM-SNR curve',\n",
              "       'Excess kurtosis of the DM-SNR curve', 'Skewness of the DM-SNR curve',\n",
              "       'target_class'],\n",
              "      dtype='object')"
            ]
          },
          "execution_count": 5,
          "metadata": {},
          "output_type": "execute_result"
        }
      ],
      "source": [
        "# view column names again\n",
        "\n",
        "df.columns"
      ]
    },
    {
      "cell_type": "code",
      "execution_count": 6,
      "metadata": {
        "id": "mkCuJ22-ZSBa"
      },
      "outputs": [],
      "source": [
        "# rename column names\n",
        "\n",
        "df.columns = [\n",
        "    \"IP Mean\",\n",
        "    \"IP Sd\",\n",
        "    \"IP Kurtosis\",\n",
        "    \"IP Skewness\",\n",
        "    \"DM-SNR Mean\",\n",
        "    \"DM-SNR Sd\",\n",
        "    \"DM-SNR Kurtosis\",\n",
        "    \"DM-SNR Skewness\",\n",
        "    \"target_class\",\n",
        "]"
      ]
    },
    {
      "cell_type": "code",
      "execution_count": 7,
      "metadata": {
        "id": "M2OsL70QZSEA"
      },
      "outputs": [
        {
          "data": {
            "text/plain": [
              "Index(['IP Mean', 'IP Sd', 'IP Kurtosis', 'IP Skewness', 'DM-SNR Mean',\n",
              "       'DM-SNR Sd', 'DM-SNR Kurtosis', 'DM-SNR Skewness', 'target_class'],\n",
              "      dtype='object')"
            ]
          },
          "execution_count": 7,
          "metadata": {},
          "output_type": "execute_result"
        }
      ],
      "source": [
        "# view the renamed column names\n",
        "\n",
        "df.columns"
      ]
    },
    {
      "cell_type": "markdown",
      "metadata": {
        "id": "sosllU8uZ5hM"
      },
      "source": [
        "Our target variable is the target_class column. So, I will check its distribution."
      ]
    },
    {
      "cell_type": "code",
      "execution_count": 8,
      "metadata": {
        "id": "UxDGDhqLZ4bm"
      },
      "outputs": [
        {
          "data": {
            "image/png": "[encoded data removed]",
            "text/plain": [
              "<Figure size 800x600 with 1 Axes>"
            ]
          },
          "metadata": {},
          "output_type": "display_data"
        }
      ],
      "source": [
        "# check distribution of target_class column\n",
        "\n",
        "plt.figure(figsize=(8, 6))\n",
        "df[\"target_class\"].value_counts().plot(kind=\"bar\")\n",
        "plt.title(\"Distribution of target_class\")\n",
        "plt.xlabel(\"Classes\")\n",
        "plt.ylabel(\"Frequency\")\n",
        "plt.show()"
      ]
    },
    {
      "cell_type": "code",
      "execution_count": 9,
      "metadata": {
        "id": "G7clZYY_ZSGn"
      },
      "outputs": [
        {
          "name": "stderr",
          "output_type": "stream",
          "text": [
            "C:\\Users\\Andres\\AppData\\Local\\Temp\\ipykernel_15804\\4094021010.py:3: DeprecationWarning: `np.float` is a deprecated alias for the builtin `float`. To silence this warning, use `float` by itself. Doing this will not modify any behavior and is safe. If you specifically wanted the numpy scalar type, use `np.float64` here.\n",
            "Deprecated in NumPy 1.20; for more details and guidance: https://numpy.org/devdocs/release/1.20.0-notes.html#deprecations\n",
            "  df[\"target_class\"].value_counts() / np.float(len(df))\n"
          ]
        },
        {
          "data": {
            "text/plain": [
              "target_class\n",
              "0    0.908426\n",
              "1    0.091574\n",
              "Name: count, dtype: float64"
            ]
          },
          "execution_count": 9,
          "metadata": {},
          "output_type": "execute_result"
        }
      ],
      "source": [
        "# view the percentage distribution of target_class column\n",
        "\n",
        "df[\"target_class\"].value_counts() / np.float(len(df))"
      ]
    },
    {
      "cell_type": "code",
      "execution_count": 10,
      "metadata": {
        "id": "3o0VDlg1ZSJ5"
      },
      "outputs": [
        {
          "name": "stdout",
          "output_type": "stream",
          "text": [
            "<class 'pandas.core.frame.DataFrame'>\n",
            "RangeIndex: 17898 entries, 0 to 17897\n",
            "Data columns (total 9 columns):\n",
            " #   Column           Non-Null Count  Dtype  \n",
            "---  ------           --------------  -----  \n",
            " 0   IP Mean          17898 non-null  float64\n",
            " 1   IP Sd            17898 non-null  float64\n",
            " 2   IP Kurtosis      17898 non-null  float64\n",
            " 3   IP Skewness      17898 non-null  float64\n",
            " 4   DM-SNR Mean      17898 non-null  float64\n",
            " 5   DM-SNR Sd        17898 non-null  float64\n",
            " 6   DM-SNR Kurtosis  17898 non-null  float64\n",
            " 7   DM-SNR Skewness  17898 non-null  float64\n",
            " 8   target_class     17898 non-null  int64  \n",
            "dtypes: float64(8), int64(1)\n",
            "memory usage: 1.2 MB\n"
          ]
        }
      ],
      "source": [
        "# view summary of dataset\n",
        "\n",
        "df.info()"
      ]
    },
    {
      "cell_type": "markdown",
      "metadata": {
        "id": "tgDQmw3LaIUk"
      },
      "source": [
        "## Explore missing values in variables"
      ]
    },
    {
      "cell_type": "code",
      "execution_count": 11,
      "metadata": {
        "id": "QcARPg1OZSMX"
      },
      "outputs": [
        {
          "name": "stdout",
          "output_type": "stream",
          "text": [
            "IP Mean            0\n",
            "IP Sd              0\n",
            "IP Kurtosis        0\n",
            "IP Skewness        0\n",
            "DM-SNR Mean        0\n",
            "DM-SNR Sd          0\n",
            "DM-SNR Kurtosis    0\n",
            "DM-SNR Skewness    0\n",
            "target_class       0\n",
            "dtype: int64\n"
          ]
        }
      ],
      "source": [
        "# check for missing values in variables and remove them\n",
        "\n",
        "# We sum the missing values for each column\n",
        "missing_counts = df.isna().sum()\n",
        "\n",
        "# Displaying columns with missing values and their counts\n",
        "print(missing_counts)"
      ]
    },
    {
      "cell_type": "markdown",
      "metadata": {},
      "source": [
        "As we can see, after adding up all the null values, we print the number of null values for each column. In this case, there are no null values present."
      ]
    },
    {
      "cell_type": "markdown",
      "metadata": {
        "id": "YDA_tnkFaoRo"
      },
      "source": [
        "## Outliers in numerical variables"
      ]
    },
    {
      "cell_type": "code",
      "execution_count": 12,
      "metadata": {
        "id": "Jbf0Qk2eZSOn"
      },
      "outputs": [
        {
          "data": {
            "image/png": "[encoded data removed]",
            "text/plain": [
              "<Figure size 1000x600 with 1 Axes>"
            ]
          },
          "metadata": {},
          "output_type": "display_data"
        }
      ],
      "source": [
        "# draw boxplots to visualize outliers\n",
        "\n",
        "# We select the columns to create boxplots\n",
        "selected_columns = [\n",
        "    \"IP Mean\",\n",
        "    \"IP Sd\",\n",
        "    \"IP Kurtosis\",\n",
        "    \"IP Skewness\",\n",
        "    \"DM-SNR Mean\",\n",
        "    \"DM-SNR Sd\",\n",
        "    \"DM-SNR Kurtosis\",\n",
        "    \"DM-SNR Skewness\",\n",
        "]\n",
        "\n",
        "# Then, we create boxplots for the selected columns\n",
        "plt.figure(figsize=(10, 6))\n",
        "df[selected_columns].boxplot()\n",
        "plt.title(\"Boxplots of Selected Columns\")\n",
        "plt.ylabel(\"Values\")\n",
        "plt.xticks(rotation=45)\n",
        "plt.show()"
      ]
    },
    {
      "cell_type": "markdown",
      "metadata": {
        "id": "MmP_cdgxaypf"
      },
      "source": [
        "## Check the distribution of variables"
      ]
    },
    {
      "cell_type": "code",
      "execution_count": 13,
      "metadata": {
        "id": "cqRCifpuZSR2"
      },
      "outputs": [
        {
          "data": {
            "text/plain": [
              "<Figure size 1200x800 with 0 Axes>"
            ]
          },
          "metadata": {},
          "output_type": "display_data"
        },
        {
          "data": {
            "image/png": "[encoded data removed]",
            "text/plain": [
              "<Figure size 640x480 with 8 Axes>"
            ]
          },
          "metadata": {},
          "output_type": "display_data"
        }
      ],
      "source": [
        "# plot histogram to check distribution\n",
        "\n",
        "# We create histograms for the selected columns\n",
        "plt.figure(figsize=(12, 8))\n",
        "df[selected_columns].hist(bins=20, layout=(2, 4))\n",
        "plt.suptitle(\"Histograms of Selected Columns\", y=1.02)\n",
        "plt.tight_layout()\n",
        "plt.show()"
      ]
    },
    {
      "cell_type": "markdown",
      "metadata": {
        "id": "qsCtUSwVa9uK"
      },
      "source": [
        "## Split data into separate training and test set"
      ]
    },
    {
      "cell_type": "code",
      "execution_count": 14,
      "metadata": {
        "id": "XEh22esTa25V"
      },
      "outputs": [],
      "source": [
        "# split X and y into training and testing sets\n",
        "\n",
        "# We import the necessary library\n",
        "from sklearn.model_selection import train_test_split\n",
        "\n",
        "# We define X and y\n",
        "X = df.drop(\"target_class\", axis=1)\n",
        "y = df[\"target_class\"]\n",
        "\n",
        "# We split the data into training and testing sets\n",
        "X_train, X_test, y_train, y_test = train_test_split(\n",
        "    X, y, test_size=0.2, random_state=42\n",
        ")"
      ]
    },
    {
      "cell_type": "code",
      "execution_count": 15,
      "metadata": {
        "id": "lDbxSe61a28P"
      },
      "outputs": [
        {
          "data": {
            "text/plain": [
              "((14318, 8), (3580, 8))"
            ]
          },
          "execution_count": 15,
          "metadata": {},
          "output_type": "execute_result"
        }
      ],
      "source": [
        "# check the shape of X_train and X_test\n",
        "\n",
        "X_train.shape, X_test.shape"
      ]
    },
    {
      "cell_type": "markdown",
      "metadata": {
        "id": "g6bTDg4tbL-R"
      },
      "source": [
        "## Feature Scaling"
      ]
    },
    {
      "cell_type": "code",
      "execution_count": 16,
      "metadata": {
        "id": "MsTATPbDa2_I"
      },
      "outputs": [],
      "source": [
        "# Scale features\n",
        "\n",
        "# We import the necessary library\n",
        "from sklearn.preprocessing import StandardScaler\n",
        "\n",
        "# Then, we create a StandardScaler object\n",
        "scaler = StandardScaler()\n",
        "\n",
        "# And, we fit the scaler on the training data and transform both training and testing data\n",
        "X_train_scaled = scaler.fit_transform(X_train)\n",
        "X_test_scaled = scaler.transform(X_test)"
      ]
    },
    {
      "cell_type": "code",
      "execution_count": 17,
      "metadata": {
        "id": "cL2KO0SUa3GK"
      },
      "outputs": [
        {
          "data": {
            "text/html": [
              "<div>\n",
              "<style scoped>\n",
              "    .dataframe tbody tr th:only-of-type {\n",
              "        vertical-align: middle;\n",
              "    }\n",
              "\n",
              "    .dataframe tbody tr th {\n",
              "        vertical-align: top;\n",
              "    }\n",
              "\n",
              "    .dataframe thead th {\n",
              "        text-align: right;\n",
              "    }\n",
              "</style>\n",
              "<table border=\"1\" class=\"dataframe\">\n",
              "  <thead>\n",
              "    <tr style=\"text-align: right;\">\n",
              "      <th></th>\n",
              "      <th>IP Mean</th>\n",
              "      <th>IP Sd</th>\n",
              "      <th>IP Kurtosis</th>\n",
              "      <th>IP Skewness</th>\n",
              "      <th>DM-SNR Mean</th>\n",
              "      <th>DM-SNR Sd</th>\n",
              "      <th>DM-SNR Kurtosis</th>\n",
              "      <th>DM-SNR Skewness</th>\n",
              "    </tr>\n",
              "  </thead>\n",
              "  <tbody>\n",
              "    <tr>\n",
              "      <th>count</th>\n",
              "      <td>14318.000000</td>\n",
              "      <td>14318.000000</td>\n",
              "      <td>14318.000000</td>\n",
              "      <td>14318.000000</td>\n",
              "      <td>14318.000000</td>\n",
              "      <td>14318.000000</td>\n",
              "      <td>14318.000000</td>\n",
              "      <td>14318.000000</td>\n",
              "    </tr>\n",
              "    <tr>\n",
              "      <th>mean</th>\n",
              "      <td>111.081995</td>\n",
              "      <td>46.539751</td>\n",
              "      <td>0.477679</td>\n",
              "      <td>1.765880</td>\n",
              "      <td>12.643483</td>\n",
              "      <td>26.276780</td>\n",
              "      <td>8.327415</td>\n",
              "      <td>105.607217</td>\n",
              "    </tr>\n",
              "    <tr>\n",
              "      <th>std</th>\n",
              "      <td>25.643568</td>\n",
              "      <td>6.832878</td>\n",
              "      <td>1.061609</td>\n",
              "      <td>6.149554</td>\n",
              "      <td>29.603410</td>\n",
              "      <td>19.502448</td>\n",
              "      <td>4.531324</td>\n",
              "      <td>107.863865</td>\n",
              "    </tr>\n",
              "    <tr>\n",
              "      <th>min</th>\n",
              "      <td>5.812500</td>\n",
              "      <td>24.772042</td>\n",
              "      <td>-1.876011</td>\n",
              "      <td>-1.791886</td>\n",
              "      <td>0.213211</td>\n",
              "      <td>7.370432</td>\n",
              "      <td>-3.139270</td>\n",
              "      <td>-1.976976</td>\n",
              "    </tr>\n",
              "    <tr>\n",
              "      <th>25%</th>\n",
              "      <td>100.804688</td>\n",
              "      <td>42.358678</td>\n",
              "      <td>0.026190</td>\n",
              "      <td>-0.188861</td>\n",
              "      <td>1.915552</td>\n",
              "      <td>14.411706</td>\n",
              "      <td>5.796460</td>\n",
              "      <td>35.268988</td>\n",
              "    </tr>\n",
              "    <tr>\n",
              "      <th>50%</th>\n",
              "      <td>115.183594</td>\n",
              "      <td>46.939337</td>\n",
              "      <td>0.223393</td>\n",
              "      <td>0.200881</td>\n",
              "      <td>2.799331</td>\n",
              "      <td>18.442040</td>\n",
              "      <td>8.432919</td>\n",
              "      <td>83.097824</td>\n",
              "    </tr>\n",
              "    <tr>\n",
              "      <th>75%</th>\n",
              "      <td>127.066406</td>\n",
              "      <td>50.991815</td>\n",
              "      <td>0.472364</td>\n",
              "      <td>0.929593</td>\n",
              "      <td>5.430184</td>\n",
              "      <td>28.262450</td>\n",
              "      <td>10.721754</td>\n",
              "      <td>139.993975</td>\n",
              "    </tr>\n",
              "    <tr>\n",
              "      <th>max</th>\n",
              "      <td>192.617188</td>\n",
              "      <td>98.778911</td>\n",
              "      <td>8.069522</td>\n",
              "      <td>68.101622</td>\n",
              "      <td>223.392141</td>\n",
              "      <td>110.642211</td>\n",
              "      <td>34.539844</td>\n",
              "      <td>1191.000837</td>\n",
              "    </tr>\n",
              "  </tbody>\n",
              "</table>\n",
              "</div>"
            ],
            "text/plain": [
              "            IP Mean         IP Sd   IP Kurtosis   IP Skewness   DM-SNR Mean   \n",
              "count  14318.000000  14318.000000  14318.000000  14318.000000  14318.000000  \\\n",
              "mean     111.081995     46.539751      0.477679      1.765880     12.643483   \n",
              "std       25.643568      6.832878      1.061609      6.149554     29.603410   \n",
              "min        5.812500     24.772042     -1.876011     -1.791886      0.213211   \n",
              "25%      100.804688     42.358678      0.026190     -0.188861      1.915552   \n",
              "50%      115.183594     46.939337      0.223393      0.200881      2.799331   \n",
              "75%      127.066406     50.991815      0.472364      0.929593      5.430184   \n",
              "max      192.617188     98.778911      8.069522     68.101622    223.392141   \n",
              "\n",
              "          DM-SNR Sd  DM-SNR Kurtosis  DM-SNR Skewness  \n",
              "count  14318.000000     14318.000000     14318.000000  \n",
              "mean      26.276780         8.327415       105.607217  \n",
              "std       19.502448         4.531324       107.863865  \n",
              "min        7.370432        -3.139270        -1.976976  \n",
              "25%       14.411706         5.796460        35.268988  \n",
              "50%       18.442040         8.432919        83.097824  \n",
              "75%       28.262450        10.721754       139.993975  \n",
              "max      110.642211        34.539844      1191.000837  "
            ]
          },
          "execution_count": 17,
          "metadata": {},
          "output_type": "execute_result"
        }
      ],
      "source": [
        "X_train.describe()"
      ]
    },
    {
      "cell_type": "markdown",
      "metadata": {
        "id": "uu6bstL3bc0h"
      },
      "source": [
        "## Run SVM with default hyperparameters"
      ]
    },
    {
      "cell_type": "markdown",
      "metadata": {
        "id": "6C07EAtibsnF"
      },
      "source": [
        "Default hyperparameter means C=1.0, kernel=rbf and gamma=auto among other parameters."
      ]
    },
    {
      "cell_type": "code",
      "execution_count": 18,
      "metadata": {
        "id": "0Y2DbET2a3ML"
      },
      "outputs": [
        {
          "name": "stdout",
          "output_type": "stream",
          "text": [
            "Accuracy: 0.9731843575418995\n"
          ]
        }
      ],
      "source": [
        "# We import the necessary library:\n",
        "from sklearn.svm import SVC\n",
        "from sklearn.metrics import accuracy_score\n",
        "\n",
        "# We create a SVM classifier with default hyperparameters:\n",
        "svm_classifier = SVC()\n",
        "\n",
        "# We fit the classifier on the training data:\n",
        "svm_classifier.fit(X_train, y_train)\n",
        "\n",
        "# We make predictions on the testing data:\n",
        "y_pred = svm_classifier.predict(X_test)\n",
        "\n",
        "# Finally, we calculate accuracy:\n",
        "accuracy = accuracy_score(y_test, y_pred)\n",
        "print(\"Accuracy:\", accuracy)"
      ]
    },
    {
      "cell_type": "markdown",
      "metadata": {
        "id": "2MJIFyeVbnMB"
      },
      "source": [
        "Run SVM with rbf kernel and C=100.0"
      ]
    },
    {
      "cell_type": "markdown",
      "metadata": {
        "id": "XEXRjkTwdIRt"
      },
      "source": [
        "We have seen that there are outliers in our dataset. So, we should increase the value of C as higher C means fewer outliers. So, I will run SVM with kernel=rbf and C=100.0."
      ]
    },
    {
      "cell_type": "code",
      "execution_count": 19,
      "metadata": {
        "id": "Fj7vwcrba3Oz"
      },
      "outputs": [
        {
          "name": "stdout",
          "output_type": "stream",
          "text": [
            "Accuracy: 0.979608938547486\n"
          ]
        }
      ],
      "source": [
        "# We create a SVM classifier with 'rbf' kernel and C=100:\n",
        "svm_classifier = SVC(kernel=\"rbf\", C=100)\n",
        "\n",
        "# We fit the classifier on the training data:\n",
        "svm_classifier.fit(X_train, y_train)\n",
        "\n",
        "# We make predictions on the testing data:\n",
        "y_pred = svm_classifier.predict(X_test)\n",
        "\n",
        "# We calculate accuracy:\n",
        "accuracy = accuracy_score(y_test, y_pred)\n",
        "print(\"Accuracy:\", accuracy)"
      ]
    },
    {
      "cell_type": "markdown",
      "metadata": {
        "id": "Nsqk3Ps0b3yL"
      },
      "source": [
        "Run SVM with rbf kernel and C=1000.0"
      ]
    },
    {
      "cell_type": "code",
      "execution_count": 22,
      "metadata": {
        "id": "DhJ947sib5sM"
      },
      "outputs": [
        {
          "name": "stdout",
          "output_type": "stream",
          "text": [
            "Accuracy: 0.979608938547486\n"
          ]
        }
      ],
      "source": [
        "# We create a SVM classifier with 'rbf' kernel and C=1000:\n",
        "svm_classifier = SVC(kernel=\"rbf\", C=1000)\n",
        "\n",
        "# We fit the classifier on the training data:\n",
        "svm_classifier.fit(X_train, y_train)\n",
        "\n",
        "# We make predictions on the testing data:\n",
        "y_pred = svm_classifier.predict(X_test)\n",
        "\n",
        "# We calculate accuracy:\n",
        "accuracy = accuracy_score(y_test, y_pred)\n",
        "print(\"Accuracy:\", accuracy)"
      ]
    },
    {
      "cell_type": "markdown",
      "metadata": {
        "id": "8ADVf6_fb9xO"
      },
      "source": [
        "## Run SVM with linear kernel"
      ]
    },
    {
      "cell_type": "markdown",
      "metadata": {
        "id": "5lGP-R2rcC_m"
      },
      "source": [
        "Run SVM with linear kernel and C=1.0"
      ]
    },
    {
      "cell_type": "code",
      "execution_count": 23,
      "metadata": {
        "id": "ExDx36dcb-AA"
      },
      "outputs": [
        {
          "name": "stdout",
          "output_type": "stream",
          "text": [
            "Accuracy: 0.979050279329609\n"
          ]
        }
      ],
      "source": [
        "# We create a SVM classifier with 'linear' kernel and C=1:\n",
        "svm_classifier = SVC(kernel=\"linear\", C=1)\n",
        "\n",
        "# We fit the classifier on the training data:\n",
        "svm_classifier.fit(X_train, y_train)\n",
        "\n",
        "# We make predictions on the testing data:\n",
        "y_pred = svm_classifier.predict(X_test)\n",
        "\n",
        "# We calculate accuracy:\n",
        "accuracy = accuracy_score(y_test, y_pred)\n",
        "print(\"Accuracy:\", accuracy)"
      ]
    },
    {
      "cell_type": "markdown",
      "metadata": {
        "id": "5gCaunJhcLK3"
      },
      "source": [
        "Run SVM with linear kernel and C=100.0"
      ]
    },
    {
      "cell_type": "code",
      "execution_count": 24,
      "metadata": {
        "id": "g1rQA8_hb-C0"
      },
      "outputs": [
        {
          "name": "stdout",
          "output_type": "stream",
          "text": [
            "Accuracy: 0.9784916201117319\n"
          ]
        }
      ],
      "source": [
        "# We create a SVM classifier with 'linear' kernel and C=100:\n",
        "svm_classifier = SVC(kernel=\"linear\", C=100)\n",
        "\n",
        "# We fit the classifier on the training data:\n",
        "svm_classifier.fit(X_train, y_train)\n",
        "\n",
        "# We make predictions on the testing data:\n",
        "y_pred = svm_classifier.predict(X_test)\n",
        "\n",
        "# We calculate accuracy:\n",
        "accuracy = accuracy_score(y_test, y_pred)\n",
        "print(\"Accuracy:\", accuracy)"
      ]
    },
    {
      "cell_type": "markdown",
      "metadata": {
        "id": "3tsW9IfNcPjx"
      },
      "source": [
        "Run SVM with linear kernel and C=1000.0"
      ]
    },
    {
      "cell_type": "code",
      "execution_count": 25,
      "metadata": {
        "id": "bvPn9BBxb-GA"
      },
      "outputs": [
        {
          "name": "stdout",
          "output_type": "stream",
          "text": [
            "Accuracy: 0.9793296089385475\n"
          ]
        }
      ],
      "source": [
        "# We create a SVM classifier with 'linear' kernel and C=1000:\n",
        "svm_classifier = SVC(kernel=\"linear\", C=1000)\n",
        "\n",
        "# Fit the classifier on the training data\n",
        "svm_classifier.fit(X_train, y_train)\n",
        "\n",
        "# Make predictions on the testing data\n",
        "y_pred = svm_classifier.predict(X_test)\n",
        "\n",
        "# Calculate accuracy\n",
        "accuracy = accuracy_score(y_test, y_pred)\n",
        "print(\"Accuracy:\", accuracy)"
      ]
    },
    {
      "cell_type": "markdown",
      "metadata": {
        "id": "ziNvmmY5cZRg"
      },
      "source": [
        "## Run SVM with polynomial kernel"
      ]
    },
    {
      "cell_type": "markdown",
      "metadata": {
        "id": "cu2qZJrFcd87"
      },
      "source": [
        "Run SVM with polynomial kernel and C=1.0"
      ]
    },
    {
      "cell_type": "code",
      "execution_count": 26,
      "metadata": {
        "id": "loPOgAQbcaQP"
      },
      "outputs": [
        {
          "name": "stdout",
          "output_type": "stream",
          "text": [
            "Accuracy: 0.9709497206703911\n"
          ]
        }
      ],
      "source": [
        "# We create a SVM classifier with 'polynomial' kernel and C=1:\n",
        "svm_classifier = SVC(kernel=\"poly\", C=1)\n",
        "\n",
        "# We fit the classifier on the training data:\n",
        "svm_classifier.fit(X_train, y_train)\n",
        "\n",
        "# We make predictions on the testing data:\n",
        "y_pred = svm_classifier.predict(X_test)\n",
        "\n",
        "# We calculate accuracy:\n",
        "accuracy = accuracy_score(y_test, y_pred)\n",
        "print(\"Accuracy:\", accuracy)"
      ]
    },
    {
      "cell_type": "markdown",
      "metadata": {
        "id": "7DDi692DcgeG"
      },
      "source": [
        "Run SVM with polynomial kernel and C=100.0"
      ]
    },
    {
      "cell_type": "code",
      "execution_count": null,
      "metadata": {
        "id": "oGmh3Npdcgmk"
      },
      "outputs": [],
      "source": [
        "# We create a SVM classifier with 'polynomial' kernel and C=100:\n",
        "svm_classifier = SVC(kernel=\"poly\", C=1)\n",
        "\n",
        "# We fit the classifier on the training data:\n",
        "svm_classifier.fit(X_train, y_train)\n",
        "\n",
        "# We make predictions on the testing data:\n",
        "y_pred = svm_classifier.predict(X_test)\n",
        "\n",
        "# We calculate accuracy:\n",
        "accuracy = accuracy_score(y_test, y_pred)\n",
        "print(\"Accuracy:\", accuracy)"
      ]
    },
    {
      "cell_type": "markdown",
      "metadata": {
        "id": "NFOKTufkcny-"
      },
      "source": [
        "## Run SVM with sigmoid kernel"
      ]
    },
    {
      "cell_type": "markdown",
      "metadata": {
        "id": "w-42idercuLb"
      },
      "source": [
        "Run SVM with sigmoid kernel and C=1.0"
      ]
    },
    {
      "cell_type": "code",
      "execution_count": 27,
      "metadata": {
        "id": "lz7UuWCYclRV"
      },
      "outputs": [
        {
          "name": "stdout",
          "output_type": "stream",
          "text": [
            "Accuracy: 0.9245810055865922\n"
          ]
        }
      ],
      "source": [
        "# We create a SVM classifier with 'sigmoid' kernel and C=1:\n",
        "svm_classifier = SVC(kernel=\"sigmoid\", C=1)\n",
        "\n",
        "# We fit the classifier on the training data:\n",
        "svm_classifier.fit(X_train, y_train)\n",
        "\n",
        "# We make predictions on the testing data:\n",
        "y_pred = svm_classifier.predict(X_test)\n",
        "\n",
        "# We calculate accuracy:\n",
        "accuracy = accuracy_score(y_test, y_pred)\n",
        "print(\"Accuracy:\", accuracy)"
      ]
    },
    {
      "cell_type": "markdown",
      "metadata": {
        "id": "6GgC-Nvncws6"
      },
      "source": [
        "Run SVM with sigmoid kernel and C=100.0"
      ]
    },
    {
      "cell_type": "code",
      "execution_count": 28,
      "metadata": {
        "id": "GDal3P9McxHG"
      },
      "outputs": [
        {
          "name": "stdout",
          "output_type": "stream",
          "text": [
            "Accuracy: 0.9212290502793297\n"
          ]
        }
      ],
      "source": [
        "# We create a SVM classifier with 'sigmoid' kernel and C=100:\n",
        "svm_classifier = SVC(kernel=\"sigmoid\", C=100)\n",
        "\n",
        "# We fit the classifier on the training data:\n",
        "svm_classifier.fit(X_train, y_train)\n",
        "\n",
        "# We make predictions on the testing data:\n",
        "y_pred = svm_classifier.predict(X_test)\n",
        "\n",
        "# We calculate accuracy:\n",
        "accuracy = accuracy_score(y_test, y_pred)\n",
        "print(\"Accuracy:\", accuracy)"
      ]
    }
  ],
  "metadata": {
    "colab": {
      "provenance": []
    },
    "kernelspec": {
      "display_name": "Python 3",
      "name": "python3"
    },
    "language_info": {
      "codemirror_mode": {
        "name": "ipython",
        "version": 3
      },
      "file_extension": ".py",
      "mimetype": "text/x-python",
      "name": "python",
      "nbconvert_exporter": "python",
      "pygments_lexer": "ipython3",
      "version": "3.11.3"
    }
  },
  "nbformat": 4,
  "nbformat_minor": 0
}
