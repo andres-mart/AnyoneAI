{
  "nbformat": 4,
  "nbformat_minor": 0,
  "metadata": {
    "colab": {
      "provenance": []
    },
    "kernelspec": {
      "name": "python3",
      "display_name": "Python 3"
    },
    "language_info": {
      "name": "python"
    }
  },
  "cells": [
    {
      "cell_type": "code",
      "execution_count": null,
      "metadata": {
        "id": "EOahiqmpYJUw"
      },
      "outputs": [],
      "source": [
        "import numpy as np # linear algebra\n",
        "import pandas as pd # data processing, CSV file I/O (e.g. pd.read_csv)\n",
        "import matplotlib.pyplot as plt # for data visualization\n",
        "import seaborn as sns # for statistical data visualization\n",
        "%matplotlib inline"
      ]
    },
    {
      "cell_type": "code",
      "source": [
        "df = pd.read_csv('https://raw.githubusercontent.com/anyoneai/notebooks/main/datasets/pulsar_stars.csv')\n",
        "df.head()"
      ],
      "metadata": {
        "id": "Wcmfn6L_ZR1K"
      },
      "execution_count": null,
      "outputs": []
    },
    {
      "cell_type": "code",
      "source": [
        "# view the column names of the dataframe\n",
        "\n",
        "col_names = df.columns\n",
        "col_names"
      ],
      "metadata": {
        "id": "Fh0VMU5XZR4O"
      },
      "execution_count": null,
      "outputs": []
    },
    {
      "cell_type": "code",
      "source": [
        "# remove leading spaces from column names\n",
        "\n",
        "df.columns = df.columns.str.strip()"
      ],
      "metadata": {
        "id": "VEKTjJVOZR62"
      },
      "execution_count": null,
      "outputs": []
    },
    {
      "cell_type": "code",
      "source": [
        "# view column names again\n",
        "\n",
        "df.columns"
      ],
      "metadata": {
        "id": "HAkphcVIZR-g"
      },
      "execution_count": null,
      "outputs": []
    },
    {
      "cell_type": "code",
      "source": [
        "# rename column names\n",
        "\n",
        "df.columns = ['IP Mean', 'IP Sd', 'IP Kurtosis', 'IP Skewness', \n",
        "              'DM-SNR Mean', 'DM-SNR Sd', 'DM-SNR Kurtosis', 'DM-SNR Skewness', 'target_class']"
      ],
      "metadata": {
        "id": "mkCuJ22-ZSBa"
      },
      "execution_count": null,
      "outputs": []
    },
    {
      "cell_type": "code",
      "source": [
        "# view the renamed column names\n",
        "\n",
        "df.columns"
      ],
      "metadata": {
        "id": "M2OsL70QZSEA"
      },
      "execution_count": null,
      "outputs": []
    },
    {
      "cell_type": "markdown",
      "source": [
        "Our target variable is the target_class column. So, I will check its distribution."
      ],
      "metadata": {
        "id": "sosllU8uZ5hM"
      }
    },
    {
      "cell_type": "code",
      "source": [
        "# check distribution of target_class column\n",
        "\n"
      ],
      "metadata": {
        "id": "UxDGDhqLZ4bm"
      },
      "execution_count": null,
      "outputs": []
    },
    {
      "cell_type": "code",
      "source": [
        "# view the percentage distribution of target_class column\n",
        "\n",
        "df['target_class'].value_counts()/np.float(len(df))"
      ],
      "metadata": {
        "id": "G7clZYY_ZSGn"
      },
      "execution_count": null,
      "outputs": []
    },
    {
      "cell_type": "code",
      "source": [
        "# view summary of dataset\n",
        "\n",
        "df.info()"
      ],
      "metadata": {
        "id": "3o0VDlg1ZSJ5"
      },
      "execution_count": null,
      "outputs": []
    },
    {
      "cell_type": "markdown",
      "source": [
        "## Explore missing values in variables"
      ],
      "metadata": {
        "id": "tgDQmw3LaIUk"
      }
    },
    {
      "cell_type": "code",
      "source": [
        "# check for missing values in variables and remove them\n"
      ],
      "metadata": {
        "id": "QcARPg1OZSMX"
      },
      "execution_count": null,
      "outputs": []
    },
    {
      "cell_type": "markdown",
      "source": [
        "## Outliers in numerical variables"
      ],
      "metadata": {
        "id": "YDA_tnkFaoRo"
      }
    },
    {
      "cell_type": "code",
      "source": [
        "# draw boxplots to visualize outliers\n",
        "\n"
      ],
      "metadata": {
        "id": "Jbf0Qk2eZSOn"
      },
      "execution_count": null,
      "outputs": []
    },
    {
      "cell_type": "markdown",
      "source": [
        "## Check the distribution of variables"
      ],
      "metadata": {
        "id": "MmP_cdgxaypf"
      }
    },
    {
      "cell_type": "code",
      "source": [
        "# plot histogram to check distribution\n",
        "\n"
      ],
      "metadata": {
        "id": "cqRCifpuZSR2"
      },
      "execution_count": null,
      "outputs": []
    },
    {
      "cell_type": "markdown",
      "source": [
        "## Split data into separate training and test set"
      ],
      "metadata": {
        "id": "qsCtUSwVa9uK"
      }
    },
    {
      "cell_type": "code",
      "source": [
        "# split X and y into training and testing sets\n",
        "\n"
      ],
      "metadata": {
        "id": "XEh22esTa25V"
      },
      "execution_count": null,
      "outputs": []
    },
    {
      "cell_type": "code",
      "source": [
        "# check the shape of X_train and X_test\n",
        "\n",
        "X_train.shape, X_test.shape"
      ],
      "metadata": {
        "id": "lDbxSe61a28P"
      },
      "execution_count": null,
      "outputs": []
    },
    {
      "cell_type": "markdown",
      "source": [
        "## Feature Scaling"
      ],
      "metadata": {
        "id": "g6bTDg4tbL-R"
      }
    },
    {
      "cell_type": "code",
      "source": [
        "# Scale features\n",
        "\n"
      ],
      "metadata": {
        "id": "MsTATPbDa2_I"
      },
      "execution_count": null,
      "outputs": []
    },
    {
      "cell_type": "code",
      "source": [
        "X_train.describe()"
      ],
      "metadata": {
        "id": "cL2KO0SUa3GK"
      },
      "execution_count": null,
      "outputs": []
    },
    {
      "cell_type": "markdown",
      "source": [
        "## Run SVM with default hyperparameters"
      ],
      "metadata": {
        "id": "uu6bstL3bc0h"
      }
    },
    {
      "cell_type": "markdown",
      "source": [
        "Default hyperparameter means C=1.0, kernel=rbf and gamma=auto among other parameters.\n",
        "\n"
      ],
      "metadata": {
        "id": "6C07EAtibsnF"
      }
    },
    {
      "cell_type": "code",
      "source": [],
      "metadata": {
        "id": "0Y2DbET2a3ML"
      },
      "execution_count": null,
      "outputs": []
    },
    {
      "cell_type": "markdown",
      "source": [
        "Run SVM with rbf kernel and C=100.0\n"
      ],
      "metadata": {
        "id": "2MJIFyeVbnMB"
      }
    },
    {
      "cell_type": "markdown",
      "source": [
        "We have seen that there are outliers in our dataset. So, we should increase the value of C as higher C means fewer outliers. So, I will run SVM with kernel=rbf and C=100.0."
      ],
      "metadata": {
        "id": "XEXRjkTwdIRt"
      }
    },
    {
      "cell_type": "code",
      "source": [],
      "metadata": {
        "id": "Fj7vwcrba3Oz"
      },
      "execution_count": null,
      "outputs": []
    },
    {
      "cell_type": "markdown",
      "source": [
        "Run SVM with rbf kernel and C=1000.0"
      ],
      "metadata": {
        "id": "Nsqk3Ps0b3yL"
      }
    },
    {
      "cell_type": "code",
      "source": [],
      "metadata": {
        "id": "DhJ947sib5sM"
      },
      "execution_count": null,
      "outputs": []
    },
    {
      "cell_type": "markdown",
      "source": [
        "## Run SVM with linear kernel"
      ],
      "metadata": {
        "id": "8ADVf6_fb9xO"
      }
    },
    {
      "cell_type": "markdown",
      "source": [
        "Run SVM with linear kernel and C=1.0"
      ],
      "metadata": {
        "id": "5lGP-R2rcC_m"
      }
    },
    {
      "cell_type": "code",
      "source": [],
      "metadata": {
        "id": "ExDx36dcb-AA"
      },
      "execution_count": null,
      "outputs": []
    },
    {
      "cell_type": "markdown",
      "source": [
        "Run SVM with linear kernel and C=100.0"
      ],
      "metadata": {
        "id": "5gCaunJhcLK3"
      }
    },
    {
      "cell_type": "code",
      "source": [],
      "metadata": {
        "id": "g1rQA8_hb-C0"
      },
      "execution_count": null,
      "outputs": []
    },
    {
      "cell_type": "markdown",
      "source": [
        "Run SVM with linear kernel and C=1000.0"
      ],
      "metadata": {
        "id": "3tsW9IfNcPjx"
      }
    },
    {
      "cell_type": "code",
      "source": [],
      "metadata": {
        "id": "bvPn9BBxb-GA"
      },
      "execution_count": null,
      "outputs": []
    },
    {
      "cell_type": "markdown",
      "source": [
        "## Run SVM with polynomial kernel"
      ],
      "metadata": {
        "id": "ziNvmmY5cZRg"
      }
    },
    {
      "cell_type": "markdown",
      "source": [
        "Run SVM with polynomial kernel and C=1.0"
      ],
      "metadata": {
        "id": "cu2qZJrFcd87"
      }
    },
    {
      "cell_type": "code",
      "source": [],
      "metadata": {
        "id": "loPOgAQbcaQP"
      },
      "execution_count": null,
      "outputs": []
    },
    {
      "cell_type": "markdown",
      "source": [
        "Run SVM with polynomial kernel and C=100.0"
      ],
      "metadata": {
        "id": "7DDi692DcgeG"
      }
    },
    {
      "cell_type": "code",
      "source": [],
      "metadata": {
        "id": "oGmh3Npdcgmk"
      },
      "execution_count": null,
      "outputs": []
    },
    {
      "cell_type": "markdown",
      "source": [
        "## Run SVM with sigmoid kernel"
      ],
      "metadata": {
        "id": "NFOKTufkcny-"
      }
    },
    {
      "cell_type": "markdown",
      "source": [
        "Run SVM with sigmoid kernel and C=1.0"
      ],
      "metadata": {
        "id": "w-42idercuLb"
      }
    },
    {
      "cell_type": "code",
      "source": [],
      "metadata": {
        "id": "lz7UuWCYclRV"
      },
      "execution_count": null,
      "outputs": []
    },
    {
      "cell_type": "markdown",
      "source": [
        "Run SVM with sigmoid kernel and C=100.0"
      ],
      "metadata": {
        "id": "6GgC-Nvncws6"
      }
    },
    {
      "cell_type": "code",
      "source": [],
      "metadata": {
        "id": "GDal3P9McxHG"
      },
      "execution_count": null,
      "outputs": []
    }
  ]
}