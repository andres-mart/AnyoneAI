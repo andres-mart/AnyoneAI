{
  "cells": [
    {
      "cell_type": "markdown",
      "metadata": {
        "id": "A05TfEZZkQm8"
      },
      "source": [
        "## Objective"
      ]
    },
    {
      "cell_type": "markdown",
      "metadata": {
        "id": "enGdGMtgkQpt"
      },
      "source": [
        "Many a times while working on a dataset and using a Machine Learning model we don't know which set of hyperparameters will give us the best result. Passing all sets of hyperparameters manually through the model and checking the result might be a hectic work and may not be possible to do.\n",
        "\n",
        "The objective for this task are the following:\n",
        "1. Hyper-parameters of logistic regression.\n",
        "2. Implements Standard Scaler function on the dataset.\n",
        "3. Performs train_test_split on your dataset.\n",
        "4. Uses Cross Validation to prevent overfitting.\n",
        "\n",
        "To get the best set of hyperparameters we can use Grid Search. Grid Search passes all combinations of hyperparameters one by one into the model and check the result. Finally it gives us the set of hyperparemeters which gives the best result after passing in the model."
      ]
    },
    {
      "cell_type": "markdown",
      "metadata": {
        "id": "TPdgf8nXkQsc"
      },
      "source": [
        "## Step 1 - Import the library - GridSearchCv"
      ]
    },
    {
      "cell_type": "code",
      "execution_count": 58,
      "metadata": {
        "id": "v5ef2n4rkt_q"
      },
      "outputs": [],
      "source": [
        "import numpy as np\n",
        "from sklearn import linear_model, decomposition, datasets\n",
        "from sklearn.pipeline import Pipeline\n",
        "from sklearn.model_selection import GridSearchCV\n",
        "from sklearn.preprocessing import StandardScaler"
      ]
    },
    {
      "cell_type": "markdown",
      "metadata": {
        "id": "KVWD6L11kQyP"
      },
      "source": [
        "Here we have imported various modules like decomposition, datasets, linear_model, Pipeline, StandardScaler and GridSearchCV from differnt libraries. We will understand the use of these later while using it in the in the code snipet.\n",
        "For now just have a look on these imports."
      ]
    },
    {
      "cell_type": "markdown",
      "metadata": {
        "id": "gPnMtCIFkQ0z"
      },
      "source": [
        "## Step 2 - Setup the Data"
      ]
    },
    {
      "cell_type": "code",
      "execution_count": 59,
      "metadata": {
        "id": "4cprcMvlk3D6"
      },
      "outputs": [],
      "source": [
        "dataset = datasets.load_wine()\n",
        "X = dataset.data\n",
        "y = dataset.target"
      ]
    },
    {
      "cell_type": "markdown",
      "metadata": {
        "id": "XrDVSdfXk7DC"
      },
      "source": [
        "## Step 3 - Using StandardScaler and PCA"
      ]
    },
    {
      "cell_type": "markdown",
      "metadata": {
        "id": "hObqM9nFk_Ka"
      },
      "source": [
        "StandardScaler is used to remove the outliners and scale the data by making the mean of the data 0 and standard deviation as 1. So we are creating an object std_scl to use standardScaler."
      ]
    },
    {
      "cell_type": "code",
      "execution_count": 60,
      "metadata": {
        "id": "1XHf5lU1k9X0"
      },
      "outputs": [],
      "source": [
        "# complete\n",
        "\n",
        "# We create a StandardScaler object:\n",
        "std_scl = StandardScaler()"
      ]
    },
    {
      "cell_type": "markdown",
      "metadata": {
        "id": "ag6o5mEQlEBa"
      },
      "source": [
        "We are also using Principal Component Analysis(PCA) which will reduce the dimension of features by creating new features which have most of the varience of the original data."
      ]
    },
    {
      "cell_type": "code",
      "execution_count": 61,
      "metadata": {
        "id": "aXrJF0cElCIC"
      },
      "outputs": [],
      "source": [
        "# complete\n",
        "\n",
        "# We import the necessary modules:\n",
        "from sklearn.decomposition import PCA\n",
        "\n",
        "# We create a PCA object (we specify the number of components we want to keep):\n",
        "pca = PCA()"
      ]
    },
    {
      "cell_type": "markdown",
      "metadata": {
        "id": "ZIhSkRQSlFdA"
      },
      "source": [
        "Here, we are using Logistic Regression as a Machine Learning model to use GridSearchCV. So we have created an object Logistic_Reg."
      ]
    },
    {
      "cell_type": "code",
      "execution_count": 62,
      "metadata": {
        "id": "n2OrelRFlFyz"
      },
      "outputs": [],
      "source": [
        "# complete\n",
        "\n",
        "# We import the necessary modules:\n",
        "from sklearn.linear_model import LogisticRegression\n",
        "\n",
        "# We create a LogisticRegression object:\n",
        "logistic_reg = LogisticRegression()"
      ]
    },
    {
      "cell_type": "markdown",
      "metadata": {
        "id": "slI5Mc39lL-k"
      },
      "source": [
        "## Step 4 - Using Pipeline for GridSearchCV"
      ]
    },
    {
      "cell_type": "markdown",
      "metadata": {
        "id": "dKA0Xe0ulMHm"
      },
      "source": [
        "Pipeline will helps us by passing modules one by one through GridSearchCV for which we want to get the best parameters. So we are making an object pipe to create a pipeline for all the three objects std_scl, pca and logistic_Reg."
      ]
    },
    {
      "cell_type": "code",
      "execution_count": 63,
      "metadata": {
        "id": "qcHOE4c7lMVt"
      },
      "outputs": [],
      "source": [
        "# complete: pipe = Pipeline(...)\n",
        "\n",
        "# We define the pipeline with StandardScaler, PCA, and Logistic Regression:\n",
        "pipeline = Pipeline([(\"scaler\", std_scl), (\"pca\", pca), (\"classifier\", logistic_reg)])"
      ]
    },
    {
      "cell_type": "markdown",
      "metadata": {
        "id": "kEtJ2gnllceF"
      },
      "source": [
        "Now we have to define the parameters that we want to optimise for these three objects.\n",
        "StandardScaler doesnot requires any parameters to be optimised by GridSearchCV.\n",
        "Principal Component Analysis requires a parameter 'n_components' to be optimised. 'n_components' signifies the number of components to keep after reducing the dimension."
      ]
    },
    {
      "cell_type": "code",
      "execution_count": 64,
      "metadata": {
        "id": "Y0_uhenKlgiq"
      },
      "outputs": [],
      "source": [
        "# complete: n_components = ...\n",
        "\n",
        "# We define a range of values for n_components to optimize:\n",
        "n_components = [1, 2, 3, 4, 5]"
      ]
    },
    {
      "cell_type": "markdown",
      "metadata": {
        "id": "UvV8r0hUlaSO"
      },
      "source": [
        "Logistic Regression requires two parameters 'C' and 'penalty' to be optimised by GridSearchCV. So we have set these two parameters as a list of values form which GridSearchCV will select the best value of parameter."
      ]
    },
    {
      "cell_type": "code",
      "execution_count": 65,
      "metadata": {
        "id": "Tvia319olmeL"
      },
      "outputs": [],
      "source": [
        "# complete:\n",
        "\n",
        "# We define a range of values for 'C' and 'penalty' to optimize for Logistic Regression:\n",
        "C = [0.01, 0.1, 1, 10]\n",
        "penalty = [\"l1\", \"l2\"]"
      ]
    },
    {
      "cell_type": "markdown",
      "metadata": {},
      "source": [
        "Note: We remove 'L1' penalty for Logistic Regression. One alternative could be:\n",
        "```\n",
        "penalty = [\"l1\", \"l2\"]\n",
        "parameters = {\n",
        "    \"pca__n_components\": n_components,\n",
        "    \"classifier__C\": C,\n",
        "    \"classifier__penalty\": penalty,\n",
        "    \"classifier__solver\": ['lbfgs', 'liblinear'],\n",
        "}\n",
        "```"
      ]
    },
    {
      "cell_type": "markdown",
      "metadata": {
        "id": "nWgCqUUqlzvB"
      },
      "source": [
        "Now we are creating a dictionary to set all the parameters options for different modules."
      ]
    },
    {
      "cell_type": "code",
      "execution_count": 66,
      "metadata": {
        "id": "BzZwvvJxlwLS"
      },
      "outputs": [],
      "source": [
        "# complte: parameters = ...\n",
        "\n",
        "parameters = {\n",
        "    \"pca__n_components\": n_components,\n",
        "    \"classifier__C\": C,\n",
        "    \"classifier__penalty\": penalty,\n",
        "}"
      ]
    },
    {
      "cell_type": "markdown",
      "metadata": {
        "id": "k13WOHDtl34y"
      },
      "source": [
        "## Step 5 - Using GridSearchCV and Printing Results"
      ]
    },
    {
      "cell_type": "markdown",
      "metadata": {
        "id": "IQo9ARxCl4oq"
      },
      "source": [
        "Before using GridSearchCV, lets have a look on the important parameters.\n",
        "\n",
        "* estimator: In this we have to pass the models or functions on which we want to use GridSearchCV\n",
        "* param_grid: Dictionary or list of parameters of models or function in which GridSearchCV have to select the best.\n",
        "* Scoring: It is used as a evaluating metric for the model performance to decide the best hyperparameters, if not especified then it uses estimator score."
      ]
    },
    {
      "cell_type": "markdown",
      "metadata": {
        "id": "ROYg9MiWmFV3"
      },
      "source": [
        "Making an object clf_GS for GridSearchCV and fitting the dataset i.e X and y"
      ]
    },
    {
      "cell_type": "code",
      "execution_count": 67,
      "metadata": {
        "id": "niDhc5ghl4Eu"
      },
      "outputs": [
        {
          "name": "stderr",
          "output_type": "stream",
          "text": [
            "d:\\AnyoneAI\\environment\\Lib\\site-packages\\sklearn\\model_selection\\_validation.py:378: FitFailedWarning: \n",
            "100 fits failed out of a total of 200.\n",
            "The score on these train-test partitions for these parameters will be set to nan.\n",
            "If these failures are not expected, you can try to debug them by setting error_score='raise'.\n",
            "\n",
            "Below are more details about the failures:\n",
            "--------------------------------------------------------------------------------\n",
            "100 fits failed with the following error:\n",
            "Traceback (most recent call last):\n",
            "  File \"d:\\AnyoneAI\\environment\\Lib\\site-packages\\sklearn\\model_selection\\_validation.py\", line 686, in _fit_and_score\n",
            "    estimator.fit(X_train, y_train, **fit_params)\n",
            "  File \"d:\\AnyoneAI\\environment\\Lib\\site-packages\\sklearn\\pipeline.py\", line 405, in fit\n",
            "    self._final_estimator.fit(Xt, y, **fit_params_last_step)\n",
            "  File \"d:\\AnyoneAI\\environment\\Lib\\site-packages\\sklearn\\linear_model\\_logistic.py\", line 1162, in fit\n",
            "    solver = _check_solver(self.solver, self.penalty, self.dual)\n",
            "             ^^^^^^^^^^^^^^^^^^^^^^^^^^^^^^^^^^^^^^^^^^^^^^^^^^^\n",
            "  File \"d:\\AnyoneAI\\environment\\Lib\\site-packages\\sklearn\\linear_model\\_logistic.py\", line 54, in _check_solver\n",
            "    raise ValueError(\n",
            "ValueError: Solver lbfgs supports only 'l2' or 'none' penalties, got l1 penalty.\n",
            "\n",
            "  warnings.warn(some_fits_failed_message, FitFailedWarning)\n",
            "d:\\AnyoneAI\\environment\\Lib\\site-packages\\sklearn\\model_selection\\_search.py:952: UserWarning: One or more of the test scores are non-finite: [       nan        nan        nan        nan        nan 0.83746032\n",
            " 0.96047619 0.95492063 0.96063492 0.96619048        nan        nan\n",
            "        nan        nan        nan 0.84301587 0.96619048 0.96650794\n",
            " 0.94984127 0.96079365        nan        nan        nan        nan\n",
            "        nan 0.84857143 0.95507937 0.96095238 0.94428571 0.97206349\n",
            "        nan        nan        nan        nan        nan 0.84857143\n",
            " 0.96079365 0.94428571 0.93873016 0.96650794]\n",
            "  warnings.warn(\n"
          ]
        },
        {
          "data": {
            "text/html": [
              "<style>#sk-container-id-6 {color: black;background-color: white;}#sk-container-id-6 pre{padding: 0;}#sk-container-id-6 div.sk-toggleable {background-color: white;}#sk-container-id-6 label.sk-toggleable__label {cursor: pointer;display: block;width: 100%;margin-bottom: 0;padding: 0.3em;box-sizing: border-box;text-align: center;}#sk-container-id-6 label.sk-toggleable__label-arrow:before {content: \"▸\";float: left;margin-right: 0.25em;color: #696969;}#sk-container-id-6 label.sk-toggleable__label-arrow:hover:before {color: black;}#sk-container-id-6 div.sk-estimator:hover label.sk-toggleable__label-arrow:before {color: black;}#sk-container-id-6 div.sk-toggleable__content {max-height: 0;max-width: 0;overflow: hidden;text-align: left;background-color: #f0f8ff;}#sk-container-id-6 div.sk-toggleable__content pre {margin: 0.2em;color: black;border-radius: 0.25em;background-color: #f0f8ff;}#sk-container-id-6 input.sk-toggleable__control:checked~div.sk-toggleable__content {max-height: 200px;max-width: 100%;overflow: auto;}#sk-container-id-6 input.sk-toggleable__control:checked~label.sk-toggleable__label-arrow:before {content: \"▾\";}#sk-container-id-6 div.sk-estimator input.sk-toggleable__control:checked~label.sk-toggleable__label {background-color: #d4ebff;}#sk-container-id-6 div.sk-label input.sk-toggleable__control:checked~label.sk-toggleable__label {background-color: #d4ebff;}#sk-container-id-6 input.sk-hidden--visually {border: 0;clip: rect(1px 1px 1px 1px);clip: rect(1px, 1px, 1px, 1px);height: 1px;margin: -1px;overflow: hidden;padding: 0;position: absolute;width: 1px;}#sk-container-id-6 div.sk-estimator {font-family: monospace;background-color: #f0f8ff;border: 1px dotted black;border-radius: 0.25em;box-sizing: border-box;margin-bottom: 0.5em;}#sk-container-id-6 div.sk-estimator:hover {background-color: #d4ebff;}#sk-container-id-6 div.sk-parallel-item::after {content: \"\";width: 100%;border-bottom: 1px solid gray;flex-grow: 1;}#sk-container-id-6 div.sk-label:hover label.sk-toggleable__label {background-color: #d4ebff;}#sk-container-id-6 div.sk-serial::before {content: \"\";position: absolute;border-left: 1px solid gray;box-sizing: border-box;top: 0;bottom: 0;left: 50%;z-index: 0;}#sk-container-id-6 div.sk-serial {display: flex;flex-direction: column;align-items: center;background-color: white;padding-right: 0.2em;padding-left: 0.2em;position: relative;}#sk-container-id-6 div.sk-item {position: relative;z-index: 1;}#sk-container-id-6 div.sk-parallel {display: flex;align-items: stretch;justify-content: center;background-color: white;position: relative;}#sk-container-id-6 div.sk-item::before, #sk-container-id-6 div.sk-parallel-item::before {content: \"\";position: absolute;border-left: 1px solid gray;box-sizing: border-box;top: 0;bottom: 0;left: 50%;z-index: -1;}#sk-container-id-6 div.sk-parallel-item {display: flex;flex-direction: column;z-index: 1;position: relative;background-color: white;}#sk-container-id-6 div.sk-parallel-item:first-child::after {align-self: flex-end;width: 50%;}#sk-container-id-6 div.sk-parallel-item:last-child::after {align-self: flex-start;width: 50%;}#sk-container-id-6 div.sk-parallel-item:only-child::after {width: 0;}#sk-container-id-6 div.sk-dashed-wrapped {border: 1px dashed gray;margin: 0 0.4em 0.5em 0.4em;box-sizing: border-box;padding-bottom: 0.4em;background-color: white;}#sk-container-id-6 div.sk-label label {font-family: monospace;font-weight: bold;display: inline-block;line-height: 1.2em;}#sk-container-id-6 div.sk-label-container {text-align: center;}#sk-container-id-6 div.sk-container {/* jupyter's `normalize.less` sets `[hidden] { display: none; }` but bootstrap.min.css set `[hidden] { display: none !important; }` so we also need the `!important` here to be able to override the default hidden behavior on the sphinx rendered scikit-learn.org. See: https://github.com/scikit-learn/scikit-learn/issues/21755 */display: inline-block !important;position: relative;}#sk-container-id-6 div.sk-text-repr-fallback {display: none;}</style><div id=\"sk-container-id-6\" class=\"sk-top-container\"><div class=\"sk-text-repr-fallback\"><pre>GridSearchCV(cv=5,\n",
              "             estimator=Pipeline(steps=[(&#x27;scaler&#x27;, StandardScaler()),\n",
              "                                       (&#x27;pca&#x27;, PCA()),\n",
              "                                       (&#x27;classifier&#x27;, LogisticRegression())]),\n",
              "             param_grid={&#x27;classifier__C&#x27;: [0.01, 0.1, 1, 10],\n",
              "                         &#x27;classifier__penalty&#x27;: [&#x27;l1&#x27;, &#x27;l2&#x27;],\n",
              "                         &#x27;pca__n_components&#x27;: [1, 2, 3, 4, 5]})</pre><b>In a Jupyter environment, please rerun this cell to show the HTML representation or trust the notebook. <br />On GitHub, the HTML representation is unable to render, please try loading this page with nbviewer.org.</b></div><div class=\"sk-container\" hidden><div class=\"sk-item sk-dashed-wrapped\"><div class=\"sk-label-container\"><div class=\"sk-label sk-toggleable\"><input class=\"sk-toggleable__control sk-hidden--visually\" id=\"sk-estimator-id-26\" type=\"checkbox\" ><label for=\"sk-estimator-id-26\" class=\"sk-toggleable__label sk-toggleable__label-arrow\">GridSearchCV</label><div class=\"sk-toggleable__content\"><pre>GridSearchCV(cv=5,\n",
              "             estimator=Pipeline(steps=[(&#x27;scaler&#x27;, StandardScaler()),\n",
              "                                       (&#x27;pca&#x27;, PCA()),\n",
              "                                       (&#x27;classifier&#x27;, LogisticRegression())]),\n",
              "             param_grid={&#x27;classifier__C&#x27;: [0.01, 0.1, 1, 10],\n",
              "                         &#x27;classifier__penalty&#x27;: [&#x27;l1&#x27;, &#x27;l2&#x27;],\n",
              "                         &#x27;pca__n_components&#x27;: [1, 2, 3, 4, 5]})</pre></div></div></div><div class=\"sk-parallel\"><div class=\"sk-parallel-item\"><div class=\"sk-item\"><div class=\"sk-label-container\"><div class=\"sk-label sk-toggleable\"><input class=\"sk-toggleable__control sk-hidden--visually\" id=\"sk-estimator-id-27\" type=\"checkbox\" ><label for=\"sk-estimator-id-27\" class=\"sk-toggleable__label sk-toggleable__label-arrow\">estimator: Pipeline</label><div class=\"sk-toggleable__content\"><pre>Pipeline(steps=[(&#x27;scaler&#x27;, StandardScaler()), (&#x27;pca&#x27;, PCA()),\n",
              "                (&#x27;classifier&#x27;, LogisticRegression())])</pre></div></div></div><div class=\"sk-serial\"><div class=\"sk-item\"><div class=\"sk-serial\"><div class=\"sk-item\"><div class=\"sk-estimator sk-toggleable\"><input class=\"sk-toggleable__control sk-hidden--visually\" id=\"sk-estimator-id-28\" type=\"checkbox\" ><label for=\"sk-estimator-id-28\" class=\"sk-toggleable__label sk-toggleable__label-arrow\">StandardScaler</label><div class=\"sk-toggleable__content\"><pre>StandardScaler()</pre></div></div></div><div class=\"sk-item\"><div class=\"sk-estimator sk-toggleable\"><input class=\"sk-toggleable__control sk-hidden--visually\" id=\"sk-estimator-id-29\" type=\"checkbox\" ><label for=\"sk-estimator-id-29\" class=\"sk-toggleable__label sk-toggleable__label-arrow\">PCA</label><div class=\"sk-toggleable__content\"><pre>PCA()</pre></div></div></div><div class=\"sk-item\"><div class=\"sk-estimator sk-toggleable\"><input class=\"sk-toggleable__control sk-hidden--visually\" id=\"sk-estimator-id-30\" type=\"checkbox\" ><label for=\"sk-estimator-id-30\" class=\"sk-toggleable__label sk-toggleable__label-arrow\">LogisticRegression</label><div class=\"sk-toggleable__content\"><pre>LogisticRegression()</pre></div></div></div></div></div></div></div></div></div></div></div></div>"
            ],
            "text/plain": [
              "GridSearchCV(cv=5,\n",
              "             estimator=Pipeline(steps=[('scaler', StandardScaler()),\n",
              "                                       ('pca', PCA()),\n",
              "                                       ('classifier', LogisticRegression())]),\n",
              "             param_grid={'classifier__C': [0.01, 0.1, 1, 10],\n",
              "                         'classifier__penalty': ['l1', 'l2'],\n",
              "                         'pca__n_components': [1, 2, 3, 4, 5]})"
            ]
          },
          "execution_count": 67,
          "metadata": {},
          "output_type": "execute_result"
        }
      ],
      "source": [
        "# complete\n",
        "\n",
        "# We create a GridSearchCV object and fit it to the data:\n",
        "clf_GS = GridSearchCV(pipeline, parameters, cv=5)\n",
        "clf_GS.fit(X, y)"
      ]
    },
    {
      "cell_type": "markdown",
      "metadata": {
        "id": "u1oXxF4zmN0C"
      },
      "source": [
        "Now we are using print statements to print the results. It will give the values of hyperparameters as a result."
      ]
    },
    {
      "cell_type": "code",
      "execution_count": 68,
      "metadata": {
        "id": "BkCG7AIZmUJH"
      },
      "outputs": [
        {
          "name": "stdout",
          "output_type": "stream",
          "text": [
            "Best Hyperparameters:\n",
            "{'classifier__C': 1, 'classifier__penalty': 'l2', 'pca__n_components': 5}\n",
            "\n",
            "Best Score (Accuracy):\n",
            "0.9720634920634922\n"
          ]
        }
      ],
      "source": [
        "# print the best parameters\n",
        "\n",
        "# After fitting the GridSearchCV, we print the results:\n",
        "print(\"Best Hyperparameters:\")\n",
        "print(clf_GS.best_params_)\n",
        "print(\"\\nBest Score (Accuracy):\")\n",
        "print(clf_GS.best_score_)"
      ]
    }
  ],
  "metadata": {
    "colab": {
      "provenance": []
    },
    "kernelspec": {
      "display_name": "Python 3",
      "name": "python3"
    },
    "language_info": {
      "codemirror_mode": {
        "name": "ipython",
        "version": 3
      },
      "file_extension": ".py",
      "mimetype": "text/x-python",
      "name": "python",
      "nbconvert_exporter": "python",
      "pygments_lexer": "ipython3",
      "version": "3.11.3"
    }
  },
  "nbformat": 4,
  "nbformat_minor": 0
}
