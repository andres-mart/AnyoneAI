{
  "cells": [
    {
      "cell_type": "markdown",
      "metadata": {
        "id": "A05TfEZZkQm8"
      },
      "source": [
        "## Objective"
      ]
    },
    {
      "cell_type": "markdown",
      "metadata": {
        "id": "enGdGMtgkQpt"
      },
      "source": [
        "Many a times while working on a dataset and using a Machine Learning model we don't know which set of hyperparameters will give us the best result. Passing all sets of hyperparameters manually through the model and checking the result might be a hectic work and may not be possible to do.\n",
        "\n",
        "The objective for this task are the following:\n",
        "1. Hyper-parameters of logistic regression.\n",
        "2. Implements Standard Scaler function on the dataset.\n",
        "3. Performs train_test_split on your dataset.\n",
        "4. Uses Cross Validation to prevent overfitting.\n",
        "\n",
        "To get the best set of hyperparameters we can use Grid Search. Grid Search passes all combinations of hyperparameters one by one into the model and check the result. Finally it gives us the set of hyperparemeters which gives the best result after passing in the model."
      ]
    },
    {
      "cell_type": "markdown",
      "metadata": {
        "id": "TPdgf8nXkQsc"
      },
      "source": [
        "## Step 1 - Import the library - GridSearchCv"
      ]
    },
    {
      "cell_type": "code",
      "execution_count": 1,
      "metadata": {
        "id": "v5ef2n4rkt_q"
      },
      "outputs": [],
      "source": [
        "import numpy as np\n",
        "from sklearn import linear_model, decomposition, datasets\n",
        "from sklearn.pipeline import Pipeline\n",
        "from sklearn.model_selection import GridSearchCV\n",
        "from sklearn.preprocessing import StandardScaler"
      ]
    },
    {
      "cell_type": "markdown",
      "metadata": {
        "id": "KVWD6L11kQyP"
      },
      "source": [
        "Here we have imported various modules like decomposition, datasets, linear_model, Pipeline, StandardScaler and GridSearchCV from differnt libraries. We will understand the use of these later while using it in the in the code snipet.\n",
        "For now just have a look on these imports."
      ]
    },
    {
      "cell_type": "markdown",
      "metadata": {
        "id": "gPnMtCIFkQ0z"
      },
      "source": [
        "## Step 2 - Setup the Data"
      ]
    },
    {
      "cell_type": "code",
      "execution_count": 2,
      "metadata": {
        "id": "4cprcMvlk3D6"
      },
      "outputs": [],
      "source": [
        "dataset = datasets.load_wine()\n",
        "X = dataset.data\n",
        "y = dataset.target"
      ]
    },
    {
      "cell_type": "markdown",
      "metadata": {
        "id": "XrDVSdfXk7DC"
      },
      "source": [
        "## Step 3 - Using StandardScaler and PCA"
      ]
    },
    {
      "cell_type": "markdown",
      "metadata": {
        "id": "hObqM9nFk_Ka"
      },
      "source": [
        "StandardScaler is used to remove the outliners and scale the data by making the mean of the data 0 and standard deviation as 1. So we are creating an object std_scl to use standardScaler."
      ]
    },
    {
      "cell_type": "code",
      "execution_count": null,
      "metadata": {
        "id": "1XHf5lU1k9X0"
      },
      "outputs": [],
      "source": [
        "# complete\n",
        "\n",
        "# We create a StandardScaler object\n",
        "std_scl = StandardScaler()"
      ]
    },
    {
      "cell_type": "markdown",
      "metadata": {
        "id": "ag6o5mEQlEBa"
      },
      "source": [
        "We are also using Principal Component Analysis(PCA) which will reduce the dimension of features by creating new features which have most of the varience of the original data."
      ]
    },
    {
      "cell_type": "code",
      "execution_count": null,
      "metadata": {
        "id": "aXrJF0cElCIC"
      },
      "outputs": [],
      "source": [
        "# complete"
      ]
    },
    {
      "cell_type": "markdown",
      "metadata": {
        "id": "ZIhSkRQSlFdA"
      },
      "source": [
        "Here, we are using Logistic Regression as a Machine Learning model to use GridSearchCV. So we have created an object Logistic_Reg.\n"
      ]
    },
    {
      "cell_type": "code",
      "execution_count": null,
      "metadata": {
        "id": "n2OrelRFlFyz"
      },
      "outputs": [],
      "source": [
        "# complete"
      ]
    },
    {
      "cell_type": "markdown",
      "metadata": {
        "id": "slI5Mc39lL-k"
      },
      "source": [
        "## Step 4 - Using Pipeline for GridSearchCV"
      ]
    },
    {
      "cell_type": "markdown",
      "metadata": {
        "id": "dKA0Xe0ulMHm"
      },
      "source": [
        "Pipeline will helps us by passing modules one by one through GridSearchCV for which we want to get the best parameters. So we are making an object pipe to create a pipeline for all the three objects std_scl, pca and logistic_Reg."
      ]
    },
    {
      "cell_type": "code",
      "execution_count": null,
      "metadata": {
        "id": "qcHOE4c7lMVt"
      },
      "outputs": [],
      "source": [
        "# complete: pipe = Pipeline(...)"
      ]
    },
    {
      "cell_type": "markdown",
      "metadata": {
        "id": "kEtJ2gnllceF"
      },
      "source": [
        "Now we have to define the parameters that we want to optimise for these three objects.\n",
        "StandardScaler doesnot requires any parameters to be optimised by GridSearchCV.\n",
        "Principal Component Analysis requires a parameter 'n_components' to be optimised. 'n_components' signifies the number of components to keep after reducing the dimension."
      ]
    },
    {
      "cell_type": "code",
      "execution_count": null,
      "metadata": {
        "id": "Y0_uhenKlgiq"
      },
      "outputs": [],
      "source": [
        "# complete: n_components = ..."
      ]
    },
    {
      "cell_type": "markdown",
      "metadata": {
        "id": "UvV8r0hUlaSO"
      },
      "source": [
        "Logistic Regression requires two parameters 'C' and 'penalty' to be optimised by GridSearchCV. So we have set these two parameters as a list of values form which GridSearchCV will select the best value of parameter.\n"
      ]
    },
    {
      "cell_type": "code",
      "execution_count": null,
      "metadata": {
        "id": "Tvia319olmeL"
      },
      "outputs": [],
      "source": [
        "# complete:\n",
        "# C = ...\n",
        "# penalty = ..."
      ]
    },
    {
      "cell_type": "markdown",
      "metadata": {
        "id": "nWgCqUUqlzvB"
      },
      "source": [
        "Now we are creating a dictionary to set all the parameters options for different modules."
      ]
    },
    {
      "cell_type": "code",
      "execution_count": null,
      "metadata": {
        "id": "BzZwvvJxlwLS"
      },
      "outputs": [],
      "source": [
        "# complte: parameters = ..."
      ]
    },
    {
      "cell_type": "markdown",
      "metadata": {
        "id": "k13WOHDtl34y"
      },
      "source": [
        "## Step 5 - Using GridSearchCV and Printing Results"
      ]
    },
    {
      "cell_type": "markdown",
      "metadata": {
        "id": "IQo9ARxCl4oq"
      },
      "source": [
        "Before using GridSearchCV, lets have a look on the important parameters.\n",
        "\n",
        "* estimator: In this we have to pass the models or functions on which we want to use GridSearchCV\n",
        "* param_grid: Dictionary or list of parameters of models or function in which GridSearchCV have to select the best.\n",
        "* Scoring: It is used as a evaluating metric for the model performance to decide the best hyperparameters, if not especified then it uses estimator score."
      ]
    },
    {
      "cell_type": "markdown",
      "metadata": {
        "id": "ROYg9MiWmFV3"
      },
      "source": [
        "Making an object clf_GS for GridSearchCV and fitting the dataset i.e X and y"
      ]
    },
    {
      "cell_type": "code",
      "execution_count": null,
      "metadata": {
        "id": "niDhc5ghl4Eu"
      },
      "outputs": [],
      "source": [
        "# complete"
      ]
    },
    {
      "cell_type": "markdown",
      "metadata": {
        "id": "u1oXxF4zmN0C"
      },
      "source": [
        "Now we are using print statements to print the results. It will give the values of hyperparameters as a result.\n"
      ]
    },
    {
      "cell_type": "code",
      "execution_count": null,
      "metadata": {
        "id": "BkCG7AIZmUJH"
      },
      "outputs": [],
      "source": [
        "# print the best parameters"
      ]
    },
    {
      "cell_type": "code",
      "execution_count": null,
      "metadata": {
        "id": "_s3ce_0pmXPr"
      },
      "outputs": [],
      "source": []
    }
  ],
  "metadata": {
    "colab": {
      "provenance": []
    },
    "kernelspec": {
      "display_name": "Python 3",
      "name": "python3"
    },
    "language_info": {
      "codemirror_mode": {
        "name": "ipython",
        "version": 3
      },
      "file_extension": ".py",
      "mimetype": "text/x-python",
      "name": "python",
      "nbconvert_exporter": "python",
      "pygments_lexer": "ipython3",
      "version": "3.11.5"
    }
  },
  "nbformat": 4,
  "nbformat_minor": 0
}
