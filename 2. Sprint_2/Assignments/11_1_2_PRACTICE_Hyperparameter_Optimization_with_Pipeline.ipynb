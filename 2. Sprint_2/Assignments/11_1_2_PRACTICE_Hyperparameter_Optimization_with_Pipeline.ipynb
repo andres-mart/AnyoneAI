{
  "nbformat": 4,
  "nbformat_minor": 0,
  "metadata": {
    "colab": {
      "provenance": []
    },
    "kernelspec": {
      "name": "python3",
      "display_name": "Python 3"
    },
    "language_info": {
      "name": "python"
    }
  },
  "cells": [
    {
      "cell_type": "markdown",
      "source": [
        "## Objective"
      ],
      "metadata": {
        "id": "A05TfEZZkQm8"
      }
    },
    {
      "cell_type": "markdown",
      "source": [
        "Many a times while working on a dataset and using a Machine Learning model we don't know which set of hyperparameters will give us the best result. Passing all sets of hyperparameters manually through the model and checking the result might be a hectic work and may not be possible to do.\n",
        "\n",
        "The objective for this task are the following:\n",
        "1. Hyper-parameters of logistic regression.\n",
        "2. Implements Standard Scaler function on the dataset.\n",
        "3. Performs train_test_split on your dataset.\n",
        "4. Uses Cross Validation to prevent overfitting.\n",
        "\n",
        "To get the best set of hyperparameters we can use Grid Search. Grid Search passes all combinations of hyperparameters one by one into the model and check the result. Finally it gives us the set of hyperparemeters which gives the best result after passing in the model."
      ],
      "metadata": {
        "id": "enGdGMtgkQpt"
      }
    },
    {
      "cell_type": "markdown",
      "source": [
        "### Step 1 - Import the library - GridSearchCv"
      ],
      "metadata": {
        "id": "TPdgf8nXkQsc"
      }
    },
    {
      "cell_type": "code",
      "source": [
        "import numpy as np\n",
        "from sklearn import linear_model, decomposition, datasets\n",
        "from sklearn.pipeline import Pipeline\n",
        "from sklearn.model_selection import GridSearchCV\n",
        "from sklearn.preprocessing import StandardScaler"
      ],
      "metadata": {
        "id": "v5ef2n4rkt_q"
      },
      "execution_count": null,
      "outputs": []
    },
    {
      "cell_type": "markdown",
      "source": [
        "Here we have imported various modules like decomposition, datasets, linear_model, Pipeline, StandardScaler and GridSearchCV from differnt libraries. We will understand the use of these later while using it in the in the code snipet.\n",
        "For now just have a look on these imports."
      ],
      "metadata": {
        "id": "KVWD6L11kQyP"
      }
    },
    {
      "cell_type": "markdown",
      "source": [
        "## Step 2 - Setup the Data"
      ],
      "metadata": {
        "id": "gPnMtCIFkQ0z"
      }
    },
    {
      "cell_type": "code",
      "source": [
        "dataset = datasets.load_wine()\n",
        "X = dataset.data\n",
        "y = dataset.target"
      ],
      "metadata": {
        "id": "4cprcMvlk3D6"
      },
      "execution_count": null,
      "outputs": []
    },
    {
      "cell_type": "markdown",
      "source": [
        "### Step 3 - Using StandardScaler and PCA"
      ],
      "metadata": {
        "id": "XrDVSdfXk7DC"
      }
    },
    {
      "cell_type": "markdown",
      "source": [
        "StandardScaler is used to remove the outliners and scale the data by making the mean of the data 0 and standard deviation as 1. So we are creating an object std_scl to use standardScaler."
      ],
      "metadata": {
        "id": "hObqM9nFk_Ka"
      }
    },
    {
      "cell_type": "code",
      "source": [
        "# complete"
      ],
      "metadata": {
        "id": "1XHf5lU1k9X0"
      },
      "execution_count": null,
      "outputs": []
    },
    {
      "cell_type": "markdown",
      "source": [
        "We are also using Principal Component Analysis(PCA) which will reduce the dimension of features by creating new features which have most of the varience of the original data.\n"
      ],
      "metadata": {
        "id": "ag6o5mEQlEBa"
      }
    },
    {
      "cell_type": "code",
      "source": [
        "# complete"
      ],
      "metadata": {
        "id": "aXrJF0cElCIC"
      },
      "execution_count": null,
      "outputs": []
    },
    {
      "cell_type": "markdown",
      "source": [
        "Here, we are using Logistic Regression as a Machine Learning model to use GridSearchCV. So we have created an object Logistic_Reg.\n"
      ],
      "metadata": {
        "id": "ZIhSkRQSlFdA"
      }
    },
    {
      "cell_type": "code",
      "source": [
        "# complete"
      ],
      "metadata": {
        "id": "n2OrelRFlFyz"
      },
      "execution_count": null,
      "outputs": []
    },
    {
      "cell_type": "markdown",
      "source": [
        "### Step 4 - Using Pipeline for GridSearchCV"
      ],
      "metadata": {
        "id": "slI5Mc39lL-k"
      }
    },
    {
      "cell_type": "markdown",
      "source": [
        "Pipeline will helps us by passing modules one by one through GridSearchCV for which we want to get the best parameters. So we are making an object pipe to create a pipeline for all the three objects std_scl, pca and logistic_Reg."
      ],
      "metadata": {
        "id": "dKA0Xe0ulMHm"
      }
    },
    {
      "cell_type": "code",
      "source": [
        "# complete: pipe = Pipeline(...)"
      ],
      "metadata": {
        "id": "qcHOE4c7lMVt"
      },
      "execution_count": null,
      "outputs": []
    },
    {
      "cell_type": "markdown",
      "source": [
        "Now we have to define the parameters that we want to optimise for these three objects.\n",
        "StandardScaler doesnot requires any parameters to be optimised by GridSearchCV.\n",
        "Principal Component Analysis requires a parameter 'n_components' to be optimised. 'n_components' signifies the number of components to keep after reducing the dimension."
      ],
      "metadata": {
        "id": "kEtJ2gnllceF"
      }
    },
    {
      "cell_type": "code",
      "source": [
        "# complete: n_components = ..."
      ],
      "metadata": {
        "id": "Y0_uhenKlgiq"
      },
      "execution_count": null,
      "outputs": []
    },
    {
      "cell_type": "markdown",
      "source": [
        "Logistic Regression requires two parameters 'C' and 'penalty' to be optimised by GridSearchCV. So we have set these two parameters as a list of values form which GridSearchCV will select the best value of parameter.\n"
      ],
      "metadata": {
        "id": "UvV8r0hUlaSO"
      }
    },
    {
      "cell_type": "code",
      "source": [
        "# complete: \n",
        "# C = ...\n",
        "# penalty = ..."
      ],
      "metadata": {
        "id": "Tvia319olmeL"
      },
      "execution_count": null,
      "outputs": []
    },
    {
      "cell_type": "markdown",
      "source": [
        "Now we are creating a dictionary to set all the parameters options for different modules."
      ],
      "metadata": {
        "id": "nWgCqUUqlzvB"
      }
    },
    {
      "cell_type": "code",
      "source": [
        "# complte: parameters = ..."
      ],
      "metadata": {
        "id": "BzZwvvJxlwLS"
      },
      "execution_count": null,
      "outputs": []
    },
    {
      "cell_type": "markdown",
      "source": [
        "## Step 5 - Using GridSearchCV and Printing Results"
      ],
      "metadata": {
        "id": "k13WOHDtl34y"
      }
    },
    {
      "cell_type": "markdown",
      "source": [
        "Before using GridSearchCV, lets have a look on the important parameters.\n",
        "\n",
        "* estimator: In this we have to pass the models or functions on which we want to use GridSearchCV\n",
        "* param_grid: Dictionary or list of parameters of models or function in which GridSearchCV have to select the best.\n",
        "* Scoring: It is used as a evaluating metric for the model performance to decide the best hyperparameters, if not especified then it uses estimator score."
      ],
      "metadata": {
        "id": "IQo9ARxCl4oq"
      }
    },
    {
      "cell_type": "markdown",
      "source": [
        "Making an object clf_GS for GridSearchCV and fitting the dataset i.e X and y"
      ],
      "metadata": {
        "id": "ROYg9MiWmFV3"
      }
    },
    {
      "cell_type": "code",
      "source": [
        "# complete"
      ],
      "metadata": {
        "id": "niDhc5ghl4Eu"
      },
      "execution_count": null,
      "outputs": []
    },
    {
      "cell_type": "markdown",
      "source": [
        "Now we are using print statements to print the results. It will give the values of hyperparameters as a result.\n"
      ],
      "metadata": {
        "id": "u1oXxF4zmN0C"
      }
    },
    {
      "cell_type": "code",
      "source": [
        "# print the best parameters"
      ],
      "metadata": {
        "id": "BkCG7AIZmUJH"
      },
      "execution_count": null,
      "outputs": []
    },
    {
      "cell_type": "code",
      "source": [],
      "metadata": {
        "id": "_s3ce_0pmXPr"
      },
      "execution_count": null,
      "outputs": []
    }
  ]
}