{
  "cells": [
    {
      "attachments": {},
      "cell_type": "markdown",
      "metadata": {
        "id": "1zZ80tdRQ4jK"
      },
      "source": [
        "---\n",
        "\n",
        "# 3. Pandas"
      ]
    },
    {
      "attachments": {},
      "cell_type": "markdown",
      "metadata": {
        "id": "2qAlJy81Q4jK"
      },
      "source": [
        "Pandas is the best known Python library for manipulating and analyzing data. It is built on top of NumPy, so many features are similar. We will use Pandas to work with structured datasets.\n",
        "\n",
        "Just as NumPy provides us with arrays and with them we access many new features, Pandas provides us with DataFrames and Series. By far the most used object is the first one, DataFrames.\n",
        "\n",
        "We are going to use the open data of the Argentine government, so you will have to download the csv from the following link: [Names 2010-2014](https://www.datos.gob.ar/dataset/otros-nombres-personas-fisicas)"
      ]
    },
    {
      "cell_type": "code",
      "execution_count": 21,
      "metadata": {
        "id": "JY_I84c4Q4jL"
      },
      "outputs": [],
      "source": [
        "import pandas as pd"
      ]
    },
    {
      "attachments": {},
      "cell_type": "markdown",
      "metadata": {
        "id": "A0xGFfvPQ4jL"
      },
      "source": [
        "## Reading a csv file"
      ]
    },
    {
      "cell_type": "code",
      "execution_count": 22,
      "metadata": {
        "id": "OzmclufMQ4jL"
      },
      "outputs": [
        {
          "data": {
            "text/html": [
              "<div>\n",
              "<style scoped>\n",
              "    .dataframe tbody tr th:only-of-type {\n",
              "        vertical-align: middle;\n",
              "    }\n",
              "\n",
              "    .dataframe tbody tr th {\n",
              "        vertical-align: top;\n",
              "    }\n",
              "\n",
              "    .dataframe thead th {\n",
              "        text-align: right;\n",
              "    }\n",
              "</style>\n",
              "<table border=\"1\" class=\"dataframe\">\n",
              "  <thead>\n",
              "    <tr style=\"text-align: right;\">\n",
              "      <th></th>\n",
              "      <th>nombre</th>\n",
              "      <th>cantidad</th>\n",
              "      <th>anio</th>\n",
              "    </tr>\n",
              "  </thead>\n",
              "  <tbody>\n",
              "    <tr>\n",
              "      <th>0</th>\n",
              "      <td>Benjamin</td>\n",
              "      <td>2986</td>\n",
              "      <td>2010</td>\n",
              "    </tr>\n",
              "    <tr>\n",
              "      <th>1</th>\n",
              "      <td>Sofia</td>\n",
              "      <td>2252</td>\n",
              "      <td>2010</td>\n",
              "    </tr>\n",
              "    <tr>\n",
              "      <th>2</th>\n",
              "      <td>Bautista</td>\n",
              "      <td>2176</td>\n",
              "      <td>2010</td>\n",
              "    </tr>\n",
              "    <tr>\n",
              "      <th>3</th>\n",
              "      <td>Joaquín</td>\n",
              "      <td>2111</td>\n",
              "      <td>2010</td>\n",
              "    </tr>\n",
              "    <tr>\n",
              "      <th>4</th>\n",
              "      <td>Juan Ignacio</td>\n",
              "      <td>2039</td>\n",
              "      <td>2010</td>\n",
              "    </tr>\n",
              "    <tr>\n",
              "      <th>...</th>\n",
              "      <td>...</td>\n",
              "      <td>...</td>\n",
              "      <td>...</td>\n",
              "    </tr>\n",
              "    <tr>\n",
              "      <th>871489</th>\n",
              "      <td>Leire Jasmin</td>\n",
              "      <td>1</td>\n",
              "      <td>2014</td>\n",
              "    </tr>\n",
              "    <tr>\n",
              "      <th>871490</th>\n",
              "      <td>Isaias Sebastian Ariel</td>\n",
              "      <td>1</td>\n",
              "      <td>2014</td>\n",
              "    </tr>\n",
              "    <tr>\n",
              "      <th>871491</th>\n",
              "      <td>Yanira Valentina</td>\n",
              "      <td>1</td>\n",
              "      <td>2014</td>\n",
              "    </tr>\n",
              "    <tr>\n",
              "      <th>871492</th>\n",
              "      <td>Angie Ainara</td>\n",
              "      <td>1</td>\n",
              "      <td>2014</td>\n",
              "    </tr>\n",
              "    <tr>\n",
              "      <th>871493</th>\n",
              "      <td>Elias Hernando</td>\n",
              "      <td>1</td>\n",
              "      <td>2014</td>\n",
              "    </tr>\n",
              "  </tbody>\n",
              "</table>\n",
              "<p>871494 rows × 3 columns</p>\n",
              "</div>"
            ],
            "text/plain": [
              "                        nombre  cantidad  anio\n",
              "0                     Benjamin      2986  2010\n",
              "1                        Sofia      2252  2010\n",
              "2                     Bautista      2176  2010\n",
              "3                      Joaquín      2111  2010\n",
              "4                 Juan Ignacio      2039  2010\n",
              "...                        ...       ...   ...\n",
              "871489            Leire Jasmin         1  2014\n",
              "871490  Isaias Sebastian Ariel         1  2014\n",
              "871491        Yanira Valentina         1  2014\n",
              "871492            Angie Ainara         1  2014\n",
              "871493          Elias Hernando         1  2014\n",
              "\n",
              "[871494 rows x 3 columns]"
            ]
          },
          "execution_count": 22,
          "metadata": {},
          "output_type": "execute_result"
        }
      ],
      "source": [
        "df_names = pd.read_csv(\n",
        "    \"https://infra.datos.gob.ar/catalog/otros/dataset/2/distribution/2.20/download/nombres-2010-2014.csv\"\n",
        ")\n",
        "df_names"
      ]
    },
    {
      "cell_type": "code",
      "execution_count": 23,
      "metadata": {
        "id": "5IYpCdXYu_nT"
      },
      "outputs": [
        {
          "data": {
            "text/plain": [
              "nombre      object\n",
              "cantidad     int64\n",
              "anio         int64\n",
              "dtype: object"
            ]
          },
          "execution_count": 23,
          "metadata": {},
          "output_type": "execute_result"
        }
      ],
      "source": [
        "df_names.dtypes"
      ]
    },
    {
      "attachments": {},
      "cell_type": "markdown",
      "metadata": {
        "id": "slxR8rtXQ4jM"
      },
      "source": [
        "## Columns renaming"
      ]
    },
    {
      "attachments": {},
      "cell_type": "markdown",
      "metadata": {
        "id": "mL3b7okLQ4jM"
      },
      "source": [
        "First of all let's rename the columns to `name`, `amount` and `year`"
      ]
    },
    {
      "cell_type": "code",
      "execution_count": 24,
      "metadata": {
        "id": "WAFt31xGQ4jN"
      },
      "outputs": [
        {
          "data": {
            "text/html": [
              "<div>\n",
              "<style scoped>\n",
              "    .dataframe tbody tr th:only-of-type {\n",
              "        vertical-align: middle;\n",
              "    }\n",
              "\n",
              "    .dataframe tbody tr th {\n",
              "        vertical-align: top;\n",
              "    }\n",
              "\n",
              "    .dataframe thead th {\n",
              "        text-align: right;\n",
              "    }\n",
              "</style>\n",
              "<table border=\"1\" class=\"dataframe\">\n",
              "  <thead>\n",
              "    <tr style=\"text-align: right;\">\n",
              "      <th></th>\n",
              "      <th>name</th>\n",
              "      <th>amount</th>\n",
              "      <th>year</th>\n",
              "    </tr>\n",
              "  </thead>\n",
              "  <tbody>\n",
              "    <tr>\n",
              "      <th>0</th>\n",
              "      <td>Benjamin</td>\n",
              "      <td>2986</td>\n",
              "      <td>2010</td>\n",
              "    </tr>\n",
              "    <tr>\n",
              "      <th>1</th>\n",
              "      <td>Sofia</td>\n",
              "      <td>2252</td>\n",
              "      <td>2010</td>\n",
              "    </tr>\n",
              "    <tr>\n",
              "      <th>2</th>\n",
              "      <td>Bautista</td>\n",
              "      <td>2176</td>\n",
              "      <td>2010</td>\n",
              "    </tr>\n",
              "    <tr>\n",
              "      <th>3</th>\n",
              "      <td>Joaquín</td>\n",
              "      <td>2111</td>\n",
              "      <td>2010</td>\n",
              "    </tr>\n",
              "    <tr>\n",
              "      <th>4</th>\n",
              "      <td>Juan Ignacio</td>\n",
              "      <td>2039</td>\n",
              "      <td>2010</td>\n",
              "    </tr>\n",
              "    <tr>\n",
              "      <th>...</th>\n",
              "      <td>...</td>\n",
              "      <td>...</td>\n",
              "      <td>...</td>\n",
              "    </tr>\n",
              "    <tr>\n",
              "      <th>871489</th>\n",
              "      <td>Leire Jasmin</td>\n",
              "      <td>1</td>\n",
              "      <td>2014</td>\n",
              "    </tr>\n",
              "    <tr>\n",
              "      <th>871490</th>\n",
              "      <td>Isaias Sebastian Ariel</td>\n",
              "      <td>1</td>\n",
              "      <td>2014</td>\n",
              "    </tr>\n",
              "    <tr>\n",
              "      <th>871491</th>\n",
              "      <td>Yanira Valentina</td>\n",
              "      <td>1</td>\n",
              "      <td>2014</td>\n",
              "    </tr>\n",
              "    <tr>\n",
              "      <th>871492</th>\n",
              "      <td>Angie Ainara</td>\n",
              "      <td>1</td>\n",
              "      <td>2014</td>\n",
              "    </tr>\n",
              "    <tr>\n",
              "      <th>871493</th>\n",
              "      <td>Elias Hernando</td>\n",
              "      <td>1</td>\n",
              "      <td>2014</td>\n",
              "    </tr>\n",
              "  </tbody>\n",
              "</table>\n",
              "<p>871494 rows × 3 columns</p>\n",
              "</div>"
            ],
            "text/plain": [
              "                          name  amount  year\n",
              "0                     Benjamin    2986  2010\n",
              "1                        Sofia    2252  2010\n",
              "2                     Bautista    2176  2010\n",
              "3                      Joaquín    2111  2010\n",
              "4                 Juan Ignacio    2039  2010\n",
              "...                        ...     ...   ...\n",
              "871489            Leire Jasmin       1  2014\n",
              "871490  Isaias Sebastian Ariel       1  2014\n",
              "871491        Yanira Valentina       1  2014\n",
              "871492            Angie Ainara       1  2014\n",
              "871493          Elias Hernando       1  2014\n",
              "\n",
              "[871494 rows x 3 columns]"
            ]
          },
          "execution_count": 24,
          "metadata": {},
          "output_type": "execute_result"
        }
      ],
      "source": [
        "df_names.rename(\n",
        "    columns={\"nombre\": \"name\", \"cantidad\": \"amount\", \"anio\": \"year\"}, inplace=True\n",
        ")\n",
        "df_names"
      ]
    },
    {
      "attachments": {},
      "cell_type": "markdown",
      "metadata": {
        "id": "W-kRHmkOQ4jN"
      },
      "source": [
        "## Some Pandas useful functions"
      ]
    },
    {
      "attachments": {},
      "cell_type": "markdown",
      "metadata": {
        "id": "Ve4KOoEnQ4jN"
      },
      "source": [
        "**TODO:** Investigate the functions that are implemented in the next cell. What do they do? What do you think they can be useful for?"
      ]
    },
    {
      "cell_type": "code",
      "execution_count": 25,
      "metadata": {
        "id": "Mc9CkZwVQ4jO"
      },
      "outputs": [
        {
          "data": {
            "text/plain": [
              "(871494, 3)"
            ]
          },
          "execution_count": 25,
          "metadata": {},
          "output_type": "execute_result"
        }
      ],
      "source": [
        "# df_names.head()\n",
        "# df_names.tail()\n",
        "# df_names.tail()\n",
        "# df_names.count()\n",
        "df_names.shape"
      ]
    },
    {
      "attachments": {},
      "cell_type": "markdown",
      "metadata": {
        "id": "u15ncIh3Q4jO"
      },
      "source": [
        "## Append a new row"
      ]
    },
    {
      "attachments": {},
      "cell_type": "markdown",
      "metadata": {
        "id": "DyhUYuu2Q4jQ"
      },
      "source": [
        "**TODO:** Suppose that in the data load, someone forgot to add a name and its respective amount and year.\n",
        "\n",
        "Let's add to our dataset the following row with said information:\n",
        "\n",
        "Name: \"Daenerys Stormborn of the House Targaryen, First of Her Name de ella, the Unburnt, Queen of the Andals and the First Men, Khaleesi of the Great Grass Sea, Breaker of Chains, and Mother of Dragons\"\n",
        "\n",
        "Amount: 100\n",
        "Year: 2011"
      ]
    },
    {
      "cell_type": "code",
      "execution_count": 26,
      "metadata": {
        "id": "s_uvRquYQ4jR"
      },
      "outputs": [
        {
          "data": {
            "text/html": [
              "<div>\n",
              "<style scoped>\n",
              "    .dataframe tbody tr th:only-of-type {\n",
              "        vertical-align: middle;\n",
              "    }\n",
              "\n",
              "    .dataframe tbody tr th {\n",
              "        vertical-align: top;\n",
              "    }\n",
              "\n",
              "    .dataframe thead th {\n",
              "        text-align: right;\n",
              "    }\n",
              "</style>\n",
              "<table border=\"1\" class=\"dataframe\">\n",
              "  <thead>\n",
              "    <tr style=\"text-align: right;\">\n",
              "      <th></th>\n",
              "      <th>name</th>\n",
              "      <th>amount</th>\n",
              "      <th>year</th>\n",
              "    </tr>\n",
              "  </thead>\n",
              "  <tbody>\n",
              "    <tr>\n",
              "      <th>0</th>\n",
              "      <td>Benjamin</td>\n",
              "      <td>2986</td>\n",
              "      <td>2010</td>\n",
              "    </tr>\n",
              "    <tr>\n",
              "      <th>1</th>\n",
              "      <td>Sofia</td>\n",
              "      <td>2252</td>\n",
              "      <td>2010</td>\n",
              "    </tr>\n",
              "    <tr>\n",
              "      <th>2</th>\n",
              "      <td>Bautista</td>\n",
              "      <td>2176</td>\n",
              "      <td>2010</td>\n",
              "    </tr>\n",
              "    <tr>\n",
              "      <th>3</th>\n",
              "      <td>Joaquín</td>\n",
              "      <td>2111</td>\n",
              "      <td>2010</td>\n",
              "    </tr>\n",
              "    <tr>\n",
              "      <th>4</th>\n",
              "      <td>Juan Ignacio</td>\n",
              "      <td>2039</td>\n",
              "      <td>2010</td>\n",
              "    </tr>\n",
              "    <tr>\n",
              "      <th>...</th>\n",
              "      <td>...</td>\n",
              "      <td>...</td>\n",
              "      <td>...</td>\n",
              "    </tr>\n",
              "    <tr>\n",
              "      <th>871490</th>\n",
              "      <td>Isaias Sebastian Ariel</td>\n",
              "      <td>1</td>\n",
              "      <td>2014</td>\n",
              "    </tr>\n",
              "    <tr>\n",
              "      <th>871491</th>\n",
              "      <td>Yanira Valentina</td>\n",
              "      <td>1</td>\n",
              "      <td>2014</td>\n",
              "    </tr>\n",
              "    <tr>\n",
              "      <th>871492</th>\n",
              "      <td>Angie Ainara</td>\n",
              "      <td>1</td>\n",
              "      <td>2014</td>\n",
              "    </tr>\n",
              "    <tr>\n",
              "      <th>871493</th>\n",
              "      <td>Elias Hernando</td>\n",
              "      <td>1</td>\n",
              "      <td>2014</td>\n",
              "    </tr>\n",
              "    <tr>\n",
              "      <th>871494</th>\n",
              "      <td>Daenerys Stormborn of the House Targaryen, Fir...</td>\n",
              "      <td>100</td>\n",
              "      <td>2011</td>\n",
              "    </tr>\n",
              "  </tbody>\n",
              "</table>\n",
              "<p>871495 rows × 3 columns</p>\n",
              "</div>"
            ],
            "text/plain": [
              "                                                     name  amount  year\n",
              "0                                                Benjamin    2986  2010\n",
              "1                                                   Sofia    2252  2010\n",
              "2                                                Bautista    2176  2010\n",
              "3                                                 Joaquín    2111  2010\n",
              "4                                            Juan Ignacio    2039  2010\n",
              "...                                                   ...     ...   ...\n",
              "871490                             Isaias Sebastian Ariel       1  2014\n",
              "871491                                   Yanira Valentina       1  2014\n",
              "871492                                       Angie Ainara       1  2014\n",
              "871493                                     Elias Hernando       1  2014\n",
              "871494  Daenerys Stormborn of the House Targaryen, Fir...     100  2011\n",
              "\n",
              "[871495 rows x 3 columns]"
            ]
          },
          "execution_count": 26,
          "metadata": {},
          "output_type": "execute_result"
        }
      ],
      "source": [
        "new_row = pd.DataFrame(\n",
        "    {\n",
        "        \"name\": [\n",
        "            \"Daenerys Stormborn of the House Targaryen, First of Her Name de ella, the Unburnt, Queen of the Andals and the First Men, Khaleesi of the Great Grass Sea, Breaker of Chains, and Mother of Dragons\"\n",
        "        ],\n",
        "        \"amount\": [100],\n",
        "        \"year\": [2011],\n",
        "    }\n",
        ")\n",
        "\n",
        "# Concatenate the new DataFrame with the original DataFrame\n",
        "df_names = pd.concat([df_names, new_row], ignore_index=True)\n",
        "\n",
        "df_names"
      ]
    },
    {
      "attachments": {},
      "cell_type": "markdown",
      "metadata": {
        "id": "vWsZ-dziQ4jR"
      },
      "source": [
        "**TODO:** Investigate the columns and index functions. What do they do? What data type is their output? What known data type do they resemble?"
      ]
    },
    {
      "cell_type": "code",
      "execution_count": 27,
      "metadata": {
        "id": "o-dDWiEvQ4jS"
      },
      "outputs": [
        {
          "data": {
            "text/plain": [
              "Index(['name', 'amount', 'year'], dtype='object')"
            ]
          },
          "execution_count": 27,
          "metadata": {},
          "output_type": "execute_result"
        }
      ],
      "source": [
        "df_names.columns"
      ]
    },
    {
      "cell_type": "code",
      "execution_count": 28,
      "metadata": {
        "id": "wI5UPDYwHING"
      },
      "outputs": [
        {
          "data": {
            "text/plain": [
              "RangeIndex(start=0, stop=871495, step=1)"
            ]
          },
          "execution_count": 28,
          "metadata": {},
          "output_type": "execute_result"
        }
      ],
      "source": [
        "df_names.index"
      ]
    },
    {
      "attachments": {},
      "cell_type": "markdown",
      "metadata": {
        "id": "PC8qZUapQ4jT"
      },
      "source": [
        "## Add a new column\n",
        "\n",
        "**TODO:** Add a column to the dataframe that corresponds to the number of characters in each name"
      ]
    },
    {
      "cell_type": "code",
      "execution_count": 29,
      "metadata": {
        "id": "KIIicg1VQ4jU"
      },
      "outputs": [],
      "source": [
        "# Complete this cell with your code\n",
        "\n",
        "df_names[\"name_length\"] = df_names[\"name\"].apply(lambda x: len(x))"
      ]
    },
    {
      "attachments": {},
      "cell_type": "markdown",
      "metadata": {
        "id": "RDKEXbxhQ4jU"
      },
      "source": [
        "## Filtering by mask\n",
        "\n",
        "Its implementation is very similar in both NumPy and Pandas, so we will see how to do it first in NumPy then in Pandas.\n",
        "\n",
        "Suppose we make 100 rolls of a die, but we want to select only those rolls that were less than four. How can we do it?"
      ]
    },
    {
      "cell_type": "code",
      "execution_count": 30,
      "metadata": {
        "id": "6pRyLFwTQ4jV"
      },
      "outputs": [
        {
          "name": "stdout",
          "output_type": "stream",
          "text": [
            "[2 2 4 6 2 2 6 4 5 2 1 3 4 6 4 6 2 4 1 1 4 5 6 3 2 5 5 1 5 4 6 1 5 2 4 5 1\n",
            " 4 6 2 1 1 3 2 2 3 1 2 6 1 2 5 1 1 1 6 2 6 1 5 5 3 1 1 3 4 1 1 4 6 3 5 1 4\n",
            " 4 3 1 6 2 1 4 5 6 4 4 1 6 6 1 5 1 6 3 5 6 5 5 2 2 5]\n"
          ]
        }
      ],
      "source": [
        "import numpy as np\n",
        "\n",
        "dice = np.random.randint(1, 7, size=100)\n",
        "print(dice)"
      ]
    },
    {
      "attachments": {},
      "cell_type": "markdown",
      "metadata": {
        "id": "fsZjUzBAQ4jW"
      },
      "source": [
        "What we can do is create a mask:"
      ]
    },
    {
      "cell_type": "code",
      "execution_count": 31,
      "metadata": {
        "id": "xar0AoOSQ4jW"
      },
      "outputs": [
        {
          "name": "stdout",
          "output_type": "stream",
          "text": [
            "[False False  True  True False False  True  True  True False False False\n",
            "  True  True  True  True False  True False False  True  True  True False\n",
            " False  True  True False  True  True  True False  True False  True  True\n",
            " False  True  True False False False False False False False False False\n",
            "  True False False  True False False False  True False  True False  True\n",
            "  True False False False False  True False False  True  True False  True\n",
            " False  True  True False False  True False False  True  True  True  True\n",
            "  True False  True  True False  True False  True False  True  True  True\n",
            "  True False False  True]\n",
            "<class 'numpy.ndarray'>\n"
          ]
        }
      ],
      "source": [
        "mask = dice > 3\n",
        "print(mask)\n",
        "print(type(mask))"
      ]
    },
    {
      "cell_type": "code",
      "execution_count": 32,
      "metadata": {
        "id": "Iahv1gBrQ4jW"
      },
      "outputs": [
        {
          "name": "stdout",
          "output_type": "stream",
          "text": [
            "[4 6 6 4 5 4 6 4 6 4 4 5 6 5 5 5 4 6 5 4 5 4 6 6 5 6 6 5 5 4 4 6 5 4 4 6 4\n",
            " 5 6 4 4 6 6 5 6 5 6 5 5 5]\n"
          ]
        }
      ],
      "source": [
        "print(dice[mask])"
      ]
    },
    {
      "cell_type": "code",
      "execution_count": 33,
      "metadata": {
        "id": "H0e40JjmQ4jX"
      },
      "outputs": [
        {
          "name": "stdout",
          "output_type": "stream",
          "text": [
            "336\n"
          ]
        }
      ],
      "source": [
        "print(dice.sum())"
      ]
    },
    {
      "cell_type": "code",
      "execution_count": 34,
      "metadata": {
        "id": "1RsauVufQ4jX"
      },
      "outputs": [
        {
          "name": "stdout",
          "output_type": "stream",
          "text": [
            "[4 6 6 4 5 4 6 4 6 4 4 5 6 5 5 5 4 6 5 4 5 4 6 6 5 6 6 5 5 4 4 6 5 4 4 6 4\n",
            " 5 6 4 4 6 6 5 6 5 6 5 5 5]\n"
          ]
        }
      ],
      "source": [
        "print(dice[dice > 3])"
      ]
    },
    {
      "attachments": {},
      "cell_type": "markdown",
      "metadata": {
        "id": "Ug5EdAFiQ4jX"
      },
      "source": [
        "**TODO:** Going back to our dataset, suppose we want to keep those rows with names that were repeated more than 2000 times in the corresponding year. Note that in the result a name may appear more than once in different years."
      ]
    },
    {
      "cell_type": "code",
      "execution_count": 35,
      "metadata": {
        "id": "88FRrCo6Q4jY",
        "scrolled": true
      },
      "outputs": [
        {
          "data": {
            "text/html": [
              "<div>\n",
              "<style scoped>\n",
              "    .dataframe tbody tr th:only-of-type {\n",
              "        vertical-align: middle;\n",
              "    }\n",
              "\n",
              "    .dataframe tbody tr th {\n",
              "        vertical-align: top;\n",
              "    }\n",
              "\n",
              "    .dataframe thead th {\n",
              "        text-align: right;\n",
              "    }\n",
              "</style>\n",
              "<table border=\"1\" class=\"dataframe\">\n",
              "  <thead>\n",
              "    <tr style=\"text-align: right;\">\n",
              "      <th></th>\n",
              "      <th>name</th>\n",
              "      <th>amount</th>\n",
              "      <th>year</th>\n",
              "      <th>name_length</th>\n",
              "      <th>count</th>\n",
              "    </tr>\n",
              "  </thead>\n",
              "  <tbody>\n",
              "    <tr>\n",
              "      <th>2010</th>\n",
              "      <td>Ivan Alejandro</td>\n",
              "      <td>31</td>\n",
              "      <td>2010</td>\n",
              "      <td>14</td>\n",
              "      <td>135000.0</td>\n",
              "    </tr>\n",
              "    <tr>\n",
              "      <th>2011</th>\n",
              "      <td>Lourdes Morena</td>\n",
              "      <td>31</td>\n",
              "      <td>2010</td>\n",
              "      <td>14</td>\n",
              "      <td>119432.0</td>\n",
              "    </tr>\n",
              "    <tr>\n",
              "      <th>2012</th>\n",
              "      <td>Leonel Nicolas</td>\n",
              "      <td>31</td>\n",
              "      <td>2010</td>\n",
              "      <td>14</td>\n",
              "      <td>203486.0</td>\n",
              "    </tr>\n",
              "    <tr>\n",
              "      <th>2013</th>\n",
              "      <td>Tiziano Joel</td>\n",
              "      <td>31</td>\n",
              "      <td>2010</td>\n",
              "      <td>12</td>\n",
              "      <td>204470.0</td>\n",
              "    </tr>\n",
              "    <tr>\n",
              "      <th>2014</th>\n",
              "      <td>Jeremias Ismael</td>\n",
              "      <td>31</td>\n",
              "      <td>2010</td>\n",
              "      <td>15</td>\n",
              "      <td>209107.0</td>\n",
              "    </tr>\n",
              "  </tbody>\n",
              "</table>\n",
              "</div>"
            ],
            "text/plain": [
              "                 name  amount  year  name_length     count\n",
              "2010   Ivan Alejandro      31  2010           14  135000.0\n",
              "2011   Lourdes Morena      31  2010           14  119432.0\n",
              "2012   Leonel Nicolas      31  2010           14  203486.0\n",
              "2013     Tiziano Joel      31  2010           12  204470.0\n",
              "2014  Jeremias Ismael      31  2010           15  209107.0"
            ]
          },
          "execution_count": 35,
          "metadata": {},
          "output_type": "execute_result"
        }
      ],
      "source": [
        "# Complete this cell with your code\n",
        "\n",
        "# We create a copy:\n",
        "\n",
        "filtered_df_1 = df_names.copy()\n",
        "\n",
        "# Calculate the count of occurrences for each name-year combination:\n",
        "filtered_df_1[\"count\"] = filtered_df_1.groupby([\"year\"])[\"name\"].count()\n",
        "\n",
        "# Filtering the df based on the count condition:\n",
        "filtered_df_1 = filtered_df_1[filtered_df_1[\"count\"] > 2000]\n",
        "\n",
        "# We display the filtered df\n",
        "filtered_df_1"
      ]
    },
    {
      "attachments": {},
      "cell_type": "markdown",
      "metadata": {
        "id": "Ojll_QyOQ4jY"
      },
      "source": [
        "**TODO:** What if we want to select those names with more than 8 characters and from 2010 onwards?"
      ]
    },
    {
      "cell_type": "code",
      "execution_count": 38,
      "metadata": {
        "id": "ZljRV67DQ4jY"
      },
      "outputs": [
        {
          "data": {
            "text/html": [
              "<div>\n",
              "<style scoped>\n",
              "    .dataframe tbody tr th:only-of-type {\n",
              "        vertical-align: middle;\n",
              "    }\n",
              "\n",
              "    .dataframe tbody tr th {\n",
              "        vertical-align: top;\n",
              "    }\n",
              "\n",
              "    .dataframe thead th {\n",
              "        text-align: right;\n",
              "    }\n",
              "</style>\n",
              "<table border=\"1\" class=\"dataframe\">\n",
              "  <thead>\n",
              "    <tr style=\"text-align: right;\">\n",
              "      <th></th>\n",
              "      <th>name</th>\n",
              "      <th>amount</th>\n",
              "      <th>year</th>\n",
              "      <th>name_length</th>\n",
              "    </tr>\n",
              "  </thead>\n",
              "  <tbody>\n",
              "    <tr>\n",
              "      <th>4</th>\n",
              "      <td>Juan Ignacio</td>\n",
              "      <td>2039</td>\n",
              "      <td>2010</td>\n",
              "      <td>12</td>\n",
              "    </tr>\n",
              "    <tr>\n",
              "      <th>7</th>\n",
              "      <td>Valentina</td>\n",
              "      <td>1972</td>\n",
              "      <td>2010</td>\n",
              "      <td>9</td>\n",
              "    </tr>\n",
              "    <tr>\n",
              "      <th>10</th>\n",
              "      <td>Valentino</td>\n",
              "      <td>1665</td>\n",
              "      <td>2010</td>\n",
              "      <td>9</td>\n",
              "    </tr>\n",
              "    <tr>\n",
              "      <th>14</th>\n",
              "      <td>Francisco</td>\n",
              "      <td>1338</td>\n",
              "      <td>2010</td>\n",
              "      <td>9</td>\n",
              "    </tr>\n",
              "    <tr>\n",
              "      <th>25</th>\n",
              "      <td>Juan Cruz</td>\n",
              "      <td>1071</td>\n",
              "      <td>2010</td>\n",
              "      <td>9</td>\n",
              "    </tr>\n",
              "    <tr>\n",
              "      <th>...</th>\n",
              "      <td>...</td>\n",
              "      <td>...</td>\n",
              "      <td>...</td>\n",
              "      <td>...</td>\n",
              "    </tr>\n",
              "    <tr>\n",
              "      <th>871490</th>\n",
              "      <td>Isaias Sebastian Ariel</td>\n",
              "      <td>1</td>\n",
              "      <td>2014</td>\n",
              "      <td>22</td>\n",
              "    </tr>\n",
              "    <tr>\n",
              "      <th>871491</th>\n",
              "      <td>Yanira Valentina</td>\n",
              "      <td>1</td>\n",
              "      <td>2014</td>\n",
              "      <td>16</td>\n",
              "    </tr>\n",
              "    <tr>\n",
              "      <th>871492</th>\n",
              "      <td>Angie Ainara</td>\n",
              "      <td>1</td>\n",
              "      <td>2014</td>\n",
              "      <td>12</td>\n",
              "    </tr>\n",
              "    <tr>\n",
              "      <th>871493</th>\n",
              "      <td>Elias Hernando</td>\n",
              "      <td>1</td>\n",
              "      <td>2014</td>\n",
              "      <td>14</td>\n",
              "    </tr>\n",
              "    <tr>\n",
              "      <th>871494</th>\n",
              "      <td>Daenerys Stormborn of the House Targaryen, Fir...</td>\n",
              "      <td>100</td>\n",
              "      <td>2011</td>\n",
              "      <td>195</td>\n",
              "    </tr>\n",
              "  </tbody>\n",
              "</table>\n",
              "<p>848209 rows × 4 columns</p>\n",
              "</div>"
            ],
            "text/plain": [
              "                                                     name  amount  year   \n",
              "4                                            Juan Ignacio    2039  2010  \\\n",
              "7                                               Valentina    1972  2010   \n",
              "10                                              Valentino    1665  2010   \n",
              "14                                              Francisco    1338  2010   \n",
              "25                                              Juan Cruz    1071  2010   \n",
              "...                                                   ...     ...   ...   \n",
              "871490                             Isaias Sebastian Ariel       1  2014   \n",
              "871491                                   Yanira Valentina       1  2014   \n",
              "871492                                       Angie Ainara       1  2014   \n",
              "871493                                     Elias Hernando       1  2014   \n",
              "871494  Daenerys Stormborn of the House Targaryen, Fir...     100  2011   \n",
              "\n",
              "        name_length  \n",
              "4                12  \n",
              "7                 9  \n",
              "10                9  \n",
              "14                9  \n",
              "25                9  \n",
              "...             ...  \n",
              "871490           22  \n",
              "871491           16  \n",
              "871492           12  \n",
              "871493           14  \n",
              "871494          195  \n",
              "\n",
              "[848209 rows x 4 columns]"
            ]
          },
          "execution_count": 38,
          "metadata": {},
          "output_type": "execute_result"
        }
      ],
      "source": [
        "# Complete this cell with your code\n",
        "\n",
        "# Filter the DataFrame based on the count condition, name length, and year\n",
        "selected_names = df_names[(df_names[\"name_length\"] > 8) & (df_names[\"year\"] >= 2010)]\n",
        "\n",
        "# Display the filtered DataFrame\n",
        "selected_names"
      ]
    },
    {
      "attachments": {},
      "cell_type": "markdown",
      "metadata": {
        "id": "XEwO0yB4Q4jZ"
      },
      "source": [
        "## Statistics"
      ]
    },
    {
      "attachments": {},
      "cell_type": "markdown",
      "metadata": {
        "id": "YIkIyU8IQ4jZ"
      },
      "source": [
        "**TODO:** Obtain the mean value and standard deviation of each numeric column. Is there a function in Pandas that will give us even more statistics?"
      ]
    },
    {
      "cell_type": "code",
      "execution_count": 39,
      "metadata": {
        "id": "G3GLbtlYQ4jZ"
      },
      "outputs": [
        {
          "data": {
            "text/html": [
              "<div>\n",
              "<style scoped>\n",
              "    .dataframe tbody tr th:only-of-type {\n",
              "        vertical-align: middle;\n",
              "    }\n",
              "\n",
              "    .dataframe tbody tr th {\n",
              "        vertical-align: top;\n",
              "    }\n",
              "\n",
              "    .dataframe thead th {\n",
              "        text-align: right;\n",
              "    }\n",
              "</style>\n",
              "<table border=\"1\" class=\"dataframe\">\n",
              "  <thead>\n",
              "    <tr style=\"text-align: right;\">\n",
              "      <th></th>\n",
              "      <th>amount</th>\n",
              "      <th>year</th>\n",
              "      <th>name_length</th>\n",
              "    </tr>\n",
              "  </thead>\n",
              "  <tbody>\n",
              "    <tr>\n",
              "      <th>count</th>\n",
              "      <td>871495.000000</td>\n",
              "      <td>871495.000000</td>\n",
              "      <td>871495.000000</td>\n",
              "    </tr>\n",
              "    <tr>\n",
              "      <th>mean</th>\n",
              "      <td>4.278334</td>\n",
              "      <td>2012.267646</td>\n",
              "      <td>14.357074</td>\n",
              "    </tr>\n",
              "    <tr>\n",
              "      <th>std</th>\n",
              "      <td>34.615844</td>\n",
              "      <td>1.370918</td>\n",
              "      <td>3.677649</td>\n",
              "    </tr>\n",
              "    <tr>\n",
              "      <th>min</th>\n",
              "      <td>1.000000</td>\n",
              "      <td>2010.000000</td>\n",
              "      <td>2.000000</td>\n",
              "    </tr>\n",
              "    <tr>\n",
              "      <th>25%</th>\n",
              "      <td>1.000000</td>\n",
              "      <td>2011.000000</td>\n",
              "      <td>12.000000</td>\n",
              "    </tr>\n",
              "    <tr>\n",
              "      <th>50%</th>\n",
              "      <td>1.000000</td>\n",
              "      <td>2012.000000</td>\n",
              "      <td>14.000000</td>\n",
              "    </tr>\n",
              "    <tr>\n",
              "      <th>75%</th>\n",
              "      <td>2.000000</td>\n",
              "      <td>2013.000000</td>\n",
              "      <td>16.000000</td>\n",
              "    </tr>\n",
              "    <tr>\n",
              "      <th>max</th>\n",
              "      <td>4960.000000</td>\n",
              "      <td>2014.000000</td>\n",
              "      <td>195.000000</td>\n",
              "    </tr>\n",
              "  </tbody>\n",
              "</table>\n",
              "</div>"
            ],
            "text/plain": [
              "              amount           year    name_length\n",
              "count  871495.000000  871495.000000  871495.000000\n",
              "mean        4.278334    2012.267646      14.357074\n",
              "std        34.615844       1.370918       3.677649\n",
              "min         1.000000    2010.000000       2.000000\n",
              "25%         1.000000    2011.000000      12.000000\n",
              "50%         1.000000    2012.000000      14.000000\n",
              "75%         2.000000    2013.000000      16.000000\n",
              "max      4960.000000    2014.000000     195.000000"
            ]
          },
          "execution_count": 39,
          "metadata": {},
          "output_type": "execute_result"
        }
      ],
      "source": [
        "# Complete this cell with your code\n",
        "\n",
        "df_names.describe()"
      ]
    },
    {
      "attachments": {},
      "cell_type": "markdown",
      "metadata": {
        "id": "x9vfcdK0Q4jZ"
      },
      "source": [
        "## Delete a column"
      ]
    },
    {
      "attachments": {},
      "cell_type": "markdown",
      "metadata": {
        "id": "LqOMcrjHQ4ja"
      },
      "source": [
        "**TODO:** Delete the column `amount_chars` from the dataframe."
      ]
    },
    {
      "cell_type": "code",
      "execution_count": 40,
      "metadata": {
        "id": "B1EhPSujQ4ja"
      },
      "outputs": [
        {
          "data": {
            "text/html": [
              "<div>\n",
              "<style scoped>\n",
              "    .dataframe tbody tr th:only-of-type {\n",
              "        vertical-align: middle;\n",
              "    }\n",
              "\n",
              "    .dataframe tbody tr th {\n",
              "        vertical-align: top;\n",
              "    }\n",
              "\n",
              "    .dataframe thead th {\n",
              "        text-align: right;\n",
              "    }\n",
              "</style>\n",
              "<table border=\"1\" class=\"dataframe\">\n",
              "  <thead>\n",
              "    <tr style=\"text-align: right;\">\n",
              "      <th></th>\n",
              "      <th>name</th>\n",
              "      <th>year</th>\n",
              "      <th>name_length</th>\n",
              "    </tr>\n",
              "  </thead>\n",
              "  <tbody>\n",
              "    <tr>\n",
              "      <th>0</th>\n",
              "      <td>Benjamin</td>\n",
              "      <td>2010</td>\n",
              "      <td>8</td>\n",
              "    </tr>\n",
              "    <tr>\n",
              "      <th>1</th>\n",
              "      <td>Sofia</td>\n",
              "      <td>2010</td>\n",
              "      <td>5</td>\n",
              "    </tr>\n",
              "    <tr>\n",
              "      <th>2</th>\n",
              "      <td>Bautista</td>\n",
              "      <td>2010</td>\n",
              "      <td>8</td>\n",
              "    </tr>\n",
              "    <tr>\n",
              "      <th>3</th>\n",
              "      <td>Joaquín</td>\n",
              "      <td>2010</td>\n",
              "      <td>7</td>\n",
              "    </tr>\n",
              "    <tr>\n",
              "      <th>4</th>\n",
              "      <td>Juan Ignacio</td>\n",
              "      <td>2010</td>\n",
              "      <td>12</td>\n",
              "    </tr>\n",
              "    <tr>\n",
              "      <th>...</th>\n",
              "      <td>...</td>\n",
              "      <td>...</td>\n",
              "      <td>...</td>\n",
              "    </tr>\n",
              "    <tr>\n",
              "      <th>871490</th>\n",
              "      <td>Isaias Sebastian Ariel</td>\n",
              "      <td>2014</td>\n",
              "      <td>22</td>\n",
              "    </tr>\n",
              "    <tr>\n",
              "      <th>871491</th>\n",
              "      <td>Yanira Valentina</td>\n",
              "      <td>2014</td>\n",
              "      <td>16</td>\n",
              "    </tr>\n",
              "    <tr>\n",
              "      <th>871492</th>\n",
              "      <td>Angie Ainara</td>\n",
              "      <td>2014</td>\n",
              "      <td>12</td>\n",
              "    </tr>\n",
              "    <tr>\n",
              "      <th>871493</th>\n",
              "      <td>Elias Hernando</td>\n",
              "      <td>2014</td>\n",
              "      <td>14</td>\n",
              "    </tr>\n",
              "    <tr>\n",
              "      <th>871494</th>\n",
              "      <td>Daenerys Stormborn of the House Targaryen, Fir...</td>\n",
              "      <td>2011</td>\n",
              "      <td>195</td>\n",
              "    </tr>\n",
              "  </tbody>\n",
              "</table>\n",
              "<p>871495 rows × 3 columns</p>\n",
              "</div>"
            ],
            "text/plain": [
              "                                                     name  year  name_length\n",
              "0                                                Benjamin  2010            8\n",
              "1                                                   Sofia  2010            5\n",
              "2                                                Bautista  2010            8\n",
              "3                                                 Joaquín  2010            7\n",
              "4                                            Juan Ignacio  2010           12\n",
              "...                                                   ...   ...          ...\n",
              "871490                             Isaias Sebastian Ariel  2014           22\n",
              "871491                                   Yanira Valentina  2014           16\n",
              "871492                                       Angie Ainara  2014           12\n",
              "871493                                     Elias Hernando  2014           14\n",
              "871494  Daenerys Stormborn of the House Targaryen, Fir...  2011          195\n",
              "\n",
              "[871495 rows x 3 columns]"
            ]
          },
          "execution_count": 40,
          "metadata": {},
          "output_type": "execute_result"
        }
      ],
      "source": [
        "# Complete this cell with your code\n",
        "df_names.drop(\"amount\", axis=1)"
      ]
    },
    {
      "attachments": {},
      "cell_type": "markdown",
      "metadata": {
        "id": "XE195QIAQ4ja"
      },
      "source": [
        "## Sorting by column"
      ]
    },
    {
      "attachments": {},
      "cell_type": "markdown",
      "metadata": {
        "id": "GudaIbBhQ4ja"
      },
      "source": [
        "**TODO:** Sort the dataframe by `amount` and descending"
      ]
    },
    {
      "cell_type": "code",
      "execution_count": 41,
      "metadata": {
        "id": "wbH-kHiRQ4jb"
      },
      "outputs": [
        {
          "data": {
            "text/html": [
              "<div>\n",
              "<style scoped>\n",
              "    .dataframe tbody tr th:only-of-type {\n",
              "        vertical-align: middle;\n",
              "    }\n",
              "\n",
              "    .dataframe tbody tr th {\n",
              "        vertical-align: top;\n",
              "    }\n",
              "\n",
              "    .dataframe thead th {\n",
              "        text-align: right;\n",
              "    }\n",
              "</style>\n",
              "<table border=\"1\" class=\"dataframe\">\n",
              "  <thead>\n",
              "    <tr style=\"text-align: right;\">\n",
              "      <th></th>\n",
              "      <th>name</th>\n",
              "      <th>amount</th>\n",
              "      <th>year</th>\n",
              "      <th>name_length</th>\n",
              "    </tr>\n",
              "  </thead>\n",
              "  <tbody>\n",
              "    <tr>\n",
              "      <th>457917</th>\n",
              "      <td>Benjamin</td>\n",
              "      <td>4960</td>\n",
              "      <td>2013</td>\n",
              "      <td>8</td>\n",
              "    </tr>\n",
              "    <tr>\n",
              "      <th>254431</th>\n",
              "      <td>Benjamin</td>\n",
              "      <td>4724</td>\n",
              "      <td>2012</td>\n",
              "      <td>8</td>\n",
              "    </tr>\n",
              "    <tr>\n",
              "      <th>662387</th>\n",
              "      <td>Benjamin</td>\n",
              "      <td>4286</td>\n",
              "      <td>2014</td>\n",
              "      <td>8</td>\n",
              "    </tr>\n",
              "    <tr>\n",
              "      <th>457918</th>\n",
              "      <td>Isabella</td>\n",
              "      <td>3587</td>\n",
              "      <td>2013</td>\n",
              "      <td>8</td>\n",
              "    </tr>\n",
              "    <tr>\n",
              "      <th>662388</th>\n",
              "      <td>Martina</td>\n",
              "      <td>3563</td>\n",
              "      <td>2014</td>\n",
              "      <td>7</td>\n",
              "    </tr>\n",
              "    <tr>\n",
              "      <th>...</th>\n",
              "      <td>...</td>\n",
              "      <td>...</td>\n",
              "      <td>...</td>\n",
              "      <td>...</td>\n",
              "    </tr>\n",
              "    <tr>\n",
              "      <th>387497</th>\n",
              "      <td>Abraham Jose Emanuel</td>\n",
              "      <td>1</td>\n",
              "      <td>2012</td>\n",
              "      <td>20</td>\n",
              "    </tr>\n",
              "    <tr>\n",
              "      <th>387498</th>\n",
              "      <td>Yeison Dionel</td>\n",
              "      <td>1</td>\n",
              "      <td>2012</td>\n",
              "      <td>13</td>\n",
              "    </tr>\n",
              "    <tr>\n",
              "      <th>387499</th>\n",
              "      <td>Sherin Luisel</td>\n",
              "      <td>1</td>\n",
              "      <td>2012</td>\n",
              "      <td>13</td>\n",
              "    </tr>\n",
              "    <tr>\n",
              "      <th>387500</th>\n",
              "      <td>Antuan Hernán William</td>\n",
              "      <td>1</td>\n",
              "      <td>2012</td>\n",
              "      <td>21</td>\n",
              "    </tr>\n",
              "    <tr>\n",
              "      <th>435747</th>\n",
              "      <td>YazmÍn Zaira</td>\n",
              "      <td>1</td>\n",
              "      <td>2012</td>\n",
              "      <td>12</td>\n",
              "    </tr>\n",
              "  </tbody>\n",
              "</table>\n",
              "<p>871495 rows × 4 columns</p>\n",
              "</div>"
            ],
            "text/plain": [
              "                         name  amount  year  name_length\n",
              "457917               Benjamin    4960  2013            8\n",
              "254431               Benjamin    4724  2012            8\n",
              "662387               Benjamin    4286  2014            8\n",
              "457918               Isabella    3587  2013            8\n",
              "662388                Martina    3563  2014            7\n",
              "...                       ...     ...   ...          ...\n",
              "387497   Abraham Jose Emanuel       1  2012           20\n",
              "387498          Yeison Dionel       1  2012           13\n",
              "387499          Sherin Luisel       1  2012           13\n",
              "387500  Antuan Hernán William       1  2012           21\n",
              "435747           YazmÍn Zaira       1  2012           12\n",
              "\n",
              "[871495 rows x 4 columns]"
            ]
          },
          "execution_count": 41,
          "metadata": {},
          "output_type": "execute_result"
        }
      ],
      "source": [
        "# Complete this cell with your code\n",
        "df_names.sort_values(\"amount\", ascending=False)"
      ]
    },
    {
      "attachments": {},
      "cell_type": "markdown",
      "metadata": {
        "id": "5xpwZ5UnQ4jb"
      },
      "source": [
        "## Pandas groupby and plot"
      ]
    },
    {
      "attachments": {},
      "cell_type": "markdown",
      "metadata": {
        "id": "WQwTuXNWQ4jb"
      },
      "source": [
        "**TODO:** Group the number of names by `year` and plot it using vertical bars"
      ]
    },
    {
      "cell_type": "code",
      "execution_count": 43,
      "metadata": {
        "id": "jaT3BhtEQ4jb"
      },
      "outputs": [
        {
          "data": {
            "image/png": "[encoded data removed]",
            "text/plain": [
              "<Figure size 1000x600 with 1 Axes>"
            ]
          },
          "metadata": {},
          "output_type": "display_data"
        }
      ],
      "source": [
        "# Complete this cell with your code\n",
        "\n",
        "# Import libraries:\n",
        "import matplotlib.pyplot as plt\n",
        "\n",
        "# Group the number of names by 'year':\n",
        "name_counts = df_names.groupby(\"year\").size()\n",
        "\n",
        "# Plotting the grouped data using vertical bars:\n",
        "name_counts.plot(kind=\"bar\", figsize=(10, 6))\n",
        "plt.xlabel(\"Year\")\n",
        "plt.ylabel(\"Number of names\")\n",
        "plt.title(\"Number of names by Year\")\n",
        "plt.show()"
      ]
    }
  ],
  "metadata": {
    "colab": {
      "provenance": []
    },
    "kernelspec": {
      "display_name": "Python 3",
      "language": "python",
      "name": "python3"
    },
    "language_info": {
      "codemirror_mode": {
        "name": "ipython",
        "version": 3
      },
      "file_extension": ".py",
      "mimetype": "text/x-python",
      "name": "python",
      "nbconvert_exporter": "python",
      "pygments_lexer": "ipython3",
      "version": "3.11.3"
    },
    "vscode": {
      "interpreter": {
        "hash": "c261aea317cc0286b3b3261fbba9abdec21eaa57589985bb7a274bf54d6cc0a7"
      }
    }
  },
  "nbformat": 4,
  "nbformat_minor": 0
}
