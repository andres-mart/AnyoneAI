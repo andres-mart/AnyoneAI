{
 "cells": [
  {
   "attachments": {},
   "cell_type": "markdown",
   "metadata": {},
   "source": [
    "# Taxi Trips Analysis Project"
   ]
  },
  {
   "cell_type": "code",
   "execution_count": 439,
   "metadata": {},
   "outputs": [],
   "source": [
    "import numpy as np\n",
    "import pandas as pd\n",
    "import datetime as dt\n",
    "import matplotlib.pyplot as plt\n",
    "import seaborn as sns\n",
    "\n",
    "sns.set_theme(style=\"whitegrid\")"
   ]
  },
  {
   "attachments": {},
   "cell_type": "markdown",
   "metadata": {},
   "source": [
    "## 1: Introduction"
   ]
  },
  {
   "cell_type": "code",
   "execution_count": 440,
   "metadata": {},
   "outputs": [],
   "source": [
    "# Loading the dataset:\n",
    "url = \"C://Users//Andres//Desktop//AnyoneAI//Proyecto_Final//yellow_tripdata_2022-05.parquet\"\n",
    "df = pd.read_parquet(url, engine=\"fastparquet\")"
   ]
  },
  {
   "cell_type": "code",
   "execution_count": 441,
   "metadata": {},
   "outputs": [
    {
     "data": {
      "text/html": [
       "<div>\n",
       "<style scoped>\n",
       "    .dataframe tbody tr th:only-of-type {\n",
       "        vertical-align: middle;\n",
       "    }\n",
       "\n",
       "    .dataframe tbody tr th {\n",
       "        vertical-align: top;\n",
       "    }\n",
       "\n",
       "    .dataframe thead th {\n",
       "        text-align: right;\n",
       "    }\n",
       "</style>\n",
       "<table border=\"1\" class=\"dataframe\">\n",
       "  <thead>\n",
       "    <tr style=\"text-align: right;\">\n",
       "      <th></th>\n",
       "      <th>VendorID</th>\n",
       "      <th>tpep_pickup_datetime</th>\n",
       "      <th>tpep_dropoff_datetime</th>\n",
       "      <th>passenger_count</th>\n",
       "      <th>trip_distance</th>\n",
       "      <th>RatecodeID</th>\n",
       "      <th>store_and_fwd_flag</th>\n",
       "      <th>PULocationID</th>\n",
       "      <th>DOLocationID</th>\n",
       "      <th>payment_type</th>\n",
       "      <th>fare_amount</th>\n",
       "      <th>extra</th>\n",
       "      <th>mta_tax</th>\n",
       "      <th>tip_amount</th>\n",
       "      <th>tolls_amount</th>\n",
       "      <th>improvement_surcharge</th>\n",
       "      <th>total_amount</th>\n",
       "      <th>congestion_surcharge</th>\n",
       "      <th>airport_fee</th>\n",
       "    </tr>\n",
       "  </thead>\n",
       "  <tbody>\n",
       "    <tr>\n",
       "      <th>0</th>\n",
       "      <td>1</td>\n",
       "      <td>2022-05-01 00:00:36</td>\n",
       "      <td>2022-05-01 00:19:18</td>\n",
       "      <td>1.0</td>\n",
       "      <td>4.1</td>\n",
       "      <td>1.0</td>\n",
       "      <td>N</td>\n",
       "      <td>246</td>\n",
       "      <td>151</td>\n",
       "      <td>2</td>\n",
       "      <td>17.0</td>\n",
       "      <td>3.0</td>\n",
       "      <td>0.5</td>\n",
       "      <td>0.00</td>\n",
       "      <td>0.0</td>\n",
       "      <td>0.3</td>\n",
       "      <td>20.80</td>\n",
       "      <td>2.5</td>\n",
       "      <td>0.0</td>\n",
       "    </tr>\n",
       "    <tr>\n",
       "      <th>1</th>\n",
       "      <td>1</td>\n",
       "      <td>2022-05-01 00:27:44</td>\n",
       "      <td>2022-05-01 00:41:33</td>\n",
       "      <td>1.0</td>\n",
       "      <td>2.3</td>\n",
       "      <td>1.0</td>\n",
       "      <td>N</td>\n",
       "      <td>238</td>\n",
       "      <td>74</td>\n",
       "      <td>2</td>\n",
       "      <td>11.0</td>\n",
       "      <td>3.0</td>\n",
       "      <td>0.5</td>\n",
       "      <td>0.00</td>\n",
       "      <td>0.0</td>\n",
       "      <td>0.3</td>\n",
       "      <td>14.80</td>\n",
       "      <td>2.5</td>\n",
       "      <td>0.0</td>\n",
       "    </tr>\n",
       "    <tr>\n",
       "      <th>2</th>\n",
       "      <td>1</td>\n",
       "      <td>2022-05-01 00:59:00</td>\n",
       "      <td>2022-05-01 01:14:22</td>\n",
       "      <td>1.0</td>\n",
       "      <td>4.2</td>\n",
       "      <td>1.0</td>\n",
       "      <td>N</td>\n",
       "      <td>163</td>\n",
       "      <td>260</td>\n",
       "      <td>2</td>\n",
       "      <td>15.5</td>\n",
       "      <td>3.0</td>\n",
       "      <td>0.5</td>\n",
       "      <td>0.00</td>\n",
       "      <td>0.0</td>\n",
       "      <td>0.3</td>\n",
       "      <td>19.30</td>\n",
       "      <td>2.5</td>\n",
       "      <td>0.0</td>\n",
       "    </tr>\n",
       "    <tr>\n",
       "      <th>3</th>\n",
       "      <td>1</td>\n",
       "      <td>2022-05-01 00:48:18</td>\n",
       "      <td>2022-05-01 01:28:02</td>\n",
       "      <td>1.0</td>\n",
       "      <td>0.0</td>\n",
       "      <td>1.0</td>\n",
       "      <td>N</td>\n",
       "      <td>79</td>\n",
       "      <td>182</td>\n",
       "      <td>1</td>\n",
       "      <td>41.2</td>\n",
       "      <td>0.0</td>\n",
       "      <td>0.5</td>\n",
       "      <td>0.00</td>\n",
       "      <td>0.0</td>\n",
       "      <td>0.3</td>\n",
       "      <td>42.00</td>\n",
       "      <td>0.0</td>\n",
       "      <td>0.0</td>\n",
       "    </tr>\n",
       "    <tr>\n",
       "      <th>4</th>\n",
       "      <td>1</td>\n",
       "      <td>2022-05-01 00:28:26</td>\n",
       "      <td>2022-05-01 00:37:49</td>\n",
       "      <td>1.0</td>\n",
       "      <td>1.6</td>\n",
       "      <td>1.0</td>\n",
       "      <td>N</td>\n",
       "      <td>238</td>\n",
       "      <td>75</td>\n",
       "      <td>1</td>\n",
       "      <td>7.5</td>\n",
       "      <td>3.0</td>\n",
       "      <td>0.5</td>\n",
       "      <td>2.25</td>\n",
       "      <td>0.0</td>\n",
       "      <td>0.3</td>\n",
       "      <td>13.55</td>\n",
       "      <td>2.5</td>\n",
       "      <td>0.0</td>\n",
       "    </tr>\n",
       "  </tbody>\n",
       "</table>\n",
       "</div>"
      ],
      "text/plain": [
       "   VendorID tpep_pickup_datetime tpep_dropoff_datetime  passenger_count   \n",
       "0         1  2022-05-01 00:00:36   2022-05-01 00:19:18              1.0  \\\n",
       "1         1  2022-05-01 00:27:44   2022-05-01 00:41:33              1.0   \n",
       "2         1  2022-05-01 00:59:00   2022-05-01 01:14:22              1.0   \n",
       "3         1  2022-05-01 00:48:18   2022-05-01 01:28:02              1.0   \n",
       "4         1  2022-05-01 00:28:26   2022-05-01 00:37:49              1.0   \n",
       "\n",
       "   trip_distance  RatecodeID store_and_fwd_flag  PULocationID  DOLocationID   \n",
       "0            4.1         1.0                  N           246           151  \\\n",
       "1            2.3         1.0                  N           238            74   \n",
       "2            4.2         1.0                  N           163           260   \n",
       "3            0.0         1.0                  N            79           182   \n",
       "4            1.6         1.0                  N           238            75   \n",
       "\n",
       "   payment_type  fare_amount  extra  mta_tax  tip_amount  tolls_amount   \n",
       "0             2         17.0    3.0      0.5        0.00           0.0  \\\n",
       "1             2         11.0    3.0      0.5        0.00           0.0   \n",
       "2             2         15.5    3.0      0.5        0.00           0.0   \n",
       "3             1         41.2    0.0      0.5        0.00           0.0   \n",
       "4             1          7.5    3.0      0.5        2.25           0.0   \n",
       "\n",
       "   improvement_surcharge  total_amount  congestion_surcharge  airport_fee  \n",
       "0                    0.3         20.80                   2.5          0.0  \n",
       "1                    0.3         14.80                   2.5          0.0  \n",
       "2                    0.3         19.30                   2.5          0.0  \n",
       "3                    0.3         42.00                   0.0          0.0  \n",
       "4                    0.3         13.55                   2.5          0.0  "
      ]
     },
     "execution_count": 441,
     "metadata": {},
     "output_type": "execute_result"
    }
   ],
   "source": [
    "# We show the first 5 rows of the dataframe:\n",
    "df.head()"
   ]
  },
  {
   "cell_type": "code",
   "execution_count": 442,
   "metadata": {},
   "outputs": [
    {
     "name": "stdout",
     "output_type": "stream",
     "text": [
      "(3588295, 19)\n",
      "VendorID                          int64\n",
      "tpep_pickup_datetime     datetime64[ns]\n",
      "tpep_dropoff_datetime    datetime64[ns]\n",
      "passenger_count                 float64\n",
      "trip_distance                   float64\n",
      "RatecodeID                      float64\n",
      "store_and_fwd_flag               object\n",
      "PULocationID                      int64\n",
      "DOLocationID                      int64\n",
      "payment_type                      int64\n",
      "fare_amount                     float64\n",
      "extra                           float64\n",
      "mta_tax                         float64\n",
      "tip_amount                      float64\n",
      "tolls_amount                    float64\n",
      "improvement_surcharge           float64\n",
      "total_amount                    float64\n",
      "congestion_surcharge            float64\n",
      "airport_fee                     float64\n",
      "dtype: object\n"
     ]
    }
   ],
   "source": [
    "# We show the shape of the dataframe and the data type of values in the columns:\n",
    "print(df.shape)\n",
    "print(df.dtypes)"
   ]
  },
  {
   "cell_type": "code",
   "execution_count": 443,
   "metadata": {},
   "outputs": [
    {
     "data": {
      "text/plain": [
       "VendorID                      0\n",
       "tpep_pickup_datetime          0\n",
       "tpep_dropoff_datetime         0\n",
       "passenger_count          129524\n",
       "trip_distance                 0\n",
       "RatecodeID               129524\n",
       "store_and_fwd_flag       129524\n",
       "PULocationID                  0\n",
       "DOLocationID                  0\n",
       "payment_type                  0\n",
       "fare_amount                   0\n",
       "extra                         0\n",
       "mta_tax                       0\n",
       "tip_amount                    0\n",
       "tolls_amount                  0\n",
       "improvement_surcharge         0\n",
       "total_amount                  0\n",
       "congestion_surcharge     129524\n",
       "airport_fee              129524\n",
       "dtype: int64"
      ]
     },
     "execution_count": 443,
     "metadata": {},
     "output_type": "execute_result"
    }
   ],
   "source": [
    "# Check for missing values\n",
    "df.isna().sum()"
   ]
  },
  {
   "cell_type": "code",
   "execution_count": 444,
   "metadata": {},
   "outputs": [
    {
     "data": {
      "text/html": [
       "<div>\n",
       "<style scoped>\n",
       "    .dataframe tbody tr th:only-of-type {\n",
       "        vertical-align: middle;\n",
       "    }\n",
       "\n",
       "    .dataframe tbody tr th {\n",
       "        vertical-align: top;\n",
       "    }\n",
       "\n",
       "    .dataframe thead th {\n",
       "        text-align: right;\n",
       "    }\n",
       "</style>\n",
       "<table border=\"1\" class=\"dataframe\">\n",
       "  <thead>\n",
       "    <tr style=\"text-align: right;\">\n",
       "      <th></th>\n",
       "      <th>count</th>\n",
       "      <th>mean</th>\n",
       "      <th>min</th>\n",
       "      <th>25%</th>\n",
       "      <th>50%</th>\n",
       "      <th>75%</th>\n",
       "      <th>max</th>\n",
       "      <th>std</th>\n",
       "    </tr>\n",
       "  </thead>\n",
       "  <tbody>\n",
       "    <tr>\n",
       "      <th>VendorID</th>\n",
       "      <td>3588295.0</td>\n",
       "      <td>1.713103</td>\n",
       "      <td>1.0</td>\n",
       "      <td>1.0</td>\n",
       "      <td>2.0</td>\n",
       "      <td>2.0</td>\n",
       "      <td>6.0</td>\n",
       "      <td>0.488809</td>\n",
       "    </tr>\n",
       "    <tr>\n",
       "      <th>tpep_pickup_datetime</th>\n",
       "      <td>3588295</td>\n",
       "      <td>2022-05-16 07:50:29.219311616</td>\n",
       "      <td>2003-01-01 00:06:06</td>\n",
       "      <td>2022-05-08 18:14:16.500000</td>\n",
       "      <td>2022-05-16 09:14:42</td>\n",
       "      <td>2022-05-23 18:03:17</td>\n",
       "      <td>2022-06-01 23:55:30</td>\n",
       "      <td>NaN</td>\n",
       "    </tr>\n",
       "    <tr>\n",
       "      <th>tpep_dropoff_datetime</th>\n",
       "      <td>3588295</td>\n",
       "      <td>2022-05-16 08:08:42.275203072</td>\n",
       "      <td>2003-01-01 00:31:38</td>\n",
       "      <td>2022-05-08 18:32:36</td>\n",
       "      <td>2022-05-16 09:33:15</td>\n",
       "      <td>2022-05-23 18:21:03.500000</td>\n",
       "      <td>2022-06-02 00:03:51</td>\n",
       "      <td>NaN</td>\n",
       "    </tr>\n",
       "    <tr>\n",
       "      <th>passenger_count</th>\n",
       "      <td>3458771.0</td>\n",
       "      <td>1.393923</td>\n",
       "      <td>0.0</td>\n",
       "      <td>1.0</td>\n",
       "      <td>1.0</td>\n",
       "      <td>1.0</td>\n",
       "      <td>9.0</td>\n",
       "      <td>0.955549</td>\n",
       "    </tr>\n",
       "    <tr>\n",
       "      <th>trip_distance</th>\n",
       "      <td>3588295.0</td>\n",
       "      <td>6.856861</td>\n",
       "      <td>0.0</td>\n",
       "      <td>1.15</td>\n",
       "      <td>1.96</td>\n",
       "      <td>3.73</td>\n",
       "      <td>357192.65</td>\n",
       "      <td>690.848782</td>\n",
       "    </tr>\n",
       "    <tr>\n",
       "      <th>RatecodeID</th>\n",
       "      <td>3458771.0</td>\n",
       "      <td>1.365674</td>\n",
       "      <td>1.0</td>\n",
       "      <td>1.0</td>\n",
       "      <td>1.0</td>\n",
       "      <td>1.0</td>\n",
       "      <td>99.0</td>\n",
       "      <td>5.239789</td>\n",
       "    </tr>\n",
       "    <tr>\n",
       "      <th>PULocationID</th>\n",
       "      <td>3588295.0</td>\n",
       "      <td>164.573797</td>\n",
       "      <td>1.0</td>\n",
       "      <td>132.0</td>\n",
       "      <td>162.0</td>\n",
       "      <td>234.0</td>\n",
       "      <td>265.0</td>\n",
       "      <td>65.628132</td>\n",
       "    </tr>\n",
       "    <tr>\n",
       "      <th>DOLocationID</th>\n",
       "      <td>3588295.0</td>\n",
       "      <td>162.551711</td>\n",
       "      <td>1.0</td>\n",
       "      <td>113.0</td>\n",
       "      <td>162.0</td>\n",
       "      <td>234.0</td>\n",
       "      <td>265.0</td>\n",
       "      <td>70.279259</td>\n",
       "    </tr>\n",
       "    <tr>\n",
       "      <th>payment_type</th>\n",
       "      <td>3588295.0</td>\n",
       "      <td>1.183209</td>\n",
       "      <td>0.0</td>\n",
       "      <td>1.0</td>\n",
       "      <td>1.0</td>\n",
       "      <td>1.0</td>\n",
       "      <td>4.0</td>\n",
       "      <td>0.507599</td>\n",
       "    </tr>\n",
       "    <tr>\n",
       "      <th>fare_amount</th>\n",
       "      <td>3588295.0</td>\n",
       "      <td>15.168132</td>\n",
       "      <td>-1311.5</td>\n",
       "      <td>7.0</td>\n",
       "      <td>10.5</td>\n",
       "      <td>17.0</td>\n",
       "      <td>6966.5</td>\n",
       "      <td>14.89484</td>\n",
       "    </tr>\n",
       "    <tr>\n",
       "      <th>extra</th>\n",
       "      <td>3588295.0</td>\n",
       "      <td>1.020728</td>\n",
       "      <td>-4.5</td>\n",
       "      <td>0.0</td>\n",
       "      <td>0.5</td>\n",
       "      <td>2.5</td>\n",
       "      <td>8.8</td>\n",
       "      <td>1.256724</td>\n",
       "    </tr>\n",
       "    <tr>\n",
       "      <th>mta_tax</th>\n",
       "      <td>3588295.0</td>\n",
       "      <td>0.48911</td>\n",
       "      <td>-0.5</td>\n",
       "      <td>0.5</td>\n",
       "      <td>0.5</td>\n",
       "      <td>0.5</td>\n",
       "      <td>3.3</td>\n",
       "      <td>0.090089</td>\n",
       "    </tr>\n",
       "    <tr>\n",
       "      <th>tip_amount</th>\n",
       "      <td>3588295.0</td>\n",
       "      <td>2.824744</td>\n",
       "      <td>-145.7</td>\n",
       "      <td>1.0</td>\n",
       "      <td>2.16</td>\n",
       "      <td>3.46</td>\n",
       "      <td>665.0</td>\n",
       "      <td>3.368739</td>\n",
       "    </tr>\n",
       "    <tr>\n",
       "      <th>tolls_amount</th>\n",
       "      <td>3588295.0</td>\n",
       "      <td>0.582776</td>\n",
       "      <td>-50.75</td>\n",
       "      <td>0.0</td>\n",
       "      <td>0.0</td>\n",
       "      <td>0.0</td>\n",
       "      <td>813.75</td>\n",
       "      <td>2.173699</td>\n",
       "    </tr>\n",
       "    <tr>\n",
       "      <th>improvement_surcharge</th>\n",
       "      <td>3588295.0</td>\n",
       "      <td>0.29643</td>\n",
       "      <td>-0.3</td>\n",
       "      <td>0.3</td>\n",
       "      <td>0.3</td>\n",
       "      <td>0.3</td>\n",
       "      <td>0.3</td>\n",
       "      <td>0.045769</td>\n",
       "    </tr>\n",
       "    <tr>\n",
       "      <th>total_amount</th>\n",
       "      <td>3588295.0</td>\n",
       "      <td>22.078401</td>\n",
       "      <td>-1314.8</td>\n",
       "      <td>12.35</td>\n",
       "      <td>16.3</td>\n",
       "      <td>23.76</td>\n",
       "      <td>6970.8</td>\n",
       "      <td>18.486835</td>\n",
       "    </tr>\n",
       "    <tr>\n",
       "      <th>congestion_surcharge</th>\n",
       "      <td>3458771.0</td>\n",
       "      <td>2.282808</td>\n",
       "      <td>-2.5</td>\n",
       "      <td>2.5</td>\n",
       "      <td>2.5</td>\n",
       "      <td>2.5</td>\n",
       "      <td>2.75</td>\n",
       "      <td>0.745242</td>\n",
       "    </tr>\n",
       "    <tr>\n",
       "      <th>airport_fee</th>\n",
       "      <td>3458771.0</td>\n",
       "      <td>0.100836</td>\n",
       "      <td>-1.25</td>\n",
       "      <td>0.0</td>\n",
       "      <td>0.0</td>\n",
       "      <td>0.0</td>\n",
       "      <td>1.25</td>\n",
       "      <td>0.343448</td>\n",
       "    </tr>\n",
       "  </tbody>\n",
       "</table>\n",
       "</div>"
      ],
      "text/plain": [
       "                           count                           mean   \n",
       "VendorID               3588295.0                       1.713103  \\\n",
       "tpep_pickup_datetime     3588295  2022-05-16 07:50:29.219311616   \n",
       "tpep_dropoff_datetime    3588295  2022-05-16 08:08:42.275203072   \n",
       "passenger_count        3458771.0                       1.393923   \n",
       "trip_distance          3588295.0                       6.856861   \n",
       "RatecodeID             3458771.0                       1.365674   \n",
       "PULocationID           3588295.0                     164.573797   \n",
       "DOLocationID           3588295.0                     162.551711   \n",
       "payment_type           3588295.0                       1.183209   \n",
       "fare_amount            3588295.0                      15.168132   \n",
       "extra                  3588295.0                       1.020728   \n",
       "mta_tax                3588295.0                        0.48911   \n",
       "tip_amount             3588295.0                       2.824744   \n",
       "tolls_amount           3588295.0                       0.582776   \n",
       "improvement_surcharge  3588295.0                        0.29643   \n",
       "total_amount           3588295.0                      22.078401   \n",
       "congestion_surcharge   3458771.0                       2.282808   \n",
       "airport_fee            3458771.0                       0.100836   \n",
       "\n",
       "                                       min                         25%   \n",
       "VendorID                               1.0                         1.0  \\\n",
       "tpep_pickup_datetime   2003-01-01 00:06:06  2022-05-08 18:14:16.500000   \n",
       "tpep_dropoff_datetime  2003-01-01 00:31:38         2022-05-08 18:32:36   \n",
       "passenger_count                        0.0                         1.0   \n",
       "trip_distance                          0.0                        1.15   \n",
       "RatecodeID                             1.0                         1.0   \n",
       "PULocationID                           1.0                       132.0   \n",
       "DOLocationID                           1.0                       113.0   \n",
       "payment_type                           0.0                         1.0   \n",
       "fare_amount                        -1311.5                         7.0   \n",
       "extra                                 -4.5                         0.0   \n",
       "mta_tax                               -0.5                         0.5   \n",
       "tip_amount                          -145.7                         1.0   \n",
       "tolls_amount                        -50.75                         0.0   \n",
       "improvement_surcharge                 -0.3                         0.3   \n",
       "total_amount                       -1314.8                       12.35   \n",
       "congestion_surcharge                  -2.5                         2.5   \n",
       "airport_fee                          -1.25                         0.0   \n",
       "\n",
       "                                       50%                         75%   \n",
       "VendorID                               2.0                         2.0  \\\n",
       "tpep_pickup_datetime   2022-05-16 09:14:42         2022-05-23 18:03:17   \n",
       "tpep_dropoff_datetime  2022-05-16 09:33:15  2022-05-23 18:21:03.500000   \n",
       "passenger_count                        1.0                         1.0   \n",
       "trip_distance                         1.96                        3.73   \n",
       "RatecodeID                             1.0                         1.0   \n",
       "PULocationID                         162.0                       234.0   \n",
       "DOLocationID                         162.0                       234.0   \n",
       "payment_type                           1.0                         1.0   \n",
       "fare_amount                           10.5                        17.0   \n",
       "extra                                  0.5                         2.5   \n",
       "mta_tax                                0.5                         0.5   \n",
       "tip_amount                            2.16                        3.46   \n",
       "tolls_amount                           0.0                         0.0   \n",
       "improvement_surcharge                  0.3                         0.3   \n",
       "total_amount                          16.3                       23.76   \n",
       "congestion_surcharge                   2.5                         2.5   \n",
       "airport_fee                            0.0                         0.0   \n",
       "\n",
       "                                       max         std  \n",
       "VendorID                               6.0    0.488809  \n",
       "tpep_pickup_datetime   2022-06-01 23:55:30         NaN  \n",
       "tpep_dropoff_datetime  2022-06-02 00:03:51         NaN  \n",
       "passenger_count                        9.0    0.955549  \n",
       "trip_distance                    357192.65  690.848782  \n",
       "RatecodeID                            99.0    5.239789  \n",
       "PULocationID                         265.0   65.628132  \n",
       "DOLocationID                         265.0   70.279259  \n",
       "payment_type                           4.0    0.507599  \n",
       "fare_amount                         6966.5    14.89484  \n",
       "extra                                  8.8    1.256724  \n",
       "mta_tax                                3.3    0.090089  \n",
       "tip_amount                           665.0    3.368739  \n",
       "tolls_amount                        813.75    2.173699  \n",
       "improvement_surcharge                  0.3    0.045769  \n",
       "total_amount                        6970.8   18.486835  \n",
       "congestion_surcharge                  2.75    0.745242  \n",
       "airport_fee                           1.25    0.343448  "
      ]
     },
     "execution_count": 444,
     "metadata": {},
     "output_type": "execute_result"
    }
   ],
   "source": [
    "# We show some descriptive statistics of the numerical columns\n",
    "df.describe().T"
   ]
  },
  {
   "attachments": {},
   "cell_type": "markdown",
   "metadata": {},
   "source": [
    "------"
   ]
  },
  {
   "cell_type": "code",
   "execution_count": 445,
   "metadata": {},
   "outputs": [
    {
     "data": {
      "text/html": [
       "<div>\n",
       "<style scoped>\n",
       "    .dataframe tbody tr th:only-of-type {\n",
       "        vertical-align: middle;\n",
       "    }\n",
       "\n",
       "    .dataframe tbody tr th {\n",
       "        vertical-align: top;\n",
       "    }\n",
       "\n",
       "    .dataframe thead th {\n",
       "        text-align: right;\n",
       "    }\n",
       "</style>\n",
       "<table border=\"1\" class=\"dataframe\">\n",
       "  <thead>\n",
       "    <tr style=\"text-align: right;\">\n",
       "      <th></th>\n",
       "      <th>VendorID</th>\n",
       "      <th>tpep_pickup_datetime</th>\n",
       "      <th>tpep_dropoff_datetime</th>\n",
       "      <th>passenger_count</th>\n",
       "      <th>trip_distance</th>\n",
       "      <th>RatecodeID</th>\n",
       "      <th>store_and_fwd_flag</th>\n",
       "      <th>PULocationID</th>\n",
       "      <th>DOLocationID</th>\n",
       "      <th>payment_type</th>\n",
       "      <th>fare_amount</th>\n",
       "      <th>extra</th>\n",
       "      <th>mta_tax</th>\n",
       "      <th>tip_amount</th>\n",
       "      <th>tolls_amount</th>\n",
       "      <th>improvement_surcharge</th>\n",
       "      <th>total_amount</th>\n",
       "      <th>congestion_surcharge</th>\n",
       "      <th>airport_fee</th>\n",
       "    </tr>\n",
       "  </thead>\n",
       "  <tbody>\n",
       "    <tr>\n",
       "      <th>100</th>\n",
       "      <td>2</td>\n",
       "      <td>2022-05-01 00:46:22</td>\n",
       "      <td>2022-05-01 01:04:25</td>\n",
       "      <td>1.0</td>\n",
       "      <td>4.43</td>\n",
       "      <td>1.0</td>\n",
       "      <td>N</td>\n",
       "      <td>230</td>\n",
       "      <td>7</td>\n",
       "      <td>4</td>\n",
       "      <td>-16.50</td>\n",
       "      <td>-0.5</td>\n",
       "      <td>-0.5</td>\n",
       "      <td>0.00</td>\n",
       "      <td>0.0</td>\n",
       "      <td>-0.3</td>\n",
       "      <td>-20.30</td>\n",
       "      <td>-2.5</td>\n",
       "      <td>0.0</td>\n",
       "    </tr>\n",
       "    <tr>\n",
       "      <th>129</th>\n",
       "      <td>2</td>\n",
       "      <td>2022-05-01 00:31:38</td>\n",
       "      <td>2022-05-01 00:33:23</td>\n",
       "      <td>1.0</td>\n",
       "      <td>0.32</td>\n",
       "      <td>1.0</td>\n",
       "      <td>N</td>\n",
       "      <td>263</td>\n",
       "      <td>141</td>\n",
       "      <td>4</td>\n",
       "      <td>-3.50</td>\n",
       "      <td>-0.5</td>\n",
       "      <td>-0.5</td>\n",
       "      <td>0.00</td>\n",
       "      <td>0.0</td>\n",
       "      <td>-0.3</td>\n",
       "      <td>-7.30</td>\n",
       "      <td>-2.5</td>\n",
       "      <td>0.0</td>\n",
       "    </tr>\n",
       "    <tr>\n",
       "      <th>602</th>\n",
       "      <td>2</td>\n",
       "      <td>2022-05-01 00:44:58</td>\n",
       "      <td>2022-05-01 00:48:58</td>\n",
       "      <td>1.0</td>\n",
       "      <td>0.79</td>\n",
       "      <td>1.0</td>\n",
       "      <td>N</td>\n",
       "      <td>163</td>\n",
       "      <td>237</td>\n",
       "      <td>4</td>\n",
       "      <td>-5.00</td>\n",
       "      <td>-0.5</td>\n",
       "      <td>-0.5</td>\n",
       "      <td>0.00</td>\n",
       "      <td>0.0</td>\n",
       "      <td>-0.3</td>\n",
       "      <td>-8.80</td>\n",
       "      <td>-2.5</td>\n",
       "      <td>0.0</td>\n",
       "    </tr>\n",
       "    <tr>\n",
       "      <th>844</th>\n",
       "      <td>2</td>\n",
       "      <td>2022-05-01 00:48:28</td>\n",
       "      <td>2022-05-01 00:48:36</td>\n",
       "      <td>1.0</td>\n",
       "      <td>0.00</td>\n",
       "      <td>2.0</td>\n",
       "      <td>N</td>\n",
       "      <td>107</td>\n",
       "      <td>107</td>\n",
       "      <td>4</td>\n",
       "      <td>-52.00</td>\n",
       "      <td>0.0</td>\n",
       "      <td>-0.5</td>\n",
       "      <td>0.00</td>\n",
       "      <td>0.0</td>\n",
       "      <td>-0.3</td>\n",
       "      <td>-55.30</td>\n",
       "      <td>-2.5</td>\n",
       "      <td>0.0</td>\n",
       "    </tr>\n",
       "    <tr>\n",
       "      <th>884</th>\n",
       "      <td>2</td>\n",
       "      <td>2022-05-01 00:31:21</td>\n",
       "      <td>2022-05-01 00:33:08</td>\n",
       "      <td>1.0</td>\n",
       "      <td>0.67</td>\n",
       "      <td>1.0</td>\n",
       "      <td>N</td>\n",
       "      <td>263</td>\n",
       "      <td>141</td>\n",
       "      <td>4</td>\n",
       "      <td>-4.00</td>\n",
       "      <td>-0.5</td>\n",
       "      <td>-0.5</td>\n",
       "      <td>0.00</td>\n",
       "      <td>0.0</td>\n",
       "      <td>-0.3</td>\n",
       "      <td>-7.80</td>\n",
       "      <td>-2.5</td>\n",
       "      <td>0.0</td>\n",
       "    </tr>\n",
       "    <tr>\n",
       "      <th>...</th>\n",
       "      <td>...</td>\n",
       "      <td>...</td>\n",
       "      <td>...</td>\n",
       "      <td>...</td>\n",
       "      <td>...</td>\n",
       "      <td>...</td>\n",
       "      <td>...</td>\n",
       "      <td>...</td>\n",
       "      <td>...</td>\n",
       "      <td>...</td>\n",
       "      <td>...</td>\n",
       "      <td>...</td>\n",
       "      <td>...</td>\n",
       "      <td>...</td>\n",
       "      <td>...</td>\n",
       "      <td>...</td>\n",
       "      <td>...</td>\n",
       "      <td>...</td>\n",
       "      <td>...</td>\n",
       "    </tr>\n",
       "    <tr>\n",
       "      <th>3571051</th>\n",
       "      <td>2</td>\n",
       "      <td>2022-05-26 15:17:09</td>\n",
       "      <td>2022-05-26 15:18:19</td>\n",
       "      <td>NaN</td>\n",
       "      <td>0.24</td>\n",
       "      <td>NaN</td>\n",
       "      <td>None</td>\n",
       "      <td>50</td>\n",
       "      <td>50</td>\n",
       "      <td>0</td>\n",
       "      <td>-31.28</td>\n",
       "      <td>0.0</td>\n",
       "      <td>0.5</td>\n",
       "      <td>4.30</td>\n",
       "      <td>0.0</td>\n",
       "      <td>0.3</td>\n",
       "      <td>-23.68</td>\n",
       "      <td>NaN</td>\n",
       "      <td>NaN</td>\n",
       "    </tr>\n",
       "    <tr>\n",
       "      <th>3571313</th>\n",
       "      <td>2</td>\n",
       "      <td>2022-05-26 16:20:04</td>\n",
       "      <td>2022-05-26 17:29:38</td>\n",
       "      <td>NaN</td>\n",
       "      <td>1.39</td>\n",
       "      <td>NaN</td>\n",
       "      <td>None</td>\n",
       "      <td>79</td>\n",
       "      <td>211</td>\n",
       "      <td>0</td>\n",
       "      <td>-94.29</td>\n",
       "      <td>0.0</td>\n",
       "      <td>0.5</td>\n",
       "      <td>15.79</td>\n",
       "      <td>0.0</td>\n",
       "      <td>0.3</td>\n",
       "      <td>-75.20</td>\n",
       "      <td>NaN</td>\n",
       "      <td>NaN</td>\n",
       "    </tr>\n",
       "    <tr>\n",
       "      <th>3582832</th>\n",
       "      <td>2</td>\n",
       "      <td>2022-05-30 01:18:00</td>\n",
       "      <td>2022-05-30 01:36:00</td>\n",
       "      <td>NaN</td>\n",
       "      <td>0.93</td>\n",
       "      <td>NaN</td>\n",
       "      <td>None</td>\n",
       "      <td>209</td>\n",
       "      <td>79</td>\n",
       "      <td>0</td>\n",
       "      <td>-19.40</td>\n",
       "      <td>0.0</td>\n",
       "      <td>0.5</td>\n",
       "      <td>0.00</td>\n",
       "      <td>0.0</td>\n",
       "      <td>0.3</td>\n",
       "      <td>-16.10</td>\n",
       "      <td>NaN</td>\n",
       "      <td>NaN</td>\n",
       "    </tr>\n",
       "    <tr>\n",
       "      <th>3583663</th>\n",
       "      <td>2</td>\n",
       "      <td>2022-05-30 12:02:00</td>\n",
       "      <td>2022-05-30 12:47:00</td>\n",
       "      <td>NaN</td>\n",
       "      <td>4.00</td>\n",
       "      <td>NaN</td>\n",
       "      <td>None</td>\n",
       "      <td>263</td>\n",
       "      <td>125</td>\n",
       "      <td>0</td>\n",
       "      <td>-33.58</td>\n",
       "      <td>0.0</td>\n",
       "      <td>0.5</td>\n",
       "      <td>0.00</td>\n",
       "      <td>0.0</td>\n",
       "      <td>0.3</td>\n",
       "      <td>-30.28</td>\n",
       "      <td>NaN</td>\n",
       "      <td>NaN</td>\n",
       "    </tr>\n",
       "    <tr>\n",
       "      <th>3586243</th>\n",
       "      <td>2</td>\n",
       "      <td>2022-05-31 10:35:00</td>\n",
       "      <td>2022-05-31 10:38:00</td>\n",
       "      <td>NaN</td>\n",
       "      <td>0.15</td>\n",
       "      <td>NaN</td>\n",
       "      <td>None</td>\n",
       "      <td>143</td>\n",
       "      <td>143</td>\n",
       "      <td>0</td>\n",
       "      <td>-18.61</td>\n",
       "      <td>0.0</td>\n",
       "      <td>0.5</td>\n",
       "      <td>1.00</td>\n",
       "      <td>0.0</td>\n",
       "      <td>0.3</td>\n",
       "      <td>-14.31</td>\n",
       "      <td>NaN</td>\n",
       "      <td>NaN</td>\n",
       "    </tr>\n",
       "  </tbody>\n",
       "</table>\n",
       "<p>20692 rows × 19 columns</p>\n",
       "</div>"
      ],
      "text/plain": [
       "         VendorID tpep_pickup_datetime tpep_dropoff_datetime  passenger_count   \n",
       "100             2  2022-05-01 00:46:22   2022-05-01 01:04:25              1.0  \\\n",
       "129             2  2022-05-01 00:31:38   2022-05-01 00:33:23              1.0   \n",
       "602             2  2022-05-01 00:44:58   2022-05-01 00:48:58              1.0   \n",
       "844             2  2022-05-01 00:48:28   2022-05-01 00:48:36              1.0   \n",
       "884             2  2022-05-01 00:31:21   2022-05-01 00:33:08              1.0   \n",
       "...           ...                  ...                   ...              ...   \n",
       "3571051         2  2022-05-26 15:17:09   2022-05-26 15:18:19              NaN   \n",
       "3571313         2  2022-05-26 16:20:04   2022-05-26 17:29:38              NaN   \n",
       "3582832         2  2022-05-30 01:18:00   2022-05-30 01:36:00              NaN   \n",
       "3583663         2  2022-05-30 12:02:00   2022-05-30 12:47:00              NaN   \n",
       "3586243         2  2022-05-31 10:35:00   2022-05-31 10:38:00              NaN   \n",
       "\n",
       "         trip_distance  RatecodeID store_and_fwd_flag  PULocationID   \n",
       "100               4.43         1.0                  N           230  \\\n",
       "129               0.32         1.0                  N           263   \n",
       "602               0.79         1.0                  N           163   \n",
       "844               0.00         2.0                  N           107   \n",
       "884               0.67         1.0                  N           263   \n",
       "...                ...         ...                ...           ...   \n",
       "3571051           0.24         NaN               None            50   \n",
       "3571313           1.39         NaN               None            79   \n",
       "3582832           0.93         NaN               None           209   \n",
       "3583663           4.00         NaN               None           263   \n",
       "3586243           0.15         NaN               None           143   \n",
       "\n",
       "         DOLocationID  payment_type  fare_amount  extra  mta_tax  tip_amount   \n",
       "100                 7             4       -16.50   -0.5     -0.5        0.00  \\\n",
       "129               141             4        -3.50   -0.5     -0.5        0.00   \n",
       "602               237             4        -5.00   -0.5     -0.5        0.00   \n",
       "844               107             4       -52.00    0.0     -0.5        0.00   \n",
       "884               141             4        -4.00   -0.5     -0.5        0.00   \n",
       "...               ...           ...          ...    ...      ...         ...   \n",
       "3571051            50             0       -31.28    0.0      0.5        4.30   \n",
       "3571313           211             0       -94.29    0.0      0.5       15.79   \n",
       "3582832            79             0       -19.40    0.0      0.5        0.00   \n",
       "3583663           125             0       -33.58    0.0      0.5        0.00   \n",
       "3586243           143             0       -18.61    0.0      0.5        1.00   \n",
       "\n",
       "         tolls_amount  improvement_surcharge  total_amount   \n",
       "100               0.0                   -0.3        -20.30  \\\n",
       "129               0.0                   -0.3         -7.30   \n",
       "602               0.0                   -0.3         -8.80   \n",
       "844               0.0                   -0.3        -55.30   \n",
       "884               0.0                   -0.3         -7.80   \n",
       "...               ...                    ...           ...   \n",
       "3571051           0.0                    0.3        -23.68   \n",
       "3571313           0.0                    0.3        -75.20   \n",
       "3582832           0.0                    0.3        -16.10   \n",
       "3583663           0.0                    0.3        -30.28   \n",
       "3586243           0.0                    0.3        -14.31   \n",
       "\n",
       "         congestion_surcharge  airport_fee  \n",
       "100                      -2.5          0.0  \n",
       "129                      -2.5          0.0  \n",
       "602                      -2.5          0.0  \n",
       "844                      -2.5          0.0  \n",
       "884                      -2.5          0.0  \n",
       "...                       ...          ...  \n",
       "3571051                   NaN          NaN  \n",
       "3571313                   NaN          NaN  \n",
       "3582832                   NaN          NaN  \n",
       "3583663                   NaN          NaN  \n",
       "3586243                   NaN          NaN  \n",
       "\n",
       "[20692 rows x 19 columns]"
      ]
     },
     "execution_count": 445,
     "metadata": {},
     "output_type": "execute_result"
    }
   ],
   "source": [
    "df[\n",
    "    (df[\"tip_amount\"] < 0)\n",
    "    | (df[\"fare_amount\"] < 0)\n",
    "    | (df[\"extra\"] < 0)\n",
    "    | (df[\"mta_tax\"] < 0)\n",
    "]"
   ]
  },
  {
   "attachments": {},
   "cell_type": "markdown",
   "metadata": {},
   "source": [
    "There're 20692 records with negative numerical values."
   ]
  },
  {
   "attachments": {},
   "cell_type": "markdown",
   "metadata": {},
   "source": [
    "--------"
   ]
  },
  {
   "attachments": {},
   "cell_type": "markdown",
   "metadata": {},
   "source": [
    "`Total_amount:` The total amount charged to passengers. Does not include cash tips.\n",
    "\n",
    "Can't be negative or extremely high."
   ]
  },
  {
   "cell_type": "code",
   "execution_count": 446,
   "metadata": {},
   "outputs": [
    {
     "data": {
      "text/plain": [
       "total_amount\n",
       "149.56        1\n",
       "111.84        1\n",
       "116.32        1\n",
       "142.00        1\n",
       "155.06        1\n",
       "          ...  \n",
       "12.30     48551\n",
       "10.30     48843\n",
       "10.80     50237\n",
       "11.80     50487\n",
       "11.30     50995\n",
       "Name: count, Length: 14379, dtype: int64"
      ]
     },
     "execution_count": 446,
     "metadata": {},
     "output_type": "execute_result"
    }
   ],
   "source": [
    "df[\"total_amount\"].value_counts().sort_values()"
   ]
  },
  {
   "cell_type": "code",
   "execution_count": 447,
   "metadata": {},
   "outputs": [
    {
     "data": {
      "image/png": "[encoded data removed]",
      "text/plain": [
       "<Figure size 640x480 with 1 Axes>"
      ]
     },
     "metadata": {},
     "output_type": "display_data"
    }
   ],
   "source": [
    "# We create a histogram of the 'total amount' column:\n",
    "plt.hist(\n",
    "    df[\"total_amount\"],\n",
    "    bins=[10, 20, 30, 40, 50, 60, 70, 80, 90, 100, 110, 120, 130, 140, 150],\n",
    "    edgecolor=\"black\",\n",
    ")\n",
    "plt.title(\"Histogram of Total Amount\")\n",
    "plt.xlabel(\"Total Amount\")\n",
    "plt.ylabel(\"Frequency\")\n",
    "plt.show()"
   ]
  },
  {
   "attachments": {},
   "cell_type": "markdown",
   "metadata": {},
   "source": [
    "`Congestion_Surcharge:` Total amount collected in trip for NYS congestion surcharge.\n",
    "\n",
    "The rate depends on the type of vehicle used to provide transportation in or through the congestion zone. The surcharge is generally:\n",
    "\n",
    "- $2.75 for each for-hire transportation trip in a vehicle that is not a medallion taxicab or a pool vehicle.\n",
    "- $2.50 per trip when the transportation is provided by a medallion taxicab vehicle.\n",
    "- $0.75 per pool trip.\n",
    "\n",
    "This amount is required to be passed through to passengers and reported separately on any receipt given to the passenger.  "
   ]
  },
  {
   "cell_type": "code",
   "execution_count": 448,
   "metadata": {},
   "outputs": [
    {
     "data": {
      "text/plain": [
       "congestion_surcharge\n",
       " 2.50    3174755\n",
       " 0.00     267509\n",
       "-2.50      16485\n",
       " 2.75         10\n",
       " 0.75          9\n",
       "-0.75          2\n",
       " 1.00          1\n",
       "Name: count, dtype: int64"
      ]
     },
     "execution_count": 448,
     "metadata": {},
     "output_type": "execute_result"
    }
   ],
   "source": [
    "df[\"congestion_surcharge\"].value_counts()"
   ]
  },
  {
   "attachments": {},
   "cell_type": "markdown",
   "metadata": {},
   "source": [
    "`Airport_fee:` $1.25 for pick up only at LaGuardia and John F. Kennedy Airports.\n",
    "\n",
    "So it should be either $1.25 or 0. Other values to be considered as mistake."
   ]
  },
  {
   "cell_type": "code",
   "execution_count": 449,
   "metadata": {},
   "outputs": [
    {
     "data": {
      "text/plain": [
       "airport_fee\n",
       " 0.00    3175153\n",
       " 1.25     281317\n",
       "-1.25       2301\n",
       "Name: count, dtype: int64"
      ]
     },
     "execution_count": 449,
     "metadata": {},
     "output_type": "execute_result"
    }
   ],
   "source": [
    "df[\"airport_fee\"].value_counts()"
   ]
  },
  {
   "attachments": {},
   "cell_type": "markdown",
   "metadata": {},
   "source": [
    "``Improvement_surcharge:`` $0.30 improvement surcharge assessed trips at the flag drop. The improvement surcharge began being levied in 2015.\n",
    "\n",
    "So it should be either 0.30 or 0. Other values to be considered as mistake."
   ]
  },
  {
   "cell_type": "code",
   "execution_count": 450,
   "metadata": {},
   "outputs": [
    {
     "data": {
      "text/plain": [
       "improvement_surcharge\n",
       " 0.3    3566256\n",
       "-0.3      20663\n",
       " 0.0       1376\n",
       "Name: count, dtype: int64"
      ]
     },
     "execution_count": 450,
     "metadata": {},
     "output_type": "execute_result"
    }
   ],
   "source": [
    "df[\"improvement_surcharge\"].value_counts()"
   ]
  },
  {
   "attachments": {},
   "cell_type": "markdown",
   "metadata": {},
   "source": [
    "``MTA_tax:`` $0.50 MTA tax that is automatically triggered based on the metered rate in use.\n",
    "\n",
    "Should be either 0 or 0.5"
   ]
  },
  {
   "cell_type": "code",
   "execution_count": 451,
   "metadata": {},
   "outputs": [
    {
     "data": {
      "text/plain": [
       "mta_tax\n",
       " 0.50    3530087\n",
       " 0.00      38227\n",
       "-0.50      19969\n",
       " 3.30          2\n",
       " 0.07          2\n",
       " 2.80          1\n",
       " 0.11          1\n",
       "-0.07          1\n",
       " 0.26          1\n",
       " 0.35          1\n",
       " 0.12          1\n",
       " 0.10          1\n",
       " 0.08          1\n",
       "Name: count, dtype: int64"
      ]
     },
     "execution_count": 451,
     "metadata": {},
     "output_type": "execute_result"
    }
   ],
   "source": [
    "df[\"mta_tax\"].value_counts()"
   ]
  },
  {
   "attachments": {},
   "cell_type": "markdown",
   "metadata": {},
   "source": [
    "``Extra:`` Miscellaneous extras and surcharges. Currently, this only includes the $0.50 and $1 rush hour and overnight charges.\n",
    "\n",
    "Should be either 0.5, 1 or 0"
   ]
  },
  {
   "cell_type": "code",
   "execution_count": 452,
   "metadata": {},
   "outputs": [
    {
     "data": {
      "text/plain": [
       "extra\n",
       "0.00    1478115\n",
       "0.50     649518\n",
       "2.50     506543\n",
       "1.00     441814\n",
       "3.00     235008\n",
       "         ...   \n",
       "0.05          1\n",
       "4.80          1\n",
       "2.51          1\n",
       "8.55          1\n",
       "4.82          1\n",
       "Name: count, Length: 61, dtype: int64"
      ]
     },
     "execution_count": 452,
     "metadata": {},
     "output_type": "execute_result"
    }
   ],
   "source": [
    "df[\"extra\"].value_counts()"
   ]
  },
  {
   "cell_type": "code",
   "execution_count": 453,
   "metadata": {},
   "outputs": [
    {
     "data": {
      "text/plain": [
       "array([ 3.  ,  0.  ,  0.5 ,  1.75,  1.25, -0.5 ,  2.5 ,  3.75,  4.25,\n",
       "        2.51,  3.5 ,  1.  ,  2.25,  8.25,  0.8 ,  4.75,  3.3 ,  4.5 ,\n",
       "        7.  , -1.  ,  5.75, -4.5 ,  3.25,  2.  ,  4.  ,  8.55, -2.  ,\n",
       "        3.65,  3.8 , -2.5 ,  1.8 ,  4.8 ,  0.05,  4.3 ,  1.3 , -3.  ,\n",
       "        6.55,  7.8 ,  1.02,  5.3 ,  7.05,  7.5 ,  0.02,  2.95,  2.8 ,\n",
       "        6.3 ,  4.55,  8.3 ,  1.5 ,  1.55,  0.55,  8.8 ,  0.06,  0.09,\n",
       "        5.25,  4.79,  2.67,  2.81,  2.9 ,  3.55,  4.82])"
      ]
     },
     "execution_count": 453,
     "metadata": {},
     "output_type": "execute_result"
    }
   ],
   "source": [
    "df[\"extra\"].unique()"
   ]
  },
  {
   "cell_type": "code",
   "execution_count": 454,
   "metadata": {},
   "outputs": [],
   "source": [
    "# df[df[\"extra\"] <= 0.5]"
   ]
  },
  {
   "attachments": {},
   "cell_type": "markdown",
   "metadata": {},
   "source": [
    "`Fare_amount:` The time-and-distance fare calculated by the meter.\n",
    "\n",
    "The fare can be different, but it can't be less than 0 or astronomicaly high.\n"
   ]
  },
  {
   "cell_type": "code",
   "execution_count": 455,
   "metadata": {},
   "outputs": [
    {
     "data": {
      "text/plain": [
       "2536784   -1311.5\n",
       "1779648    -900.0\n",
       "2345183    -576.0\n",
       "1595148    -535.0\n",
       "1636750    -500.0\n",
       "            ...  \n",
       "3248725     855.0\n",
       "1779649     900.0\n",
       "1788460     900.0\n",
       "2536785    1311.5\n",
       "3414224    6966.5\n",
       "Name: fare_amount, Length: 3588295, dtype: float64"
      ]
     },
     "execution_count": 455,
     "metadata": {},
     "output_type": "execute_result"
    }
   ],
   "source": [
    "df[\"fare_amount\"].sort_values()"
   ]
  },
  {
   "attachments": {},
   "cell_type": "markdown",
   "metadata": {},
   "source": [
    "`Tolls_amount:` Total amount of all tolls paid in trip.\n",
    "\n",
    "Can't be negative"
   ]
  },
  {
   "cell_type": "code",
   "execution_count": 456,
   "metadata": {},
   "outputs": [
    {
     "data": {
      "text/plain": [
       "2292202    -50.75\n",
       "791592     -47.00\n",
       "297347     -45.00\n",
       "2345183    -40.30\n",
       "1163481    -38.55\n",
       "            ...  \n",
       "3193077     99.25\n",
       "864403     109.70\n",
       "32607      239.13\n",
       "1924093    685.58\n",
       "2349147    813.75\n",
       "Name: tolls_amount, Length: 3588295, dtype: float64"
      ]
     },
     "execution_count": 456,
     "metadata": {},
     "output_type": "execute_result"
    }
   ],
   "source": [
    "df[\"tolls_amount\"].sort_values()"
   ]
  },
  {
   "attachments": {},
   "cell_type": "markdown",
   "metadata": {},
   "source": [
    "`Tip_amount:` This field is automatically populated for credit card tips. Cash tips are not included.\n",
    "\n",
    "Can't be negative"
   ]
  },
  {
   "cell_type": "code",
   "execution_count": 457,
   "metadata": {},
   "outputs": [
    {
     "data": {
      "text/plain": [
       "3320234   -145.70\n",
       "2124407    -89.96\n",
       "3273841    -88.08\n",
       "1904862    -75.00\n",
       "1055074    -62.84\n",
       "            ...  \n",
       "765043     300.00\n",
       "2499800    300.00\n",
       "3146700    300.01\n",
       "2720989    408.00\n",
       "3107847    665.00\n",
       "Name: tip_amount, Length: 3588295, dtype: float64"
      ]
     },
     "execution_count": 457,
     "metadata": {},
     "output_type": "execute_result"
    }
   ],
   "source": [
    "df[\"tip_amount\"].sort_values()"
   ]
  },
  {
   "attachments": {},
   "cell_type": "markdown",
   "metadata": {},
   "source": [
    "`Payment_type:` A numeric code signifying how the passenger paid for the trip. \n",
    "\n",
    "- 1= Credit card\n",
    "- 2= Cash\n",
    "- 3= No charge\n",
    "- 4= Dispute\n",
    "- 5= Unknown\n",
    "- 6= Voided trip"
   ]
  },
  {
   "cell_type": "code",
   "execution_count": 458,
   "metadata": {},
   "outputs": [
    {
     "data": {
      "text/plain": [
       "payment_type\n",
       "1    2720127\n",
       "2     706333\n",
       "0     129524\n",
       "3      16333\n",
       "4      15978\n",
       "Name: count, dtype: int64"
      ]
     },
     "execution_count": 458,
     "metadata": {},
     "output_type": "execute_result"
    }
   ],
   "source": [
    "df.payment_type.value_counts()"
   ]
  },
  {
   "attachments": {},
   "cell_type": "markdown",
   "metadata": {},
   "source": [
    "We found 129524 corresponding to the value 0. This is an error since it does not fit any number to describe the feature."
   ]
  },
  {
   "cell_type": "code",
   "execution_count": 459,
   "metadata": {},
   "outputs": [
    {
     "data": {
      "image/png": "[encoded data removed]",
      "text/plain": [
       "<Figure size 2800x500 with 1 Axes>"
      ]
     },
     "metadata": {},
     "output_type": "display_data"
    }
   ],
   "source": [
    "plt.figure(figsize=(28, 5))\n",
    "sns.countplot(data=df, y=\"payment_type\", orient=\"h\")\n",
    "# plt.yticks(np.arange(5), [\"Credit Card\", \"Cash\", \"No Charge\", \"Dispute\", \"Unknown\"])\n",
    "plt.ylabel(\"Payment Type\")\n",
    "plt.xlabel(None)\n",
    "plt.show()"
   ]
  },
  {
   "attachments": {},
   "cell_type": "markdown",
   "metadata": {},
   "source": [
    "`Trip_distance:` The elapsed trip distance in miles reported by the taximeter.\n",
    "\n",
    "If measured correctly it shouldn't be equal to 0 or astronomicaly high.\n",
    "\n",
    "It can also be strange comparing to starting-ending time of the trip (1 hour long trip and 200 miles)\n"
   ]
  },
  {
   "cell_type": "code",
   "execution_count": 460,
   "metadata": {},
   "outputs": [
    {
     "data": {
      "text/plain": [
       "482906          0.00\n",
       "427332          0.00\n",
       "698193          0.00\n",
       "2431890         0.00\n",
       "3234863         0.00\n",
       "             ...    \n",
       "3543592    275692.34\n",
       "3482491    281179.94\n",
       "3469281    333632.96\n",
       "3543875    344408.48\n",
       "3528934    357192.65\n",
       "Name: trip_distance, Length: 3588295, dtype: float64"
      ]
     },
     "execution_count": 460,
     "metadata": {},
     "output_type": "execute_result"
    }
   ],
   "source": [
    "df.trip_distance.sort_values()"
   ]
  },
  {
   "cell_type": "code",
   "execution_count": 461,
   "metadata": {},
   "outputs": [
    {
     "data": {
      "text/html": [
       "<div>\n",
       "<style scoped>\n",
       "    .dataframe tbody tr th:only-of-type {\n",
       "        vertical-align: middle;\n",
       "    }\n",
       "\n",
       "    .dataframe tbody tr th {\n",
       "        vertical-align: top;\n",
       "    }\n",
       "\n",
       "    .dataframe thead th {\n",
       "        text-align: right;\n",
       "    }\n",
       "</style>\n",
       "<table border=\"1\" class=\"dataframe\">\n",
       "  <thead>\n",
       "    <tr style=\"text-align: right;\">\n",
       "      <th></th>\n",
       "      <th>VendorID</th>\n",
       "      <th>tpep_pickup_datetime</th>\n",
       "      <th>tpep_dropoff_datetime</th>\n",
       "      <th>passenger_count</th>\n",
       "      <th>trip_distance</th>\n",
       "      <th>RatecodeID</th>\n",
       "      <th>store_and_fwd_flag</th>\n",
       "      <th>PULocationID</th>\n",
       "      <th>DOLocationID</th>\n",
       "      <th>payment_type</th>\n",
       "      <th>fare_amount</th>\n",
       "      <th>extra</th>\n",
       "      <th>mta_tax</th>\n",
       "      <th>tip_amount</th>\n",
       "      <th>tolls_amount</th>\n",
       "      <th>improvement_surcharge</th>\n",
       "      <th>total_amount</th>\n",
       "      <th>congestion_surcharge</th>\n",
       "      <th>airport_fee</th>\n",
       "    </tr>\n",
       "  </thead>\n",
       "  <tbody>\n",
       "    <tr>\n",
       "      <th>430036</th>\n",
       "      <td>2</td>\n",
       "      <td>2022-05-05 06:03:36</td>\n",
       "      <td>2022-05-05 06:14:37</td>\n",
       "      <td>1.0</td>\n",
       "      <td>29445.65</td>\n",
       "      <td>5.0</td>\n",
       "      <td>N</td>\n",
       "      <td>263</td>\n",
       "      <td>107</td>\n",
       "      <td>1</td>\n",
       "      <td>12.06</td>\n",
       "      <td>0.0</td>\n",
       "      <td>0.5</td>\n",
       "      <td>1.18</td>\n",
       "      <td>0.0</td>\n",
       "      <td>0.3</td>\n",
       "      <td>16.54</td>\n",
       "      <td>2.5</td>\n",
       "      <td>0.0</td>\n",
       "    </tr>\n",
       "    <tr>\n",
       "      <th>1656265</th>\n",
       "      <td>2</td>\n",
       "      <td>2022-05-15 15:28:26</td>\n",
       "      <td>2022-05-15 15:33:03</td>\n",
       "      <td>1.0</td>\n",
       "      <td>6474.93</td>\n",
       "      <td>1.0</td>\n",
       "      <td>N</td>\n",
       "      <td>263</td>\n",
       "      <td>262</td>\n",
       "      <td>2</td>\n",
       "      <td>0.00</td>\n",
       "      <td>0.0</td>\n",
       "      <td>-0.5</td>\n",
       "      <td>0.00</td>\n",
       "      <td>0.0</td>\n",
       "      <td>-0.3</td>\n",
       "      <td>-3.30</td>\n",
       "      <td>-2.5</td>\n",
       "      <td>0.0</td>\n",
       "    </tr>\n",
       "    <tr>\n",
       "      <th>1656266</th>\n",
       "      <td>2</td>\n",
       "      <td>2022-05-15 15:28:26</td>\n",
       "      <td>2022-05-15 15:33:03</td>\n",
       "      <td>1.0</td>\n",
       "      <td>6474.93</td>\n",
       "      <td>1.0</td>\n",
       "      <td>N</td>\n",
       "      <td>263</td>\n",
       "      <td>262</td>\n",
       "      <td>2</td>\n",
       "      <td>0.00</td>\n",
       "      <td>0.0</td>\n",
       "      <td>0.5</td>\n",
       "      <td>0.00</td>\n",
       "      <td>0.0</td>\n",
       "      <td>0.3</td>\n",
       "      <td>3.30</td>\n",
       "      <td>2.5</td>\n",
       "      <td>0.0</td>\n",
       "    </tr>\n",
       "    <tr>\n",
       "      <th>2463414</th>\n",
       "      <td>2</td>\n",
       "      <td>2022-05-22 13:43:22</td>\n",
       "      <td>2022-05-22 13:57:30</td>\n",
       "      <td>1.0</td>\n",
       "      <td>7496.85</td>\n",
       "      <td>1.0</td>\n",
       "      <td>N</td>\n",
       "      <td>237</td>\n",
       "      <td>170</td>\n",
       "      <td>1</td>\n",
       "      <td>40.50</td>\n",
       "      <td>0.0</td>\n",
       "      <td>0.5</td>\n",
       "      <td>8.76</td>\n",
       "      <td>0.0</td>\n",
       "      <td>0.3</td>\n",
       "      <td>52.56</td>\n",
       "      <td>2.5</td>\n",
       "      <td>0.0</td>\n",
       "    </tr>\n",
       "    <tr>\n",
       "      <th>3226642</th>\n",
       "      <td>2</td>\n",
       "      <td>2022-05-29 15:02:46</td>\n",
       "      <td>2022-05-29 15:08:35</td>\n",
       "      <td>3.0</td>\n",
       "      <td>2946.95</td>\n",
       "      <td>1.0</td>\n",
       "      <td>N</td>\n",
       "      <td>237</td>\n",
       "      <td>43</td>\n",
       "      <td>2</td>\n",
       "      <td>48.00</td>\n",
       "      <td>0.0</td>\n",
       "      <td>0.5</td>\n",
       "      <td>0.00</td>\n",
       "      <td>0.0</td>\n",
       "      <td>0.3</td>\n",
       "      <td>51.30</td>\n",
       "      <td>2.5</td>\n",
       "      <td>0.0</td>\n",
       "    </tr>\n",
       "    <tr>\n",
       "      <th>...</th>\n",
       "      <td>...</td>\n",
       "      <td>...</td>\n",
       "      <td>...</td>\n",
       "      <td>...</td>\n",
       "      <td>...</td>\n",
       "      <td>...</td>\n",
       "      <td>...</td>\n",
       "      <td>...</td>\n",
       "      <td>...</td>\n",
       "      <td>...</td>\n",
       "      <td>...</td>\n",
       "      <td>...</td>\n",
       "      <td>...</td>\n",
       "      <td>...</td>\n",
       "      <td>...</td>\n",
       "      <td>...</td>\n",
       "      <td>...</td>\n",
       "      <td>...</td>\n",
       "      <td>...</td>\n",
       "    </tr>\n",
       "    <tr>\n",
       "      <th>3584552</th>\n",
       "      <td>2</td>\n",
       "      <td>2022-05-30 18:22:00</td>\n",
       "      <td>2022-05-30 18:37:00</td>\n",
       "      <td>NaN</td>\n",
       "      <td>128742.58</td>\n",
       "      <td>NaN</td>\n",
       "      <td>None</td>\n",
       "      <td>229</td>\n",
       "      <td>145</td>\n",
       "      <td>0</td>\n",
       "      <td>13.31</td>\n",
       "      <td>0.0</td>\n",
       "      <td>0.5</td>\n",
       "      <td>1.00</td>\n",
       "      <td>0.0</td>\n",
       "      <td>0.3</td>\n",
       "      <td>17.61</td>\n",
       "      <td>NaN</td>\n",
       "      <td>NaN</td>\n",
       "    </tr>\n",
       "    <tr>\n",
       "      <th>3585670</th>\n",
       "      <td>2</td>\n",
       "      <td>2022-05-31 07:59:00</td>\n",
       "      <td>2022-05-31 08:28:00</td>\n",
       "      <td>NaN</td>\n",
       "      <td>131884.34</td>\n",
       "      <td>NaN</td>\n",
       "      <td>None</td>\n",
       "      <td>167</td>\n",
       "      <td>41</td>\n",
       "      <td>0</td>\n",
       "      <td>20.43</td>\n",
       "      <td>0.0</td>\n",
       "      <td>0.5</td>\n",
       "      <td>0.00</td>\n",
       "      <td>0.0</td>\n",
       "      <td>0.3</td>\n",
       "      <td>21.23</td>\n",
       "      <td>NaN</td>\n",
       "      <td>NaN</td>\n",
       "    </tr>\n",
       "    <tr>\n",
       "      <th>3585679</th>\n",
       "      <td>2</td>\n",
       "      <td>2022-05-31 07:44:00</td>\n",
       "      <td>2022-05-31 08:04:00</td>\n",
       "      <td>NaN</td>\n",
       "      <td>109774.82</td>\n",
       "      <td>NaN</td>\n",
       "      <td>None</td>\n",
       "      <td>42</td>\n",
       "      <td>50</td>\n",
       "      <td>0</td>\n",
       "      <td>28.30</td>\n",
       "      <td>0.0</td>\n",
       "      <td>0.5</td>\n",
       "      <td>7.01</td>\n",
       "      <td>0.0</td>\n",
       "      <td>0.3</td>\n",
       "      <td>38.61</td>\n",
       "      <td>NaN</td>\n",
       "      <td>NaN</td>\n",
       "    </tr>\n",
       "    <tr>\n",
       "      <th>3588029</th>\n",
       "      <td>2</td>\n",
       "      <td>2022-05-31 20:17:00</td>\n",
       "      <td>2022-05-31 20:43:00</td>\n",
       "      <td>NaN</td>\n",
       "      <td>45022.68</td>\n",
       "      <td>NaN</td>\n",
       "      <td>None</td>\n",
       "      <td>33</td>\n",
       "      <td>68</td>\n",
       "      <td>0</td>\n",
       "      <td>20.73</td>\n",
       "      <td>0.0</td>\n",
       "      <td>0.5</td>\n",
       "      <td>5.34</td>\n",
       "      <td>0.0</td>\n",
       "      <td>0.3</td>\n",
       "      <td>29.37</td>\n",
       "      <td>NaN</td>\n",
       "      <td>NaN</td>\n",
       "    </tr>\n",
       "    <tr>\n",
       "      <th>3588052</th>\n",
       "      <td>2</td>\n",
       "      <td>2022-05-31 21:30:00</td>\n",
       "      <td>2022-05-31 21:40:00</td>\n",
       "      <td>NaN</td>\n",
       "      <td>101825.47</td>\n",
       "      <td>NaN</td>\n",
       "      <td>None</td>\n",
       "      <td>229</td>\n",
       "      <td>48</td>\n",
       "      <td>0</td>\n",
       "      <td>10.00</td>\n",
       "      <td>0.0</td>\n",
       "      <td>0.5</td>\n",
       "      <td>2.00</td>\n",
       "      <td>0.0</td>\n",
       "      <td>0.3</td>\n",
       "      <td>15.30</td>\n",
       "      <td>NaN</td>\n",
       "      <td>NaN</td>\n",
       "    </tr>\n",
       "  </tbody>\n",
       "</table>\n",
       "<p>119 rows × 19 columns</p>\n",
       "</div>"
      ],
      "text/plain": [
       "         VendorID tpep_pickup_datetime tpep_dropoff_datetime  passenger_count   \n",
       "430036          2  2022-05-05 06:03:36   2022-05-05 06:14:37              1.0  \\\n",
       "1656265         2  2022-05-15 15:28:26   2022-05-15 15:33:03              1.0   \n",
       "1656266         2  2022-05-15 15:28:26   2022-05-15 15:33:03              1.0   \n",
       "2463414         2  2022-05-22 13:43:22   2022-05-22 13:57:30              1.0   \n",
       "3226642         2  2022-05-29 15:02:46   2022-05-29 15:08:35              3.0   \n",
       "...           ...                  ...                   ...              ...   \n",
       "3584552         2  2022-05-30 18:22:00   2022-05-30 18:37:00              NaN   \n",
       "3585670         2  2022-05-31 07:59:00   2022-05-31 08:28:00              NaN   \n",
       "3585679         2  2022-05-31 07:44:00   2022-05-31 08:04:00              NaN   \n",
       "3588029         2  2022-05-31 20:17:00   2022-05-31 20:43:00              NaN   \n",
       "3588052         2  2022-05-31 21:30:00   2022-05-31 21:40:00              NaN   \n",
       "\n",
       "         trip_distance  RatecodeID store_and_fwd_flag  PULocationID   \n",
       "430036        29445.65         5.0                  N           263  \\\n",
       "1656265        6474.93         1.0                  N           263   \n",
       "1656266        6474.93         1.0                  N           263   \n",
       "2463414        7496.85         1.0                  N           237   \n",
       "3226642        2946.95         1.0                  N           237   \n",
       "...                ...         ...                ...           ...   \n",
       "3584552      128742.58         NaN               None           229   \n",
       "3585670      131884.34         NaN               None           167   \n",
       "3585679      109774.82         NaN               None            42   \n",
       "3588029       45022.68         NaN               None            33   \n",
       "3588052      101825.47         NaN               None           229   \n",
       "\n",
       "         DOLocationID  payment_type  fare_amount  extra  mta_tax  tip_amount   \n",
       "430036            107             1        12.06    0.0      0.5        1.18  \\\n",
       "1656265           262             2         0.00    0.0     -0.5        0.00   \n",
       "1656266           262             2         0.00    0.0      0.5        0.00   \n",
       "2463414           170             1        40.50    0.0      0.5        8.76   \n",
       "3226642            43             2        48.00    0.0      0.5        0.00   \n",
       "...               ...           ...          ...    ...      ...         ...   \n",
       "3584552           145             0        13.31    0.0      0.5        1.00   \n",
       "3585670            41             0        20.43    0.0      0.5        0.00   \n",
       "3585679            50             0        28.30    0.0      0.5        7.01   \n",
       "3588029            68             0        20.73    0.0      0.5        5.34   \n",
       "3588052            48             0        10.00    0.0      0.5        2.00   \n",
       "\n",
       "         tolls_amount  improvement_surcharge  total_amount   \n",
       "430036            0.0                    0.3         16.54  \\\n",
       "1656265           0.0                   -0.3         -3.30   \n",
       "1656266           0.0                    0.3          3.30   \n",
       "2463414           0.0                    0.3         52.56   \n",
       "3226642           0.0                    0.3         51.30   \n",
       "...               ...                    ...           ...   \n",
       "3584552           0.0                    0.3         17.61   \n",
       "3585670           0.0                    0.3         21.23   \n",
       "3585679           0.0                    0.3         38.61   \n",
       "3588029           0.0                    0.3         29.37   \n",
       "3588052           0.0                    0.3         15.30   \n",
       "\n",
       "         congestion_surcharge  airport_fee  \n",
       "430036                    2.5          0.0  \n",
       "1656265                  -2.5          0.0  \n",
       "1656266                   2.5          0.0  \n",
       "2463414                   2.5          0.0  \n",
       "3226642                   2.5          0.0  \n",
       "...                       ...          ...  \n",
       "3584552                   NaN          NaN  \n",
       "3585670                   NaN          NaN  \n",
       "3585679                   NaN          NaN  \n",
       "3588029                   NaN          NaN  \n",
       "3588052                   NaN          NaN  \n",
       "\n",
       "[119 rows x 19 columns]"
      ]
     },
     "execution_count": 461,
     "metadata": {},
     "output_type": "execute_result"
    }
   ],
   "source": [
    "df[df[\"trip_distance\"] > 1000]"
   ]
  },
  {
   "cell_type": "code",
   "execution_count": 462,
   "metadata": {},
   "outputs": [
    {
     "data": {
      "text/html": [
       "<div>\n",
       "<style scoped>\n",
       "    .dataframe tbody tr th:only-of-type {\n",
       "        vertical-align: middle;\n",
       "    }\n",
       "\n",
       "    .dataframe tbody tr th {\n",
       "        vertical-align: top;\n",
       "    }\n",
       "\n",
       "    .dataframe thead th {\n",
       "        text-align: right;\n",
       "    }\n",
       "</style>\n",
       "<table border=\"1\" class=\"dataframe\">\n",
       "  <thead>\n",
       "    <tr style=\"text-align: right;\">\n",
       "      <th></th>\n",
       "      <th>VendorID</th>\n",
       "      <th>tpep_pickup_datetime</th>\n",
       "      <th>tpep_dropoff_datetime</th>\n",
       "      <th>passenger_count</th>\n",
       "      <th>trip_distance</th>\n",
       "      <th>RatecodeID</th>\n",
       "      <th>store_and_fwd_flag</th>\n",
       "      <th>PULocationID</th>\n",
       "      <th>DOLocationID</th>\n",
       "      <th>payment_type</th>\n",
       "      <th>fare_amount</th>\n",
       "      <th>extra</th>\n",
       "      <th>mta_tax</th>\n",
       "      <th>tip_amount</th>\n",
       "      <th>tolls_amount</th>\n",
       "      <th>improvement_surcharge</th>\n",
       "      <th>total_amount</th>\n",
       "      <th>congestion_surcharge</th>\n",
       "      <th>airport_fee</th>\n",
       "    </tr>\n",
       "  </thead>\n",
       "  <tbody>\n",
       "    <tr>\n",
       "      <th>3</th>\n",
       "      <td>1</td>\n",
       "      <td>2022-05-01 00:48:18</td>\n",
       "      <td>2022-05-01 01:28:02</td>\n",
       "      <td>1.0</td>\n",
       "      <td>0.0</td>\n",
       "      <td>1.0</td>\n",
       "      <td>N</td>\n",
       "      <td>79</td>\n",
       "      <td>182</td>\n",
       "      <td>1</td>\n",
       "      <td>41.20</td>\n",
       "      <td>0.0</td>\n",
       "      <td>0.5</td>\n",
       "      <td>0.00</td>\n",
       "      <td>0.0</td>\n",
       "      <td>0.3</td>\n",
       "      <td>42.00</td>\n",
       "      <td>0.0</td>\n",
       "      <td>0.0</td>\n",
       "    </tr>\n",
       "    <tr>\n",
       "      <th>25</th>\n",
       "      <td>1</td>\n",
       "      <td>2022-05-01 00:16:00</td>\n",
       "      <td>2022-05-01 00:16:00</td>\n",
       "      <td>1.0</td>\n",
       "      <td>0.0</td>\n",
       "      <td>1.0</td>\n",
       "      <td>N</td>\n",
       "      <td>142</td>\n",
       "      <td>264</td>\n",
       "      <td>2</td>\n",
       "      <td>6.00</td>\n",
       "      <td>3.0</td>\n",
       "      <td>0.5</td>\n",
       "      <td>0.00</td>\n",
       "      <td>0.0</td>\n",
       "      <td>0.3</td>\n",
       "      <td>9.80</td>\n",
       "      <td>2.5</td>\n",
       "      <td>0.0</td>\n",
       "    </tr>\n",
       "    <tr>\n",
       "      <th>246</th>\n",
       "      <td>1</td>\n",
       "      <td>2022-05-01 00:17:06</td>\n",
       "      <td>2022-05-01 00:17:25</td>\n",
       "      <td>1.0</td>\n",
       "      <td>0.0</td>\n",
       "      <td>5.0</td>\n",
       "      <td>Y</td>\n",
       "      <td>229</td>\n",
       "      <td>229</td>\n",
       "      <td>2</td>\n",
       "      <td>75.00</td>\n",
       "      <td>0.0</td>\n",
       "      <td>0.0</td>\n",
       "      <td>0.00</td>\n",
       "      <td>0.0</td>\n",
       "      <td>0.3</td>\n",
       "      <td>75.30</td>\n",
       "      <td>0.0</td>\n",
       "      <td>0.0</td>\n",
       "    </tr>\n",
       "    <tr>\n",
       "      <th>330</th>\n",
       "      <td>1</td>\n",
       "      <td>2022-05-01 00:12:49</td>\n",
       "      <td>2022-05-01 00:29:29</td>\n",
       "      <td>1.0</td>\n",
       "      <td>0.0</td>\n",
       "      <td>1.0</td>\n",
       "      <td>N</td>\n",
       "      <td>152</td>\n",
       "      <td>241</td>\n",
       "      <td>1</td>\n",
       "      <td>29.20</td>\n",
       "      <td>0.0</td>\n",
       "      <td>0.5</td>\n",
       "      <td>0.00</td>\n",
       "      <td>0.0</td>\n",
       "      <td>0.3</td>\n",
       "      <td>30.00</td>\n",
       "      <td>0.0</td>\n",
       "      <td>0.0</td>\n",
       "    </tr>\n",
       "    <tr>\n",
       "      <th>472</th>\n",
       "      <td>1</td>\n",
       "      <td>2022-05-01 00:53:02</td>\n",
       "      <td>2022-05-01 00:53:47</td>\n",
       "      <td>1.0</td>\n",
       "      <td>0.0</td>\n",
       "      <td>1.0</td>\n",
       "      <td>N</td>\n",
       "      <td>230</td>\n",
       "      <td>230</td>\n",
       "      <td>3</td>\n",
       "      <td>2.50</td>\n",
       "      <td>3.0</td>\n",
       "      <td>0.5</td>\n",
       "      <td>0.00</td>\n",
       "      <td>0.0</td>\n",
       "      <td>0.3</td>\n",
       "      <td>6.30</td>\n",
       "      <td>2.5</td>\n",
       "      <td>0.0</td>\n",
       "    </tr>\n",
       "    <tr>\n",
       "      <th>...</th>\n",
       "      <td>...</td>\n",
       "      <td>...</td>\n",
       "      <td>...</td>\n",
       "      <td>...</td>\n",
       "      <td>...</td>\n",
       "      <td>...</td>\n",
       "      <td>...</td>\n",
       "      <td>...</td>\n",
       "      <td>...</td>\n",
       "      <td>...</td>\n",
       "      <td>...</td>\n",
       "      <td>...</td>\n",
       "      <td>...</td>\n",
       "      <td>...</td>\n",
       "      <td>...</td>\n",
       "      <td>...</td>\n",
       "      <td>...</td>\n",
       "      <td>...</td>\n",
       "      <td>...</td>\n",
       "    </tr>\n",
       "    <tr>\n",
       "      <th>3587292</th>\n",
       "      <td>2</td>\n",
       "      <td>2022-05-31 17:46:00</td>\n",
       "      <td>2022-05-31 17:51:00</td>\n",
       "      <td>NaN</td>\n",
       "      <td>0.0</td>\n",
       "      <td>NaN</td>\n",
       "      <td>None</td>\n",
       "      <td>13</td>\n",
       "      <td>13</td>\n",
       "      <td>0</td>\n",
       "      <td>19.56</td>\n",
       "      <td>0.0</td>\n",
       "      <td>0.5</td>\n",
       "      <td>5.07</td>\n",
       "      <td>0.0</td>\n",
       "      <td>0.3</td>\n",
       "      <td>27.93</td>\n",
       "      <td>NaN</td>\n",
       "      <td>NaN</td>\n",
       "    </tr>\n",
       "    <tr>\n",
       "      <th>3587910</th>\n",
       "      <td>2</td>\n",
       "      <td>2022-05-31 19:02:47</td>\n",
       "      <td>2022-05-31 19:02:57</td>\n",
       "      <td>NaN</td>\n",
       "      <td>0.0</td>\n",
       "      <td>NaN</td>\n",
       "      <td>None</td>\n",
       "      <td>140</td>\n",
       "      <td>140</td>\n",
       "      <td>0</td>\n",
       "      <td>23.33</td>\n",
       "      <td>0.0</td>\n",
       "      <td>0.5</td>\n",
       "      <td>5.91</td>\n",
       "      <td>0.0</td>\n",
       "      <td>0.3</td>\n",
       "      <td>32.54</td>\n",
       "      <td>NaN</td>\n",
       "      <td>NaN</td>\n",
       "    </tr>\n",
       "    <tr>\n",
       "      <th>3587927</th>\n",
       "      <td>2</td>\n",
       "      <td>2022-05-31 19:25:00</td>\n",
       "      <td>2022-05-31 19:25:09</td>\n",
       "      <td>NaN</td>\n",
       "      <td>0.0</td>\n",
       "      <td>NaN</td>\n",
       "      <td>None</td>\n",
       "      <td>224</td>\n",
       "      <td>224</td>\n",
       "      <td>0</td>\n",
       "      <td>15.36</td>\n",
       "      <td>0.0</td>\n",
       "      <td>0.5</td>\n",
       "      <td>4.13</td>\n",
       "      <td>0.0</td>\n",
       "      <td>0.3</td>\n",
       "      <td>22.79</td>\n",
       "      <td>NaN</td>\n",
       "      <td>NaN</td>\n",
       "    </tr>\n",
       "    <tr>\n",
       "      <th>3588054</th>\n",
       "      <td>2</td>\n",
       "      <td>2022-05-31 21:18:44</td>\n",
       "      <td>2022-05-31 21:19:03</td>\n",
       "      <td>NaN</td>\n",
       "      <td>0.0</td>\n",
       "      <td>NaN</td>\n",
       "      <td>None</td>\n",
       "      <td>50</td>\n",
       "      <td>50</td>\n",
       "      <td>0</td>\n",
       "      <td>10.00</td>\n",
       "      <td>0.0</td>\n",
       "      <td>0.5</td>\n",
       "      <td>1.00</td>\n",
       "      <td>0.0</td>\n",
       "      <td>0.3</td>\n",
       "      <td>14.30</td>\n",
       "      <td>NaN</td>\n",
       "      <td>NaN</td>\n",
       "    </tr>\n",
       "    <tr>\n",
       "      <th>3588290</th>\n",
       "      <td>2</td>\n",
       "      <td>2022-05-31 23:40:19</td>\n",
       "      <td>2022-06-01 00:01:20</td>\n",
       "      <td>NaN</td>\n",
       "      <td>0.0</td>\n",
       "      <td>NaN</td>\n",
       "      <td>None</td>\n",
       "      <td>36</td>\n",
       "      <td>181</td>\n",
       "      <td>0</td>\n",
       "      <td>20.97</td>\n",
       "      <td>0.0</td>\n",
       "      <td>0.5</td>\n",
       "      <td>1.00</td>\n",
       "      <td>0.0</td>\n",
       "      <td>0.3</td>\n",
       "      <td>22.77</td>\n",
       "      <td>NaN</td>\n",
       "      <td>NaN</td>\n",
       "    </tr>\n",
       "  </tbody>\n",
       "</table>\n",
       "<p>46438 rows × 19 columns</p>\n",
       "</div>"
      ],
      "text/plain": [
       "         VendorID tpep_pickup_datetime tpep_dropoff_datetime  passenger_count   \n",
       "3               1  2022-05-01 00:48:18   2022-05-01 01:28:02              1.0  \\\n",
       "25              1  2022-05-01 00:16:00   2022-05-01 00:16:00              1.0   \n",
       "246             1  2022-05-01 00:17:06   2022-05-01 00:17:25              1.0   \n",
       "330             1  2022-05-01 00:12:49   2022-05-01 00:29:29              1.0   \n",
       "472             1  2022-05-01 00:53:02   2022-05-01 00:53:47              1.0   \n",
       "...           ...                  ...                   ...              ...   \n",
       "3587292         2  2022-05-31 17:46:00   2022-05-31 17:51:00              NaN   \n",
       "3587910         2  2022-05-31 19:02:47   2022-05-31 19:02:57              NaN   \n",
       "3587927         2  2022-05-31 19:25:00   2022-05-31 19:25:09              NaN   \n",
       "3588054         2  2022-05-31 21:18:44   2022-05-31 21:19:03              NaN   \n",
       "3588290         2  2022-05-31 23:40:19   2022-06-01 00:01:20              NaN   \n",
       "\n",
       "         trip_distance  RatecodeID store_and_fwd_flag  PULocationID   \n",
       "3                  0.0         1.0                  N            79  \\\n",
       "25                 0.0         1.0                  N           142   \n",
       "246                0.0         5.0                  Y           229   \n",
       "330                0.0         1.0                  N           152   \n",
       "472                0.0         1.0                  N           230   \n",
       "...                ...         ...                ...           ...   \n",
       "3587292            0.0         NaN               None            13   \n",
       "3587910            0.0         NaN               None           140   \n",
       "3587927            0.0         NaN               None           224   \n",
       "3588054            0.0         NaN               None            50   \n",
       "3588290            0.0         NaN               None            36   \n",
       "\n",
       "         DOLocationID  payment_type  fare_amount  extra  mta_tax  tip_amount   \n",
       "3                 182             1        41.20    0.0      0.5        0.00  \\\n",
       "25                264             2         6.00    3.0      0.5        0.00   \n",
       "246               229             2        75.00    0.0      0.0        0.00   \n",
       "330               241             1        29.20    0.0      0.5        0.00   \n",
       "472               230             3         2.50    3.0      0.5        0.00   \n",
       "...               ...           ...          ...    ...      ...         ...   \n",
       "3587292            13             0        19.56    0.0      0.5        5.07   \n",
       "3587910           140             0        23.33    0.0      0.5        5.91   \n",
       "3587927           224             0        15.36    0.0      0.5        4.13   \n",
       "3588054            50             0        10.00    0.0      0.5        1.00   \n",
       "3588290           181             0        20.97    0.0      0.5        1.00   \n",
       "\n",
       "         tolls_amount  improvement_surcharge  total_amount   \n",
       "3                 0.0                    0.3         42.00  \\\n",
       "25                0.0                    0.3          9.80   \n",
       "246               0.0                    0.3         75.30   \n",
       "330               0.0                    0.3         30.00   \n",
       "472               0.0                    0.3          6.30   \n",
       "...               ...                    ...           ...   \n",
       "3587292           0.0                    0.3         27.93   \n",
       "3587910           0.0                    0.3         32.54   \n",
       "3587927           0.0                    0.3         22.79   \n",
       "3588054           0.0                    0.3         14.30   \n",
       "3588290           0.0                    0.3         22.77   \n",
       "\n",
       "         congestion_surcharge  airport_fee  \n",
       "3                         0.0          0.0  \n",
       "25                        2.5          0.0  \n",
       "246                       0.0          0.0  \n",
       "330                       0.0          0.0  \n",
       "472                       2.5          0.0  \n",
       "...                       ...          ...  \n",
       "3587292                   NaN          NaN  \n",
       "3587910                   NaN          NaN  \n",
       "3587927                   NaN          NaN  \n",
       "3588054                   NaN          NaN  \n",
       "3588290                   NaN          NaN  \n",
       "\n",
       "[46438 rows x 19 columns]"
      ]
     },
     "execution_count": 462,
     "metadata": {},
     "output_type": "execute_result"
    }
   ],
   "source": [
    "# Showing rows with any distance data equals to 0:\n",
    "df[(df[\"trip_distance\"] == 0)]"
   ]
  },
  {
   "attachments": {},
   "cell_type": "markdown",
   "metadata": {},
   "source": [
    "`Store_and_fwd_flag:` This flag indicates whether the trip record was held in vehicle memory before sending to the vendor, aka “store and forward,” because the vehicle did not have a connection to the server.\n",
    "\n",
    "- Y= store and forward trip\n",
    "- N= not a store and forward trip"
   ]
  },
  {
   "cell_type": "code",
   "execution_count": 463,
   "metadata": {},
   "outputs": [
    {
     "data": {
      "text/plain": [
       "store_and_fwd_flag\n",
       "N    3404113\n",
       "Y      54658\n",
       "Name: count, dtype: int64"
      ]
     },
     "execution_count": 463,
     "metadata": {},
     "output_type": "execute_result"
    }
   ],
   "source": [
    "df.store_and_fwd_flag.value_counts()"
   ]
  },
  {
   "cell_type": "code",
   "execution_count": 464,
   "metadata": {},
   "outputs": [
    {
     "data": {
      "image/png": "[encoded data removed]",
      "text/plain": [
       "<Figure size 2000x200 with 1 Axes>"
      ]
     },
     "metadata": {},
     "output_type": "display_data"
    }
   ],
   "source": [
    "plt.figure(figsize=(20, 2))\n",
    "sns.countplot(data=df, y=\"store_and_fwd_flag\", orient=\"h\")\n",
    "plt.xlabel(None)\n",
    "plt.ylabel(None)\n",
    "plt.title(\"Store and Fwd Flag\")\n",
    "plt.show()"
   ]
  },
  {
   "attachments": {},
   "cell_type": "markdown",
   "metadata": {},
   "source": [
    "`RateCodeID:` The final rate code in effect at the end of the trip.\n",
    "\n",
    "1. Standard rate\n",
    "2. JFK\n",
    "3. Newark\n",
    "4. Nassau or Westchester\n",
    "5. Negotiated fare\n",
    "6. Group ride"
   ]
  },
  {
   "cell_type": "code",
   "execution_count": 465,
   "metadata": {},
   "outputs": [
    {
     "data": {
      "text/plain": [
       "RatecodeID\n",
       "1.0     3256985\n",
       "2.0      147239\n",
       "5.0       28382\n",
       "3.0       11636\n",
       "99.0       9864\n",
       "4.0        4626\n",
       "6.0          39\n",
       "Name: count, dtype: int64"
      ]
     },
     "execution_count": 465,
     "metadata": {},
     "output_type": "execute_result"
    }
   ],
   "source": [
    "df.RatecodeID.value_counts()"
   ]
  },
  {
   "attachments": {},
   "cell_type": "markdown",
   "metadata": {},
   "source": [
    "99 is not a value compatible with the description."
   ]
  },
  {
   "attachments": {},
   "cell_type": "markdown",
   "metadata": {},
   "source": [
    "`Passenger_count:` The number of passengers in the vehicle. This is a driver-entered value.\n",
    "\n",
    "0 passengers considered as mistake"
   ]
  },
  {
   "cell_type": "code",
   "execution_count": 466,
   "metadata": {},
   "outputs": [
    {
     "data": {
      "text/plain": [
       "passenger_count\n",
       "1.0    2549880\n",
       "2.0     539027\n",
       "3.0     136997\n",
       "0.0      73587\n",
       "5.0      61209\n",
       "4.0      56092\n",
       "6.0      41948\n",
       "7.0         15\n",
       "8.0         14\n",
       "9.0          2\n",
       "Name: count, dtype: int64"
      ]
     },
     "execution_count": 466,
     "metadata": {},
     "output_type": "execute_result"
    }
   ],
   "source": [
    "df[\"passenger_count\"].value_counts()"
   ]
  },
  {
   "attachments": {},
   "cell_type": "markdown",
   "metadata": {},
   "source": [
    "`VendorID:` A code indicating the TPEP provider that provided the record. \n",
    "\n",
    "- 1= Creative Mobile Technologies, LLC \n",
    "- 2= VeriFone Inc.\n",
    "\n",
    "We only have two options, therefore, any other number is considered an error."
   ]
  },
  {
   "cell_type": "code",
   "execution_count": 467,
   "metadata": {},
   "outputs": [
    {
     "data": {
      "text/plain": [
       "VendorID\n",
       "2    2527997\n",
       "1    1054130\n",
       "6       6154\n",
       "5         14\n",
       "Name: count, dtype: int64"
      ]
     },
     "execution_count": 467,
     "metadata": {},
     "output_type": "execute_result"
    }
   ],
   "source": [
    "df[\"VendorID\"].value_counts()"
   ]
  },
  {
   "cell_type": "code",
   "execution_count": 468,
   "metadata": {},
   "outputs": [
    {
     "data": {
      "image/png": "[encoded data removed]",
      "text/plain": [
       "<Figure size 640x480 with 1 Axes>"
      ]
     },
     "metadata": {},
     "output_type": "display_data"
    }
   ],
   "source": [
    "sns.countplot(data=df, x=\"VendorID\")\n",
    "plt.xticks([0, 1], [\"1\", \"2\"])\n",
    "plt.title(\"Vendor ID\")\n",
    "plt.show()"
   ]
  },
  {
   "attachments": {},
   "cell_type": "markdown",
   "metadata": {},
   "source": [
    "------------"
   ]
  },
  {
   "attachments": {},
   "cell_type": "markdown",
   "metadata": {},
   "source": [
    "## Data Preprocessing"
   ]
  },
  {
   "attachments": {},
   "cell_type": "markdown",
   "metadata": {},
   "source": [
    "### Steps to perform"
   ]
  },
  {
   "attachments": {},
   "cell_type": "markdown",
   "metadata": {},
   "source": [
    "1. Change all money-related negative values to non-negative by taking their absolute values\n",
    "2. Remove trips where improvement_surcharge is not equal to 0.3 or 0\n",
    "3. Remove trips where mta_tax is not equal to 0 or 0.5\n",
    "4. Remove trips where extra is not equal to 0.5, 1 or 0\n",
    "5. Remove extremely high Fare_amount and total_amount\n",
    "6. Replace '99' in RateCodeID with the most frequently observed 1\n",
    "7. Remove rows with extremely high values of Tip_amount , Tolls_amount , fare_amount and Total_amount\n",
    "8. Convert date columns to datetime format"
   ]
  },
  {
   "attachments": {},
   "cell_type": "markdown",
   "metadata": {},
   "source": [
    "### 1. Change all money-related negative values to non-negative by taking their absolute values"
   ]
  },
  {
   "cell_type": "code",
   "execution_count": 469,
   "metadata": {},
   "outputs": [
    {
     "data": {
      "text/plain": [
       "Index(['VendorID', 'tpep_pickup_datetime', 'tpep_dropoff_datetime',\n",
       "       'passenger_count', 'trip_distance', 'RatecodeID', 'store_and_fwd_flag',\n",
       "       'PULocationID', 'DOLocationID', 'payment_type', 'fare_amount', 'extra',\n",
       "       'mta_tax', 'tip_amount', 'tolls_amount', 'improvement_surcharge',\n",
       "       'total_amount', 'congestion_surcharge', 'airport_fee'],\n",
       "      dtype='object')"
      ]
     },
     "execution_count": 469,
     "metadata": {},
     "output_type": "execute_result"
    }
   ],
   "source": [
    "data_taxi = df.copy()\n",
    "data_taxi.columns"
   ]
  },
  {
   "cell_type": "code",
   "execution_count": 470,
   "metadata": {},
   "outputs": [
    {
     "data": {
      "text/plain": [
       "Index(['fare_amount', 'extra', 'mta_tax', 'tip_amount', 'tolls_amount',\n",
       "       'improvement_surcharge', 'total_amount', 'congestion_surcharge',\n",
       "       'airport_fee'],\n",
       "      dtype='object')"
      ]
     },
     "execution_count": 470,
     "metadata": {},
     "output_type": "execute_result"
    }
   ],
   "source": [
    "# Taking money-related numerical values\n",
    "data_taxi.columns[-9:]"
   ]
  },
  {
   "cell_type": "code",
   "execution_count": 471,
   "metadata": {},
   "outputs": [
    {
     "data": {
      "text/plain": [
       "fare_amount              20506\n",
       "extra                     9917\n",
       "mta_tax                  19970\n",
       "tip_amount                 237\n",
       "tolls_amount               925\n",
       "improvement_surcharge    20663\n",
       "total_amount             20709\n",
       "congestion_surcharge     16487\n",
       "airport_fee               2301\n",
       "dtype: int64"
      ]
     },
     "execution_count": 471,
     "metadata": {},
     "output_type": "execute_result"
    }
   ],
   "source": [
    "(data_taxi.loc[:, data_taxi.columns[-9:]] < 0).sum()"
   ]
  },
  {
   "cell_type": "code",
   "execution_count": 472,
   "metadata": {},
   "outputs": [],
   "source": [
    "data_taxi.loc[:, data_taxi.columns[-9:]] = data_taxi.loc[\n",
    "    :, data_taxi.columns[-9:]\n",
    "].abs()"
   ]
  },
  {
   "cell_type": "code",
   "execution_count": 473,
   "metadata": {},
   "outputs": [
    {
     "data": {
      "text/plain": [
       "fare_amount              0\n",
       "extra                    0\n",
       "mta_tax                  0\n",
       "tip_amount               0\n",
       "tolls_amount             0\n",
       "improvement_surcharge    0\n",
       "total_amount             0\n",
       "congestion_surcharge     0\n",
       "airport_fee              0\n",
       "dtype: int64"
      ]
     },
     "execution_count": 473,
     "metadata": {},
     "output_type": "execute_result"
    }
   ],
   "source": [
    "(data_taxi.loc[:, data_taxi.columns[-9:]] < 0).sum()"
   ]
  },
  {
   "attachments": {},
   "cell_type": "markdown",
   "metadata": {},
   "source": [
    "--------------"
   ]
  },
  {
   "attachments": {},
   "cell_type": "markdown",
   "metadata": {},
   "source": [
    "### 2/5. Remove wrong values from: `Congestion_Surcharge`, `mta_tax`, `extra`, `payment_type`, `VendorID`\n",
    "\n",
    "- Ver 'extra' porque tiene muchos valores que son mas de 1\n",
    "- En 'payment_type' muchos valores en 0 -> asignar a 1 (Credit card)"
   ]
  },
  {
   "cell_type": "code",
   "execution_count": 474,
   "metadata": {},
   "outputs": [],
   "source": [
    "# Identificar los valores incorrectos basados en un patrón específico\n",
    "incorrect_values = data_taxi[\n",
    "    (data_taxi[\"extra\"] != 0) & (data_taxi[\"extra\"] != 1) & (data_taxi[\"extra\"] != 0.5)\n",
    "]\n",
    "\n",
    "# Definir el patrón de valores incorrectos, en este caso, cercanos a 0.50 o múltiplos de 0.05\n",
    "pattern_threshold = 0.1  # Umbral para considerar valores cercanos a 0.50\n",
    "multiples_threshold = 0.01  # Umbral para considerar múltiplos de 0.05\n",
    "\n",
    "# Iterar sobre los valores incorrectos y asignarles valores válidos\n",
    "for index, row in incorrect_values.iterrows():\n",
    "    value = row[\"extra\"]\n",
    "\n",
    "    if abs(value - 0.50) <= pattern_threshold:\n",
    "        corrected_value = 0.5\n",
    "    elif abs(value % 0.05) <= multiples_threshold:\n",
    "        corrected_value = round(value, 1)\n",
    "    else:\n",
    "        # Si no sigue el patrón identificado, asignar el valor más cercano válido\n",
    "        corrected_value = 0 if abs(value - 0.5) < abs(value - 1) else 1\n",
    "\n",
    "    # Asignar el valor corregido al DataFrame original\n",
    "    data_taxi.at[index, \"extra\"] = corrected_value\n",
    "\n",
    "# Ahora 'data_taxi' contiene los valores corregidos en la columna 'extra'\n",
    "# data_taxi"
   ]
  },
  {
   "cell_type": "code",
   "execution_count": 475,
   "metadata": {},
   "outputs": [
    {
     "data": {
      "text/plain": [
       "397065"
      ]
     },
     "execution_count": 475,
     "metadata": {},
     "output_type": "execute_result"
    }
   ],
   "source": [
    "data_taxi[\n",
    "    (~data_taxi[\"congestion_surcharge\"].isin([0.75, 2.50, 2.75]))\n",
    "    | (~data_taxi[\"mta_tax\"].isin([0, 0.5]))\n",
    "    | (~data_taxi[\"extra\"].isin([0, 0.5, 1]))\n",
    "    | (~data_taxi[\"payment_type\"].isin([1, 2, 3, 4, 5, 6]))\n",
    "    | (~data_taxi[\"VendorID\"].isin([1, 2]))\n",
    "].shape[0]"
   ]
  },
  {
   "cell_type": "code",
   "execution_count": 476,
   "metadata": {},
   "outputs": [],
   "source": [
    "data_taxi.drop(\n",
    "    data_taxi[\n",
    "        (~data_taxi[\"congestion_surcharge\"].isin([0.75, 2.50, 2.75]))\n",
    "        | (~data_taxi[\"mta_tax\"].isin([0, 0.5]))\n",
    "        | (~data_taxi[\"extra\"].isin([0, 0.5, 1]))\n",
    "        | (~data_taxi[\"payment_type\"].isin([1, 2, 3, 4, 5, 6]))\n",
    "        | (~data_taxi[\"VendorID\"].isin([1, 2]))\n",
    "    ].index,\n",
    "    inplace=True,\n",
    ")"
   ]
  },
  {
   "cell_type": "code",
   "execution_count": 477,
   "metadata": {},
   "outputs": [
    {
     "data": {
      "text/plain": [
       "(3191230, 19)"
      ]
     },
     "execution_count": 477,
     "metadata": {},
     "output_type": "execute_result"
    }
   ],
   "source": [
    "data_taxi.shape"
   ]
  },
  {
   "attachments": {},
   "cell_type": "markdown",
   "metadata": {},
   "source": [
    "### 6. `RatecodeID` processing"
   ]
  },
  {
   "attachments": {},
   "cell_type": "markdown",
   "metadata": {},
   "source": [
    "Replace 99 with 1"
   ]
  },
  {
   "cell_type": "code",
   "execution_count": 478,
   "metadata": {},
   "outputs": [
    {
     "data": {
      "text/plain": [
       "6"
      ]
     },
     "execution_count": 478,
     "metadata": {},
     "output_type": "execute_result"
    }
   ],
   "source": [
    "data_taxi[data_taxi[\"RatecodeID\"] == 99].shape[0]"
   ]
  },
  {
   "cell_type": "code",
   "execution_count": 479,
   "metadata": {},
   "outputs": [],
   "source": [
    "data_taxi[\"RatecodeID\"] = np.where(\n",
    "    data_taxi[\"RatecodeID\"] == 99, 1, data_taxi[\"RatecodeID\"]\n",
    ")"
   ]
  },
  {
   "cell_type": "code",
   "execution_count": 480,
   "metadata": {},
   "outputs": [
    {
     "data": {
      "text/plain": [
       "0"
      ]
     },
     "execution_count": 480,
     "metadata": {},
     "output_type": "execute_result"
    }
   ],
   "source": [
    "data_taxi[data_taxi[\"RatecodeID\"] == 99].shape[0]"
   ]
  },
  {
   "attachments": {},
   "cell_type": "markdown",
   "metadata": {},
   "source": [
    "### 7. Remove rows with extremely high values of Tip_amount , Tolls_amount , fare_amount and Total_amount"
   ]
  },
  {
   "cell_type": "code",
   "execution_count": 481,
   "metadata": {},
   "outputs": [],
   "source": [
    "# percentiles = [0.25, 0.5, 0.75, 0.95]  # Agrega los percentiles que deseas calcular\n",
    "\n",
    "# Obtener las estadísticas descriptivas de las columnas\n",
    "# data_taxi[[\"tip_amount\", \"tolls_amount\", \"fare_amount\", \"total_amount\"]].describe()\n",
    "\n",
    "# # Calcular los percentiles adicionales y agregarlos a las estadísticas descriptivas\n",
    "# percentile_values = data_taxi[['tip_amount', 'tolls_amount', 'fare_amount', 'total_amount']].quantile(percentiles)\n",
    "# percentile_values.rename(index={p: f'{p*100}%' for p in percentiles}, inplace=True)\n",
    "# stats = stats.append(percentile_values)\n",
    "\n",
    "# # Mostrar las estadísticas descriptivas y percentiles\n",
    "# print(stats)"
   ]
  },
  {
   "cell_type": "code",
   "execution_count": 482,
   "metadata": {},
   "outputs": [],
   "source": [
    "# # Obtener el valor máximo de las columnas \"total_amount\" y \"fare_amount\"\n",
    "# max_total_amount = data_taxi[\"total_amount\"].max()\n",
    "# max_fare_amount = data_taxi[\"fare_amount\"].max()\n",
    "\n",
    "# # Eliminar las filas que contienen el valor máximo en ambas columnas\n",
    "# data_taxi = data_taxi.drop(\n",
    "#     data_taxi[\n",
    "#         (data_taxi[\"total_amount\"] == max_total_amount)\n",
    "#         & (data_taxi[\"fare_amount\"] == max_fare_amount)\n",
    "#     ].index\n",
    "# )\n",
    "\n",
    "# # Ahora, el DataFrame \"data_taxi\" no contiene las filas con los valores máximos en \"total_amount\" y \"fare_amount\"\n",
    "# data_taxi"
   ]
  },
  {
   "cell_type": "code",
   "execution_count": 483,
   "metadata": {},
   "outputs": [
    {
     "data": {
      "image/png": "[encoded data removed]",
      "text/plain": [
       "<Figure size 2000x400 with 4 Axes>"
      ]
     },
     "metadata": {},
     "output_type": "display_data"
    }
   ],
   "source": [
    "fig, axs = plt.subplots(4, 1, figsize=(20, 4))\n",
    "sns.boxplot(data=data_taxi, x=\"total_amount\", ax=axs[0])\n",
    "sns.boxplot(data=data_taxi, x=\"fare_amount\", ax=axs[1])\n",
    "sns.boxplot(data=data_taxi, x=\"tip_amount\", ax=axs[2])\n",
    "sns.boxplot(data=data_taxi, x=\"tolls_amount\", ax=axs[3])\n",
    "plt.tight_layout()\n",
    "plt.show()"
   ]
  },
  {
   "cell_type": "code",
   "execution_count": 484,
   "metadata": {},
   "outputs": [
    {
     "data": {
      "image/png": "[encoded data removed]",
      "text/plain": [
       "<Figure size 1000x600 with 1 Axes>"
      ]
     },
     "metadata": {},
     "output_type": "display_data"
    }
   ],
   "source": [
    "import matplotlib.pyplot as plt\n",
    "\n",
    "# Extraer la columna \"trip_distance\" del dataframe\n",
    "trip_distance = data_taxi[\"trip_distance\"]\n",
    "\n",
    "# Configurar el tamaño del gráfico\n",
    "plt.figure(figsize=(10, 6))\n",
    "\n",
    "# Graficar el histograma de la variable \"trip_distance\" en un gráfico de barras\n",
    "plt.hist(trip_distance, bins=100, edgecolor=\"black\")\n",
    "\n",
    "# Configurar etiquetas y título del gráfico\n",
    "plt.xlabel(\"Distancia del viaje\")\n",
    "plt.ylabel(\"Frecuencia\")\n",
    "plt.title(\"Distribución de la distancia del viaje\")\n",
    "\n",
    "# Mostrar el gráfico\n",
    "plt.show()"
   ]
  },
  {
   "attachments": {},
   "cell_type": "markdown",
   "metadata": {},
   "source": [
    "### Filtering: `duration`, `trip_distance`, `fare_amount`, `total_amount`"
   ]
  },
  {
   "cell_type": "code",
   "execution_count": 485,
   "metadata": {},
   "outputs": [],
   "source": [
    "# Duration (minutes)\n",
    "data_taxi[\"duration\"] = (\n",
    "    data_taxi[\"tpep_dropoff_datetime\"] - data_taxi[\"tpep_pickup_datetime\"]\n",
    ").dt.total_seconds() / 60"
   ]
  },
  {
   "cell_type": "code",
   "execution_count": 486,
   "metadata": {},
   "outputs": [],
   "source": [
    "# Distance (kms)\n",
    "data_taxi[\"trip_distance\"] *= 1.61  # 1 mile = 1.61 kms"
   ]
  },
  {
   "cell_type": "code",
   "execution_count": 487,
   "metadata": {},
   "outputs": [
    {
     "data": {
      "text/plain": [
       "602095     6823.550000\n",
       "601476     6813.300000\n",
       "2402851    3990.633333\n",
       "255046     3720.650000\n",
       "2362741    2696.766667\n",
       "302685     2624.866667\n",
       "1336348    2245.783333\n",
       "3270588    2096.433333\n",
       "3095052    1806.483333\n",
       "3292560    1703.116667\n",
       "1419900    1640.516667\n",
       "3099712    1495.333333\n",
       "3099711    1460.650000\n",
       "3407611    1439.933333\n",
       "2383938    1439.900000\n",
       "Name: duration, dtype: float64"
      ]
     },
     "execution_count": 487,
     "metadata": {},
     "output_type": "execute_result"
    }
   ],
   "source": [
    "data_taxi[\"duration\"].nlargest(15)"
   ]
  },
  {
   "cell_type": "code",
   "execution_count": 488,
   "metadata": {},
   "outputs": [
    {
     "data": {
      "text/plain": [
       "430036     47407.4965\n",
       "2463414    12069.9285\n",
       "1656265    10424.6373\n",
       "1656266    10424.6373\n",
       "3226642     4744.5895\n",
       "1188664      295.4833\n",
       "1942923      230.6486\n",
       "13914        206.0961\n",
       "127891       201.8135\n",
       "1590733      192.2179\n",
       "3272103      185.7135\n",
       "2474285      183.4917\n",
       "2059581      182.5740\n",
       "3202292      165.1699\n",
       "121077       158.2630\n",
       "Name: trip_distance, dtype: float64"
      ]
     },
     "execution_count": 488,
     "metadata": {},
     "output_type": "execute_result"
    }
   ],
   "source": [
    "data_taxi[\"trip_distance\"].nlargest(15)"
   ]
  },
  {
   "cell_type": "code",
   "execution_count": 489,
   "metadata": {},
   "outputs": [
    {
     "data": {
      "text/plain": [
       "315"
      ]
     },
     "execution_count": 489,
     "metadata": {},
     "output_type": "execute_result"
    }
   ],
   "source": [
    "data_taxi[data_taxi[\"fare_amount\"] == 0].shape[0]"
   ]
  },
  {
   "cell_type": "code",
   "execution_count": 490,
   "metadata": {},
   "outputs": [],
   "source": [
    "data_taxi = data_taxi[\n",
    "    (data_taxi[\"trip_distance\"] > 0)\n",
    "    & (data_taxi[\"trip_distance\"] < 100)\n",
    "    & (data_taxi[\"fare_amount\"] > 0)\n",
    "    & (data_taxi[\"passenger_count\"] <= 6)\n",
    "    & (data_taxi[\"duration\"] > 0)\n",
    "    & (data_taxi[\"duration\"] < 120)\n",
    "]"
   ]
  },
  {
   "cell_type": "code",
   "execution_count": 491,
   "metadata": {},
   "outputs": [
    {
     "data": {
      "text/plain": [
       "(3168611, 20)"
      ]
     },
     "execution_count": 491,
     "metadata": {},
     "output_type": "execute_result"
    }
   ],
   "source": [
    "data_taxi.shape"
   ]
  },
  {
   "cell_type": "code",
   "execution_count": 492,
   "metadata": {},
   "outputs": [
    {
     "data": {
      "image/png": "[encoded data removed]",
      "text/plain": [
       "<Figure size 2000x500 with 1 Axes>"
      ]
     },
     "metadata": {},
     "output_type": "display_data"
    }
   ],
   "source": [
    "plt.figure(figsize=(20, 5))\n",
    "sns.boxplot(data_taxi.trip_distance)\n",
    "plt.show()"
   ]
  },
  {
   "cell_type": "code",
   "execution_count": 493,
   "metadata": {},
   "outputs": [
    {
     "data": {
      "image/png": "[encoded data removed]",
      "text/plain": [
       "<Figure size 2000x500 with 1 Axes>"
      ]
     },
     "metadata": {},
     "output_type": "display_data"
    }
   ],
   "source": [
    "plt.figure(figsize=(20, 5))\n",
    "sns.boxplot(data_taxi.duration)\n",
    "plt.show()"
   ]
  },
  {
   "cell_type": "code",
   "execution_count": 494,
   "metadata": {},
   "outputs": [
    {
     "data": {
      "image/png": "[encoded data removed]",
      "text/plain": [
       "<Figure size 640x480 with 1 Axes>"
      ]
     },
     "metadata": {},
     "output_type": "display_data"
    }
   ],
   "source": [
    "data_taxi.duration.groupby(\n",
    "    pd.cut(data_taxi.duration, np.arange(1, 240, 60))\n",
    ").count().plot(kind=\"barh\")\n",
    "plt.xlabel(\"Trip Counts\")\n",
    "plt.ylabel(\"Trip Duration (seconds)\")\n",
    "plt.show()"
   ]
  },
  {
   "cell_type": "code",
   "execution_count": 495,
   "metadata": {},
   "outputs": [
    {
     "data": {
      "image/png": "[encoded data removed]",
      "text/plain": [
       "<Figure size 640x480 with 1 Axes>"
      ]
     },
     "metadata": {},
     "output_type": "display_data"
    }
   ],
   "source": [
    "data_taxi.trip_distance.groupby(\n",
    "    pd.cut(data_taxi.trip_distance, np.arange(0, 100, 10))\n",
    ").count().plot(kind=\"barh\")\n",
    "plt.show()"
   ]
  },
  {
   "cell_type": "code",
   "execution_count": 496,
   "metadata": {},
   "outputs": [
    {
     "data": {
      "text/html": [
       "<div>\n",
       "<style scoped>\n",
       "    .dataframe tbody tr th:only-of-type {\n",
       "        vertical-align: middle;\n",
       "    }\n",
       "\n",
       "    .dataframe tbody tr th {\n",
       "        vertical-align: top;\n",
       "    }\n",
       "\n",
       "    .dataframe thead th {\n",
       "        text-align: right;\n",
       "    }\n",
       "</style>\n",
       "<table border=\"1\" class=\"dataframe\">\n",
       "  <thead>\n",
       "    <tr style=\"text-align: right;\">\n",
       "      <th></th>\n",
       "      <th>VendorID</th>\n",
       "      <th>tpep_pickup_datetime</th>\n",
       "      <th>tpep_dropoff_datetime</th>\n",
       "      <th>passenger_count</th>\n",
       "      <th>trip_distance</th>\n",
       "      <th>RatecodeID</th>\n",
       "      <th>PULocationID</th>\n",
       "      <th>DOLocationID</th>\n",
       "      <th>payment_type</th>\n",
       "      <th>fare_amount</th>\n",
       "      <th>extra</th>\n",
       "      <th>mta_tax</th>\n",
       "      <th>tip_amount</th>\n",
       "      <th>tolls_amount</th>\n",
       "      <th>improvement_surcharge</th>\n",
       "      <th>total_amount</th>\n",
       "      <th>congestion_surcharge</th>\n",
       "      <th>airport_fee</th>\n",
       "      <th>duration</th>\n",
       "    </tr>\n",
       "  </thead>\n",
       "  <tbody>\n",
       "    <tr>\n",
       "      <th>count</th>\n",
       "      <td>3168611.00</td>\n",
       "      <td>3168611</td>\n",
       "      <td>3168611</td>\n",
       "      <td>3168611.00</td>\n",
       "      <td>3168611.00</td>\n",
       "      <td>3168611.00</td>\n",
       "      <td>3168611.00</td>\n",
       "      <td>3168611.00</td>\n",
       "      <td>3168611.00</td>\n",
       "      <td>3168611.00</td>\n",
       "      <td>3168611.00</td>\n",
       "      <td>3168611.00</td>\n",
       "      <td>3168611.00</td>\n",
       "      <td>3168611.00</td>\n",
       "      <td>3168611.0</td>\n",
       "      <td>3168611.00</td>\n",
       "      <td>3168611.00</td>\n",
       "      <td>3168611.00</td>\n",
       "      <td>3168611.00</td>\n",
       "    </tr>\n",
       "    <tr>\n",
       "      <th>mean</th>\n",
       "      <td>1.70</td>\n",
       "      <td>2022-05-16 08:26:28.742560768</td>\n",
       "      <td>2022-05-16 08:42:08.520800</td>\n",
       "      <td>1.40</td>\n",
       "      <td>5.23</td>\n",
       "      <td>1.05</td>\n",
       "      <td>166.94</td>\n",
       "      <td>165.38</td>\n",
       "      <td>1.21</td>\n",
       "      <td>13.68</td>\n",
       "      <td>0.53</td>\n",
       "      <td>0.50</td>\n",
       "      <td>2.67</td>\n",
       "      <td>0.48</td>\n",
       "      <td>0.3</td>\n",
       "      <td>20.55</td>\n",
       "      <td>2.50</td>\n",
       "      <td>0.06</td>\n",
       "      <td>15.66</td>\n",
       "    </tr>\n",
       "    <tr>\n",
       "      <th>min</th>\n",
       "      <td>1.00</td>\n",
       "      <td>2003-01-01 00:06:06</td>\n",
       "      <td>2003-01-01 00:31:38</td>\n",
       "      <td>0.00</td>\n",
       "      <td>0.02</td>\n",
       "      <td>1.00</td>\n",
       "      <td>1.00</td>\n",
       "      <td>1.00</td>\n",
       "      <td>1.00</td>\n",
       "      <td>0.01</td>\n",
       "      <td>0.00</td>\n",
       "      <td>0.00</td>\n",
       "      <td>0.00</td>\n",
       "      <td>0.00</td>\n",
       "      <td>0.0</td>\n",
       "      <td>2.81</td>\n",
       "      <td>0.75</td>\n",
       "      <td>0.00</td>\n",
       "      <td>0.02</td>\n",
       "    </tr>\n",
       "    <tr>\n",
       "      <th>25%</th>\n",
       "      <td>1.00</td>\n",
       "      <td>2022-05-08 18:57:26.500000</td>\n",
       "      <td>2022-05-08 19:11:23</td>\n",
       "      <td>1.00</td>\n",
       "      <td>1.84</td>\n",
       "      <td>1.00</td>\n",
       "      <td>132.00</td>\n",
       "      <td>116.00</td>\n",
       "      <td>1.00</td>\n",
       "      <td>7.00</td>\n",
       "      <td>0.00</td>\n",
       "      <td>0.50</td>\n",
       "      <td>1.00</td>\n",
       "      <td>0.00</td>\n",
       "      <td>0.3</td>\n",
       "      <td>12.30</td>\n",
       "      <td>2.50</td>\n",
       "      <td>0.00</td>\n",
       "      <td>7.62</td>\n",
       "    </tr>\n",
       "    <tr>\n",
       "      <th>50%</th>\n",
       "      <td>2.00</td>\n",
       "      <td>2022-05-16 09:39:55</td>\n",
       "      <td>2022-05-16 09:55:20</td>\n",
       "      <td>1.00</td>\n",
       "      <td>3.03</td>\n",
       "      <td>1.00</td>\n",
       "      <td>162.00</td>\n",
       "      <td>162.00</td>\n",
       "      <td>1.00</td>\n",
       "      <td>10.00</td>\n",
       "      <td>0.50</td>\n",
       "      <td>0.50</td>\n",
       "      <td>2.16</td>\n",
       "      <td>0.00</td>\n",
       "      <td>0.3</td>\n",
       "      <td>15.80</td>\n",
       "      <td>2.50</td>\n",
       "      <td>0.00</td>\n",
       "      <td>12.30</td>\n",
       "    </tr>\n",
       "    <tr>\n",
       "      <th>75%</th>\n",
       "      <td>2.00</td>\n",
       "      <td>2022-05-23 18:22:30.500000</td>\n",
       "      <td>2022-05-23 18:37:31</td>\n",
       "      <td>1.00</td>\n",
       "      <td>5.33</td>\n",
       "      <td>1.00</td>\n",
       "      <td>234.00</td>\n",
       "      <td>234.00</td>\n",
       "      <td>1.00</td>\n",
       "      <td>15.50</td>\n",
       "      <td>1.00</td>\n",
       "      <td>0.50</td>\n",
       "      <td>3.33</td>\n",
       "      <td>0.00</td>\n",
       "      <td>0.3</td>\n",
       "      <td>21.95</td>\n",
       "      <td>2.50</td>\n",
       "      <td>0.00</td>\n",
       "      <td>19.48</td>\n",
       "    </tr>\n",
       "    <tr>\n",
       "      <th>max</th>\n",
       "      <td>2.00</td>\n",
       "      <td>2022-06-01 23:55:30</td>\n",
       "      <td>2022-06-02 00:02:50</td>\n",
       "      <td>6.00</td>\n",
       "      <td>97.58</td>\n",
       "      <td>6.00</td>\n",
       "      <td>265.00</td>\n",
       "      <td>265.00</td>\n",
       "      <td>4.00</td>\n",
       "      <td>6966.50</td>\n",
       "      <td>1.00</td>\n",
       "      <td>0.50</td>\n",
       "      <td>408.00</td>\n",
       "      <td>685.58</td>\n",
       "      <td>0.3</td>\n",
       "      <td>6970.80</td>\n",
       "      <td>2.75</td>\n",
       "      <td>1.25</td>\n",
       "      <td>119.92</td>\n",
       "    </tr>\n",
       "    <tr>\n",
       "      <th>std</th>\n",
       "      <td>0.46</td>\n",
       "      <td>NaN</td>\n",
       "      <td>NaN</td>\n",
       "      <td>0.96</td>\n",
       "      <td>6.40</td>\n",
       "      <td>0.25</td>\n",
       "      <td>65.18</td>\n",
       "      <td>68.47</td>\n",
       "      <td>0.44</td>\n",
       "      <td>11.80</td>\n",
       "      <td>0.45</td>\n",
       "      <td>0.02</td>\n",
       "      <td>2.89</td>\n",
       "      <td>1.78</td>\n",
       "      <td>0.0</td>\n",
       "      <td>15.20</td>\n",
       "      <td>0.00</td>\n",
       "      <td>0.27</td>\n",
       "      <td>12.49</td>\n",
       "    </tr>\n",
       "  </tbody>\n",
       "</table>\n",
       "</div>"
      ],
      "text/plain": [
       "         VendorID           tpep_pickup_datetime       tpep_dropoff_datetime   \n",
       "count  3168611.00                        3168611                     3168611  \\\n",
       "mean         1.70  2022-05-16 08:26:28.742560768  2022-05-16 08:42:08.520800   \n",
       "min          1.00            2003-01-01 00:06:06         2003-01-01 00:31:38   \n",
       "25%          1.00     2022-05-08 18:57:26.500000         2022-05-08 19:11:23   \n",
       "50%          2.00            2022-05-16 09:39:55         2022-05-16 09:55:20   \n",
       "75%          2.00     2022-05-23 18:22:30.500000         2022-05-23 18:37:31   \n",
       "max          2.00            2022-06-01 23:55:30         2022-06-02 00:02:50   \n",
       "std          0.46                            NaN                         NaN   \n",
       "\n",
       "       passenger_count  trip_distance  RatecodeID  PULocationID  DOLocationID   \n",
       "count       3168611.00     3168611.00  3168611.00    3168611.00    3168611.00  \\\n",
       "mean              1.40           5.23        1.05        166.94        165.38   \n",
       "min               0.00           0.02        1.00          1.00          1.00   \n",
       "25%               1.00           1.84        1.00        132.00        116.00   \n",
       "50%               1.00           3.03        1.00        162.00        162.00   \n",
       "75%               1.00           5.33        1.00        234.00        234.00   \n",
       "max               6.00          97.58        6.00        265.00        265.00   \n",
       "std               0.96           6.40        0.25         65.18         68.47   \n",
       "\n",
       "       payment_type  fare_amount       extra     mta_tax  tip_amount   \n",
       "count    3168611.00   3168611.00  3168611.00  3168611.00  3168611.00  \\\n",
       "mean           1.21        13.68        0.53        0.50        2.67   \n",
       "min            1.00         0.01        0.00        0.00        0.00   \n",
       "25%            1.00         7.00        0.00        0.50        1.00   \n",
       "50%            1.00        10.00        0.50        0.50        2.16   \n",
       "75%            1.00        15.50        1.00        0.50        3.33   \n",
       "max            4.00      6966.50        1.00        0.50      408.00   \n",
       "std            0.44        11.80        0.45        0.02        2.89   \n",
       "\n",
       "       tolls_amount  improvement_surcharge  total_amount   \n",
       "count    3168611.00              3168611.0    3168611.00  \\\n",
       "mean           0.48                    0.3         20.55   \n",
       "min            0.00                    0.0          2.81   \n",
       "25%            0.00                    0.3         12.30   \n",
       "50%            0.00                    0.3         15.80   \n",
       "75%            0.00                    0.3         21.95   \n",
       "max          685.58                    0.3       6970.80   \n",
       "std            1.78                    0.0         15.20   \n",
       "\n",
       "       congestion_surcharge  airport_fee    duration  \n",
       "count            3168611.00   3168611.00  3168611.00  \n",
       "mean                   2.50         0.06       15.66  \n",
       "min                    0.75         0.00        0.02  \n",
       "25%                    2.50         0.00        7.62  \n",
       "50%                    2.50         0.00       12.30  \n",
       "75%                    2.50         0.00       19.48  \n",
       "max                    2.75         1.25      119.92  \n",
       "std                    0.00         0.27       12.49  "
      ]
     },
     "execution_count": 496,
     "metadata": {},
     "output_type": "execute_result"
    }
   ],
   "source": [
    "round(data_taxi.describe(), 2)"
   ]
  },
  {
   "cell_type": "code",
   "execution_count": 497,
   "metadata": {},
   "outputs": [
    {
     "data": {
      "text/plain": [
       "0.016666666666666666"
      ]
     },
     "execution_count": 497,
     "metadata": {},
     "output_type": "execute_result"
    }
   ],
   "source": [
    "data_taxi[\"duration\"].min()"
   ]
  },
  {
   "attachments": {},
   "cell_type": "markdown",
   "metadata": {},
   "source": [
    "### Duration variable"
   ]
  },
  {
   "cell_type": "code",
   "execution_count": 498,
   "metadata": {},
   "outputs": [
    {
     "data": {
      "text/html": [
       "<div>\n",
       "<style scoped>\n",
       "    .dataframe tbody tr th:only-of-type {\n",
       "        vertical-align: middle;\n",
       "    }\n",
       "\n",
       "    .dataframe tbody tr th {\n",
       "        vertical-align: top;\n",
       "    }\n",
       "\n",
       "    .dataframe thead th {\n",
       "        text-align: right;\n",
       "    }\n",
       "</style>\n",
       "<table border=\"1\" class=\"dataframe\">\n",
       "  <thead>\n",
       "    <tr style=\"text-align: right;\">\n",
       "      <th></th>\n",
       "      <th>VendorID</th>\n",
       "      <th>tpep_pickup_datetime</th>\n",
       "      <th>tpep_dropoff_datetime</th>\n",
       "      <th>passenger_count</th>\n",
       "      <th>trip_distance</th>\n",
       "      <th>RatecodeID</th>\n",
       "      <th>store_and_fwd_flag</th>\n",
       "      <th>PULocationID</th>\n",
       "      <th>DOLocationID</th>\n",
       "      <th>payment_type</th>\n",
       "      <th>fare_amount</th>\n",
       "      <th>extra</th>\n",
       "      <th>mta_tax</th>\n",
       "      <th>tip_amount</th>\n",
       "      <th>tolls_amount</th>\n",
       "      <th>improvement_surcharge</th>\n",
       "      <th>total_amount</th>\n",
       "      <th>congestion_surcharge</th>\n",
       "      <th>airport_fee</th>\n",
       "      <th>duration</th>\n",
       "    </tr>\n",
       "  </thead>\n",
       "  <tbody>\n",
       "    <tr>\n",
       "      <th>0</th>\n",
       "      <td>1</td>\n",
       "      <td>2022-05-01 00:00:36</td>\n",
       "      <td>2022-05-01 00:19:18</td>\n",
       "      <td>1.0</td>\n",
       "      <td>6.6010</td>\n",
       "      <td>1.0</td>\n",
       "      <td>N</td>\n",
       "      <td>246</td>\n",
       "      <td>151</td>\n",
       "      <td>2</td>\n",
       "      <td>17.0</td>\n",
       "      <td>1.0</td>\n",
       "      <td>0.5</td>\n",
       "      <td>0.00</td>\n",
       "      <td>0.0</td>\n",
       "      <td>0.3</td>\n",
       "      <td>20.80</td>\n",
       "      <td>2.5</td>\n",
       "      <td>0.0</td>\n",
       "      <td>18.700000</td>\n",
       "    </tr>\n",
       "    <tr>\n",
       "      <th>1</th>\n",
       "      <td>1</td>\n",
       "      <td>2022-05-01 00:27:44</td>\n",
       "      <td>2022-05-01 00:41:33</td>\n",
       "      <td>1.0</td>\n",
       "      <td>3.7030</td>\n",
       "      <td>1.0</td>\n",
       "      <td>N</td>\n",
       "      <td>238</td>\n",
       "      <td>74</td>\n",
       "      <td>2</td>\n",
       "      <td>11.0</td>\n",
       "      <td>1.0</td>\n",
       "      <td>0.5</td>\n",
       "      <td>0.00</td>\n",
       "      <td>0.0</td>\n",
       "      <td>0.3</td>\n",
       "      <td>14.80</td>\n",
       "      <td>2.5</td>\n",
       "      <td>0.0</td>\n",
       "      <td>13.816667</td>\n",
       "    </tr>\n",
       "    <tr>\n",
       "      <th>2</th>\n",
       "      <td>1</td>\n",
       "      <td>2022-05-01 00:59:00</td>\n",
       "      <td>2022-05-01 01:14:22</td>\n",
       "      <td>1.0</td>\n",
       "      <td>6.7620</td>\n",
       "      <td>1.0</td>\n",
       "      <td>N</td>\n",
       "      <td>163</td>\n",
       "      <td>260</td>\n",
       "      <td>2</td>\n",
       "      <td>15.5</td>\n",
       "      <td>1.0</td>\n",
       "      <td>0.5</td>\n",
       "      <td>0.00</td>\n",
       "      <td>0.0</td>\n",
       "      <td>0.3</td>\n",
       "      <td>19.30</td>\n",
       "      <td>2.5</td>\n",
       "      <td>0.0</td>\n",
       "      <td>15.366667</td>\n",
       "    </tr>\n",
       "    <tr>\n",
       "      <th>4</th>\n",
       "      <td>1</td>\n",
       "      <td>2022-05-01 00:28:26</td>\n",
       "      <td>2022-05-01 00:37:49</td>\n",
       "      <td>1.0</td>\n",
       "      <td>2.5760</td>\n",
       "      <td>1.0</td>\n",
       "      <td>N</td>\n",
       "      <td>238</td>\n",
       "      <td>75</td>\n",
       "      <td>1</td>\n",
       "      <td>7.5</td>\n",
       "      <td>1.0</td>\n",
       "      <td>0.5</td>\n",
       "      <td>2.25</td>\n",
       "      <td>0.0</td>\n",
       "      <td>0.3</td>\n",
       "      <td>13.55</td>\n",
       "      <td>2.5</td>\n",
       "      <td>0.0</td>\n",
       "      <td>9.383333</td>\n",
       "    </tr>\n",
       "    <tr>\n",
       "      <th>5</th>\n",
       "      <td>2</td>\n",
       "      <td>2022-04-30 23:53:47</td>\n",
       "      <td>2022-05-01 00:05:17</td>\n",
       "      <td>1.0</td>\n",
       "      <td>3.0107</td>\n",
       "      <td>1.0</td>\n",
       "      <td>N</td>\n",
       "      <td>249</td>\n",
       "      <td>164</td>\n",
       "      <td>1</td>\n",
       "      <td>9.5</td>\n",
       "      <td>0.5</td>\n",
       "      <td>0.5</td>\n",
       "      <td>2.66</td>\n",
       "      <td>0.0</td>\n",
       "      <td>0.3</td>\n",
       "      <td>15.96</td>\n",
       "      <td>2.5</td>\n",
       "      <td>0.0</td>\n",
       "      <td>11.500000</td>\n",
       "    </tr>\n",
       "    <tr>\n",
       "      <th>...</th>\n",
       "      <td>...</td>\n",
       "      <td>...</td>\n",
       "      <td>...</td>\n",
       "      <td>...</td>\n",
       "      <td>...</td>\n",
       "      <td>...</td>\n",
       "      <td>...</td>\n",
       "      <td>...</td>\n",
       "      <td>...</td>\n",
       "      <td>...</td>\n",
       "      <td>...</td>\n",
       "      <td>...</td>\n",
       "      <td>...</td>\n",
       "      <td>...</td>\n",
       "      <td>...</td>\n",
       "      <td>...</td>\n",
       "      <td>...</td>\n",
       "      <td>...</td>\n",
       "      <td>...</td>\n",
       "      <td>...</td>\n",
       "    </tr>\n",
       "    <tr>\n",
       "      <th>3458766</th>\n",
       "      <td>2</td>\n",
       "      <td>2022-05-31 23:32:53</td>\n",
       "      <td>2022-05-31 23:38:24</td>\n",
       "      <td>1.0</td>\n",
       "      <td>2.1413</td>\n",
       "      <td>1.0</td>\n",
       "      <td>N</td>\n",
       "      <td>161</td>\n",
       "      <td>236</td>\n",
       "      <td>1</td>\n",
       "      <td>7.0</td>\n",
       "      <td>0.5</td>\n",
       "      <td>0.5</td>\n",
       "      <td>2.16</td>\n",
       "      <td>0.0</td>\n",
       "      <td>0.3</td>\n",
       "      <td>12.96</td>\n",
       "      <td>2.5</td>\n",
       "      <td>0.0</td>\n",
       "      <td>5.516667</td>\n",
       "    </tr>\n",
       "    <tr>\n",
       "      <th>3458767</th>\n",
       "      <td>2</td>\n",
       "      <td>2022-05-31 23:50:58</td>\n",
       "      <td>2022-05-31 23:57:27</td>\n",
       "      <td>1.0</td>\n",
       "      <td>3.0429</td>\n",
       "      <td>1.0</td>\n",
       "      <td>N</td>\n",
       "      <td>142</td>\n",
       "      <td>238</td>\n",
       "      <td>1</td>\n",
       "      <td>8.0</td>\n",
       "      <td>0.5</td>\n",
       "      <td>0.5</td>\n",
       "      <td>3.54</td>\n",
       "      <td>0.0</td>\n",
       "      <td>0.3</td>\n",
       "      <td>15.34</td>\n",
       "      <td>2.5</td>\n",
       "      <td>0.0</td>\n",
       "      <td>6.483333</td>\n",
       "    </tr>\n",
       "    <tr>\n",
       "      <th>3458768</th>\n",
       "      <td>2</td>\n",
       "      <td>2022-05-31 23:43:33</td>\n",
       "      <td>2022-05-31 23:57:09</td>\n",
       "      <td>1.0</td>\n",
       "      <td>5.5223</td>\n",
       "      <td>1.0</td>\n",
       "      <td>N</td>\n",
       "      <td>186</td>\n",
       "      <td>43</td>\n",
       "      <td>1</td>\n",
       "      <td>12.5</td>\n",
       "      <td>0.5</td>\n",
       "      <td>0.5</td>\n",
       "      <td>1.00</td>\n",
       "      <td>0.0</td>\n",
       "      <td>0.3</td>\n",
       "      <td>17.30</td>\n",
       "      <td>2.5</td>\n",
       "      <td>0.0</td>\n",
       "      <td>13.600000</td>\n",
       "    </tr>\n",
       "    <tr>\n",
       "      <th>3458769</th>\n",
       "      <td>2</td>\n",
       "      <td>2022-05-31 23:01:31</td>\n",
       "      <td>2022-05-31 23:04:42</td>\n",
       "      <td>2.0</td>\n",
       "      <td>1.5295</td>\n",
       "      <td>1.0</td>\n",
       "      <td>N</td>\n",
       "      <td>239</td>\n",
       "      <td>238</td>\n",
       "      <td>1</td>\n",
       "      <td>5.0</td>\n",
       "      <td>0.5</td>\n",
       "      <td>0.5</td>\n",
       "      <td>1.76</td>\n",
       "      <td>0.0</td>\n",
       "      <td>0.3</td>\n",
       "      <td>10.56</td>\n",
       "      <td>2.5</td>\n",
       "      <td>0.0</td>\n",
       "      <td>3.183333</td>\n",
       "    </tr>\n",
       "    <tr>\n",
       "      <th>3458770</th>\n",
       "      <td>2</td>\n",
       "      <td>2022-05-31 23:20:22</td>\n",
       "      <td>2022-05-31 23:25:38</td>\n",
       "      <td>1.0</td>\n",
       "      <td>3.1073</td>\n",
       "      <td>1.0</td>\n",
       "      <td>N</td>\n",
       "      <td>263</td>\n",
       "      <td>74</td>\n",
       "      <td>2</td>\n",
       "      <td>7.5</td>\n",
       "      <td>0.5</td>\n",
       "      <td>0.5</td>\n",
       "      <td>0.00</td>\n",
       "      <td>0.0</td>\n",
       "      <td>0.3</td>\n",
       "      <td>11.30</td>\n",
       "      <td>2.5</td>\n",
       "      <td>0.0</td>\n",
       "      <td>5.266667</td>\n",
       "    </tr>\n",
       "  </tbody>\n",
       "</table>\n",
       "<p>3168611 rows × 20 columns</p>\n",
       "</div>"
      ],
      "text/plain": [
       "         VendorID tpep_pickup_datetime tpep_dropoff_datetime  passenger_count   \n",
       "0               1  2022-05-01 00:00:36   2022-05-01 00:19:18              1.0  \\\n",
       "1               1  2022-05-01 00:27:44   2022-05-01 00:41:33              1.0   \n",
       "2               1  2022-05-01 00:59:00   2022-05-01 01:14:22              1.0   \n",
       "4               1  2022-05-01 00:28:26   2022-05-01 00:37:49              1.0   \n",
       "5               2  2022-04-30 23:53:47   2022-05-01 00:05:17              1.0   \n",
       "...           ...                  ...                   ...              ...   \n",
       "3458766         2  2022-05-31 23:32:53   2022-05-31 23:38:24              1.0   \n",
       "3458767         2  2022-05-31 23:50:58   2022-05-31 23:57:27              1.0   \n",
       "3458768         2  2022-05-31 23:43:33   2022-05-31 23:57:09              1.0   \n",
       "3458769         2  2022-05-31 23:01:31   2022-05-31 23:04:42              2.0   \n",
       "3458770         2  2022-05-31 23:20:22   2022-05-31 23:25:38              1.0   \n",
       "\n",
       "         trip_distance  RatecodeID store_and_fwd_flag  PULocationID   \n",
       "0               6.6010         1.0                  N           246  \\\n",
       "1               3.7030         1.0                  N           238   \n",
       "2               6.7620         1.0                  N           163   \n",
       "4               2.5760         1.0                  N           238   \n",
       "5               3.0107         1.0                  N           249   \n",
       "...                ...         ...                ...           ...   \n",
       "3458766         2.1413         1.0                  N           161   \n",
       "3458767         3.0429         1.0                  N           142   \n",
       "3458768         5.5223         1.0                  N           186   \n",
       "3458769         1.5295         1.0                  N           239   \n",
       "3458770         3.1073         1.0                  N           263   \n",
       "\n",
       "         DOLocationID  payment_type  fare_amount  extra  mta_tax  tip_amount   \n",
       "0                 151             2         17.0    1.0      0.5        0.00  \\\n",
       "1                  74             2         11.0    1.0      0.5        0.00   \n",
       "2                 260             2         15.5    1.0      0.5        0.00   \n",
       "4                  75             1          7.5    1.0      0.5        2.25   \n",
       "5                 164             1          9.5    0.5      0.5        2.66   \n",
       "...               ...           ...          ...    ...      ...         ...   \n",
       "3458766           236             1          7.0    0.5      0.5        2.16   \n",
       "3458767           238             1          8.0    0.5      0.5        3.54   \n",
       "3458768            43             1         12.5    0.5      0.5        1.00   \n",
       "3458769           238             1          5.0    0.5      0.5        1.76   \n",
       "3458770            74             2          7.5    0.5      0.5        0.00   \n",
       "\n",
       "         tolls_amount  improvement_surcharge  total_amount   \n",
       "0                 0.0                    0.3         20.80  \\\n",
       "1                 0.0                    0.3         14.80   \n",
       "2                 0.0                    0.3         19.30   \n",
       "4                 0.0                    0.3         13.55   \n",
       "5                 0.0                    0.3         15.96   \n",
       "...               ...                    ...           ...   \n",
       "3458766           0.0                    0.3         12.96   \n",
       "3458767           0.0                    0.3         15.34   \n",
       "3458768           0.0                    0.3         17.30   \n",
       "3458769           0.0                    0.3         10.56   \n",
       "3458770           0.0                    0.3         11.30   \n",
       "\n",
       "         congestion_surcharge  airport_fee   duration  \n",
       "0                         2.5          0.0  18.700000  \n",
       "1                         2.5          0.0  13.816667  \n",
       "2                         2.5          0.0  15.366667  \n",
       "4                         2.5          0.0   9.383333  \n",
       "5                         2.5          0.0  11.500000  \n",
       "...                       ...          ...        ...  \n",
       "3458766                   2.5          0.0   5.516667  \n",
       "3458767                   2.5          0.0   6.483333  \n",
       "3458768                   2.5          0.0  13.600000  \n",
       "3458769                   2.5          0.0   3.183333  \n",
       "3458770                   2.5          0.0   5.266667  \n",
       "\n",
       "[3168611 rows x 20 columns]"
      ]
     },
     "execution_count": 498,
     "metadata": {},
     "output_type": "execute_result"
    }
   ],
   "source": [
    "data_taxi"
   ]
  },
  {
   "cell_type": "code",
   "execution_count": 499,
   "metadata": {},
   "outputs": [
    {
     "data": {
      "text/plain": [
       "2080593    119.916667\n",
       "2070003    119.850000\n",
       "1947998    119.783333\n",
       "2944504    119.783333\n",
       "2911713    119.766667\n",
       "2252529    119.700000\n",
       "612041     119.666667\n",
       "2247105    119.650000\n",
       "3129219    119.633333\n",
       "617572     119.533333\n",
       "2570641    119.516667\n",
       "2927584    119.500000\n",
       "3036161    119.500000\n",
       "2807753    119.466667\n",
       "1412987    119.433333\n",
       "Name: duration, dtype: float64"
      ]
     },
     "execution_count": 499,
     "metadata": {},
     "output_type": "execute_result"
    }
   ],
   "source": [
    "data_taxi[\"duration\"].nlargest(15)"
   ]
  },
  {
   "cell_type": "code",
   "execution_count": 500,
   "metadata": {},
   "outputs": [
    {
     "data": {
      "image/png": "[encoded data removed]",
      "text/plain": [
       "<Figure size 1000x600 with 1 Axes>"
      ]
     },
     "metadata": {},
     "output_type": "display_data"
    }
   ],
   "source": [
    "import matplotlib.pyplot as plt\n",
    "\n",
    "# Extraer la columna \"trip_distance\" del dataframe\n",
    "trip_distance = data_taxi[\"trip_distance\"]\n",
    "\n",
    "# Configurar el tamaño del gráfico\n",
    "plt.figure(figsize=(10, 6))\n",
    "\n",
    "# Graficar el histograma de la variable \"trip_distance\" en un gráfico de barras\n",
    "plt.hist(trip_distance, bins=100, edgecolor=\"black\")\n",
    "\n",
    "# Configurar etiquetas y título del gráfico\n",
    "plt.xlabel(\"Distancia del viaje\")\n",
    "plt.ylabel(\"Frecuencia\")\n",
    "plt.title(\"Distribución de la distancia del viaje\")\n",
    "\n",
    "# Mostrar el gráfico\n",
    "plt.show()"
   ]
  },
  {
   "cell_type": "code",
   "execution_count": 501,
   "metadata": {},
   "outputs": [
    {
     "ename": "NameError",
     "evalue": "name 'asdasdasd' is not defined",
     "output_type": "error",
     "traceback": [
      "\u001b[1;31m---------------------------------------------------------------------------\u001b[0m",
      "\u001b[1;31mNameError\u001b[0m                                 Traceback (most recent call last)",
      "Cell \u001b[1;32mIn[501], line 1\u001b[0m\n\u001b[1;32m----> 1\u001b[0m asdasdasd\n",
      "\u001b[1;31mNameError\u001b[0m: name 'asdasdasd' is not defined"
     ]
    }
   ],
   "source": [
    "asdasdasd"
   ]
  },
  {
   "attachments": {},
   "cell_type": "markdown",
   "metadata": {},
   "source": [
    "## Modeling"
   ]
  },
  {
   "attachments": {},
   "cell_type": "markdown",
   "metadata": {},
   "source": [
    "### Performing Logistic Regression"
   ]
  },
  {
   "cell_type": "code",
   "execution_count": null,
   "metadata": {},
   "outputs": [],
   "source": [
    "from sklearn.linear_model import LinearRegression\n",
    "from sklearn.model_selection import train_test_split\n",
    "\n",
    "X = data_taxi.drop(\"fare_amount\", axis=1)\n",
    "y = data_taxi[\"fare_amount\"]"
   ]
  },
  {
   "cell_type": "code",
   "execution_count": null,
   "metadata": {},
   "outputs": [],
   "source": [
    "X_train, X_test, y_train, y_test = train_test_split(\n",
    "    X, y, test_size=0.2, random_state=42\n",
    ")"
   ]
  },
  {
   "cell_type": "code",
   "execution_count": null,
   "metadata": {},
   "outputs": [],
   "source": [
    "lr = LinearRegression()\n",
    "lr.fit(X_train, y_train)\n",
    "lr_pred_test = lr.predict(X_test)\n",
    "lr_pred_trai = lr.predict(X_train)"
   ]
  },
  {
   "cell_type": "code",
   "execution_count": null,
   "metadata": {},
   "outputs": [],
   "source": [
    "from sklearn.metrics import mean_squared_error, mean_absolute_error, r2_score\n",
    "\n",
    "# Calcula el error cuadrático medio (MSE)\n",
    "lr_mse = mean_squared_error(y_test, lr_pred_test)\n",
    "\n",
    "# Calcula el error absoluto medio (MAE)\n",
    "lr_mae = mean_absolute_error(y_test, lr_pred_test)\n",
    "\n",
    "# Calcula el coeficiente de determinación (R^2)\n",
    "lr_r2 = r2_score(y_test, lr_pred_test)\n",
    "\n",
    "print(\"MSE:\", lr_mse)\n",
    "print(\"MAE:\", lr_mae)\n",
    "print(\"R^2:\", lr_r2)"
   ]
  },
  {
   "cell_type": "code",
   "execution_count": null,
   "metadata": {},
   "outputs": [],
   "source": [
    "asdasd"
   ]
  },
  {
   "cell_type": "code",
   "execution_count": null,
   "metadata": {},
   "outputs": [],
   "source": [
    "import geopandas as gpd\n",
    "\n",
    "# Read the shapefile\n",
    "url_location = \"C://Users//Andres//Desktop//AnyoneAI//Proyecto_Final//taxi_zones.zip\"\n",
    "gdf = gpd.read_file(url_location)\n",
    "\n",
    "# Print the first few rows of the GeoDataFrame\n",
    "gdf"
   ]
  },
  {
   "cell_type": "code",
   "execution_count": null,
   "metadata": {},
   "outputs": [],
   "source": [
    "# import geopandas as gpd\n",
    "\n",
    "# # Cargar el dataframe\n",
    "# # dataframe = gpd.read_file('nombre_del_archivo.shp')\n",
    "\n",
    "# # Extraer las coordenadas de longitud y latitud\n",
    "# gdf[\"longitude\"] = gdf[\"geometry\"].centroid.x\n",
    "# gdf[\"latitude\"] = gdf[\"geometry\"].centroid.y\n",
    "\n",
    "# # Imprimir el resultado\n",
    "# print(gdf[[\"OBJECTID\", \"longitude\", \"latitude\"]])"
   ]
  },
  {
   "cell_type": "code",
   "execution_count": null,
   "metadata": {},
   "outputs": [],
   "source": [
    "gdf.info()"
   ]
  },
  {
   "cell_type": "code",
   "execution_count": null,
   "metadata": {},
   "outputs": [],
   "source": [
    "# Agregar columnas 'PUZone' y 'DOZone' en df\n",
    "# df[\"PUZone\"] = df[\"PULocationID\"]\n",
    "# df[\"DOZone\"] = df[\"DOLocationID\"]\n",
    "\n",
    "# Combinar df y gdf utilizando 'LocationID' como clave\n",
    "df = df.merge(\n",
    "    gdf[[\"LocationID\", \"geometry\"]],\n",
    "    how=\"left\",\n",
    "    left_on=\"PULocationID\",\n",
    "    right_on=\"LocationID\",\n",
    ")\n",
    "df.rename(columns={\"geometry\": \"PUZone\"}, inplace=True)\n",
    "\n",
    "df = df.merge(\n",
    "    gdf[[\"LocationID\", \"geometry\"]],\n",
    "    how=\"left\",\n",
    "    left_on=\"DOLocationID\",\n",
    "    right_on=\"LocationID\",\n",
    ")\n",
    "df.rename(columns={\"geometry\": \"DOZone\"}, inplace=True)\n",
    "\n",
    "# Eliminar columnas adicionales\n",
    "df.drop([\"LocationID_x\", \"LocationID_y\"], axis=1, inplace=True)"
   ]
  },
  {
   "cell_type": "code",
   "execution_count": null,
   "metadata": {},
   "outputs": [],
   "source": [
    "# # Agregar columnas 'PUZone' y 'DOZone' en df\n",
    "# # df[\"PUZone\"] = df[\"PULocationID\"]\n",
    "# # df[\"DOZone\"] = df[\"DOLocationID\"]\n",
    "\n",
    "# # Combinar df y gdf utilizando 'LocationID' como clave\n",
    "# df = df.merge(\n",
    "#     gdf[[\"LocationID\", \"longitude\", \"latitude\"]],\n",
    "#     how=\"left\",\n",
    "#     left_on=\"PULocationID\",\n",
    "#     right_on=\"LocationID\",\n",
    "# )\n",
    "# df.rename(columns={\"longitude\": \"pickup_long\", \"latitude\": \"pickup_lat\"}, inplace=True)\n",
    "\n",
    "# df = df.merge(\n",
    "#     gdf[[\"LocationID\", \"longitude\", \"latitude\"]],\n",
    "#     how=\"left\",\n",
    "#     left_on=\"DOLocationID\",\n",
    "#     right_on=\"LocationID\",\n",
    "# )\n",
    "# df.rename(columns={\"longitude\": \"drop_long\", \"latitude\": \"drop_lat\"}, inplace=True)\n",
    "\n",
    "# # Eliminar columnas adicionales\n",
    "# df.drop([\"LocationID_x\", \"LocationID_y\"], axis=1, inplace=True)"
   ]
  },
  {
   "cell_type": "code",
   "execution_count": null,
   "metadata": {},
   "outputs": [],
   "source": [
    "df"
   ]
  },
  {
   "cell_type": "code",
   "execution_count": null,
   "metadata": {},
   "outputs": [],
   "source": [
    "df_subset = df.sample(100, random_state=42)"
   ]
  },
  {
   "cell_type": "code",
   "execution_count": null,
   "metadata": {},
   "outputs": [],
   "source": [
    "df_subset"
   ]
  },
  {
   "cell_type": "code",
   "execution_count": null,
   "metadata": {},
   "outputs": [],
   "source": []
  }
 ],
 "metadata": {
  "kernelspec": {
   "display_name": "Python 3 (ipykernel)",
   "language": "python",
   "name": "python3"
  },
  "language_info": {
   "codemirror_mode": {
    "name": "ipython",
    "version": 3
   },
   "file_extension": ".py",
   "mimetype": "text/x-python",
   "name": "python",
   "nbconvert_exporter": "python",
   "pygments_lexer": "ipython3",
   "version": "3.11.3"
  },
  "orig_nbformat": 4
 },
 "nbformat": 4,
 "nbformat_minor": 2
}
