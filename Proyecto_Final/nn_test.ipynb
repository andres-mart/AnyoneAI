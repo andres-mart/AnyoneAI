{
 "cells": [
  {
   "cell_type": "code",
   "execution_count": 3,
   "metadata": {},
   "outputs": [],
   "source": [
    "import pandas as pd\n",
    "import numpy as np\n",
    "from sklearn.model_selection import train_test_split\n",
    "from sklearn.preprocessing import LabelEncoder, MinMaxScaler\n",
    "from keras.models import Sequential\n",
    "from keras.layers import Dense, Dropout"
   ]
  },
  {
   "cell_type": "code",
   "execution_count": null,
   "metadata": {},
   "outputs": [],
   "source": [
    "# Paso 1: Preprocesamiento de datos\n",
    "data_taxi = pd.read_csv(\n",
    "    \"data_taxi.csv\"\n",
    ")  # Reemplaza 'data_taxi.csv' con la ubicación correcta del archivo\n",
    "data_taxi = data_taxi.dropna()  # Eliminar filas con valores faltantes o NaN"
   ]
  },
  {
   "cell_type": "code",
   "execution_count": null,
   "metadata": {},
   "outputs": [],
   "source": [
    "# Agregar la extracción de horas y dias de la semana"
   ]
  },
  {
   "cell_type": "code",
   "execution_count": null,
   "metadata": {},
   "outputs": [],
   "source": [
    "# Paso 2: Dividir los datos en características (X) y etiquetas (y)\n",
    "X = data_taxi[[\"VendorID\"]]  # Características\n",
    "y = data_taxi[[\"duration\"]]  # Etiquetas"
   ]
  },
  {
   "cell_type": "code",
   "execution_count": null,
   "metadata": {},
   "outputs": [],
   "source": [
    "# Paso 3: Codificar las etiquetas\n",
    "label_encoder = LabelEncoder()\n",
    "y_encoded = y.apply(label_encoder.fit_transform)"
   ]
  },
  {
   "cell_type": "code",
   "execution_count": null,
   "metadata": {},
   "outputs": [],
   "source": [
    "# Paso 4: Dividir los datos en conjuntos de entrenamiento y prueba\n",
    "X_train, X_test, y_train, y_test = train_test_split(\n",
    "    X, y_encoded, test_size=0.2, random_state=42\n",
    ")"
   ]
  },
  {
   "cell_type": "code",
   "execution_count": null,
   "metadata": {},
   "outputs": [],
   "source": [
    "# Paso 5: Normalizar los datos\n",
    "scaler = MinMaxScaler()\n",
    "X_train_scaled = scaler.fit_transform(X_train)\n",
    "X_test_scaled = scaler.transform(X_test)"
   ]
  },
  {
   "cell_type": "code",
   "execution_count": null,
   "metadata": {},
   "outputs": [],
   "source": []
  },
  {
   "cell_type": "code",
   "execution_count": null,
   "metadata": {},
   "outputs": [],
   "source": [
    "import pandas as pd\n",
    "import numpy as np\n",
    "import tensorflow as tf\n",
    "from sklearn.model_selection import train_test_split\n",
    "from sklearn.preprocessing import MinMaxScaler\n",
    "\n",
    "# Cargar el dataframe 'data_taxi'\n",
    "data_taxi = pd.read_csv(\n",
    "    \"ruta_del_archivo.csv\"\n",
    ")  # Asegúrate de reemplazar 'ruta_del_archivo.csv' con la ruta correcta de tu archivo\n",
    "\n",
    "# Dividir el dataframe en características (X) y objetivos (y) para el primer modelo\n",
    "X_all = data_taxi.drop([\"fare_amount\", \"duration\"], axis=1)\n",
    "y_all = data_taxi[[\"fare_amount\", \"duration\"]]\n",
    "\n",
    "# Normalizar los datos de características para el primer modelo\n",
    "scaler_all = MinMaxScaler()\n",
    "X_all_normalized = scaler_all.fit_transform(X_all)\n",
    "\n",
    "# Dividir los datos en conjuntos de entrenamiento y prueba para el primer modelo\n",
    "X_all_train, X_all_test, y_all_train, y_all_test = train_test_split(\n",
    "    X_all_normalized, y_all, test_size=0.2, random_state=42\n",
    ")\n",
    "\n",
    "# Crear el primer modelo de red neuronal para todas las características\n",
    "model_all = tf.keras.models.Sequential(\n",
    "    [\n",
    "        tf.keras.layers.Dense(\n",
    "            64, activation=\"relu\", input_shape=(X_all_train.shape[1],)\n",
    "        ),\n",
    "        tf.keras.layers.Dense(64, activation=\"relu\"),\n",
    "        tf.keras.layers.Dense(\n",
    "            2\n",
    "        ),  # 2 neuronas de salida para 'fare_amount' y 'duration'\n",
    "    ]\n",
    ")\n",
    "\n",
    "# Compilar y entrenar el primer modelo\n",
    "model_all.compile(optimizer=\"adam\", loss=\"mse\")\n",
    "model_all.fit(\n",
    "    X_all_train,\n",
    "    y_all_train,\n",
    "    epochs=10,\n",
    "    batch_size=32,\n",
    "    validation_data=(X_all_test, y_all_test),\n",
    ")\n",
    "\n",
    "# Crear el segundo modelo sin las variables 'PULocationID' y 'DOLocationID'\n",
    "X_partial = data_taxi.drop(\n",
    "    [\"PULocationID\", \"DOLocationID\", \"fare_amount\", \"duration\"], axis=1\n",
    ")\n",
    "y_partial = data_taxi[[\"fare_amount\", \"duration\"]]\n",
    "\n",
    "# Normalizar los datos de características para el segundo modelo\n",
    "scaler_partial = MinMaxScaler()\n",
    "X_partial_normalized = scaler_partial.fit_transform(X_partial)\n",
    "\n",
    "# Dividir los datos en conjuntos de entrenamiento y prueba para el segundo modelo\n",
    "X_partial_train, X_partial_test, y_partial_train, y_partial_test = train_test_split(\n",
    "    X_partial_normalized, y_partial, test_size=0.2, random_state=42\n",
    ")\n",
    "\n",
    "# Crear el segundo modelo de red neuronal sin las variables 'PULocationID' y 'DOLocationID'\n",
    "model_partial = tf.keras.models.Sequential(\n",
    "    [\n",
    "        tf.keras.layers.Dense(\n",
    "            64, activation=\"relu\", input_shape=(X_partial_train.shape[1],)\n",
    "        ),\n",
    "        tf.keras.layers.Dense(64, activation=\"relu\"),\n",
    "        tf.keras.layers.Dense(\n",
    "            2\n",
    "        ),  # 2 neuronas de salida para 'fare_amount' y 'duration'\n",
    "    ]\n",
    ")\n",
    "\n",
    "# Compilar y entrenar el segundo modelo\n",
    "model_partial.compile(optimizer=\"adam\", loss=\"mse\")\n",
    "model_partial.fit(\n",
    "    X_partial_train,\n",
    "    y_partial_train,\n",
    "    epochs=10,\n",
    "    batch_size=32,\n",
    "    validation_data=(X_partial_test, y_partial_test),\n",
    ")\n",
    "\n",
    "# Solicitar al usuario las zonas de pickup y dropoff\n",
    "pickup_zone = int(input(\"Ingrese la zona de recogida (PULocationID): \"))\n",
    "dropoff_zone = int(input(\"Ingrese la zona de entrega (DOLocationID): \"))\n",
    "\n",
    "# Preparar los datos para la predicción\n",
    "input_data = pd.DataFrame(\n",
    "    [[pickup_zone, dropoff_zone]], columns=[\"PULocationID\", \"DOLocationID\"]\n",
    ")\n",
    "input_data_normalized_all = scaler_all.transform(input_data)\n",
    "input_data_normalized_partial = scaler_partial.transform(\n",
    "    input_data.drop([\"PULocationID\", \"DOLocationID\"], axis=1)\n",
    ")\n",
    "\n",
    "# Realizar la predicción de 'fare_amount' y 'duration' utilizando el primer modelo\n",
    "prediction_all = model_all.predict(input_data_normalized_all)\n",
    "\n",
    "# Realizar la predicción de 'fare_amount' y 'duration' utilizando el segundo modelo\n",
    "prediction_partial = model_partial.predict(input_data_normalized_partial)\n",
    "\n",
    "print(\"Prediction (using all features):\")\n",
    "print(\"fare_amount:\", prediction_all[0][0])\n",
    "print(\"duration:\", prediction_all[0][1])\n",
    "\n",
    "print(\"Prediction (excluding PULocationID and DOLocationID):\")\n",
    "print(\"fare_amount:\", prediction_partial[0][0])\n",
    "print(\"duration:\", prediction_partial[0][1])"
   ]
  }
 ],
 "metadata": {
  "kernelspec": {
   "display_name": "environment",
   "language": "python",
   "name": "python3"
  },
  "language_info": {
   "codemirror_mode": {
    "name": "ipython",
    "version": 3
   },
   "file_extension": ".py",
   "mimetype": "text/x-python",
   "name": "python",
   "nbconvert_exporter": "python",
   "pygments_lexer": "ipython3",
   "version": "3.11.3"
  },
  "orig_nbformat": 4
 },
 "nbformat": 4,
 "nbformat_minor": 2
}
