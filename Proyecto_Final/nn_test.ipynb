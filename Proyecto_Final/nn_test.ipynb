{
 "cells": [
  {
   "cell_type": "code",
   "execution_count": 90,
   "metadata": {},
   "outputs": [],
   "source": [
    "import pandas as pd\n",
    "import numpy as np\n",
    "from sklearn.model_selection import train_test_split\n",
    "from sklearn.preprocessing import LabelEncoder, StandardScaler\n",
    "from keras.models import Sequential\n",
    "from keras.layers import Dense, Dropout"
   ]
  },
  {
   "cell_type": "code",
   "execution_count": 92,
   "metadata": {},
   "outputs": [
    {
     "ename": "MemoryError",
     "evalue": "Unable to allocate 256. KiB for an array with shape (32768,) and data type int64",
     "output_type": "error",
     "traceback": [
      "\u001b[1;31m---------------------------------------------------------------------------\u001b[0m",
      "\u001b[1;31mMemoryError\u001b[0m                               Traceback (most recent call last)",
      "Cell \u001b[1;32mIn[92], line 2\u001b[0m\n\u001b[0;32m      1\u001b[0m \u001b[39m# Paso 1: Preprocesamiento de datos\u001b[39;00m\n\u001b[1;32m----> 2\u001b[0m data_taxi \u001b[39m=\u001b[39m pd\u001b[39m.\u001b[39;49mread_csv(\n\u001b[0;32m      3\u001b[0m     \u001b[39m\"\u001b[39;49m\u001b[39mC://Users//Andres//Desktop//AnyoneAI//Proyecto_Final//dataframe.csv\u001b[39;49m\u001b[39m\"\u001b[39;49m\n\u001b[0;32m      4\u001b[0m )  \u001b[39m# Reemplaza 'data_taxi.csv' con la ubicación correcta del archivo\u001b[39;00m\n\u001b[0;32m      5\u001b[0m data_taxi \u001b[39m=\u001b[39m data_taxi\u001b[39m.\u001b[39mdropna()  \u001b[39m# Eliminar filas con valores faltantes o NaN\u001b[39;00m\n",
      "File \u001b[1;32mc:\\Users\\Andres\\Desktop\\AnyoneAI\\environment\\Lib\\site-packages\\pandas\\io\\parsers\\readers.py:912\u001b[0m, in \u001b[0;36mread_csv\u001b[1;34m(filepath_or_buffer, sep, delimiter, header, names, index_col, usecols, dtype, engine, converters, true_values, false_values, skipinitialspace, skiprows, skipfooter, nrows, na_values, keep_default_na, na_filter, verbose, skip_blank_lines, parse_dates, infer_datetime_format, keep_date_col, date_parser, date_format, dayfirst, cache_dates, iterator, chunksize, compression, thousands, decimal, lineterminator, quotechar, quoting, doublequote, escapechar, comment, encoding, encoding_errors, dialect, on_bad_lines, delim_whitespace, low_memory, memory_map, float_precision, storage_options, dtype_backend)\u001b[0m\n\u001b[0;32m    899\u001b[0m kwds_defaults \u001b[39m=\u001b[39m _refine_defaults_read(\n\u001b[0;32m    900\u001b[0m     dialect,\n\u001b[0;32m    901\u001b[0m     delimiter,\n\u001b[1;32m   (...)\u001b[0m\n\u001b[0;32m    908\u001b[0m     dtype_backend\u001b[39m=\u001b[39mdtype_backend,\n\u001b[0;32m    909\u001b[0m )\n\u001b[0;32m    910\u001b[0m kwds\u001b[39m.\u001b[39mupdate(kwds_defaults)\n\u001b[1;32m--> 912\u001b[0m \u001b[39mreturn\u001b[39;00m _read(filepath_or_buffer, kwds)\n",
      "File \u001b[1;32mc:\\Users\\Andres\\Desktop\\AnyoneAI\\environment\\Lib\\site-packages\\pandas\\io\\parsers\\readers.py:583\u001b[0m, in \u001b[0;36m_read\u001b[1;34m(filepath_or_buffer, kwds)\u001b[0m\n\u001b[0;32m    580\u001b[0m     \u001b[39mreturn\u001b[39;00m parser\n\u001b[0;32m    582\u001b[0m \u001b[39mwith\u001b[39;00m parser:\n\u001b[1;32m--> 583\u001b[0m     \u001b[39mreturn\u001b[39;00m parser\u001b[39m.\u001b[39;49mread(nrows)\n",
      "File \u001b[1;32mc:\\Users\\Andres\\Desktop\\AnyoneAI\\environment\\Lib\\site-packages\\pandas\\io\\parsers\\readers.py:1704\u001b[0m, in \u001b[0;36mTextFileReader.read\u001b[1;34m(self, nrows)\u001b[0m\n\u001b[0;32m   1697\u001b[0m nrows \u001b[39m=\u001b[39m validate_integer(\u001b[39m\"\u001b[39m\u001b[39mnrows\u001b[39m\u001b[39m\"\u001b[39m, nrows)\n\u001b[0;32m   1698\u001b[0m \u001b[39mtry\u001b[39;00m:\n\u001b[0;32m   1699\u001b[0m     \u001b[39m# error: \"ParserBase\" has no attribute \"read\"\u001b[39;00m\n\u001b[0;32m   1700\u001b[0m     (\n\u001b[0;32m   1701\u001b[0m         index,\n\u001b[0;32m   1702\u001b[0m         columns,\n\u001b[0;32m   1703\u001b[0m         col_dict,\n\u001b[1;32m-> 1704\u001b[0m     ) \u001b[39m=\u001b[39m \u001b[39mself\u001b[39;49m\u001b[39m.\u001b[39;49m_engine\u001b[39m.\u001b[39;49mread(  \u001b[39m# type: ignore[attr-defined]\u001b[39;49;00m\n\u001b[0;32m   1705\u001b[0m         nrows\n\u001b[0;32m   1706\u001b[0m     )\n\u001b[0;32m   1707\u001b[0m \u001b[39mexcept\u001b[39;00m \u001b[39mException\u001b[39;00m:\n\u001b[0;32m   1708\u001b[0m     \u001b[39mself\u001b[39m\u001b[39m.\u001b[39mclose()\n",
      "File \u001b[1;32mc:\\Users\\Andres\\Desktop\\AnyoneAI\\environment\\Lib\\site-packages\\pandas\\io\\parsers\\c_parser_wrapper.py:234\u001b[0m, in \u001b[0;36mCParserWrapper.read\u001b[1;34m(self, nrows)\u001b[0m\n\u001b[0;32m    232\u001b[0m \u001b[39mtry\u001b[39;00m:\n\u001b[0;32m    233\u001b[0m     \u001b[39mif\u001b[39;00m \u001b[39mself\u001b[39m\u001b[39m.\u001b[39mlow_memory:\n\u001b[1;32m--> 234\u001b[0m         chunks \u001b[39m=\u001b[39m \u001b[39mself\u001b[39m\u001b[39m.\u001b[39m_reader\u001b[39m.\u001b[39mread_low_memory(nrows)\n\u001b[0;32m    235\u001b[0m         \u001b[39m# destructive to chunks\u001b[39;00m\n\u001b[0;32m    236\u001b[0m         data \u001b[39m=\u001b[39m _concatenate_chunks(chunks)\n",
      "File \u001b[1;32mc:\\Users\\Andres\\Desktop\\AnyoneAI\\environment\\Lib\\site-packages\\pandas\\_libs\\parsers.pyx:812\u001b[0m, in \u001b[0;36mpandas._libs.parsers.TextReader.read_low_memory\u001b[1;34m()\u001b[0m\n",
      "File \u001b[1;32mc:\\Users\\Andres\\Desktop\\AnyoneAI\\environment\\Lib\\site-packages\\pandas\\_libs\\parsers.pyx:889\u001b[0m, in \u001b[0;36mpandas._libs.parsers.TextReader._read_rows\u001b[1;34m()\u001b[0m\n",
      "File \u001b[1;32mc:\\Users\\Andres\\Desktop\\AnyoneAI\\environment\\Lib\\site-packages\\pandas\\_libs\\parsers.pyx:1034\u001b[0m, in \u001b[0;36mpandas._libs.parsers.TextReader._convert_column_data\u001b[1;34m()\u001b[0m\n",
      "File \u001b[1;32mc:\\Users\\Andres\\Desktop\\AnyoneAI\\environment\\Lib\\site-packages\\pandas\\_libs\\parsers.pyx:1088\u001b[0m, in \u001b[0;36mpandas._libs.parsers.TextReader._convert_tokens\u001b[1;34m()\u001b[0m\n",
      "File \u001b[1;32mc:\\Users\\Andres\\Desktop\\AnyoneAI\\environment\\Lib\\site-packages\\pandas\\_libs\\parsers.pyx:1188\u001b[0m, in \u001b[0;36mpandas._libs.parsers.TextReader._convert_with_dtype\u001b[1;34m()\u001b[0m\n",
      "File \u001b[1;32mc:\\Users\\Andres\\Desktop\\AnyoneAI\\environment\\Lib\\site-packages\\pandas\\_libs\\parsers.pyx:1797\u001b[0m, in \u001b[0;36mpandas._libs.parsers._try_int64\u001b[1;34m()\u001b[0m\n",
      "\u001b[1;31mMemoryError\u001b[0m: Unable to allocate 256. KiB for an array with shape (32768,) and data type int64"
     ]
    }
   ],
   "source": [
    "# Paso 1: Preprocesamiento de datos\n",
    "data_taxi = pd.read_csv(\n",
    "    \"C://Users//Andres//Desktop//AnyoneAI//Proyecto_Final//dataframe.csv\"\n",
    ")  # Reemplaza 'data_taxi.csv' con la ubicación correcta del archivo\n",
    "data_taxi = data_taxi.dropna()  # Eliminar filas con valores faltantes o NaN"
   ]
  },
  {
   "cell_type": "code",
   "execution_count": null,
   "metadata": {},
   "outputs": [],
   "source": [
    "# Agregar la extracción de horas y dias de la semana"
   ]
  },
  {
   "cell_type": "code",
   "execution_count": null,
   "metadata": {},
   "outputs": [],
   "source": [
    "# Convierte la columna 'tpep_pickup_datetime' en formato datetime\n",
    "data_taxi[\"tpep_pickup_datetime\"] = pd.to_datetime(data_taxi[\"tpep_pickup_datetime\"])\n",
    "data_taxi[\"tpep_dropoff_datetime\"] = pd.to_datetime(data_taxi[\"tpep_dropoff_datetime\"])\n",
    "\n",
    "data_taxi[\"duration\"] = (\n",
    "    data_taxi[\"tpep_dropoff_datetime\"] - data_taxi[\"tpep_pickup_datetime\"]\n",
    ").dt.total_seconds() / 60\n",
    "\n",
    "data_taxi[\"pickup_day\"] = data_taxi[\"tpep_pickup_datetime\"].dt.day\n",
    "data_taxi[\"pickup_hour\"] = data_taxi[\"tpep_pickup_datetime\"].dt.hour\n",
    "\n",
    "data_taxi[\"dropoff_day\"] = data_taxi[\"tpep_dropoff_datetime\"].dt.day\n",
    "data_taxi[\"dropoff_hour\"] = data_taxi[\"tpep_dropoff_datetime\"].dt.hour\n",
    "\n",
    "data_taxi = data_taxi.drop(\"Unnamed: 0\", axis=1)"
   ]
  },
  {
   "cell_type": "code",
   "execution_count": null,
   "metadata": {},
   "outputs": [],
   "source": [
    "data_taxi"
   ]
  },
  {
   "cell_type": "code",
   "execution_count": null,
   "metadata": {},
   "outputs": [],
   "source": [
    "data_taxi[\"improvement_surcharge\"].value_counts"
   ]
  },
  {
   "cell_type": "code",
   "execution_count": null,
   "metadata": {},
   "outputs": [],
   "source": [
    "data_taxi = data_taxi.sample(10000, random_state=42)"
   ]
  },
  {
   "cell_type": "code",
   "execution_count": null,
   "metadata": {},
   "outputs": [],
   "source": [
    "# Paso 2: Dividir los datos en características (X) y etiquetas (y)\n",
    "X = data_taxi[\n",
    "    [\n",
    "        \"VendorID\",\n",
    "        \"tpep_pickup_datetime\",\n",
    "        \"PULocationID\",\n",
    "        \"DOLocationID\",\n",
    "        \"trip_distance\",\n",
    "        \"passenger_count\",\n",
    "        \"RatecodeID\",\n",
    "        \"payment_type\",\n",
    "        \"improvement_surcharge\",\n",
    "        \"pickup_day\",\n",
    "        \"pickup_hour\",\n",
    "    ]\n",
    "]  # Características\n",
    "y = data_taxi[[\"duration\"]]  # Etiquetas"
   ]
  },
  {
   "cell_type": "code",
   "execution_count": null,
   "metadata": {},
   "outputs": [],
   "source": [
    "# Dividir los datos en conjuntos de entrenamiento y prueba\n",
    "X_train, X_test, y_train, y_test = train_test_split(\n",
    "    X, y, test_size=0.2, random_state=42\n",
    ")\n",
    "\n",
    "# Escalar los datos utilizando StandardScaler\n",
    "scaler = StandardScaler()\n",
    "X_train_scaled = scaler.fit_transform(X_train)\n",
    "X_test_scaled = scaler.transform(X_test)"
   ]
  },
  {
   "cell_type": "code",
   "execution_count": null,
   "metadata": {},
   "outputs": [],
   "source": [
    "model = Sequential(\n",
    "    [\n",
    "        Dense(32, activation=\"relu\", input_shape=(X_train_scaled.shape[1],)),\n",
    "        Dense(16, activation=\"relu\"),\n",
    "        Dense(1),\n",
    "    ]\n",
    ")"
   ]
  },
  {
   "cell_type": "code",
   "execution_count": null,
   "metadata": {},
   "outputs": [],
   "source": [
    "model.compile(optimizer=\"adam\", loss=\"mean_squared_error\")"
   ]
  },
  {
   "cell_type": "code",
   "execution_count": null,
   "metadata": {},
   "outputs": [],
   "source": [
    "model.fit(\n",
    "    X_train_scaled,\n",
    "    y_train,\n",
    "    epochs=10,\n",
    "    batch_size=16,\n",
    "    validation_data=(X_test_scaled, y_test),\n",
    ")"
   ]
  },
  {
   "cell_type": "code",
   "execution_count": null,
   "metadata": {},
   "outputs": [],
   "source": [
    "loss = model.evaluate(X_test_scaled, y_test)\n",
    "print(\"Mean Squared Error:\", loss)"
   ]
  },
  {
   "cell_type": "code",
   "execution_count": null,
   "metadata": {},
   "outputs": [],
   "source": [
    "import xgboost as xgb\n",
    "\n",
    "xgboost = xgb.XGBRegressor(random_state=42)"
   ]
  },
  {
   "cell_type": "code",
   "execution_count": null,
   "metadata": {},
   "outputs": [],
   "source": [
    "X_xgb = data_taxi[\n",
    "    [\n",
    "        \"VendorID\",\n",
    "        \"tpep_pickup_datetime\",\n",
    "        \"PULocationID\",\n",
    "        \"DOLocationID\",\n",
    "        \"trip_distance\",\n",
    "        \"passenger_count\",\n",
    "        \"RatecodeID\",\n",
    "        \"payment_type\",\n",
    "        \"improvement_surcharge\",\n",
    "        \"pickup_day\",\n",
    "        \"pickup_hour\",\n",
    "    ]\n",
    "]  # Características\n",
    "y_xgb = data_taxi[[\"duration\"]]  # Etiquetas"
   ]
  },
  {
   "cell_type": "code",
   "execution_count": null,
   "metadata": {},
   "outputs": [],
   "source": [
    "X_train_xgb, X_test_xgb, y_train_xgb, y_test_xgb = train_test_split(\n",
    "    X_xgb, y_xgb, test_size=0.2, random_state=42\n",
    ")"
   ]
  },
  {
   "cell_type": "code",
   "execution_count": null,
   "metadata": {},
   "outputs": [],
   "source": [
    "xgboost.fit(X_train_xgb, y_test_xgb)"
   ]
  },
  {
   "cell_type": "code",
   "execution_count": null,
   "metadata": {},
   "outputs": [],
   "source": [
    "y_pred = xgboost.predict(X_test_xgb)"
   ]
  },
  {
   "cell_type": "code",
   "execution_count": null,
   "metadata": {},
   "outputs": [],
   "source": [
    "from sklearn.metrics import mean_squared_error, mean_absolute_error, r2_score\n",
    "\n",
    "mse = mean_squared_error(y_test_xgb, y_pred)\n",
    "mae = mean_absolute_error(y_test_xgb, y_pred)\n",
    "mae = r2_score(y_test_xgb, y_pred)\n",
    "\n",
    "print(\"MSE:\", mse)\n",
    "print(\"MAE:\", mae)\n",
    "print(\"R^2:\", mae)"
   ]
  },
  {
   "cell_type": "code",
   "execution_count": null,
   "metadata": {},
   "outputs": [],
   "source": [
    "asdasd"
   ]
  },
  {
   "cell_type": "code",
   "execution_count": null,
   "metadata": {},
   "outputs": [],
   "source": [
    "import pandas as pd\n",
    "import numpy as np\n",
    "import tensorflow as tf\n",
    "from sklearn.model_selection import train_test_split\n",
    "from sklearn.preprocessing import MinMaxScaler\n",
    "\n",
    "# Cargar el dataframe 'data_taxi'\n",
    "data_taxi = pd.read_csv(\n",
    "    \"ruta_del_archivo.csv\"\n",
    ")  # Asegúrate de reemplazar 'ruta_del_archivo.csv' con la ruta correcta de tu archivo\n",
    "\n",
    "# Dividir el dataframe en características (X) y objetivos (y) para el primer modelo\n",
    "X_all = data_taxi.drop([\"fare_amount\", \"duration\"], axis=1)\n",
    "y_all = data_taxi[[\"fare_amount\", \"duration\"]]\n",
    "\n",
    "# Normalizar los datos de características para el primer modelo\n",
    "scaler_all = MinMaxScaler()\n",
    "X_all_normalized = scaler_all.fit_transform(X_all)\n",
    "\n",
    "# Dividir los datos en conjuntos de entrenamiento y prueba para el primer modelo\n",
    "X_all_train, X_all_test, y_all_train, y_all_test = train_test_split(\n",
    "    X_all_normalized, y_all, test_size=0.2, random_state=42\n",
    ")\n",
    "\n",
    "# Crear el primer modelo de red neuronal para todas las características\n",
    "model_all = tf.keras.models.Sequential(\n",
    "    [\n",
    "        tf.keras.layers.Dense(\n",
    "            64, activation=\"relu\", input_shape=(X_all_train.shape[1],)\n",
    "        ),\n",
    "        tf.keras.layers.Dense(64, activation=\"relu\"),\n",
    "        tf.keras.layers.Dense(\n",
    "            2\n",
    "        ),  # 2 neuronas de salida para 'fare_amount' y 'duration'\n",
    "    ]\n",
    ")\n",
    "\n",
    "# Compilar y entrenar el primer modelo\n",
    "model_all.compile(optimizer=\"adam\", loss=\"mse\")\n",
    "model_all.fit(\n",
    "    X_all_train,\n",
    "    y_all_train,\n",
    "    epochs=10,\n",
    "    batch_size=32,\n",
    "    validation_data=(X_all_test, y_all_test),\n",
    ")\n",
    "\n",
    "# Crear el segundo modelo sin las variables 'PULocationID' y 'DOLocationID'\n",
    "X_partial = data_taxi.drop(\n",
    "    [\"PULocationID\", \"DOLocationID\", \"fare_amount\", \"duration\"], axis=1\n",
    ")\n",
    "y_partial = data_taxi[[\"fare_amount\", \"duration\"]]\n",
    "\n",
    "# Normalizar los datos de características para el segundo modelo\n",
    "scaler_partial = MinMaxScaler()\n",
    "X_partial_normalized = scaler_partial.fit_transform(X_partial)\n",
    "\n",
    "# Dividir los datos en conjuntos de entrenamiento y prueba para el segundo modelo\n",
    "X_partial_train, X_partial_test, y_partial_train, y_partial_test = train_test_split(\n",
    "    X_partial_normalized, y_partial, test_size=0.2, random_state=42\n",
    ")\n",
    "\n",
    "# Crear el segundo modelo de red neuronal sin las variables 'PULocationID' y 'DOLocationID'\n",
    "model_partial = tf.keras.models.Sequential(\n",
    "    [\n",
    "        tf.keras.layers.Dense(\n",
    "            64, activation=\"relu\", input_shape=(X_partial_train.shape[1],)\n",
    "        ),\n",
    "        tf.keras.layers.Dense(64, activation=\"relu\"),\n",
    "        tf.keras.layers.Dense(\n",
    "            2\n",
    "        ),  # 2 neuronas de salida para 'fare_amount' y 'duration'\n",
    "    ]\n",
    ")\n",
    "\n",
    "# Compilar y entrenar el segundo modelo\n",
    "model_partial.compile(optimizer=\"adam\", loss=\"mse\")\n",
    "model_partial.fit(\n",
    "    X_partial_train,\n",
    "    y_partial_train,\n",
    "    epochs=10,\n",
    "    batch_size=32,\n",
    "    validation_data=(X_partial_test, y_partial_test),\n",
    ")\n",
    "\n",
    "# Solicitar al usuario las zonas de pickup y dropoff\n",
    "pickup_zone = int(input(\"Ingrese la zona de recogida (PULocationID): \"))\n",
    "dropoff_zone = int(input(\"Ingrese la zona de entrega (DOLocationID): \"))\n",
    "\n",
    "# Preparar los datos para la predicción\n",
    "input_data = pd.DataFrame(\n",
    "    [[pickup_zone, dropoff_zone]], columns=[\"PULocationID\", \"DOLocationID\"]\n",
    ")\n",
    "input_data_normalized_all = scaler_all.transform(input_data)\n",
    "input_data_normalized_partial = scaler_partial.transform(\n",
    "    input_data.drop([\"PULocationID\", \"DOLocationID\"], axis=1)\n",
    ")\n",
    "\n",
    "# Realizar la predicción de 'fare_amount' y 'duration' utilizando el primer modelo\n",
    "prediction_all = model_all.predict(input_data_normalized_all)\n",
    "\n",
    "# Realizar la predicción de 'fare_amount' y 'duration' utilizando el segundo modelo\n",
    "prediction_partial = model_partial.predict(input_data_normalized_partial)\n",
    "\n",
    "print(\"Prediction (using all features):\")\n",
    "print(\"fare_amount:\", prediction_all[0][0])\n",
    "print(\"duration:\", prediction_all[0][1])\n",
    "\n",
    "print(\"Prediction (excluding PULocationID and DOLocationID):\")\n",
    "print(\"fare_amount:\", prediction_partial[0][0])\n",
    "print(\"duration:\", prediction_partial[0][1])"
   ]
  }
 ],
 "metadata": {
  "kernelspec": {
   "display_name": "environment",
   "language": "python",
   "name": "python3"
  },
  "language_info": {
   "codemirror_mode": {
    "name": "ipython",
    "version": 3
   },
   "file_extension": ".py",
   "mimetype": "text/x-python",
   "name": "python",
   "nbconvert_exporter": "python",
   "pygments_lexer": "ipython3",
   "version": "3.11.3"
  },
  "orig_nbformat": 4
 },
 "nbformat": 4,
 "nbformat_minor": 2
}
